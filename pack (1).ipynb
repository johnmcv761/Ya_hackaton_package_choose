{
  "cells": [
    {
      "cell_type": "markdown",
      "metadata": {
        "id": "Ecj4t6ANtQ50"
      },
      "source": [
        "# Проект - Построение модели выбора оптимальной упаковки для Яндекс.Маркет\n",
        "\n",
        "\n",
        "Поскольку упаковку оплачивает покупатель, должен соблюдаться какой-то баланс между качеством товара, потребительскими и маркетинговыми функциями упаковки. Общий принцип, который рекомендуется, но не всегда соблюдается - упаковка не должна стоить дороже самого товара, и в масс-маркетинге - превышать 7-10% его стоимости."
      ]
    },
    {
      "cell_type": "markdown",
      "source": [
        "## Описание данных"
      ],
      "metadata": {
        "id": "P2MRtOMA55wV"
      }
    },
    {
      "cell_type": "markdown",
      "metadata": {
        "id": "kbnt2wzytQ51"
      },
      "source": [
        "**Заказы (data.csv)**\n",
        "\n",
        "Информация по заказам и товарам (sku), которые в них содержатся\n",
        "\n",
        "\n",
        "\n",
        "- whs - код сортировочного центра\n",
        "\n",
        "- orderkey - id заказа\n",
        "\n",
        "- selected_cartontype - код упаковки, которая была выбрана пользователем\n",
        "\n",
        "- box_num - количество коробок/ номер коробки ???\n",
        "\n",
        "- recommended_cartontype - код упаковки, рекомендованной алгоритмом\n",
        "\n",
        "- selected_carton - код упаковки, которая была выбрана пользователем (дубль)\n",
        "\n",
        "- sel_calc_cube - объём выбранной упаковки\n",
        "\n",
        "- recommended_carton - код упаковки, рекомендованной алгоритмом (дубль)\n",
        "\n",
        "- pack_volume - рассчитанный объём упакованных товаров\n",
        "\n",
        "- rec_calc_cube - (?) рекомендуемый объём упаковки\n",
        "\n",
        "- goods_wght - вес товара\n",
        "\n",
        "- sku - id товара\n",
        "\n",
        "- who – упаковщик\n",
        "\n",
        "- trackingid - id доставки\n",
        "\n",
        "**SKU (sku.csv)**\n",
        "\n",
        "Выгрузка id товаров и их размеров\n",
        "\n",
        "- sku - id товара\n",
        "\n",
        "- a, b, c, - размеры\n",
        "\n",
        "**Карготипы товаров (sku_cargotypes.csv)**\n",
        "\n",
        "Выгрузка id товаров и их карготипов\n",
        "\n",
        "- sku -  id товара\n",
        "\n",
        "- cargotype - карготип товара\n",
        "\n",
        "**Описание карготипов (cargotype_info.csv)**\n",
        "\n",
        "Таблица с идентификаторами карготипов и их описаниями\n",
        "\n",
        "- argotype -  карготип\n",
        "\n",
        "- description – описание\n",
        "\n",
        "**Характеристики упаковок (carton.csv)**\n",
        "\n",
        "Таблица с идентификаторами и линейными размерами упаковок\n",
        "\n",
        "- CARTONTYPE - идентификатор (код) упаковки\n",
        "\n",
        "- LENGTH, WIDTH, HEIGTH - линейные размеры упаковки\n",
        "\n",
        "- DISPLAYFRACK - коробка есть на складе (не учитывать для наших целей)\n",
        "\n",
        "**Стоимость упаковок (carton_price.xlsx)**\n",
        "\n",
        "Таблица с идентификаторами упаковок и их стоимостью\n",
        "\n",
        "- идентификатор (код) упаковки\n",
        "\n",
        "- стоимость\n",
        "\n"
      ]
    },
    {
      "cell_type": "markdown",
      "metadata": {
        "id": "59Q7N_bVtQ52"
      },
      "source": [
        "## План"
      ]
    },
    {
      "cell_type": "code",
      "source": [],
      "metadata": {
        "id": "9h80PZmaI4-f"
      },
      "execution_count": null,
      "outputs": []
    },
    {
      "cell_type": "markdown",
      "metadata": {
        "id": "tV8JtuKztQ52"
      },
      "source": [
        "**1. Знакомство с данными**\n",
        "\n",
        "    1.1 Импорт библиотек\n",
        "    \n",
        "    1.2 Загрузка данных\n",
        "    \n",
        "    1.3 Исследовательский анализ данных (размер, признаки, строки, типы данных, пропуски, аномалии, дубликаты, кореляция, распределение)\n",
        "    \n",
        " **2. Предобработка данных**\n",
        "    \n",
        "    2.1 Преобразование типов данных \n",
        "    \n",
        "    2.2 Разбиение на выборки\n",
        "    \n",
        "    2.3 Нормализация значений\n",
        "    \n",
        " **3. Обучение моделей**\n",
        " \n",
        " \n",
        " **4. Вывод**\n",
        " \n",
        " **5. Отчет**"
      ]
    },
    {
      "cell_type": "markdown",
      "metadata": {
        "id": "Q2RxYkXDtQ52"
      },
      "source": [
        "**************"
      ]
    },
    {
      "cell_type": "markdown",
      "metadata": {
        "id": "3UowtXPHtQ52"
      },
      "source": [
        "## Знакомство с данными"
      ]
    },
    {
      "cell_type": "markdown",
      "metadata": {
        "id": "qbSyl_aVtQ52"
      },
      "source": [
        "### Импорт библиотек"
      ]
    },
    {
      "cell_type": "code",
      "source": [
        "pip install catboost"
      ],
      "metadata": {
        "colab": {
          "base_uri": "https://localhost:8080/"
        },
        "id": "izhsRJ6y8H3Q",
        "outputId": "219a0783-c5a3-4d10-ede5-25cdacf26a51"
      },
      "execution_count": 1,
      "outputs": [
        {
          "output_type": "stream",
          "name": "stdout",
          "text": [
            "Looking in indexes: https://pypi.org/simple, https://us-python.pkg.dev/colab-wheels/public/simple/\n",
            "Collecting catboost\n",
            "  Downloading catboost-1.2-cp310-cp310-manylinux2014_x86_64.whl (98.6 MB)\n",
            "\u001b[2K     \u001b[90m━━━━━━━━━━━━━━━━━━━━━━━━━━━━━━━━━━━━━━━━\u001b[0m \u001b[32m98.6/98.6 MB\u001b[0m \u001b[31m5.5 MB/s\u001b[0m eta \u001b[36m0:00:00\u001b[0m\n",
            "\u001b[?25hRequirement already satisfied: graphviz in /usr/local/lib/python3.10/dist-packages (from catboost) (0.20.1)\n",
            "Requirement already satisfied: matplotlib in /usr/local/lib/python3.10/dist-packages (from catboost) (3.7.1)\n",
            "Requirement already satisfied: numpy>=1.16.0 in /usr/local/lib/python3.10/dist-packages (from catboost) (1.22.4)\n",
            "Requirement already satisfied: pandas>=0.24 in /usr/local/lib/python3.10/dist-packages (from catboost) (1.5.3)\n",
            "Requirement already satisfied: scipy in /usr/local/lib/python3.10/dist-packages (from catboost) (1.10.1)\n",
            "Requirement already satisfied: plotly in /usr/local/lib/python3.10/dist-packages (from catboost) (5.13.1)\n",
            "Requirement already satisfied: six in /usr/local/lib/python3.10/dist-packages (from catboost) (1.16.0)\n",
            "Requirement already satisfied: python-dateutil>=2.8.1 in /usr/local/lib/python3.10/dist-packages (from pandas>=0.24->catboost) (2.8.2)\n",
            "Requirement already satisfied: pytz>=2020.1 in /usr/local/lib/python3.10/dist-packages (from pandas>=0.24->catboost) (2022.7.1)\n",
            "Requirement already satisfied: contourpy>=1.0.1 in /usr/local/lib/python3.10/dist-packages (from matplotlib->catboost) (1.0.7)\n",
            "Requirement already satisfied: cycler>=0.10 in /usr/local/lib/python3.10/dist-packages (from matplotlib->catboost) (0.11.0)\n",
            "Requirement already satisfied: fonttools>=4.22.0 in /usr/local/lib/python3.10/dist-packages (from matplotlib->catboost) (4.39.3)\n",
            "Requirement already satisfied: kiwisolver>=1.0.1 in /usr/local/lib/python3.10/dist-packages (from matplotlib->catboost) (1.4.4)\n",
            "Requirement already satisfied: packaging>=20.0 in /usr/local/lib/python3.10/dist-packages (from matplotlib->catboost) (23.1)\n",
            "Requirement already satisfied: pillow>=6.2.0 in /usr/local/lib/python3.10/dist-packages (from matplotlib->catboost) (8.4.0)\n",
            "Requirement already satisfied: pyparsing>=2.3.1 in /usr/local/lib/python3.10/dist-packages (from matplotlib->catboost) (3.0.9)\n",
            "Requirement already satisfied: tenacity>=6.2.0 in /usr/local/lib/python3.10/dist-packages (from plotly->catboost) (8.2.2)\n",
            "Installing collected packages: catboost\n",
            "Successfully installed catboost-1.2\n"
          ]
        }
      ]
    },
    {
      "cell_type": "code",
      "execution_count": 2,
      "metadata": {
        "id": "43AtcfgftQ53"
      },
      "outputs": [],
      "source": [
        "import pandas as pd\n",
        "import numpy as np\n",
        "\n",
        "import matplotlib.pyplot as plt\n",
        "import seaborn as sns\n",
        "\n",
        "from sklearn.preprocessing import OrdinalEncoder, StandardScaler\n",
        "from sklearn.model_selection import train_test_split\n",
        "\n",
        "from sklearn.model_selection import RandomizedSearchCV, cross_val_score\n",
        "\n",
        "from catboost import CatBoostClassifier\n",
        "from sklearn.tree import DecisionTreeClassifier\n",
        "from sklearn.ensemble import RandomForestClassifier\n",
        "from sklearn.linear_model import LogisticRegression\n",
        "\n",
        "from catboost.utils import eval_metric\n",
        "from sklearn.ensemble import GradientBoostingClassifier\n",
        "from sklearn.model_selection import cross_val_score\n",
        "from sklearn.metrics import accuracy_score, recall_score, precision_score, f1_score\n",
        "from sklearn.metrics import roc_auc_score, roc_curve, confusion_matrix\n",
        "\n",
        "import warnings\n",
        "warnings.filterwarnings(\"ignore\")\n",
        "\n",
        "pd.options.display.max_columns = 200\n",
        "pd.options.display.max_rows = 200\n",
        "\n",
        "pd.options.mode.chained_assignment = None\n",
        "warnings.simplefilter(action='ignore', category=FutureWarning)\n",
        "\n",
        "pd.options.display.float_format = '{:.2f}'.format"
      ]
    },
    {
      "cell_type": "markdown",
      "metadata": {
        "id": "Y2ZBOO9VtQ53"
      },
      "source": [
        "**************"
      ]
    },
    {
      "cell_type": "markdown",
      "metadata": {
        "id": "_AYdlxsYtQ53"
      },
      "source": [
        "### Загрузка данных"
      ]
    },
    {
      "cell_type": "code",
      "source": [
        "from google.colab import drive\n",
        "drive.mount('/content/drive')"
      ],
      "metadata": {
        "colab": {
          "base_uri": "https://localhost:8080/"
        },
        "id": "4zlpGZVcmIKU",
        "outputId": "26fe189a-bb88-494d-e4b5-ed276bf9b3ed"
      },
      "execution_count": 3,
      "outputs": [
        {
          "output_type": "stream",
          "name": "stdout",
          "text": [
            "Mounted at /content/drive\n"
          ]
        }
      ]
    },
    {
      "cell_type": "code",
      "execution_count": 4,
      "metadata": {
        "colab": {
          "base_uri": "https://localhost:8080/",
          "height": 288
        },
        "outputId": "929c66aa-3d34-4576-8041-99e9e68bddb7",
        "id": "EK6eQgdDpTvP"
      },
      "outputs": [
        {
          "output_type": "execute_result",
          "data": {
            "text/plain": [
              "   Unnamed: 0  whs                          orderkey selected_cartontype  \\\n",
              "0           0    0  d48f3211c1ffccdc374f23139a9ab668             NONPACK   \n",
              "1           1    0  d48f3211c1ffccdc374f23139a9ab668             NONPACK   \n",
              "2           2    0  d48f3211c1ffccdc374f23139a9ab668             NONPACK   \n",
              "3           3    0  d48f3211c1ffccdc374f23139a9ab668             NONPACK   \n",
              "4           4    0  d48f3211c1ffccdc374f23139a9ab668             NONPACK   \n",
              "\n",
              "   box_num recommended_cartontype selected_carton  sel_calc_cube  \\\n",
              "0        1                    YML         NONPACK              0   \n",
              "1        1                    YML         NONPACK              0   \n",
              "2        1                    YML         NONPACK              0   \n",
              "3        1                    YML         NONPACK              0   \n",
              "4        1                    YML         NONPACK              0   \n",
              "\n",
              "  recommended_carton  pack_volume  rec_calc_cube  goods_wght  \\\n",
              "0                YML         2046         108000        0.10   \n",
              "1                YML         2046         108000        0.10   \n",
              "2                YML         2046         108000        0.10   \n",
              "3                YML         2046         108000        0.10   \n",
              "4                YML         2046         108000        0.10   \n",
              "\n",
              "                                sku                               who  \\\n",
              "0  af49bf330e2cf16e44f0be1bdfe337bd  b7325da1af89a46059164618eb03ae38   \n",
              "1  af49bf330e2cf16e44f0be1bdfe337bd  b7325da1af89a46059164618eb03ae38   \n",
              "2  af49bf330e2cf16e44f0be1bdfe337bd  b7325da1af89a46059164618eb03ae38   \n",
              "3  af49bf330e2cf16e44f0be1bdfe337bd  b7325da1af89a46059164618eb03ae38   \n",
              "4  af49bf330e2cf16e44f0be1bdfe337bd  b7325da1af89a46059164618eb03ae38   \n",
              "\n",
              "                         trackingid  \n",
              "0  6c304d5c2815ccd2ba5046c101294c24  \n",
              "1  6c304d5c2815ccd2ba5046c101294c24  \n",
              "2  6c304d5c2815ccd2ba5046c101294c24  \n",
              "3  6c304d5c2815ccd2ba5046c101294c24  \n",
              "4  6c304d5c2815ccd2ba5046c101294c24  "
            ],
            "text/html": [
              "\n",
              "  <div id=\"df-4b6189c7-906d-4e4b-b0ea-3cafe21b2147\">\n",
              "    <div class=\"colab-df-container\">\n",
              "      <div>\n",
              "<style scoped>\n",
              "    .dataframe tbody tr th:only-of-type {\n",
              "        vertical-align: middle;\n",
              "    }\n",
              "\n",
              "    .dataframe tbody tr th {\n",
              "        vertical-align: top;\n",
              "    }\n",
              "\n",
              "    .dataframe thead th {\n",
              "        text-align: right;\n",
              "    }\n",
              "</style>\n",
              "<table border=\"1\" class=\"dataframe\">\n",
              "  <thead>\n",
              "    <tr style=\"text-align: right;\">\n",
              "      <th></th>\n",
              "      <th>Unnamed: 0</th>\n",
              "      <th>whs</th>\n",
              "      <th>orderkey</th>\n",
              "      <th>selected_cartontype</th>\n",
              "      <th>box_num</th>\n",
              "      <th>recommended_cartontype</th>\n",
              "      <th>selected_carton</th>\n",
              "      <th>sel_calc_cube</th>\n",
              "      <th>recommended_carton</th>\n",
              "      <th>pack_volume</th>\n",
              "      <th>rec_calc_cube</th>\n",
              "      <th>goods_wght</th>\n",
              "      <th>sku</th>\n",
              "      <th>who</th>\n",
              "      <th>trackingid</th>\n",
              "    </tr>\n",
              "  </thead>\n",
              "  <tbody>\n",
              "    <tr>\n",
              "      <th>0</th>\n",
              "      <td>0</td>\n",
              "      <td>0</td>\n",
              "      <td>d48f3211c1ffccdc374f23139a9ab668</td>\n",
              "      <td>NONPACK</td>\n",
              "      <td>1</td>\n",
              "      <td>YML</td>\n",
              "      <td>NONPACK</td>\n",
              "      <td>0</td>\n",
              "      <td>YML</td>\n",
              "      <td>2046</td>\n",
              "      <td>108000</td>\n",
              "      <td>0.10</td>\n",
              "      <td>af49bf330e2cf16e44f0be1bdfe337bd</td>\n",
              "      <td>b7325da1af89a46059164618eb03ae38</td>\n",
              "      <td>6c304d5c2815ccd2ba5046c101294c24</td>\n",
              "    </tr>\n",
              "    <tr>\n",
              "      <th>1</th>\n",
              "      <td>1</td>\n",
              "      <td>0</td>\n",
              "      <td>d48f3211c1ffccdc374f23139a9ab668</td>\n",
              "      <td>NONPACK</td>\n",
              "      <td>1</td>\n",
              "      <td>YML</td>\n",
              "      <td>NONPACK</td>\n",
              "      <td>0</td>\n",
              "      <td>YML</td>\n",
              "      <td>2046</td>\n",
              "      <td>108000</td>\n",
              "      <td>0.10</td>\n",
              "      <td>af49bf330e2cf16e44f0be1bdfe337bd</td>\n",
              "      <td>b7325da1af89a46059164618eb03ae38</td>\n",
              "      <td>6c304d5c2815ccd2ba5046c101294c24</td>\n",
              "    </tr>\n",
              "    <tr>\n",
              "      <th>2</th>\n",
              "      <td>2</td>\n",
              "      <td>0</td>\n",
              "      <td>d48f3211c1ffccdc374f23139a9ab668</td>\n",
              "      <td>NONPACK</td>\n",
              "      <td>1</td>\n",
              "      <td>YML</td>\n",
              "      <td>NONPACK</td>\n",
              "      <td>0</td>\n",
              "      <td>YML</td>\n",
              "      <td>2046</td>\n",
              "      <td>108000</td>\n",
              "      <td>0.10</td>\n",
              "      <td>af49bf330e2cf16e44f0be1bdfe337bd</td>\n",
              "      <td>b7325da1af89a46059164618eb03ae38</td>\n",
              "      <td>6c304d5c2815ccd2ba5046c101294c24</td>\n",
              "    </tr>\n",
              "    <tr>\n",
              "      <th>3</th>\n",
              "      <td>3</td>\n",
              "      <td>0</td>\n",
              "      <td>d48f3211c1ffccdc374f23139a9ab668</td>\n",
              "      <td>NONPACK</td>\n",
              "      <td>1</td>\n",
              "      <td>YML</td>\n",
              "      <td>NONPACK</td>\n",
              "      <td>0</td>\n",
              "      <td>YML</td>\n",
              "      <td>2046</td>\n",
              "      <td>108000</td>\n",
              "      <td>0.10</td>\n",
              "      <td>af49bf330e2cf16e44f0be1bdfe337bd</td>\n",
              "      <td>b7325da1af89a46059164618eb03ae38</td>\n",
              "      <td>6c304d5c2815ccd2ba5046c101294c24</td>\n",
              "    </tr>\n",
              "    <tr>\n",
              "      <th>4</th>\n",
              "      <td>4</td>\n",
              "      <td>0</td>\n",
              "      <td>d48f3211c1ffccdc374f23139a9ab668</td>\n",
              "      <td>NONPACK</td>\n",
              "      <td>1</td>\n",
              "      <td>YML</td>\n",
              "      <td>NONPACK</td>\n",
              "      <td>0</td>\n",
              "      <td>YML</td>\n",
              "      <td>2046</td>\n",
              "      <td>108000</td>\n",
              "      <td>0.10</td>\n",
              "      <td>af49bf330e2cf16e44f0be1bdfe337bd</td>\n",
              "      <td>b7325da1af89a46059164618eb03ae38</td>\n",
              "      <td>6c304d5c2815ccd2ba5046c101294c24</td>\n",
              "    </tr>\n",
              "  </tbody>\n",
              "</table>\n",
              "</div>\n",
              "      <button class=\"colab-df-convert\" onclick=\"convertToInteractive('df-4b6189c7-906d-4e4b-b0ea-3cafe21b2147')\"\n",
              "              title=\"Convert this dataframe to an interactive table.\"\n",
              "              style=\"display:none;\">\n",
              "        \n",
              "  <svg xmlns=\"http://www.w3.org/2000/svg\" height=\"24px\"viewBox=\"0 0 24 24\"\n",
              "       width=\"24px\">\n",
              "    <path d=\"M0 0h24v24H0V0z\" fill=\"none\"/>\n",
              "    <path d=\"M18.56 5.44l.94 2.06.94-2.06 2.06-.94-2.06-.94-.94-2.06-.94 2.06-2.06.94zm-11 1L8.5 8.5l.94-2.06 2.06-.94-2.06-.94L8.5 2.5l-.94 2.06-2.06.94zm10 10l.94 2.06.94-2.06 2.06-.94-2.06-.94-.94-2.06-.94 2.06-2.06.94z\"/><path d=\"M17.41 7.96l-1.37-1.37c-.4-.4-.92-.59-1.43-.59-.52 0-1.04.2-1.43.59L10.3 9.45l-7.72 7.72c-.78.78-.78 2.05 0 2.83L4 21.41c.39.39.9.59 1.41.59.51 0 1.02-.2 1.41-.59l7.78-7.78 2.81-2.81c.8-.78.8-2.07 0-2.86zM5.41 20L4 18.59l7.72-7.72 1.47 1.35L5.41 20z\"/>\n",
              "  </svg>\n",
              "      </button>\n",
              "      \n",
              "  <style>\n",
              "    .colab-df-container {\n",
              "      display:flex;\n",
              "      flex-wrap:wrap;\n",
              "      gap: 12px;\n",
              "    }\n",
              "\n",
              "    .colab-df-convert {\n",
              "      background-color: #E8F0FE;\n",
              "      border: none;\n",
              "      border-radius: 50%;\n",
              "      cursor: pointer;\n",
              "      display: none;\n",
              "      fill: #1967D2;\n",
              "      height: 32px;\n",
              "      padding: 0 0 0 0;\n",
              "      width: 32px;\n",
              "    }\n",
              "\n",
              "    .colab-df-convert:hover {\n",
              "      background-color: #E2EBFA;\n",
              "      box-shadow: 0px 1px 2px rgba(60, 64, 67, 0.3), 0px 1px 3px 1px rgba(60, 64, 67, 0.15);\n",
              "      fill: #174EA6;\n",
              "    }\n",
              "\n",
              "    [theme=dark] .colab-df-convert {\n",
              "      background-color: #3B4455;\n",
              "      fill: #D2E3FC;\n",
              "    }\n",
              "\n",
              "    [theme=dark] .colab-df-convert:hover {\n",
              "      background-color: #434B5C;\n",
              "      box-shadow: 0px 1px 3px 1px rgba(0, 0, 0, 0.15);\n",
              "      filter: drop-shadow(0px 1px 2px rgba(0, 0, 0, 0.3));\n",
              "      fill: #FFFFFF;\n",
              "    }\n",
              "  </style>\n",
              "\n",
              "      <script>\n",
              "        const buttonEl =\n",
              "          document.querySelector('#df-4b6189c7-906d-4e4b-b0ea-3cafe21b2147 button.colab-df-convert');\n",
              "        buttonEl.style.display =\n",
              "          google.colab.kernel.accessAllowed ? 'block' : 'none';\n",
              "\n",
              "        async function convertToInteractive(key) {\n",
              "          const element = document.querySelector('#df-4b6189c7-906d-4e4b-b0ea-3cafe21b2147');\n",
              "          const dataTable =\n",
              "            await google.colab.kernel.invokeFunction('convertToInteractive',\n",
              "                                                     [key], {});\n",
              "          if (!dataTable) return;\n",
              "\n",
              "          const docLinkHtml = 'Like what you see? Visit the ' +\n",
              "            '<a target=\"_blank\" href=https://colab.research.google.com/notebooks/data_table.ipynb>data table notebook</a>'\n",
              "            + ' to learn more about interactive tables.';\n",
              "          element.innerHTML = '';\n",
              "          dataTable['output_type'] = 'display_data';\n",
              "          await google.colab.output.renderOutput(dataTable, element);\n",
              "          const docLink = document.createElement('div');\n",
              "          docLink.innerHTML = docLinkHtml;\n",
              "          element.appendChild(docLink);\n",
              "        }\n",
              "      </script>\n",
              "    </div>\n",
              "  </div>\n",
              "  "
            ]
          },
          "metadata": {},
          "execution_count": 4
        }
      ],
      "source": [
        "df_data = pd.read_csv('/content/drive/MyDrive/Colab Notebooks/portfolio/project/1_hackathon_pack/data.csv')\n",
        "df_data.head()"
      ]
    },
    {
      "cell_type": "code",
      "execution_count": 5,
      "metadata": {
        "colab": {
          "base_uri": "https://localhost:8080/",
          "height": 206
        },
        "outputId": "8ed07a21-7dc1-4a07-9de5-07ebb98bf330",
        "id": "QA-Q8SY3pT2-"
      },
      "outputs": [
        {
          "output_type": "execute_result",
          "data": {
            "text/plain": [
              "   Unnamed: 0                               sku     a     b     c\n",
              "0           0  8ba57dcdba9a58b0c4edd180bef6afc9 11.00 31.00 28.00\n",
              "1           1  d9af6ce6f9e303f4b1a8cb47cde21975 29.00 14.00 40.00\n",
              "2           2  8b91fd242bde88f0891380506d9c3caa 12.00 13.00 35.00\n",
              "3           3  e8af308a7659e34194770d1e3a48e144  3.00 13.00  8.00\n",
              "4           4  dc0e2542e122731217289b8e6d3bd3f8 96.00 18.00 56.00"
            ],
            "text/html": [
              "\n",
              "  <div id=\"df-fe21c4ed-44c3-42f1-a4d4-725c614ce33d\">\n",
              "    <div class=\"colab-df-container\">\n",
              "      <div>\n",
              "<style scoped>\n",
              "    .dataframe tbody tr th:only-of-type {\n",
              "        vertical-align: middle;\n",
              "    }\n",
              "\n",
              "    .dataframe tbody tr th {\n",
              "        vertical-align: top;\n",
              "    }\n",
              "\n",
              "    .dataframe thead th {\n",
              "        text-align: right;\n",
              "    }\n",
              "</style>\n",
              "<table border=\"1\" class=\"dataframe\">\n",
              "  <thead>\n",
              "    <tr style=\"text-align: right;\">\n",
              "      <th></th>\n",
              "      <th>Unnamed: 0</th>\n",
              "      <th>sku</th>\n",
              "      <th>a</th>\n",
              "      <th>b</th>\n",
              "      <th>c</th>\n",
              "    </tr>\n",
              "  </thead>\n",
              "  <tbody>\n",
              "    <tr>\n",
              "      <th>0</th>\n",
              "      <td>0</td>\n",
              "      <td>8ba57dcdba9a58b0c4edd180bef6afc9</td>\n",
              "      <td>11.00</td>\n",
              "      <td>31.00</td>\n",
              "      <td>28.00</td>\n",
              "    </tr>\n",
              "    <tr>\n",
              "      <th>1</th>\n",
              "      <td>1</td>\n",
              "      <td>d9af6ce6f9e303f4b1a8cb47cde21975</td>\n",
              "      <td>29.00</td>\n",
              "      <td>14.00</td>\n",
              "      <td>40.00</td>\n",
              "    </tr>\n",
              "    <tr>\n",
              "      <th>2</th>\n",
              "      <td>2</td>\n",
              "      <td>8b91fd242bde88f0891380506d9c3caa</td>\n",
              "      <td>12.00</td>\n",
              "      <td>13.00</td>\n",
              "      <td>35.00</td>\n",
              "    </tr>\n",
              "    <tr>\n",
              "      <th>3</th>\n",
              "      <td>3</td>\n",
              "      <td>e8af308a7659e34194770d1e3a48e144</td>\n",
              "      <td>3.00</td>\n",
              "      <td>13.00</td>\n",
              "      <td>8.00</td>\n",
              "    </tr>\n",
              "    <tr>\n",
              "      <th>4</th>\n",
              "      <td>4</td>\n",
              "      <td>dc0e2542e122731217289b8e6d3bd3f8</td>\n",
              "      <td>96.00</td>\n",
              "      <td>18.00</td>\n",
              "      <td>56.00</td>\n",
              "    </tr>\n",
              "  </tbody>\n",
              "</table>\n",
              "</div>\n",
              "      <button class=\"colab-df-convert\" onclick=\"convertToInteractive('df-fe21c4ed-44c3-42f1-a4d4-725c614ce33d')\"\n",
              "              title=\"Convert this dataframe to an interactive table.\"\n",
              "              style=\"display:none;\">\n",
              "        \n",
              "  <svg xmlns=\"http://www.w3.org/2000/svg\" height=\"24px\"viewBox=\"0 0 24 24\"\n",
              "       width=\"24px\">\n",
              "    <path d=\"M0 0h24v24H0V0z\" fill=\"none\"/>\n",
              "    <path d=\"M18.56 5.44l.94 2.06.94-2.06 2.06-.94-2.06-.94-.94-2.06-.94 2.06-2.06.94zm-11 1L8.5 8.5l.94-2.06 2.06-.94-2.06-.94L8.5 2.5l-.94 2.06-2.06.94zm10 10l.94 2.06.94-2.06 2.06-.94-2.06-.94-.94-2.06-.94 2.06-2.06.94z\"/><path d=\"M17.41 7.96l-1.37-1.37c-.4-.4-.92-.59-1.43-.59-.52 0-1.04.2-1.43.59L10.3 9.45l-7.72 7.72c-.78.78-.78 2.05 0 2.83L4 21.41c.39.39.9.59 1.41.59.51 0 1.02-.2 1.41-.59l7.78-7.78 2.81-2.81c.8-.78.8-2.07 0-2.86zM5.41 20L4 18.59l7.72-7.72 1.47 1.35L5.41 20z\"/>\n",
              "  </svg>\n",
              "      </button>\n",
              "      \n",
              "  <style>\n",
              "    .colab-df-container {\n",
              "      display:flex;\n",
              "      flex-wrap:wrap;\n",
              "      gap: 12px;\n",
              "    }\n",
              "\n",
              "    .colab-df-convert {\n",
              "      background-color: #E8F0FE;\n",
              "      border: none;\n",
              "      border-radius: 50%;\n",
              "      cursor: pointer;\n",
              "      display: none;\n",
              "      fill: #1967D2;\n",
              "      height: 32px;\n",
              "      padding: 0 0 0 0;\n",
              "      width: 32px;\n",
              "    }\n",
              "\n",
              "    .colab-df-convert:hover {\n",
              "      background-color: #E2EBFA;\n",
              "      box-shadow: 0px 1px 2px rgba(60, 64, 67, 0.3), 0px 1px 3px 1px rgba(60, 64, 67, 0.15);\n",
              "      fill: #174EA6;\n",
              "    }\n",
              "\n",
              "    [theme=dark] .colab-df-convert {\n",
              "      background-color: #3B4455;\n",
              "      fill: #D2E3FC;\n",
              "    }\n",
              "\n",
              "    [theme=dark] .colab-df-convert:hover {\n",
              "      background-color: #434B5C;\n",
              "      box-shadow: 0px 1px 3px 1px rgba(0, 0, 0, 0.15);\n",
              "      filter: drop-shadow(0px 1px 2px rgba(0, 0, 0, 0.3));\n",
              "      fill: #FFFFFF;\n",
              "    }\n",
              "  </style>\n",
              "\n",
              "      <script>\n",
              "        const buttonEl =\n",
              "          document.querySelector('#df-fe21c4ed-44c3-42f1-a4d4-725c614ce33d button.colab-df-convert');\n",
              "        buttonEl.style.display =\n",
              "          google.colab.kernel.accessAllowed ? 'block' : 'none';\n",
              "\n",
              "        async function convertToInteractive(key) {\n",
              "          const element = document.querySelector('#df-fe21c4ed-44c3-42f1-a4d4-725c614ce33d');\n",
              "          const dataTable =\n",
              "            await google.colab.kernel.invokeFunction('convertToInteractive',\n",
              "                                                     [key], {});\n",
              "          if (!dataTable) return;\n",
              "\n",
              "          const docLinkHtml = 'Like what you see? Visit the ' +\n",
              "            '<a target=\"_blank\" href=https://colab.research.google.com/notebooks/data_table.ipynb>data table notebook</a>'\n",
              "            + ' to learn more about interactive tables.';\n",
              "          element.innerHTML = '';\n",
              "          dataTable['output_type'] = 'display_data';\n",
              "          await google.colab.output.renderOutput(dataTable, element);\n",
              "          const docLink = document.createElement('div');\n",
              "          docLink.innerHTML = docLinkHtml;\n",
              "          element.appendChild(docLink);\n",
              "        }\n",
              "      </script>\n",
              "    </div>\n",
              "  </div>\n",
              "  "
            ]
          },
          "metadata": {},
          "execution_count": 5
        }
      ],
      "source": [
        "df_sku = pd.read_csv('/content/drive/MyDrive/Colab Notebooks/portfolio/project/1_hackathon_pack/sku.csv')\n",
        "df_sku.head()"
      ]
    },
    {
      "cell_type": "code",
      "execution_count": 6,
      "metadata": {
        "id": "bE5nSuL5pT_V",
        "colab": {
          "base_uri": "https://localhost:8080/",
          "height": 206
        },
        "outputId": "01d2d0f8-0b75-4b43-b08f-29efa6e73775"
      },
      "outputs": [
        {
          "output_type": "execute_result",
          "data": {
            "text/plain": [
              "   Unnamed: 0                               sku  cargotype\n",
              "0           0  4862bf0e760a593b13f3f2fcf822e533        290\n",
              "1           1  4862bf0e760a593b13f3f2fcf822e533        901\n",
              "2           2  50d3c4fc66ad423b7feaadff2d682ee0        290\n",
              "3           3  50d3c4fc66ad423b7feaadff2d682ee0        901\n",
              "4           4  24ce9dba9f301ada55f60e25ee1498d2        290"
            ],
            "text/html": [
              "\n",
              "  <div id=\"df-b93f2349-a216-4d5e-9fce-93615f826df8\">\n",
              "    <div class=\"colab-df-container\">\n",
              "      <div>\n",
              "<style scoped>\n",
              "    .dataframe tbody tr th:only-of-type {\n",
              "        vertical-align: middle;\n",
              "    }\n",
              "\n",
              "    .dataframe tbody tr th {\n",
              "        vertical-align: top;\n",
              "    }\n",
              "\n",
              "    .dataframe thead th {\n",
              "        text-align: right;\n",
              "    }\n",
              "</style>\n",
              "<table border=\"1\" class=\"dataframe\">\n",
              "  <thead>\n",
              "    <tr style=\"text-align: right;\">\n",
              "      <th></th>\n",
              "      <th>Unnamed: 0</th>\n",
              "      <th>sku</th>\n",
              "      <th>cargotype</th>\n",
              "    </tr>\n",
              "  </thead>\n",
              "  <tbody>\n",
              "    <tr>\n",
              "      <th>0</th>\n",
              "      <td>0</td>\n",
              "      <td>4862bf0e760a593b13f3f2fcf822e533</td>\n",
              "      <td>290</td>\n",
              "    </tr>\n",
              "    <tr>\n",
              "      <th>1</th>\n",
              "      <td>1</td>\n",
              "      <td>4862bf0e760a593b13f3f2fcf822e533</td>\n",
              "      <td>901</td>\n",
              "    </tr>\n",
              "    <tr>\n",
              "      <th>2</th>\n",
              "      <td>2</td>\n",
              "      <td>50d3c4fc66ad423b7feaadff2d682ee0</td>\n",
              "      <td>290</td>\n",
              "    </tr>\n",
              "    <tr>\n",
              "      <th>3</th>\n",
              "      <td>3</td>\n",
              "      <td>50d3c4fc66ad423b7feaadff2d682ee0</td>\n",
              "      <td>901</td>\n",
              "    </tr>\n",
              "    <tr>\n",
              "      <th>4</th>\n",
              "      <td>4</td>\n",
              "      <td>24ce9dba9f301ada55f60e25ee1498d2</td>\n",
              "      <td>290</td>\n",
              "    </tr>\n",
              "  </tbody>\n",
              "</table>\n",
              "</div>\n",
              "      <button class=\"colab-df-convert\" onclick=\"convertToInteractive('df-b93f2349-a216-4d5e-9fce-93615f826df8')\"\n",
              "              title=\"Convert this dataframe to an interactive table.\"\n",
              "              style=\"display:none;\">\n",
              "        \n",
              "  <svg xmlns=\"http://www.w3.org/2000/svg\" height=\"24px\"viewBox=\"0 0 24 24\"\n",
              "       width=\"24px\">\n",
              "    <path d=\"M0 0h24v24H0V0z\" fill=\"none\"/>\n",
              "    <path d=\"M18.56 5.44l.94 2.06.94-2.06 2.06-.94-2.06-.94-.94-2.06-.94 2.06-2.06.94zm-11 1L8.5 8.5l.94-2.06 2.06-.94-2.06-.94L8.5 2.5l-.94 2.06-2.06.94zm10 10l.94 2.06.94-2.06 2.06-.94-2.06-.94-.94-2.06-.94 2.06-2.06.94z\"/><path d=\"M17.41 7.96l-1.37-1.37c-.4-.4-.92-.59-1.43-.59-.52 0-1.04.2-1.43.59L10.3 9.45l-7.72 7.72c-.78.78-.78 2.05 0 2.83L4 21.41c.39.39.9.59 1.41.59.51 0 1.02-.2 1.41-.59l7.78-7.78 2.81-2.81c.8-.78.8-2.07 0-2.86zM5.41 20L4 18.59l7.72-7.72 1.47 1.35L5.41 20z\"/>\n",
              "  </svg>\n",
              "      </button>\n",
              "      \n",
              "  <style>\n",
              "    .colab-df-container {\n",
              "      display:flex;\n",
              "      flex-wrap:wrap;\n",
              "      gap: 12px;\n",
              "    }\n",
              "\n",
              "    .colab-df-convert {\n",
              "      background-color: #E8F0FE;\n",
              "      border: none;\n",
              "      border-radius: 50%;\n",
              "      cursor: pointer;\n",
              "      display: none;\n",
              "      fill: #1967D2;\n",
              "      height: 32px;\n",
              "      padding: 0 0 0 0;\n",
              "      width: 32px;\n",
              "    }\n",
              "\n",
              "    .colab-df-convert:hover {\n",
              "      background-color: #E2EBFA;\n",
              "      box-shadow: 0px 1px 2px rgba(60, 64, 67, 0.3), 0px 1px 3px 1px rgba(60, 64, 67, 0.15);\n",
              "      fill: #174EA6;\n",
              "    }\n",
              "\n",
              "    [theme=dark] .colab-df-convert {\n",
              "      background-color: #3B4455;\n",
              "      fill: #D2E3FC;\n",
              "    }\n",
              "\n",
              "    [theme=dark] .colab-df-convert:hover {\n",
              "      background-color: #434B5C;\n",
              "      box-shadow: 0px 1px 3px 1px rgba(0, 0, 0, 0.15);\n",
              "      filter: drop-shadow(0px 1px 2px rgba(0, 0, 0, 0.3));\n",
              "      fill: #FFFFFF;\n",
              "    }\n",
              "  </style>\n",
              "\n",
              "      <script>\n",
              "        const buttonEl =\n",
              "          document.querySelector('#df-b93f2349-a216-4d5e-9fce-93615f826df8 button.colab-df-convert');\n",
              "        buttonEl.style.display =\n",
              "          google.colab.kernel.accessAllowed ? 'block' : 'none';\n",
              "\n",
              "        async function convertToInteractive(key) {\n",
              "          const element = document.querySelector('#df-b93f2349-a216-4d5e-9fce-93615f826df8');\n",
              "          const dataTable =\n",
              "            await google.colab.kernel.invokeFunction('convertToInteractive',\n",
              "                                                     [key], {});\n",
              "          if (!dataTable) return;\n",
              "\n",
              "          const docLinkHtml = 'Like what you see? Visit the ' +\n",
              "            '<a target=\"_blank\" href=https://colab.research.google.com/notebooks/data_table.ipynb>data table notebook</a>'\n",
              "            + ' to learn more about interactive tables.';\n",
              "          element.innerHTML = '';\n",
              "          dataTable['output_type'] = 'display_data';\n",
              "          await google.colab.output.renderOutput(dataTable, element);\n",
              "          const docLink = document.createElement('div');\n",
              "          docLink.innerHTML = docLinkHtml;\n",
              "          element.appendChild(docLink);\n",
              "        }\n",
              "      </script>\n",
              "    </div>\n",
              "  </div>\n",
              "  "
            ]
          },
          "metadata": {},
          "execution_count": 6
        }
      ],
      "source": [
        "df_sku_cargotypes = pd.read_csv('/content/drive/MyDrive/Colab Notebooks/portfolio/project/1_hackathon_pack/sku_cargotypes.csv')\n",
        "df_sku_cargotypes.head()"
      ]
    },
    {
      "cell_type": "code",
      "execution_count": 7,
      "metadata": {
        "id": "y097mpLZtQ54",
        "colab": {
          "base_uri": "https://localhost:8080/",
          "height": 206
        },
        "outputId": "4cdf5a07-2717-445f-caf7-8239c13d47a7"
      },
      "outputs": [
        {
          "output_type": "execute_result",
          "data": {
            "text/plain": [
              "   Unnamed: 0  cargotype                                        description\n",
              "0           0     770.00                                           консервы\n",
              "1           1     301.00               тяжеловесный и крупногабаритный 20кг\n",
              "2           2     980.00                    Требует обязательной маркировки\n",
              "3           3     985.00  Не требует наличия маркировки, но требует выво...\n",
              "4           4     990.00  Потребует обязательной маркировки в ближайшем ..."
            ],
            "text/html": [
              "\n",
              "  <div id=\"df-c418979b-bdc8-4eca-a047-a41ed7e3a64e\">\n",
              "    <div class=\"colab-df-container\">\n",
              "      <div>\n",
              "<style scoped>\n",
              "    .dataframe tbody tr th:only-of-type {\n",
              "        vertical-align: middle;\n",
              "    }\n",
              "\n",
              "    .dataframe tbody tr th {\n",
              "        vertical-align: top;\n",
              "    }\n",
              "\n",
              "    .dataframe thead th {\n",
              "        text-align: right;\n",
              "    }\n",
              "</style>\n",
              "<table border=\"1\" class=\"dataframe\">\n",
              "  <thead>\n",
              "    <tr style=\"text-align: right;\">\n",
              "      <th></th>\n",
              "      <th>Unnamed: 0</th>\n",
              "      <th>cargotype</th>\n",
              "      <th>description</th>\n",
              "    </tr>\n",
              "  </thead>\n",
              "  <tbody>\n",
              "    <tr>\n",
              "      <th>0</th>\n",
              "      <td>0</td>\n",
              "      <td>770.00</td>\n",
              "      <td>консервы</td>\n",
              "    </tr>\n",
              "    <tr>\n",
              "      <th>1</th>\n",
              "      <td>1</td>\n",
              "      <td>301.00</td>\n",
              "      <td>тяжеловесный и крупногабаритный 20кг</td>\n",
              "    </tr>\n",
              "    <tr>\n",
              "      <th>2</th>\n",
              "      <td>2</td>\n",
              "      <td>980.00</td>\n",
              "      <td>Требует обязательной маркировки</td>\n",
              "    </tr>\n",
              "    <tr>\n",
              "      <th>3</th>\n",
              "      <td>3</td>\n",
              "      <td>985.00</td>\n",
              "      <td>Не требует наличия маркировки, но требует выво...</td>\n",
              "    </tr>\n",
              "    <tr>\n",
              "      <th>4</th>\n",
              "      <td>4</td>\n",
              "      <td>990.00</td>\n",
              "      <td>Потребует обязательной маркировки в ближайшем ...</td>\n",
              "    </tr>\n",
              "  </tbody>\n",
              "</table>\n",
              "</div>\n",
              "      <button class=\"colab-df-convert\" onclick=\"convertToInteractive('df-c418979b-bdc8-4eca-a047-a41ed7e3a64e')\"\n",
              "              title=\"Convert this dataframe to an interactive table.\"\n",
              "              style=\"display:none;\">\n",
              "        \n",
              "  <svg xmlns=\"http://www.w3.org/2000/svg\" height=\"24px\"viewBox=\"0 0 24 24\"\n",
              "       width=\"24px\">\n",
              "    <path d=\"M0 0h24v24H0V0z\" fill=\"none\"/>\n",
              "    <path d=\"M18.56 5.44l.94 2.06.94-2.06 2.06-.94-2.06-.94-.94-2.06-.94 2.06-2.06.94zm-11 1L8.5 8.5l.94-2.06 2.06-.94-2.06-.94L8.5 2.5l-.94 2.06-2.06.94zm10 10l.94 2.06.94-2.06 2.06-.94-2.06-.94-.94-2.06-.94 2.06-2.06.94z\"/><path d=\"M17.41 7.96l-1.37-1.37c-.4-.4-.92-.59-1.43-.59-.52 0-1.04.2-1.43.59L10.3 9.45l-7.72 7.72c-.78.78-.78 2.05 0 2.83L4 21.41c.39.39.9.59 1.41.59.51 0 1.02-.2 1.41-.59l7.78-7.78 2.81-2.81c.8-.78.8-2.07 0-2.86zM5.41 20L4 18.59l7.72-7.72 1.47 1.35L5.41 20z\"/>\n",
              "  </svg>\n",
              "      </button>\n",
              "      \n",
              "  <style>\n",
              "    .colab-df-container {\n",
              "      display:flex;\n",
              "      flex-wrap:wrap;\n",
              "      gap: 12px;\n",
              "    }\n",
              "\n",
              "    .colab-df-convert {\n",
              "      background-color: #E8F0FE;\n",
              "      border: none;\n",
              "      border-radius: 50%;\n",
              "      cursor: pointer;\n",
              "      display: none;\n",
              "      fill: #1967D2;\n",
              "      height: 32px;\n",
              "      padding: 0 0 0 0;\n",
              "      width: 32px;\n",
              "    }\n",
              "\n",
              "    .colab-df-convert:hover {\n",
              "      background-color: #E2EBFA;\n",
              "      box-shadow: 0px 1px 2px rgba(60, 64, 67, 0.3), 0px 1px 3px 1px rgba(60, 64, 67, 0.15);\n",
              "      fill: #174EA6;\n",
              "    }\n",
              "\n",
              "    [theme=dark] .colab-df-convert {\n",
              "      background-color: #3B4455;\n",
              "      fill: #D2E3FC;\n",
              "    }\n",
              "\n",
              "    [theme=dark] .colab-df-convert:hover {\n",
              "      background-color: #434B5C;\n",
              "      box-shadow: 0px 1px 3px 1px rgba(0, 0, 0, 0.15);\n",
              "      filter: drop-shadow(0px 1px 2px rgba(0, 0, 0, 0.3));\n",
              "      fill: #FFFFFF;\n",
              "    }\n",
              "  </style>\n",
              "\n",
              "      <script>\n",
              "        const buttonEl =\n",
              "          document.querySelector('#df-c418979b-bdc8-4eca-a047-a41ed7e3a64e button.colab-df-convert');\n",
              "        buttonEl.style.display =\n",
              "          google.colab.kernel.accessAllowed ? 'block' : 'none';\n",
              "\n",
              "        async function convertToInteractive(key) {\n",
              "          const element = document.querySelector('#df-c418979b-bdc8-4eca-a047-a41ed7e3a64e');\n",
              "          const dataTable =\n",
              "            await google.colab.kernel.invokeFunction('convertToInteractive',\n",
              "                                                     [key], {});\n",
              "          if (!dataTable) return;\n",
              "\n",
              "          const docLinkHtml = 'Like what you see? Visit the ' +\n",
              "            '<a target=\"_blank\" href=https://colab.research.google.com/notebooks/data_table.ipynb>data table notebook</a>'\n",
              "            + ' to learn more about interactive tables.';\n",
              "          element.innerHTML = '';\n",
              "          dataTable['output_type'] = 'display_data';\n",
              "          await google.colab.output.renderOutput(dataTable, element);\n",
              "          const docLink = document.createElement('div');\n",
              "          docLink.innerHTML = docLinkHtml;\n",
              "          element.appendChild(docLink);\n",
              "        }\n",
              "      </script>\n",
              "    </div>\n",
              "  </div>\n",
              "  "
            ]
          },
          "metadata": {},
          "execution_count": 7
        }
      ],
      "source": [
        "df_cargotype = pd.read_csv('/content/drive/MyDrive/Colab Notebooks/portfolio/project/1_hackathon_pack/cargotype_info.csv')\n",
        "df_cargotype.head()"
      ]
    },
    {
      "cell_type": "code",
      "source": [
        "df_cargotype.description.value_counts()"
      ],
      "metadata": {
        "id": "ATEmxW5mfXkv",
        "colab": {
          "base_uri": "https://localhost:8080/"
        },
        "outputId": "ec1f82f6-1141-49bd-e4be-db69bd13740d"
      },
      "execution_count": 8,
      "outputs": [
        {
          "output_type": "execute_result",
          "data": {
            "text/plain": [
              "2023-04-11                                                                           2\n",
              "консервы                                                                             1\n",
              "корма для животных                                                                   1\n",
              "цифровой товар                                                                       1\n",
              "меркурий                                                                             1\n",
              "возможно вскрытие заводской упаковки покупателем                                     1\n",
              "Терморежим 13-22                                                                     1\n",
              "Склад КГТ (крупногабаритный товар)                                                   1\n",
              "Склад МГТ (малогабаритный товар)                                                     1\n",
              "Склад СГТ (среднегабаритный товар)                                                   1\n",
              "многоместный товар                                                                   1\n",
              "не требует упаковки                                                                  1\n",
              "тяжеловесный и крупногабаритный больше паллеты                                       1\n",
              "нельзя примерить                                                                     1\n",
              "мебель                                                                               1\n",
              "рецептурное лекарство                                                                1\n",
              "БАДы                                                                                 1\n",
              "семена                                                                               1\n",
              "керамика/стекло/камень/фарфор                                                        1\n",
              "одежда, обувь, аксессуары                                                            1\n",
              "в ассортименте                                                                       1\n",
              "фреш                                                                                 1\n",
              "ультра-фреш                                                                          1\n",
              "аксессуары, часы и украшения                                                         1\n",
              "товары для красоты                                                                   1\n",
              "обувь взрослая                                                                       1\n",
              "ручки письменные                                                                     1\n",
              "малый аксессуар                                                                      1\n",
              "большой аксессуар                                                                    1\n",
              "ветеринарная аптека                                                                  1\n",
              "электроника                                                                          1\n",
              "цена средняя                                                                         1\n",
              "аптека                                                                               1\n",
              "товары для авто и мототехники                                                        1\n",
              "цена низкая                                                                          1\n",
              "товары для животных                                                                  1\n",
              "цена высокая                                                                         1\n",
              "обувь детская                                                                        1\n",
              "одежда с плечиками                                                                   1\n",
              "одежда прочая                                                                        1\n",
              "одежда детская                                                                       1\n",
              "одежда верхняя                                                                       1\n",
              "Нельзя на ФФЦ и СЦ                                                                   1\n",
              "Нельзя в Экспресс                                                                    1\n",
              "детские игрушки и игры                                                               1\n",
              "товары для спорта и отдыха                                                           1\n",
              "бытовая техника                                                                      1\n",
              "опасный Авиа                                                                         1\n",
              "агрохимикаты                                                                         1\n",
              "тяжеловесный и крупногабаритный 20кг                                                 1\n",
              "строительные материалы                                                               1\n",
              "полуфабрикат                                                                         1\n",
              "скоропортящийся                                                                      1\n",
              "аэрозоли и газы                                                                      1\n",
              "мнется                                                                               1\n",
              "животные                                                                             1\n",
              "порошки (в том числе мелкодисперсные)                                                1\n",
              "ценное                                                                               1\n",
              "пачкает                                                                              1\n",
              "готовое блюда                                                                        1\n",
              "пахучий                                                                              1\n",
              "влажный (мокрый)                                                                     1\n",
              "литий-ионные батареи                                                                 1\n",
              "техника и электроника                                                                1\n",
              "товары народного потребления                                                         1\n",
              "предметы искусства                                                                   1\n",
              "документы и ценные бумаги                                                            1\n",
              "медикаменты                                                                          1\n",
              "интим товар                                                                          1\n",
              "Потребует обязательной маркировки в ближайшем будущем                                1\n",
              "Не требует наличия маркировки, но требует вывода через ЦРПТ маркированных товаров    1\n",
              "Требует обязательной маркировки                                                      1\n",
              "пачкается                                                                            1\n",
              "техника и электроника с литий-ионными батареями                                      1\n",
              "косметика и парфюмерия                                                               1\n",
              "жидкость                                                                             1\n",
              "пестициды                                                                            1\n",
              "требует доставки с термо режимом 0+                                                  1\n",
              "возрастное ограничение на получение товара                                           1\n",
              "тяжеловесный и крупногабаритный                                                      1\n",
              "сыпучее                                                                              1\n",
              "опасный                                                                              1\n",
              "не определен                                                                         1\n",
              "сухие                                                                                1\n",
              "замороженный                                                                         1\n",
              "драгоценности                                                                        1\n",
              "бытовая химия                                                                        1\n",
              "химикаты                                                                             1\n",
              "сырье                                                                                1\n",
              "продукты питания                                                                     1\n",
              "средства личной гигиены                                                              1\n",
              "впитывает запах                                                                      1\n",
              "оружие и взрывчатые вещества                                                         1\n",
              "хрупкое                                                                              1\n",
              "малогабаритный товар                                                                 1\n",
              "охлажденные                                                                          1\n",
              "упаковка в пленку                                                                    1\n",
              "Name: description, dtype: int64"
            ]
          },
          "metadata": {},
          "execution_count": 8
        }
      ]
    },
    {
      "cell_type": "code",
      "source": [
        "df_cargotype.query('description == \"2023-04-11\"')"
      ],
      "metadata": {
        "id": "3cMoKjRedApv",
        "colab": {
          "base_uri": "https://localhost:8080/",
          "height": 112
        },
        "outputId": "df23db2d-6eb6-413f-b2ce-5e9bbc8f3d44"
      },
      "execution_count": 9,
      "outputs": [
        {
          "output_type": "execute_result",
          "data": {
            "text/plain": [
              "    Unnamed: 0  cargotype description\n",
              "64          64        NaN  2023-04-11\n",
              "67          67        NaN  2023-04-11"
            ],
            "text/html": [
              "\n",
              "  <div id=\"df-26945edc-208c-48c1-8283-88d6a007493a\">\n",
              "    <div class=\"colab-df-container\">\n",
              "      <div>\n",
              "<style scoped>\n",
              "    .dataframe tbody tr th:only-of-type {\n",
              "        vertical-align: middle;\n",
              "    }\n",
              "\n",
              "    .dataframe tbody tr th {\n",
              "        vertical-align: top;\n",
              "    }\n",
              "\n",
              "    .dataframe thead th {\n",
              "        text-align: right;\n",
              "    }\n",
              "</style>\n",
              "<table border=\"1\" class=\"dataframe\">\n",
              "  <thead>\n",
              "    <tr style=\"text-align: right;\">\n",
              "      <th></th>\n",
              "      <th>Unnamed: 0</th>\n",
              "      <th>cargotype</th>\n",
              "      <th>description</th>\n",
              "    </tr>\n",
              "  </thead>\n",
              "  <tbody>\n",
              "    <tr>\n",
              "      <th>64</th>\n",
              "      <td>64</td>\n",
              "      <td>NaN</td>\n",
              "      <td>2023-04-11</td>\n",
              "    </tr>\n",
              "    <tr>\n",
              "      <th>67</th>\n",
              "      <td>67</td>\n",
              "      <td>NaN</td>\n",
              "      <td>2023-04-11</td>\n",
              "    </tr>\n",
              "  </tbody>\n",
              "</table>\n",
              "</div>\n",
              "      <button class=\"colab-df-convert\" onclick=\"convertToInteractive('df-26945edc-208c-48c1-8283-88d6a007493a')\"\n",
              "              title=\"Convert this dataframe to an interactive table.\"\n",
              "              style=\"display:none;\">\n",
              "        \n",
              "  <svg xmlns=\"http://www.w3.org/2000/svg\" height=\"24px\"viewBox=\"0 0 24 24\"\n",
              "       width=\"24px\">\n",
              "    <path d=\"M0 0h24v24H0V0z\" fill=\"none\"/>\n",
              "    <path d=\"M18.56 5.44l.94 2.06.94-2.06 2.06-.94-2.06-.94-.94-2.06-.94 2.06-2.06.94zm-11 1L8.5 8.5l.94-2.06 2.06-.94-2.06-.94L8.5 2.5l-.94 2.06-2.06.94zm10 10l.94 2.06.94-2.06 2.06-.94-2.06-.94-.94-2.06-.94 2.06-2.06.94z\"/><path d=\"M17.41 7.96l-1.37-1.37c-.4-.4-.92-.59-1.43-.59-.52 0-1.04.2-1.43.59L10.3 9.45l-7.72 7.72c-.78.78-.78 2.05 0 2.83L4 21.41c.39.39.9.59 1.41.59.51 0 1.02-.2 1.41-.59l7.78-7.78 2.81-2.81c.8-.78.8-2.07 0-2.86zM5.41 20L4 18.59l7.72-7.72 1.47 1.35L5.41 20z\"/>\n",
              "  </svg>\n",
              "      </button>\n",
              "      \n",
              "  <style>\n",
              "    .colab-df-container {\n",
              "      display:flex;\n",
              "      flex-wrap:wrap;\n",
              "      gap: 12px;\n",
              "    }\n",
              "\n",
              "    .colab-df-convert {\n",
              "      background-color: #E8F0FE;\n",
              "      border: none;\n",
              "      border-radius: 50%;\n",
              "      cursor: pointer;\n",
              "      display: none;\n",
              "      fill: #1967D2;\n",
              "      height: 32px;\n",
              "      padding: 0 0 0 0;\n",
              "      width: 32px;\n",
              "    }\n",
              "\n",
              "    .colab-df-convert:hover {\n",
              "      background-color: #E2EBFA;\n",
              "      box-shadow: 0px 1px 2px rgba(60, 64, 67, 0.3), 0px 1px 3px 1px rgba(60, 64, 67, 0.15);\n",
              "      fill: #174EA6;\n",
              "    }\n",
              "\n",
              "    [theme=dark] .colab-df-convert {\n",
              "      background-color: #3B4455;\n",
              "      fill: #D2E3FC;\n",
              "    }\n",
              "\n",
              "    [theme=dark] .colab-df-convert:hover {\n",
              "      background-color: #434B5C;\n",
              "      box-shadow: 0px 1px 3px 1px rgba(0, 0, 0, 0.15);\n",
              "      filter: drop-shadow(0px 1px 2px rgba(0, 0, 0, 0.3));\n",
              "      fill: #FFFFFF;\n",
              "    }\n",
              "  </style>\n",
              "\n",
              "      <script>\n",
              "        const buttonEl =\n",
              "          document.querySelector('#df-26945edc-208c-48c1-8283-88d6a007493a button.colab-df-convert');\n",
              "        buttonEl.style.display =\n",
              "          google.colab.kernel.accessAllowed ? 'block' : 'none';\n",
              "\n",
              "        async function convertToInteractive(key) {\n",
              "          const element = document.querySelector('#df-26945edc-208c-48c1-8283-88d6a007493a');\n",
              "          const dataTable =\n",
              "            await google.colab.kernel.invokeFunction('convertToInteractive',\n",
              "                                                     [key], {});\n",
              "          if (!dataTable) return;\n",
              "\n",
              "          const docLinkHtml = 'Like what you see? Visit the ' +\n",
              "            '<a target=\"_blank\" href=https://colab.research.google.com/notebooks/data_table.ipynb>data table notebook</a>'\n",
              "            + ' to learn more about interactive tables.';\n",
              "          element.innerHTML = '';\n",
              "          dataTable['output_type'] = 'display_data';\n",
              "          await google.colab.output.renderOutput(dataTable, element);\n",
              "          const docLink = document.createElement('div');\n",
              "          docLink.innerHTML = docLinkHtml;\n",
              "          element.appendChild(docLink);\n",
              "        }\n",
              "      </script>\n",
              "    </div>\n",
              "  </div>\n",
              "  "
            ]
          },
          "metadata": {},
          "execution_count": 9
        }
      ]
    },
    {
      "cell_type": "markdown",
      "source": [
        "В таблице df_cargotype некорректное значение столбца **description** == 2023-04-11 удаляем, 2 строки"
      ],
      "metadata": {
        "id": "uGlR7SjNrHh7"
      }
    },
    {
      "cell_type": "code",
      "source": [
        "df_cargotype = df_cargotype[df_cargotype['description'] != '2023-04-11']"
      ],
      "metadata": {
        "id": "F-gFYuCvsdon"
      },
      "execution_count": 10,
      "outputs": []
    },
    {
      "cell_type": "code",
      "execution_count": 11,
      "metadata": {
        "id": "terMInI5pTm5",
        "colab": {
          "base_uri": "https://localhost:8080/",
          "height": 206
        },
        "outputId": "402fefe6-9d61-425d-bd68-796ea29b2efd"
      },
      "outputs": [
        {
          "output_type": "execute_result",
          "data": {
            "text/plain": [
              "  CARTONTYPE  LENGTH  WIDTH  HEIGHT  DISPLAYRFPACK\n",
              "0        YMA   24.70  15.00   10.00              1\n",
              "1        YMC   30.00  20.00   15.00              1\n",
              "2        YME   30.00  30.00   44.50              1\n",
              "3        YMF   35.00  25.00   15.00              1\n",
              "4        YMG   44.70  30.00   20.00              1"
            ],
            "text/html": [
              "\n",
              "  <div id=\"df-088acc87-9be6-44b8-b941-3a2a36f87aa1\">\n",
              "    <div class=\"colab-df-container\">\n",
              "      <div>\n",
              "<style scoped>\n",
              "    .dataframe tbody tr th:only-of-type {\n",
              "        vertical-align: middle;\n",
              "    }\n",
              "\n",
              "    .dataframe tbody tr th {\n",
              "        vertical-align: top;\n",
              "    }\n",
              "\n",
              "    .dataframe thead th {\n",
              "        text-align: right;\n",
              "    }\n",
              "</style>\n",
              "<table border=\"1\" class=\"dataframe\">\n",
              "  <thead>\n",
              "    <tr style=\"text-align: right;\">\n",
              "      <th></th>\n",
              "      <th>CARTONTYPE</th>\n",
              "      <th>LENGTH</th>\n",
              "      <th>WIDTH</th>\n",
              "      <th>HEIGHT</th>\n",
              "      <th>DISPLAYRFPACK</th>\n",
              "    </tr>\n",
              "  </thead>\n",
              "  <tbody>\n",
              "    <tr>\n",
              "      <th>0</th>\n",
              "      <td>YMA</td>\n",
              "      <td>24.70</td>\n",
              "      <td>15.00</td>\n",
              "      <td>10.00</td>\n",
              "      <td>1</td>\n",
              "    </tr>\n",
              "    <tr>\n",
              "      <th>1</th>\n",
              "      <td>YMC</td>\n",
              "      <td>30.00</td>\n",
              "      <td>20.00</td>\n",
              "      <td>15.00</td>\n",
              "      <td>1</td>\n",
              "    </tr>\n",
              "    <tr>\n",
              "      <th>2</th>\n",
              "      <td>YME</td>\n",
              "      <td>30.00</td>\n",
              "      <td>30.00</td>\n",
              "      <td>44.50</td>\n",
              "      <td>1</td>\n",
              "    </tr>\n",
              "    <tr>\n",
              "      <th>3</th>\n",
              "      <td>YMF</td>\n",
              "      <td>35.00</td>\n",
              "      <td>25.00</td>\n",
              "      <td>15.00</td>\n",
              "      <td>1</td>\n",
              "    </tr>\n",
              "    <tr>\n",
              "      <th>4</th>\n",
              "      <td>YMG</td>\n",
              "      <td>44.70</td>\n",
              "      <td>30.00</td>\n",
              "      <td>20.00</td>\n",
              "      <td>1</td>\n",
              "    </tr>\n",
              "  </tbody>\n",
              "</table>\n",
              "</div>\n",
              "      <button class=\"colab-df-convert\" onclick=\"convertToInteractive('df-088acc87-9be6-44b8-b941-3a2a36f87aa1')\"\n",
              "              title=\"Convert this dataframe to an interactive table.\"\n",
              "              style=\"display:none;\">\n",
              "        \n",
              "  <svg xmlns=\"http://www.w3.org/2000/svg\" height=\"24px\"viewBox=\"0 0 24 24\"\n",
              "       width=\"24px\">\n",
              "    <path d=\"M0 0h24v24H0V0z\" fill=\"none\"/>\n",
              "    <path d=\"M18.56 5.44l.94 2.06.94-2.06 2.06-.94-2.06-.94-.94-2.06-.94 2.06-2.06.94zm-11 1L8.5 8.5l.94-2.06 2.06-.94-2.06-.94L8.5 2.5l-.94 2.06-2.06.94zm10 10l.94 2.06.94-2.06 2.06-.94-2.06-.94-.94-2.06-.94 2.06-2.06.94z\"/><path d=\"M17.41 7.96l-1.37-1.37c-.4-.4-.92-.59-1.43-.59-.52 0-1.04.2-1.43.59L10.3 9.45l-7.72 7.72c-.78.78-.78 2.05 0 2.83L4 21.41c.39.39.9.59 1.41.59.51 0 1.02-.2 1.41-.59l7.78-7.78 2.81-2.81c.8-.78.8-2.07 0-2.86zM5.41 20L4 18.59l7.72-7.72 1.47 1.35L5.41 20z\"/>\n",
              "  </svg>\n",
              "      </button>\n",
              "      \n",
              "  <style>\n",
              "    .colab-df-container {\n",
              "      display:flex;\n",
              "      flex-wrap:wrap;\n",
              "      gap: 12px;\n",
              "    }\n",
              "\n",
              "    .colab-df-convert {\n",
              "      background-color: #E8F0FE;\n",
              "      border: none;\n",
              "      border-radius: 50%;\n",
              "      cursor: pointer;\n",
              "      display: none;\n",
              "      fill: #1967D2;\n",
              "      height: 32px;\n",
              "      padding: 0 0 0 0;\n",
              "      width: 32px;\n",
              "    }\n",
              "\n",
              "    .colab-df-convert:hover {\n",
              "      background-color: #E2EBFA;\n",
              "      box-shadow: 0px 1px 2px rgba(60, 64, 67, 0.3), 0px 1px 3px 1px rgba(60, 64, 67, 0.15);\n",
              "      fill: #174EA6;\n",
              "    }\n",
              "\n",
              "    [theme=dark] .colab-df-convert {\n",
              "      background-color: #3B4455;\n",
              "      fill: #D2E3FC;\n",
              "    }\n",
              "\n",
              "    [theme=dark] .colab-df-convert:hover {\n",
              "      background-color: #434B5C;\n",
              "      box-shadow: 0px 1px 3px 1px rgba(0, 0, 0, 0.15);\n",
              "      filter: drop-shadow(0px 1px 2px rgba(0, 0, 0, 0.3));\n",
              "      fill: #FFFFFF;\n",
              "    }\n",
              "  </style>\n",
              "\n",
              "      <script>\n",
              "        const buttonEl =\n",
              "          document.querySelector('#df-088acc87-9be6-44b8-b941-3a2a36f87aa1 button.colab-df-convert');\n",
              "        buttonEl.style.display =\n",
              "          google.colab.kernel.accessAllowed ? 'block' : 'none';\n",
              "\n",
              "        async function convertToInteractive(key) {\n",
              "          const element = document.querySelector('#df-088acc87-9be6-44b8-b941-3a2a36f87aa1');\n",
              "          const dataTable =\n",
              "            await google.colab.kernel.invokeFunction('convertToInteractive',\n",
              "                                                     [key], {});\n",
              "          if (!dataTable) return;\n",
              "\n",
              "          const docLinkHtml = 'Like what you see? Visit the ' +\n",
              "            '<a target=\"_blank\" href=https://colab.research.google.com/notebooks/data_table.ipynb>data table notebook</a>'\n",
              "            + ' to learn more about interactive tables.';\n",
              "          element.innerHTML = '';\n",
              "          dataTable['output_type'] = 'display_data';\n",
              "          await google.colab.output.renderOutput(dataTable, element);\n",
              "          const docLink = document.createElement('div');\n",
              "          docLink.innerHTML = docLinkHtml;\n",
              "          element.appendChild(docLink);\n",
              "        }\n",
              "      </script>\n",
              "    </div>\n",
              "  </div>\n",
              "  "
            ]
          },
          "metadata": {},
          "execution_count": 11
        }
      ],
      "source": [
        "df_carton = pd.read_csv('/content/drive/MyDrive/Colab Notebooks/portfolio/project/1_hackathon_pack/carton.csv')\n",
        "df_carton.head()"
      ]
    },
    {
      "cell_type": "markdown",
      "metadata": {
        "id": "i5QNoQrhtQ55"
      },
      "source": [
        "Загружены 5 датасетов \n",
        "- df_data — Информация по заказам и товарам (sku), которые в них содержатся\n",
        "- df_sku - Выгрузка id товаров и их размеров\n",
        "- df_sku_cargotypes - Выгрузка id товаров и их карготипов\n",
        "- df_cargotype - Таблица с идентификаторами карготипов и их описаниями\n",
        "- df_carton - Таблица с идентификаторами и линейными размерами упаковок"
      ]
    },
    {
      "cell_type": "markdown",
      "source": [
        "Очевидно, что таблицы связаны между собой через данные столбцов. Для экономии ресурсов и удобной предобработки объеденим 4 датасета по схеме\n",
        "\n",
        "- data.csv + sku.csv + sku_cargotypes.csv (**left**, по столбцу **sku**)\n",
        "- df (новая таблица) + df_cargotype (**left**, по столбцу **cargotype**)\n",
        "\n",
        "Таблицу df_carton пока оставим в стороне как справочную."
      ],
      "metadata": {
        "id": "K3RR9AaCe2_g"
      }
    },
    {
      "cell_type": "code",
      "execution_count": 12,
      "metadata": {
        "id": "4O_HNbKytQ55"
      },
      "outputs": [],
      "source": [
        "df = df_data.merge(df_sku, 'left', on = 'sku').merge(df_sku_cargotypes, 'left', on = 'sku').merge(df_cargotype, 'left', on = 'cargotype')"
      ]
    },
    {
      "cell_type": "markdown",
      "metadata": {
        "id": "whPQC9ZstQ56"
      },
      "source": [
        "### Исследовательский анализ данных"
      ]
    },
    {
      "cell_type": "markdown",
      "metadata": {
        "id": "7LHbBU1htQ56"
      },
      "source": [
        "#### Общая информация"
      ]
    },
    {
      "cell_type": "code",
      "execution_count": 13,
      "metadata": {
        "id": "KkwfwEN2tQ56",
        "colab": {
          "base_uri": "https://localhost:8080/"
        },
        "outputId": "2a233447-53dd-4a42-f0fa-f71029ac2688"
      },
      "outputs": [
        {
          "output_type": "execute_result",
          "data": {
            "text/plain": [
              "(1470178, 23)"
            ]
          },
          "metadata": {},
          "execution_count": 13
        }
      ],
      "source": [
        "df.shape"
      ]
    },
    {
      "cell_type": "markdown",
      "metadata": {
        "id": "5_DMPa2DtQ6I"
      },
      "source": [
        "Датасет состоит из 23 столбцов и 1470178 строк\n"
      ]
    },
    {
      "cell_type": "code",
      "execution_count": 14,
      "metadata": {
        "id": "PoRLRez7tQ6J",
        "colab": {
          "base_uri": "https://localhost:8080/"
        },
        "outputId": "811acf1c-c9c2-4fbf-9f13-216c672df97b"
      },
      "outputs": [
        {
          "output_type": "stream",
          "name": "stdout",
          "text": [
            "<class 'pandas.core.frame.DataFrame'>\n",
            "Int64Index: 1470178 entries, 0 to 1470177\n",
            "Data columns (total 23 columns):\n",
            " #   Column                  Non-Null Count    Dtype  \n",
            "---  ------                  --------------    -----  \n",
            " 0   Unnamed: 0_x            1470178 non-null  int64  \n",
            " 1   whs                     1470178 non-null  int64  \n",
            " 2   orderkey                1470178 non-null  object \n",
            " 3   selected_cartontype     1470178 non-null  object \n",
            " 4   box_num                 1470178 non-null  int64  \n",
            " 5   recommended_cartontype  1470178 non-null  object \n",
            " 6   selected_carton         1470178 non-null  object \n",
            " 7   sel_calc_cube           1470178 non-null  int64  \n",
            " 8   recommended_carton      1470178 non-null  object \n",
            " 9   pack_volume             1470178 non-null  int64  \n",
            " 10  rec_calc_cube           1470178 non-null  int64  \n",
            " 11  goods_wght              1470178 non-null  float64\n",
            " 12  sku                     1470178 non-null  object \n",
            " 13  who                     1470178 non-null  object \n",
            " 14  trackingid              1470178 non-null  object \n",
            " 15  Unnamed: 0_y            1456746 non-null  float64\n",
            " 16  a                       1456746 non-null  float64\n",
            " 17  b                       1456746 non-null  float64\n",
            " 18  c                       1456746 non-null  float64\n",
            " 19  Unnamed: 0_x            1459996 non-null  float64\n",
            " 20  cargotype               1459996 non-null  float64\n",
            " 21  Unnamed: 0_y            1448153 non-null  float64\n",
            " 22  description             1448153 non-null  object \n",
            "dtypes: float64(8), int64(6), object(9)\n",
            "memory usage: 269.2+ MB\n"
          ]
        }
      ],
      "source": [
        "df.info()"
      ]
    },
    {
      "cell_type": "markdown",
      "metadata": {
        "id": "6ytzIiFhtQ6J"
      },
      "source": [
        "В датасете тип  данных float64, int64, object. Различное количесто объектов - нужно проверить наличие пропусков."
      ]
    },
    {
      "cell_type": "markdown",
      "metadata": {
        "id": "DrMOf0MmtQ6J"
      },
      "source": [
        "**************"
      ]
    },
    {
      "cell_type": "markdown",
      "metadata": {
        "id": "ESkL-hw1tQ6J"
      },
      "source": [
        "#### Пропуски"
      ]
    },
    {
      "cell_type": "code",
      "source": [
        "df.isna().sum()"
      ],
      "metadata": {
        "id": "oLuZ4Hq78c5r",
        "colab": {
          "base_uri": "https://localhost:8080/"
        },
        "outputId": "910c436c-1da3-4084-87df-0a5529eb873d"
      },
      "execution_count": 15,
      "outputs": [
        {
          "output_type": "execute_result",
          "data": {
            "text/plain": [
              "Unnamed: 0_x                  0\n",
              "whs                           0\n",
              "orderkey                      0\n",
              "selected_cartontype           0\n",
              "box_num                       0\n",
              "recommended_cartontype        0\n",
              "selected_carton               0\n",
              "sel_calc_cube                 0\n",
              "recommended_carton            0\n",
              "pack_volume                   0\n",
              "rec_calc_cube                 0\n",
              "goods_wght                    0\n",
              "sku                           0\n",
              "who                           0\n",
              "trackingid                    0\n",
              "Unnamed: 0_y              13432\n",
              "a                         13432\n",
              "b                         13432\n",
              "c                         13432\n",
              "Unnamed: 0_x              10182\n",
              "cargotype                 10182\n",
              "Unnamed: 0_y              22025\n",
              "description               22025\n",
              "dtype: int64"
            ]
          },
          "metadata": {},
          "execution_count": 15
        }
      ]
    },
    {
      "cell_type": "code",
      "source": [
        "23398/len(df)*100"
      ],
      "metadata": {
        "id": "vDNGYcHkCZE7",
        "colab": {
          "base_uri": "https://localhost:8080/"
        },
        "outputId": "edde07ea-d6d2-4f39-a2e7-66290bc396c9"
      },
      "execution_count": 16,
      "outputs": [
        {
          "output_type": "execute_result",
          "data": {
            "text/plain": [
              "1.5915079670624919"
            ]
          },
          "metadata": {},
          "execution_count": 16
        }
      ]
    },
    {
      "cell_type": "markdown",
      "source": [
        "Пропусков 1.6% - некритично, удаляем"
      ],
      "metadata": {
        "id": "JT1qvKDICUQw"
      }
    },
    {
      "cell_type": "code",
      "source": [
        "df = df.dropna()"
      ],
      "metadata": {
        "id": "iG5sXQvq6DZk"
      },
      "execution_count": 17,
      "outputs": []
    },
    {
      "cell_type": "code",
      "source": [
        "df.isna().sum()"
      ],
      "metadata": {
        "id": "fdPT9GnjAwaa",
        "colab": {
          "base_uri": "https://localhost:8080/"
        },
        "outputId": "833ac9d7-3fe4-4a1a-f8bb-ff9547389c1b"
      },
      "execution_count": 18,
      "outputs": [
        {
          "output_type": "execute_result",
          "data": {
            "text/plain": [
              "Unnamed: 0_x              0\n",
              "whs                       0\n",
              "orderkey                  0\n",
              "selected_cartontype       0\n",
              "box_num                   0\n",
              "recommended_cartontype    0\n",
              "selected_carton           0\n",
              "sel_calc_cube             0\n",
              "recommended_carton        0\n",
              "pack_volume               0\n",
              "rec_calc_cube             0\n",
              "goods_wght                0\n",
              "sku                       0\n",
              "who                       0\n",
              "trackingid                0\n",
              "Unnamed: 0_y              0\n",
              "a                         0\n",
              "b                         0\n",
              "c                         0\n",
              "Unnamed: 0_x              0\n",
              "cargotype                 0\n",
              "Unnamed: 0_y              0\n",
              "description               0\n",
              "dtype: int64"
            ]
          },
          "metadata": {},
          "execution_count": 18
        }
      ]
    },
    {
      "cell_type": "code",
      "source": [
        "len(df)"
      ],
      "metadata": {
        "id": "wQVmuucGAf4h",
        "colab": {
          "base_uri": "https://localhost:8080/"
        },
        "outputId": "014b81ec-c94c-424a-dadd-bd91a02ed58a"
      },
      "execution_count": 19,
      "outputs": [
        {
          "output_type": "execute_result",
          "data": {
            "text/plain": [
              "1444690"
            ]
          },
          "metadata": {},
          "execution_count": 19
        }
      ]
    },
    {
      "cell_type": "markdown",
      "metadata": {
        "id": "6-n44vDntQ6N"
      },
      "source": [
        "**************"
      ]
    },
    {
      "cell_type": "markdown",
      "metadata": {
        "id": "uOUyQv3ttQ6N"
      },
      "source": [
        "#### Дубликаты"
      ]
    },
    {
      "cell_type": "code",
      "execution_count": 20,
      "metadata": {
        "id": "cmBNoQZUtQ6I",
        "colab": {
          "base_uri": "https://localhost:8080/"
        },
        "outputId": "e0642c94-649c-41f9-ac68-158000d3b817"
      },
      "outputs": [
        {
          "output_type": "execute_result",
          "data": {
            "text/plain": [
              "Unnamed: 0_x              314614\n",
              "whs                            8\n",
              "orderkey                  151914\n",
              "selected_cartontype           17\n",
              "box_num                      235\n",
              "recommended_cartontype        22\n",
              "selected_carton               17\n",
              "sel_calc_cube                 38\n",
              "recommended_carton            22\n",
              "pack_volume                 9484\n",
              "rec_calc_cube                 45\n",
              "goods_wght                  3794\n",
              "sku                        80552\n",
              "who                          393\n",
              "trackingid                161755\n",
              "Unnamed: 0_y               80552\n",
              "a                            981\n",
              "b                            690\n",
              "c                            816\n",
              "Unnamed: 0_x              330538\n",
              "cargotype                     78\n",
              "Unnamed: 0_y                  78\n",
              "description                   78\n",
              "dtype: int64"
            ]
          },
          "metadata": {},
          "execution_count": 20
        }
      ],
      "source": [
        "df.nunique()"
      ]
    },
    {
      "cell_type": "markdown",
      "source": [
        "Количество уникальных значений в каждом столбце значительно меньше количества строк - значения много раз повторяются. Следует проверить на дубликаты."
      ],
      "metadata": {
        "id": "2nYNpjzZ4e-1"
      }
    },
    {
      "cell_type": "code",
      "source": [
        "df.duplicated().sum()"
      ],
      "metadata": {
        "id": "KwTY31_z1sWc",
        "colab": {
          "base_uri": "https://localhost:8080/"
        },
        "outputId": "ee606ec4-f94b-4a2f-8aaa-ad08f290f484"
      },
      "execution_count": 21,
      "outputs": [
        {
          "output_type": "execute_result",
          "data": {
            "text/plain": [
              "0"
            ]
          },
          "metadata": {},
          "execution_count": 21
        }
      ]
    },
    {
      "cell_type": "markdown",
      "metadata": {
        "id": "DLMFs7_ttQ6O"
      },
      "source": [
        "Удалим лишние столбцы (в т.ч. рекомендуемые - их мы в обучении использовать не будем), которые содержат уникальную, но ненужную для обучения моделей информацию и проведем проверку дубликатов повторно."
      ]
    },
    {
      "cell_type": "code",
      "source": [
        "df.drop(['Unnamed: 0_x', 'whs', 'orderkey', 'recommended_cartontype', 'selected_carton', 'recommended_carton', 'who', \n",
        "'trackingid', 'rec_calc_cube', 'sku', 'Unnamed: 0_y', 'Unnamed: 0_x', 'Unnamed: 0_y'], axis= 1 , inplace= True)"
      ],
      "metadata": {
        "id": "QxABojfLKuXu"
      },
      "execution_count": 22,
      "outputs": []
    },
    {
      "cell_type": "code",
      "source": [
        "df.duplicated().sum()"
      ],
      "metadata": {
        "id": "KTxwr-aUCR5Q",
        "colab": {
          "base_uri": "https://localhost:8080/"
        },
        "outputId": "c484acb3-7075-4c97-972e-77f505eec341"
      },
      "execution_count": 23,
      "outputs": [
        {
          "output_type": "execute_result",
          "data": {
            "text/plain": [
              "843803"
            ]
          },
          "metadata": {},
          "execution_count": 23
        }
      ]
    },
    {
      "cell_type": "code",
      "source": [
        "df.duplicated().sum()/len(df)*100"
      ],
      "metadata": {
        "id": "hsZBftKYSKJK",
        "colab": {
          "base_uri": "https://localhost:8080/"
        },
        "outputId": "d9c53e2a-102c-4b43-b5eb-44a549c67ce0"
      },
      "execution_count": 24,
      "outputs": [
        {
          "output_type": "execute_result",
          "data": {
            "text/plain": [
              "58.407201544968125"
            ]
          },
          "metadata": {},
          "execution_count": 24
        }
      ]
    },
    {
      "cell_type": "markdown",
      "source": [
        "Дубликатов 58,4% в объединенной таблице. Большое количесво объясняется добавлением строк во время объединения и дублированием части данных."
      ],
      "metadata": {
        "id": "6htdBrkYIJhb"
      }
    },
    {
      "cell_type": "code",
      "source": [
        "df = df.drop_duplicates()"
      ],
      "metadata": {
        "id": "WxOJhNToS5sp"
      },
      "execution_count": 25,
      "outputs": []
    },
    {
      "cell_type": "code",
      "source": [
        "df.duplicated().sum()"
      ],
      "metadata": {
        "id": "8NuUlX6DSRWb",
        "colab": {
          "base_uri": "https://localhost:8080/"
        },
        "outputId": "935e2d4d-65ca-4868-8c03-0047461e0421"
      },
      "execution_count": 26,
      "outputs": [
        {
          "output_type": "execute_result",
          "data": {
            "text/plain": [
              "0"
            ]
          },
          "metadata": {},
          "execution_count": 26
        }
      ]
    },
    {
      "cell_type": "code",
      "source": [
        "len(df)"
      ],
      "metadata": {
        "id": "923t8fAlBGij",
        "colab": {
          "base_uri": "https://localhost:8080/"
        },
        "outputId": "2b6f28c4-bab6-4ee9-b0fb-c5669a2aa5b9"
      },
      "execution_count": 71,
      "outputs": [
        {
          "output_type": "execute_result",
          "data": {
            "text/plain": [
              "574992"
            ]
          },
          "metadata": {},
          "execution_count": 71
        }
      ]
    },
    {
      "cell_type": "markdown",
      "source": [
        "После удаления дубликатов и пропусков в таблице осталось 600887 строк"
      ],
      "metadata": {
        "id": "8B-MifBNBIlw"
      }
    },
    {
      "cell_type": "markdown",
      "metadata": {
        "id": "1Fk0NeR8tQ6O"
      },
      "source": [
        "**************"
      ]
    },
    {
      "cell_type": "markdown",
      "metadata": {
        "id": "4hmdFHy_tQ6O"
      },
      "source": [
        "#### Распределение непрерывных признаков, аномалии, выбросы"
      ]
    },
    {
      "cell_type": "code",
      "source": [
        "df.head()"
      ],
      "metadata": {
        "id": "9qHZtp-NTHpY",
        "colab": {
          "base_uri": "https://localhost:8080/",
          "height": 206
        },
        "outputId": "0ff22d07-db58-4db9-b7fc-8ea63ff76ad6"
      },
      "execution_count": 28,
      "outputs": [
        {
          "output_type": "execute_result",
          "data": {
            "text/plain": [
              "  selected_cartontype  box_num  sel_calc_cube  pack_volume  goods_wght     a  \\\n",
              "0             NONPACK        1              0         2046        0.10 11.00   \n",
              "1             NONPACK        1              0         2046        0.10 11.00   \n",
              "2             NONPACK        1              0         2046        0.10 11.00   \n",
              "3             NONPACK        1              0         2046        0.10 11.00   \n",
              "4             NONPACK        1              0         2046        0.10 11.00   \n",
              "\n",
              "     b     c  cargotype                       description  \n",
              "0 6.00 31.00     290.00  Склад МГТ (малогабаритный товар)  \n",
              "1 6.00 31.00     600.00         одежда, обувь, аксессуары  \n",
              "2 6.00 31.00     610.00                    обувь взрослая  \n",
              "3 6.00 31.00     950.00                         пачкается  \n",
              "4 6.00 31.00     970.00                   впитывает запах  "
            ],
            "text/html": [
              "\n",
              "  <div id=\"df-02159242-5ffb-489e-bb1d-502479d1a34d\">\n",
              "    <div class=\"colab-df-container\">\n",
              "      <div>\n",
              "<style scoped>\n",
              "    .dataframe tbody tr th:only-of-type {\n",
              "        vertical-align: middle;\n",
              "    }\n",
              "\n",
              "    .dataframe tbody tr th {\n",
              "        vertical-align: top;\n",
              "    }\n",
              "\n",
              "    .dataframe thead th {\n",
              "        text-align: right;\n",
              "    }\n",
              "</style>\n",
              "<table border=\"1\" class=\"dataframe\">\n",
              "  <thead>\n",
              "    <tr style=\"text-align: right;\">\n",
              "      <th></th>\n",
              "      <th>selected_cartontype</th>\n",
              "      <th>box_num</th>\n",
              "      <th>sel_calc_cube</th>\n",
              "      <th>pack_volume</th>\n",
              "      <th>goods_wght</th>\n",
              "      <th>a</th>\n",
              "      <th>b</th>\n",
              "      <th>c</th>\n",
              "      <th>cargotype</th>\n",
              "      <th>description</th>\n",
              "    </tr>\n",
              "  </thead>\n",
              "  <tbody>\n",
              "    <tr>\n",
              "      <th>0</th>\n",
              "      <td>NONPACK</td>\n",
              "      <td>1</td>\n",
              "      <td>0</td>\n",
              "      <td>2046</td>\n",
              "      <td>0.10</td>\n",
              "      <td>11.00</td>\n",
              "      <td>6.00</td>\n",
              "      <td>31.00</td>\n",
              "      <td>290.00</td>\n",
              "      <td>Склад МГТ (малогабаритный товар)</td>\n",
              "    </tr>\n",
              "    <tr>\n",
              "      <th>1</th>\n",
              "      <td>NONPACK</td>\n",
              "      <td>1</td>\n",
              "      <td>0</td>\n",
              "      <td>2046</td>\n",
              "      <td>0.10</td>\n",
              "      <td>11.00</td>\n",
              "      <td>6.00</td>\n",
              "      <td>31.00</td>\n",
              "      <td>600.00</td>\n",
              "      <td>одежда, обувь, аксессуары</td>\n",
              "    </tr>\n",
              "    <tr>\n",
              "      <th>2</th>\n",
              "      <td>NONPACK</td>\n",
              "      <td>1</td>\n",
              "      <td>0</td>\n",
              "      <td>2046</td>\n",
              "      <td>0.10</td>\n",
              "      <td>11.00</td>\n",
              "      <td>6.00</td>\n",
              "      <td>31.00</td>\n",
              "      <td>610.00</td>\n",
              "      <td>обувь взрослая</td>\n",
              "    </tr>\n",
              "    <tr>\n",
              "      <th>3</th>\n",
              "      <td>NONPACK</td>\n",
              "      <td>1</td>\n",
              "      <td>0</td>\n",
              "      <td>2046</td>\n",
              "      <td>0.10</td>\n",
              "      <td>11.00</td>\n",
              "      <td>6.00</td>\n",
              "      <td>31.00</td>\n",
              "      <td>950.00</td>\n",
              "      <td>пачкается</td>\n",
              "    </tr>\n",
              "    <tr>\n",
              "      <th>4</th>\n",
              "      <td>NONPACK</td>\n",
              "      <td>1</td>\n",
              "      <td>0</td>\n",
              "      <td>2046</td>\n",
              "      <td>0.10</td>\n",
              "      <td>11.00</td>\n",
              "      <td>6.00</td>\n",
              "      <td>31.00</td>\n",
              "      <td>970.00</td>\n",
              "      <td>впитывает запах</td>\n",
              "    </tr>\n",
              "  </tbody>\n",
              "</table>\n",
              "</div>\n",
              "      <button class=\"colab-df-convert\" onclick=\"convertToInteractive('df-02159242-5ffb-489e-bb1d-502479d1a34d')\"\n",
              "              title=\"Convert this dataframe to an interactive table.\"\n",
              "              style=\"display:none;\">\n",
              "        \n",
              "  <svg xmlns=\"http://www.w3.org/2000/svg\" height=\"24px\"viewBox=\"0 0 24 24\"\n",
              "       width=\"24px\">\n",
              "    <path d=\"M0 0h24v24H0V0z\" fill=\"none\"/>\n",
              "    <path d=\"M18.56 5.44l.94 2.06.94-2.06 2.06-.94-2.06-.94-.94-2.06-.94 2.06-2.06.94zm-11 1L8.5 8.5l.94-2.06 2.06-.94-2.06-.94L8.5 2.5l-.94 2.06-2.06.94zm10 10l.94 2.06.94-2.06 2.06-.94-2.06-.94-.94-2.06-.94 2.06-2.06.94z\"/><path d=\"M17.41 7.96l-1.37-1.37c-.4-.4-.92-.59-1.43-.59-.52 0-1.04.2-1.43.59L10.3 9.45l-7.72 7.72c-.78.78-.78 2.05 0 2.83L4 21.41c.39.39.9.59 1.41.59.51 0 1.02-.2 1.41-.59l7.78-7.78 2.81-2.81c.8-.78.8-2.07 0-2.86zM5.41 20L4 18.59l7.72-7.72 1.47 1.35L5.41 20z\"/>\n",
              "  </svg>\n",
              "      </button>\n",
              "      \n",
              "  <style>\n",
              "    .colab-df-container {\n",
              "      display:flex;\n",
              "      flex-wrap:wrap;\n",
              "      gap: 12px;\n",
              "    }\n",
              "\n",
              "    .colab-df-convert {\n",
              "      background-color: #E8F0FE;\n",
              "      border: none;\n",
              "      border-radius: 50%;\n",
              "      cursor: pointer;\n",
              "      display: none;\n",
              "      fill: #1967D2;\n",
              "      height: 32px;\n",
              "      padding: 0 0 0 0;\n",
              "      width: 32px;\n",
              "    }\n",
              "\n",
              "    .colab-df-convert:hover {\n",
              "      background-color: #E2EBFA;\n",
              "      box-shadow: 0px 1px 2px rgba(60, 64, 67, 0.3), 0px 1px 3px 1px rgba(60, 64, 67, 0.15);\n",
              "      fill: #174EA6;\n",
              "    }\n",
              "\n",
              "    [theme=dark] .colab-df-convert {\n",
              "      background-color: #3B4455;\n",
              "      fill: #D2E3FC;\n",
              "    }\n",
              "\n",
              "    [theme=dark] .colab-df-convert:hover {\n",
              "      background-color: #434B5C;\n",
              "      box-shadow: 0px 1px 3px 1px rgba(0, 0, 0, 0.15);\n",
              "      filter: drop-shadow(0px 1px 2px rgba(0, 0, 0, 0.3));\n",
              "      fill: #FFFFFF;\n",
              "    }\n",
              "  </style>\n",
              "\n",
              "      <script>\n",
              "        const buttonEl =\n",
              "          document.querySelector('#df-02159242-5ffb-489e-bb1d-502479d1a34d button.colab-df-convert');\n",
              "        buttonEl.style.display =\n",
              "          google.colab.kernel.accessAllowed ? 'block' : 'none';\n",
              "\n",
              "        async function convertToInteractive(key) {\n",
              "          const element = document.querySelector('#df-02159242-5ffb-489e-bb1d-502479d1a34d');\n",
              "          const dataTable =\n",
              "            await google.colab.kernel.invokeFunction('convertToInteractive',\n",
              "                                                     [key], {});\n",
              "          if (!dataTable) return;\n",
              "\n",
              "          const docLinkHtml = 'Like what you see? Visit the ' +\n",
              "            '<a target=\"_blank\" href=https://colab.research.google.com/notebooks/data_table.ipynb>data table notebook</a>'\n",
              "            + ' to learn more about interactive tables.';\n",
              "          element.innerHTML = '';\n",
              "          dataTable['output_type'] = 'display_data';\n",
              "          await google.colab.output.renderOutput(dataTable, element);\n",
              "          const docLink = document.createElement('div');\n",
              "          docLink.innerHTML = docLinkHtml;\n",
              "          element.appendChild(docLink);\n",
              "        }\n",
              "      </script>\n",
              "    </div>\n",
              "  </div>\n",
              "  "
            ]
          },
          "metadata": {},
          "execution_count": 28
        }
      ]
    },
    {
      "cell_type": "code",
      "source": [
        "df.columns"
      ],
      "metadata": {
        "id": "ciMqd7r31ONB",
        "colab": {
          "base_uri": "https://localhost:8080/"
        },
        "outputId": "bfcd22a9-c7b4-44c2-c391-9abd51fe656f"
      },
      "execution_count": 29,
      "outputs": [
        {
          "output_type": "execute_result",
          "data": {
            "text/plain": [
              "Index(['selected_cartontype', 'box_num', 'sel_calc_cube', 'pack_volume',\n",
              "       'goods_wght', 'a', 'b', 'c', 'cargotype', 'description'],\n",
              "      dtype='object')"
            ]
          },
          "metadata": {},
          "execution_count": 29
        }
      ]
    },
    {
      "cell_type": "code",
      "source": [
        "df[['sel_calc_cube', 'pack_volume',\n",
        "       'goods_wght', 'a', 'b', 'c']].describe()"
      ],
      "metadata": {
        "id": "MT9mOHJwdhxP",
        "colab": {
          "base_uri": "https://localhost:8080/",
          "height": 300
        },
        "outputId": "4ba85ef4-ba57-4086-b7e5-c4df7b1260ac"
      },
      "execution_count": 31,
      "outputs": [
        {
          "output_type": "execute_result",
          "data": {
            "text/plain": [
              "       sel_calc_cube  pack_volume  goods_wght         a         b         c\n",
              "count      600887.00    600887.00   600887.00 600887.00 600887.00 600887.00\n",
              "mean        10489.76      4557.92        1.08     17.75     12.66     14.22\n",
              "std         12058.98     17404.20        2.76     17.47     10.26     10.98\n",
              "min             0.00         0.00        0.00      0.10      0.01      0.10\n",
              "25%          3449.00       500.00        0.13      8.00      5.00      7.00\n",
              "50%          8436.00      1225.00        0.35     13.30     10.00     11.00\n",
              "75%         15579.00      3510.00        0.92     22.00     18.00     18.80\n",
              "max        108000.00   1815450.00       88.00    257.00    240.00    200.00"
            ],
            "text/html": [
              "\n",
              "  <div id=\"df-0064c0e5-a8d3-4f84-9887-56388d71bca9\">\n",
              "    <div class=\"colab-df-container\">\n",
              "      <div>\n",
              "<style scoped>\n",
              "    .dataframe tbody tr th:only-of-type {\n",
              "        vertical-align: middle;\n",
              "    }\n",
              "\n",
              "    .dataframe tbody tr th {\n",
              "        vertical-align: top;\n",
              "    }\n",
              "\n",
              "    .dataframe thead th {\n",
              "        text-align: right;\n",
              "    }\n",
              "</style>\n",
              "<table border=\"1\" class=\"dataframe\">\n",
              "  <thead>\n",
              "    <tr style=\"text-align: right;\">\n",
              "      <th></th>\n",
              "      <th>sel_calc_cube</th>\n",
              "      <th>pack_volume</th>\n",
              "      <th>goods_wght</th>\n",
              "      <th>a</th>\n",
              "      <th>b</th>\n",
              "      <th>c</th>\n",
              "    </tr>\n",
              "  </thead>\n",
              "  <tbody>\n",
              "    <tr>\n",
              "      <th>count</th>\n",
              "      <td>600887.00</td>\n",
              "      <td>600887.00</td>\n",
              "      <td>600887.00</td>\n",
              "      <td>600887.00</td>\n",
              "      <td>600887.00</td>\n",
              "      <td>600887.00</td>\n",
              "    </tr>\n",
              "    <tr>\n",
              "      <th>mean</th>\n",
              "      <td>10489.76</td>\n",
              "      <td>4557.92</td>\n",
              "      <td>1.08</td>\n",
              "      <td>17.75</td>\n",
              "      <td>12.66</td>\n",
              "      <td>14.22</td>\n",
              "    </tr>\n",
              "    <tr>\n",
              "      <th>std</th>\n",
              "      <td>12058.98</td>\n",
              "      <td>17404.20</td>\n",
              "      <td>2.76</td>\n",
              "      <td>17.47</td>\n",
              "      <td>10.26</td>\n",
              "      <td>10.98</td>\n",
              "    </tr>\n",
              "    <tr>\n",
              "      <th>min</th>\n",
              "      <td>0.00</td>\n",
              "      <td>0.00</td>\n",
              "      <td>0.00</td>\n",
              "      <td>0.10</td>\n",
              "      <td>0.01</td>\n",
              "      <td>0.10</td>\n",
              "    </tr>\n",
              "    <tr>\n",
              "      <th>25%</th>\n",
              "      <td>3449.00</td>\n",
              "      <td>500.00</td>\n",
              "      <td>0.13</td>\n",
              "      <td>8.00</td>\n",
              "      <td>5.00</td>\n",
              "      <td>7.00</td>\n",
              "    </tr>\n",
              "    <tr>\n",
              "      <th>50%</th>\n",
              "      <td>8436.00</td>\n",
              "      <td>1225.00</td>\n",
              "      <td>0.35</td>\n",
              "      <td>13.30</td>\n",
              "      <td>10.00</td>\n",
              "      <td>11.00</td>\n",
              "    </tr>\n",
              "    <tr>\n",
              "      <th>75%</th>\n",
              "      <td>15579.00</td>\n",
              "      <td>3510.00</td>\n",
              "      <td>0.92</td>\n",
              "      <td>22.00</td>\n",
              "      <td>18.00</td>\n",
              "      <td>18.80</td>\n",
              "    </tr>\n",
              "    <tr>\n",
              "      <th>max</th>\n",
              "      <td>108000.00</td>\n",
              "      <td>1815450.00</td>\n",
              "      <td>88.00</td>\n",
              "      <td>257.00</td>\n",
              "      <td>240.00</td>\n",
              "      <td>200.00</td>\n",
              "    </tr>\n",
              "  </tbody>\n",
              "</table>\n",
              "</div>\n",
              "      <button class=\"colab-df-convert\" onclick=\"convertToInteractive('df-0064c0e5-a8d3-4f84-9887-56388d71bca9')\"\n",
              "              title=\"Convert this dataframe to an interactive table.\"\n",
              "              style=\"display:none;\">\n",
              "        \n",
              "  <svg xmlns=\"http://www.w3.org/2000/svg\" height=\"24px\"viewBox=\"0 0 24 24\"\n",
              "       width=\"24px\">\n",
              "    <path d=\"M0 0h24v24H0V0z\" fill=\"none\"/>\n",
              "    <path d=\"M18.56 5.44l.94 2.06.94-2.06 2.06-.94-2.06-.94-.94-2.06-.94 2.06-2.06.94zm-11 1L8.5 8.5l.94-2.06 2.06-.94-2.06-.94L8.5 2.5l-.94 2.06-2.06.94zm10 10l.94 2.06.94-2.06 2.06-.94-2.06-.94-.94-2.06-.94 2.06-2.06.94z\"/><path d=\"M17.41 7.96l-1.37-1.37c-.4-.4-.92-.59-1.43-.59-.52 0-1.04.2-1.43.59L10.3 9.45l-7.72 7.72c-.78.78-.78 2.05 0 2.83L4 21.41c.39.39.9.59 1.41.59.51 0 1.02-.2 1.41-.59l7.78-7.78 2.81-2.81c.8-.78.8-2.07 0-2.86zM5.41 20L4 18.59l7.72-7.72 1.47 1.35L5.41 20z\"/>\n",
              "  </svg>\n",
              "      </button>\n",
              "      \n",
              "  <style>\n",
              "    .colab-df-container {\n",
              "      display:flex;\n",
              "      flex-wrap:wrap;\n",
              "      gap: 12px;\n",
              "    }\n",
              "\n",
              "    .colab-df-convert {\n",
              "      background-color: #E8F0FE;\n",
              "      border: none;\n",
              "      border-radius: 50%;\n",
              "      cursor: pointer;\n",
              "      display: none;\n",
              "      fill: #1967D2;\n",
              "      height: 32px;\n",
              "      padding: 0 0 0 0;\n",
              "      width: 32px;\n",
              "    }\n",
              "\n",
              "    .colab-df-convert:hover {\n",
              "      background-color: #E2EBFA;\n",
              "      box-shadow: 0px 1px 2px rgba(60, 64, 67, 0.3), 0px 1px 3px 1px rgba(60, 64, 67, 0.15);\n",
              "      fill: #174EA6;\n",
              "    }\n",
              "\n",
              "    [theme=dark] .colab-df-convert {\n",
              "      background-color: #3B4455;\n",
              "      fill: #D2E3FC;\n",
              "    }\n",
              "\n",
              "    [theme=dark] .colab-df-convert:hover {\n",
              "      background-color: #434B5C;\n",
              "      box-shadow: 0px 1px 3px 1px rgba(0, 0, 0, 0.15);\n",
              "      filter: drop-shadow(0px 1px 2px rgba(0, 0, 0, 0.3));\n",
              "      fill: #FFFFFF;\n",
              "    }\n",
              "  </style>\n",
              "\n",
              "      <script>\n",
              "        const buttonEl =\n",
              "          document.querySelector('#df-0064c0e5-a8d3-4f84-9887-56388d71bca9 button.colab-df-convert');\n",
              "        buttonEl.style.display =\n",
              "          google.colab.kernel.accessAllowed ? 'block' : 'none';\n",
              "\n",
              "        async function convertToInteractive(key) {\n",
              "          const element = document.querySelector('#df-0064c0e5-a8d3-4f84-9887-56388d71bca9');\n",
              "          const dataTable =\n",
              "            await google.colab.kernel.invokeFunction('convertToInteractive',\n",
              "                                                     [key], {});\n",
              "          if (!dataTable) return;\n",
              "\n",
              "          const docLinkHtml = 'Like what you see? Visit the ' +\n",
              "            '<a target=\"_blank\" href=https://colab.research.google.com/notebooks/data_table.ipynb>data table notebook</a>'\n",
              "            + ' to learn more about interactive tables.';\n",
              "          element.innerHTML = '';\n",
              "          dataTable['output_type'] = 'display_data';\n",
              "          await google.colab.output.renderOutput(dataTable, element);\n",
              "          const docLink = document.createElement('div');\n",
              "          docLink.innerHTML = docLinkHtml;\n",
              "          element.appendChild(docLink);\n",
              "        }\n",
              "      </script>\n",
              "    </div>\n",
              "  </div>\n",
              "  "
            ]
          },
          "metadata": {},
          "execution_count": 31
        }
      ]
    },
    {
      "cell_type": "markdown",
      "source": [
        "Аномалии не обнаружены"
      ],
      "metadata": {
        "id": "zZzKDR9khu5C"
      }
    },
    {
      "cell_type": "code",
      "source": [
        "df.boxplot(['sel_calc_cube'], figsize = (16,1), vert=False) \n",
        "plt.suptitle('Распределение объёмов выбранных упаковок', size = 20)"
      ],
      "metadata": {
        "id": "dabhRQmKhJ1P",
        "colab": {
          "base_uri": "https://localhost:8080/",
          "height": 164
        },
        "outputId": "6e7898be-59ca-4f5f-8090-e9a70cc2f7bb"
      },
      "execution_count": 32,
      "outputs": [
        {
          "output_type": "execute_result",
          "data": {
            "text/plain": [
              "Text(0.5, 0.98, 'Распределение объёмов выбранных упаковок')"
            ]
          },
          "metadata": {},
          "execution_count": 32
        },
        {
          "output_type": "display_data",
          "data": {
            "text/plain": [
              "<Figure size 1600x100 with 1 Axes>"
            ],
            "image/png": "[encoded data removed]"
          },
          "metadata": {}
        }
      ]
    },
    {
      "cell_type": "code",
      "source": [
        "df[df['sel_calc_cube']<32000].boxplot(['sel_calc_cube'], figsize = (16,1), vert=False)       \n",
        "plt.suptitle('Распределение объёмов выбранных упаковок', size = 20)"
      ],
      "metadata": {
        "id": "bfGcjgCgivNr",
        "colab": {
          "base_uri": "https://localhost:8080/",
          "height": 164
        },
        "outputId": "4186d244-dba5-47f3-cef3-a9052348d9dc"
      },
      "execution_count": 33,
      "outputs": [
        {
          "output_type": "execute_result",
          "data": {
            "text/plain": [
              "Text(0.5, 0.98, 'Распределение объёмов выбранных упаковок')"
            ]
          },
          "metadata": {},
          "execution_count": 33
        },
        {
          "output_type": "display_data",
          "data": {
            "text/plain": [
              "<Figure size 1600x100 with 1 Axes>"
            ],
            "image/png": "[encoded data removed]"
          },
          "metadata": {}
        }
      ]
    },
    {
      "cell_type": "markdown",
      "source": [
        "В распределении объёмов выбранных упаковок выбросами являются все значения больше 32000"
      ],
      "metadata": {
        "id": "BiAeDycKh0Co"
      }
    },
    {
      "cell_type": "code",
      "source": [
        "df.boxplot(['pack_volume'], figsize = (16,1), vert=False)       \n",
        "plt.suptitle('Распределение рассчитанных объёмов упакованных товаров', size = 20)"
      ],
      "metadata": {
        "id": "biwqHd7FhKJX",
        "colab": {
          "base_uri": "https://localhost:8080/",
          "height": 182
        },
        "outputId": "e58f7346-7b6d-4b54-c867-e6aeec379bad"
      },
      "execution_count": 34,
      "outputs": [
        {
          "output_type": "execute_result",
          "data": {
            "text/plain": [
              "Text(0.5, 0.98, 'Распределение рассчитанных объёмов упакованных товаров')"
            ]
          },
          "metadata": {},
          "execution_count": 34
        },
        {
          "output_type": "display_data",
          "data": {
            "text/plain": [
              "<Figure size 1600x100 with 1 Axes>"
            ],
            "image/png": "[encoded data removed]"
          },
          "metadata": {}
        }
      ]
    },
    {
      "cell_type": "code",
      "source": [
        "df[df['pack_volume']<300000].hist('pack_volume', bins =300, figsize = (16,2))"
      ],
      "metadata": {
        "id": "zQfoG8Ppkg9R",
        "colab": {
          "base_uri": "https://localhost:8080/",
          "height": 254
        },
        "outputId": "599be56d-b99d-4aa9-dc69-9e647087be5a"
      },
      "execution_count": 45,
      "outputs": [
        {
          "output_type": "execute_result",
          "data": {
            "text/plain": [
              "array([[<Axes: title={'center': 'pack_volume'}>]], dtype=object)"
            ]
          },
          "metadata": {},
          "execution_count": 45
        },
        {
          "output_type": "display_data",
          "data": {
            "text/plain": [
              "<Figure size 1600x200 with 1 Axes>"
            ],
            "image/png": "[encoded data removed]"
          },
          "metadata": {}
        }
      ]
    },
    {
      "cell_type": "code",
      "source": [
        "len(df[df['pack_volume']>300000])/len(df)*100"
      ],
      "metadata": {
        "id": "icz5hnzSmXta",
        "colab": {
          "base_uri": "https://localhost:8080/"
        },
        "outputId": "16eae576-e11a-4a80-8f89-3e19fd49d074"
      },
      "execution_count": 36,
      "outputs": [
        {
          "output_type": "execute_result",
          "data": {
            "text/plain": [
              "0.039441692031946106"
            ]
          },
          "metadata": {},
          "execution_count": 36
        }
      ]
    },
    {
      "cell_type": "markdown",
      "source": [
        "В распределении рассчитанных объёмов упакованных товаров выбросы - все значения больше 300000. Это всего 0.04% "
      ],
      "metadata": {
        "id": "Q9fEJxpWmmnx"
      }
    },
    {
      "cell_type": "code",
      "source": [
        "df.boxplot(['a'], figsize = (16,1), vert=False)       \n",
        "plt.suptitle('Распределение размера a', size = 20)"
      ],
      "metadata": {
        "id": "r2GnRZk1hKbQ",
        "colab": {
          "base_uri": "https://localhost:8080/",
          "height": 164
        },
        "outputId": "e278ce50-0415-4a55-981b-00c1d1a84c2d"
      },
      "execution_count": 39,
      "outputs": [
        {
          "output_type": "execute_result",
          "data": {
            "text/plain": [
              "Text(0.5, 0.98, 'Распределение размера a')"
            ]
          },
          "metadata": {},
          "execution_count": 39
        },
        {
          "output_type": "display_data",
          "data": {
            "text/plain": [
              "<Figure size 1600x100 with 1 Axes>"
            ],
            "image/png": "[encoded data removed]"
          },
          "metadata": {}
        }
      ]
    },
    {
      "cell_type": "code",
      "source": [
        "df[df['a']<200].hist('a', bins =200, figsize = (16,2))"
      ],
      "metadata": {
        "id": "z2duWqxapVoV",
        "colab": {
          "base_uri": "https://localhost:8080/",
          "height": 254
        },
        "outputId": "f680a3c3-126e-4ef5-9cf7-da4c40237ff8"
      },
      "execution_count": 48,
      "outputs": [
        {
          "output_type": "execute_result",
          "data": {
            "text/plain": [
              "array([[<Axes: title={'center': 'a'}>]], dtype=object)"
            ]
          },
          "metadata": {},
          "execution_count": 48
        },
        {
          "output_type": "display_data",
          "data": {
            "text/plain": [
              "<Figure size 1600x200 with 1 Axes>"
            ],
            "image/png": "[encoded data removed]"
          },
          "metadata": {}
        }
      ]
    },
    {
      "cell_type": "code",
      "source": [
        "df[df['a']<200].boxplot(['a'], figsize = (16,1), vert=False)       \n",
        "plt.suptitle('Распределение размера a', size = 20)"
      ],
      "metadata": {
        "id": "hhQ5E0z5qzfZ",
        "colab": {
          "base_uri": "https://localhost:8080/",
          "height": 164
        },
        "outputId": "59df0738-de76-4d07-e5d9-79bac89049e8"
      },
      "execution_count": 49,
      "outputs": [
        {
          "output_type": "execute_result",
          "data": {
            "text/plain": [
              "Text(0.5, 0.98, 'Распределение размера a')"
            ]
          },
          "metadata": {},
          "execution_count": 49
        },
        {
          "output_type": "display_data",
          "data": {
            "text/plain": [
              "<Figure size 1600x100 with 1 Axes>"
            ],
            "image/png": "[encoded data removed]"
          },
          "metadata": {}
        }
      ]
    },
    {
      "cell_type": "code",
      "source": [
        "len(df[df['a']>200])/len(df)*100"
      ],
      "metadata": {
        "id": "L89GDCrDp-0l",
        "colab": {
          "base_uri": "https://localhost:8080/"
        },
        "outputId": "d3056c46-6876-4aac-e592-f2ba3c0f92e0"
      },
      "execution_count": 50,
      "outputs": [
        {
          "output_type": "execute_result",
          "data": {
            "text/plain": [
              "0.1534398314491743"
            ]
          },
          "metadata": {},
          "execution_count": 50
        }
      ]
    },
    {
      "cell_type": "markdown",
      "source": [
        "В распределении размерак 'a' выбросы - все значения больше 90. Это всего 0.15%"
      ],
      "metadata": {
        "id": "ul9Z1CXCrJEw"
      }
    },
    {
      "cell_type": "code",
      "source": [
        "df.boxplot(['b'], figsize = (16,1), vert=False)       \n",
        "plt.suptitle('Распределение размера b', size = 20)"
      ],
      "metadata": {
        "id": "DiY8OiWpyE9z",
        "colab": {
          "base_uri": "https://localhost:8080/",
          "height": 164
        },
        "outputId": "3fb0f3ae-b154-44e8-9a74-336012f98d6b"
      },
      "execution_count": 51,
      "outputs": [
        {
          "output_type": "execute_result",
          "data": {
            "text/plain": [
              "Text(0.5, 0.98, 'Распределение размера b')"
            ]
          },
          "metadata": {},
          "execution_count": 51
        },
        {
          "output_type": "display_data",
          "data": {
            "text/plain": [
              "<Figure size 1600x100 with 1 Axes>"
            ],
            "image/png": "[encoded data removed]"
          },
          "metadata": {}
        }
      ]
    },
    {
      "cell_type": "code",
      "source": [
        "df[df['b']<100].hist('b', bins =100, figsize = (16,2))"
      ],
      "metadata": {
        "id": "2bEPwsN3yE9z",
        "colab": {
          "base_uri": "https://localhost:8080/",
          "height": 254
        },
        "outputId": "6dfcfb23-c321-40f2-e2b0-c5ca704ffe88"
      },
      "execution_count": 55,
      "outputs": [
        {
          "output_type": "execute_result",
          "data": {
            "text/plain": [
              "array([[<Axes: title={'center': 'b'}>]], dtype=object)"
            ]
          },
          "metadata": {},
          "execution_count": 55
        },
        {
          "output_type": "display_data",
          "data": {
            "text/plain": [
              "<Figure size 1600x200 with 1 Axes>"
            ],
            "image/png": "[encoded data removed]"
          },
          "metadata": {}
        }
      ]
    },
    {
      "cell_type": "code",
      "source": [
        "df[df['b']<90].boxplot(['b'], figsize = (16,1), vert=False)       \n",
        "plt.suptitle('Распределение размера b', size = 20)"
      ],
      "metadata": {
        "id": "cBeojeSLyE9z",
        "colab": {
          "base_uri": "https://localhost:8080/",
          "height": 164
        },
        "outputId": "3929c239-1c29-473c-e32b-477cb25f1f9c"
      },
      "execution_count": 56,
      "outputs": [
        {
          "output_type": "execute_result",
          "data": {
            "text/plain": [
              "Text(0.5, 0.98, 'Распределение размера b')"
            ]
          },
          "metadata": {},
          "execution_count": 56
        },
        {
          "output_type": "display_data",
          "data": {
            "text/plain": [
              "<Figure size 1600x100 with 1 Axes>"
            ],
            "image/png": "[encoded data removed]"
          },
          "metadata": {}
        }
      ]
    },
    {
      "cell_type": "code",
      "source": [
        "len(df[df['b']>90])/len(df)*100"
      ],
      "metadata": {
        "id": "PwUmKGOOyE90",
        "colab": {
          "base_uri": "https://localhost:8080/"
        },
        "outputId": "64a26312-fbff-46ee-bed4-1b17ecdcd05a"
      },
      "execution_count": 57,
      "outputs": [
        {
          "output_type": "execute_result",
          "data": {
            "text/plain": [
              "0.08104685240319727"
            ]
          },
          "metadata": {},
          "execution_count": 57
        }
      ]
    },
    {
      "cell_type": "markdown",
      "source": [
        "В распределении размерак 'b' выбросы - все значения больше 90. Это всего 0.08% "
      ],
      "metadata": {
        "id": "MZ-IAIRSyE90"
      }
    },
    {
      "cell_type": "code",
      "source": [
        "df.boxplot(['c'], figsize = (16,1), vert=False)       \n",
        "plt.suptitle('Распределение размера c', size = 20)"
      ],
      "metadata": {
        "id": "NsEZnX2AyFlf",
        "colab": {
          "base_uri": "https://localhost:8080/",
          "height": 164
        },
        "outputId": "144ce9d7-5bd4-400d-8475-3427f9d8814c"
      },
      "execution_count": 58,
      "outputs": [
        {
          "output_type": "execute_result",
          "data": {
            "text/plain": [
              "Text(0.5, 0.98, 'Распределение размера c')"
            ]
          },
          "metadata": {},
          "execution_count": 58
        },
        {
          "output_type": "display_data",
          "data": {
            "text/plain": [
              "<Figure size 1600x100 with 1 Axes>"
            ],
            "image/png": "[encoded data removed]"
          },
          "metadata": {}
        }
      ]
    },
    {
      "cell_type": "code",
      "source": [
        "df[df['c']<100].hist('c', bins =100, figsize = (16,2))"
      ],
      "metadata": {
        "id": "raNqXfFUyFlf",
        "colab": {
          "base_uri": "https://localhost:8080/",
          "height": 254
        },
        "outputId": "feccda0d-82ba-46d2-ba3f-4d29ce85de54"
      },
      "execution_count": 61,
      "outputs": [
        {
          "output_type": "execute_result",
          "data": {
            "text/plain": [
              "array([[<Axes: title={'center': 'c'}>]], dtype=object)"
            ]
          },
          "metadata": {},
          "execution_count": 61
        },
        {
          "output_type": "display_data",
          "data": {
            "text/plain": [
              "<Figure size 1600x200 with 1 Axes>"
            ],
            "image/png": "[encoded data removed]"
          },
          "metadata": {}
        }
      ]
    },
    {
      "cell_type": "code",
      "source": [
        "df[df['c']<90].boxplot(['c'], figsize = (16,1), vert=False)       \n",
        "plt.suptitle('Распределение размера c', size = 20)"
      ],
      "metadata": {
        "id": "UdIG6NUUyFlg",
        "colab": {
          "base_uri": "https://localhost:8080/",
          "height": 164
        },
        "outputId": "485c17b8-93eb-4442-a979-41c68d767413"
      },
      "execution_count": 63,
      "outputs": [
        {
          "output_type": "execute_result",
          "data": {
            "text/plain": [
              "Text(0.5, 0.98, 'Распределение размера c')"
            ]
          },
          "metadata": {},
          "execution_count": 63
        },
        {
          "output_type": "display_data",
          "data": {
            "text/plain": [
              "<Figure size 1600x100 with 1 Axes>"
            ],
            "image/png": "[encoded data removed]"
          },
          "metadata": {}
        }
      ]
    },
    {
      "cell_type": "code",
      "source": [
        "len(df[df['c']>90])/len(df)*100"
      ],
      "metadata": {
        "id": "5H0DdunVyFlg",
        "colab": {
          "base_uri": "https://localhost:8080/"
        },
        "outputId": "e6679252-6dc2-4590-8ac0-a98cd30a986d"
      },
      "execution_count": 64,
      "outputs": [
        {
          "output_type": "execute_result",
          "data": {
            "text/plain": [
              "0.071061613914097"
            ]
          },
          "metadata": {},
          "execution_count": 64
        }
      ]
    },
    {
      "cell_type": "markdown",
      "source": [
        "В распределении размерак 'c' выбросы - все значения больше 90. Это всего 0.07% "
      ],
      "metadata": {
        "id": "KZG2IZpCyFlg"
      }
    },
    {
      "cell_type": "markdown",
      "metadata": {
        "id": "9R-IxEQwtQ6P"
      },
      "source": [
        "**************"
      ]
    },
    {
      "cell_type": "markdown",
      "metadata": {
        "id": "7GD0nM14tQ6S"
      },
      "source": [
        "**Вывод:**\n",
        "\n",
        "1. 4 датасета объеденены в один\n",
        "\n",
        "2. Удалены пропуски 1.6% данных\n",
        "Удалены дубликаты, 58,4% нового после объединения датасета. Большое количесво объясняется добавлением строк во время объединения \n",
        "\n",
        "3. Распределения значений в основном имеют положительную ассиметрию - длинный хвост справа. Небольшие значения, например длина упаковки, преобладают и их количество уменьшается с ростом значений.\n",
        "\n",
        "4. Обнаруженные выбросы удалим в следующум разделе предобработки.\n"
      ]
    },
    {
      "cell_type": "markdown",
      "metadata": {
        "id": "p6XbYomhtQ6S"
      },
      "source": [
        "**************"
      ]
    },
    {
      "cell_type": "markdown",
      "metadata": {
        "id": "BUdzc_K9tQ6T"
      },
      "source": [
        "## Предобработка данных"
      ]
    },
    {
      "cell_type": "markdown",
      "metadata": {
        "id": "H0WVAQOStQ6T"
      },
      "source": [
        "#### Удаление выбросов"
      ]
    },
    {
      "cell_type": "code",
      "source": [
        "df = df.query('sel_calc_cube < 32000')\n",
        "df = df.query('pack_volume < 300000')\n",
        "df = df.query('a < 200')\n",
        "df = df.query('b < 200')\n",
        "df = df.query('c < 200')"
      ],
      "metadata": {
        "id": "gN50-ud-IboB"
      },
      "execution_count": 68,
      "outputs": []
    },
    {
      "cell_type": "code",
      "source": [
        "(600887 - len(df))/600887*100"
      ],
      "metadata": {
        "id": "UcLLcQjbMrr1",
        "colab": {
          "base_uri": "https://localhost:8080/"
        },
        "outputId": "d4d167a8-1f27-46c0-84bd-c9a2533b2c11"
      },
      "execution_count": 72,
      "outputs": [
        {
          "output_type": "execute_result",
          "data": {
            "text/plain": [
              "4.309462511254196"
            ]
          },
          "metadata": {},
          "execution_count": 72
        }
      ]
    },
    {
      "cell_type": "code",
      "source": [
        "df.reset_index(drop= True , inplace= True )"
      ],
      "metadata": {
        "id": "ZKtM86p6WJ1J"
      },
      "execution_count": 73,
      "outputs": []
    },
    {
      "cell_type": "markdown",
      "source": [
        "Выбросы 4,31% удалены"
      ],
      "metadata": {
        "id": "pHDgRjuFUqqr"
      }
    },
    {
      "cell_type": "markdown",
      "source": [
        "Учитывая информацию в описании данных \"DISPLAYFRACK - коробка есть на складе (не учитывать для наших целей)\" - удаляем признак"
      ],
      "metadata": {
        "id": "dWC67Iu9VOwT"
      }
    },
    {
      "cell_type": "code",
      "source": [
        "df_carton.drop(['DISPLAYRFPACK'], axis= 1 , inplace= True)"
      ],
      "metadata": {
        "id": "l65tqVRBYhko"
      },
      "execution_count": 74,
      "outputs": []
    },
    {
      "cell_type": "code",
      "source": [
        "df_carton.head()"
      ],
      "metadata": {
        "id": "zhh7fGixZElO",
        "colab": {
          "base_uri": "https://localhost:8080/",
          "height": 206
        },
        "outputId": "7c94152c-1d7b-495b-fefb-3fd84cd6e143"
      },
      "execution_count": 75,
      "outputs": [
        {
          "output_type": "execute_result",
          "data": {
            "text/plain": [
              "  CARTONTYPE  LENGTH  WIDTH  HEIGHT\n",
              "0        YMA   24.70  15.00   10.00\n",
              "1        YMC   30.00  20.00   15.00\n",
              "2        YME   30.00  30.00   44.50\n",
              "3        YMF   35.00  25.00   15.00\n",
              "4        YMG   44.70  30.00   20.00"
            ],
            "text/html": [
              "\n",
              "  <div id=\"df-e6d8ec6e-658b-448a-8e61-b59ecde20166\">\n",
              "    <div class=\"colab-df-container\">\n",
              "      <div>\n",
              "<style scoped>\n",
              "    .dataframe tbody tr th:only-of-type {\n",
              "        vertical-align: middle;\n",
              "    }\n",
              "\n",
              "    .dataframe tbody tr th {\n",
              "        vertical-align: top;\n",
              "    }\n",
              "\n",
              "    .dataframe thead th {\n",
              "        text-align: right;\n",
              "    }\n",
              "</style>\n",
              "<table border=\"1\" class=\"dataframe\">\n",
              "  <thead>\n",
              "    <tr style=\"text-align: right;\">\n",
              "      <th></th>\n",
              "      <th>CARTONTYPE</th>\n",
              "      <th>LENGTH</th>\n",
              "      <th>WIDTH</th>\n",
              "      <th>HEIGHT</th>\n",
              "    </tr>\n",
              "  </thead>\n",
              "  <tbody>\n",
              "    <tr>\n",
              "      <th>0</th>\n",
              "      <td>YMA</td>\n",
              "      <td>24.70</td>\n",
              "      <td>15.00</td>\n",
              "      <td>10.00</td>\n",
              "    </tr>\n",
              "    <tr>\n",
              "      <th>1</th>\n",
              "      <td>YMC</td>\n",
              "      <td>30.00</td>\n",
              "      <td>20.00</td>\n",
              "      <td>15.00</td>\n",
              "    </tr>\n",
              "    <tr>\n",
              "      <th>2</th>\n",
              "      <td>YME</td>\n",
              "      <td>30.00</td>\n",
              "      <td>30.00</td>\n",
              "      <td>44.50</td>\n",
              "    </tr>\n",
              "    <tr>\n",
              "      <th>3</th>\n",
              "      <td>YMF</td>\n",
              "      <td>35.00</td>\n",
              "      <td>25.00</td>\n",
              "      <td>15.00</td>\n",
              "    </tr>\n",
              "    <tr>\n",
              "      <th>4</th>\n",
              "      <td>YMG</td>\n",
              "      <td>44.70</td>\n",
              "      <td>30.00</td>\n",
              "      <td>20.00</td>\n",
              "    </tr>\n",
              "  </tbody>\n",
              "</table>\n",
              "</div>\n",
              "      <button class=\"colab-df-convert\" onclick=\"convertToInteractive('df-e6d8ec6e-658b-448a-8e61-b59ecde20166')\"\n",
              "              title=\"Convert this dataframe to an interactive table.\"\n",
              "              style=\"display:none;\">\n",
              "        \n",
              "  <svg xmlns=\"http://www.w3.org/2000/svg\" height=\"24px\"viewBox=\"0 0 24 24\"\n",
              "       width=\"24px\">\n",
              "    <path d=\"M0 0h24v24H0V0z\" fill=\"none\"/>\n",
              "    <path d=\"M18.56 5.44l.94 2.06.94-2.06 2.06-.94-2.06-.94-.94-2.06-.94 2.06-2.06.94zm-11 1L8.5 8.5l.94-2.06 2.06-.94-2.06-.94L8.5 2.5l-.94 2.06-2.06.94zm10 10l.94 2.06.94-2.06 2.06-.94-2.06-.94-.94-2.06-.94 2.06-2.06.94z\"/><path d=\"M17.41 7.96l-1.37-1.37c-.4-.4-.92-.59-1.43-.59-.52 0-1.04.2-1.43.59L10.3 9.45l-7.72 7.72c-.78.78-.78 2.05 0 2.83L4 21.41c.39.39.9.59 1.41.59.51 0 1.02-.2 1.41-.59l7.78-7.78 2.81-2.81c.8-.78.8-2.07 0-2.86zM5.41 20L4 18.59l7.72-7.72 1.47 1.35L5.41 20z\"/>\n",
              "  </svg>\n",
              "      </button>\n",
              "      \n",
              "  <style>\n",
              "    .colab-df-container {\n",
              "      display:flex;\n",
              "      flex-wrap:wrap;\n",
              "      gap: 12px;\n",
              "    }\n",
              "\n",
              "    .colab-df-convert {\n",
              "      background-color: #E8F0FE;\n",
              "      border: none;\n",
              "      border-radius: 50%;\n",
              "      cursor: pointer;\n",
              "      display: none;\n",
              "      fill: #1967D2;\n",
              "      height: 32px;\n",
              "      padding: 0 0 0 0;\n",
              "      width: 32px;\n",
              "    }\n",
              "\n",
              "    .colab-df-convert:hover {\n",
              "      background-color: #E2EBFA;\n",
              "      box-shadow: 0px 1px 2px rgba(60, 64, 67, 0.3), 0px 1px 3px 1px rgba(60, 64, 67, 0.15);\n",
              "      fill: #174EA6;\n",
              "    }\n",
              "\n",
              "    [theme=dark] .colab-df-convert {\n",
              "      background-color: #3B4455;\n",
              "      fill: #D2E3FC;\n",
              "    }\n",
              "\n",
              "    [theme=dark] .colab-df-convert:hover {\n",
              "      background-color: #434B5C;\n",
              "      box-shadow: 0px 1px 3px 1px rgba(0, 0, 0, 0.15);\n",
              "      filter: drop-shadow(0px 1px 2px rgba(0, 0, 0, 0.3));\n",
              "      fill: #FFFFFF;\n",
              "    }\n",
              "  </style>\n",
              "\n",
              "      <script>\n",
              "        const buttonEl =\n",
              "          document.querySelector('#df-e6d8ec6e-658b-448a-8e61-b59ecde20166 button.colab-df-convert');\n",
              "        buttonEl.style.display =\n",
              "          google.colab.kernel.accessAllowed ? 'block' : 'none';\n",
              "\n",
              "        async function convertToInteractive(key) {\n",
              "          const element = document.querySelector('#df-e6d8ec6e-658b-448a-8e61-b59ecde20166');\n",
              "          const dataTable =\n",
              "            await google.colab.kernel.invokeFunction('convertToInteractive',\n",
              "                                                     [key], {});\n",
              "          if (!dataTable) return;\n",
              "\n",
              "          const docLinkHtml = 'Like what you see? Visit the ' +\n",
              "            '<a target=\"_blank\" href=https://colab.research.google.com/notebooks/data_table.ipynb>data table notebook</a>'\n",
              "            + ' to learn more about interactive tables.';\n",
              "          element.innerHTML = '';\n",
              "          dataTable['output_type'] = 'display_data';\n",
              "          await google.colab.output.renderOutput(dataTable, element);\n",
              "          const docLink = document.createElement('div');\n",
              "          docLink.innerHTML = docLinkHtml;\n",
              "          element.appendChild(docLink);\n",
              "        }\n",
              "      </script>\n",
              "    </div>\n",
              "  </div>\n",
              "  "
            ]
          },
          "metadata": {},
          "execution_count": 75
        }
      ]
    },
    {
      "cell_type": "code",
      "source": [
        "df_carton.shape"
      ],
      "metadata": {
        "id": "QhXXRnX_ZKrQ",
        "colab": {
          "base_uri": "https://localhost:8080/"
        },
        "outputId": "efc3eebe-ffd9-4dc2-a360-07f4fb9c3abe"
      },
      "execution_count": 76,
      "outputs": [
        {
          "output_type": "execute_result",
          "data": {
            "text/plain": [
              "(29, 4)"
            ]
          },
          "metadata": {},
          "execution_count": 76
        }
      ]
    },
    {
      "cell_type": "markdown",
      "metadata": {
        "id": "fRRpmxEatQ6b"
      },
      "source": [
        "#### Кореляция"
      ]
    },
    {
      "cell_type": "code",
      "execution_count": 77,
      "metadata": {
        "scrolled": true,
        "id": "h68gXblDsvbo",
        "colab": {
          "base_uri": "https://localhost:8080/",
          "height": 300
        },
        "outputId": "5b6d2f43-6f43-474e-d7d0-4cb30c9006b3"
      },
      "outputs": [
        {
          "output_type": "display_data",
          "data": {
            "text/plain": [
              "<pandas.io.formats.style.Styler at 0x7f16ceec28f0>"
            ],
            "text/html": [
              "<style type=\"text/css\">\n",
              "#T_e6338_row0_col0, #T_e6338_row1_col1, #T_e6338_row2_col2, #T_e6338_row3_col3, #T_e6338_row4_col4, #T_e6338_row5_col5, #T_e6338_row6_col6, #T_e6338_row7_col7 {\n",
              "  background-color: #ffff66;\n",
              "  color: #000000;\n",
              "}\n",
              "#T_e6338_row0_col1, #T_e6338_row5_col4 {\n",
              "  background-color: #128866;\n",
              "  color: #f1f1f1;\n",
              "}\n",
              "#T_e6338_row0_col2, #T_e6338_row0_col3 {\n",
              "  background-color: #209066;\n",
              "  color: #f1f1f1;\n",
              "}\n",
              "#T_e6338_row0_col4, #T_e6338_row7_col2, #T_e6338_row7_col3 {\n",
              "  background-color: #168a66;\n",
              "  color: #f1f1f1;\n",
              "}\n",
              "#T_e6338_row0_col5, #T_e6338_row6_col7, #T_e6338_row7_col0, #T_e6338_row7_col4, #T_e6338_row7_col6 {\n",
              "  background-color: #0b8566;\n",
              "  color: #f1f1f1;\n",
              "}\n",
              "#T_e6338_row0_col6 {\n",
              "  background-color: #178b66;\n",
              "  color: #f1f1f1;\n",
              "}\n",
              "#T_e6338_row0_col7 {\n",
              "  background-color: #078366;\n",
              "  color: #f1f1f1;\n",
              "}\n",
              "#T_e6338_row1_col0, #T_e6338_row1_col2, #T_e6338_row1_col3, #T_e6338_row1_col4, #T_e6338_row1_col6, #T_e6338_row3_col1, #T_e6338_row3_col7, #T_e6338_row5_col7, #T_e6338_row7_col5 {\n",
              "  background-color: #008066;\n",
              "  color: #f1f1f1;\n",
              "}\n",
              "#T_e6338_row1_col5 {\n",
              "  background-color: #098466;\n",
              "  color: #f1f1f1;\n",
              "}\n",
              "#T_e6338_row1_col7 {\n",
              "  background-color: #118866;\n",
              "  color: #f1f1f1;\n",
              "}\n",
              "#T_e6338_row2_col0 {\n",
              "  background-color: #108866;\n",
              "  color: #f1f1f1;\n",
              "}\n",
              "#T_e6338_row2_col1, #T_e6338_row2_col7 {\n",
              "  background-color: #018066;\n",
              "  color: #f1f1f1;\n",
              "}\n",
              "#T_e6338_row2_col3, #T_e6338_row3_col2 {\n",
              "  background-color: #bede66;\n",
              "  color: #000000;\n",
              "}\n",
              "#T_e6338_row2_col4, #T_e6338_row4_col3, #T_e6338_row6_col4 {\n",
              "  background-color: #8fc766;\n",
              "  color: #000000;\n",
              "}\n",
              "#T_e6338_row2_col5 {\n",
              "  background-color: #70b866;\n",
              "  color: #f1f1f1;\n",
              "}\n",
              "#T_e6338_row2_col6 {\n",
              "  background-color: #8cc666;\n",
              "  color: #000000;\n",
              "}\n",
              "#T_e6338_row3_col0, #T_e6338_row5_col6 {\n",
              "  background-color: #0e8666;\n",
              "  color: #f1f1f1;\n",
              "}\n",
              "#T_e6338_row3_col4 {\n",
              "  background-color: #88c366;\n",
              "  color: #000000;\n",
              "}\n",
              "#T_e6338_row3_col5 {\n",
              "  background-color: #69b466;\n",
              "  color: #f1f1f1;\n",
              "}\n",
              "#T_e6338_row3_col6 {\n",
              "  background-color: #80c066;\n",
              "  color: #000000;\n",
              "}\n",
              "#T_e6338_row4_col0 {\n",
              "  background-color: #138966;\n",
              "  color: #f1f1f1;\n",
              "}\n",
              "#T_e6338_row4_col1, #T_e6338_row5_col0 {\n",
              "  background-color: #0f8766;\n",
              "  color: #f1f1f1;\n",
              "}\n",
              "#T_e6338_row4_col2, #T_e6338_row6_col2 {\n",
              "  background-color: #95ca66;\n",
              "  color: #000000;\n",
              "}\n",
              "#T_e6338_row4_col5 {\n",
              "  background-color: #0c8666;\n",
              "  color: #f1f1f1;\n",
              "}\n",
              "#T_e6338_row4_col6 {\n",
              "  background-color: #8dc666;\n",
              "  color: #000000;\n",
              "}\n",
              "#T_e6338_row4_col7 {\n",
              "  background-color: #048266;\n",
              "  color: #f1f1f1;\n",
              "}\n",
              "#T_e6338_row5_col1 {\n",
              "  background-color: #1e8e66;\n",
              "  color: #f1f1f1;\n",
              "}\n",
              "#T_e6338_row5_col2 {\n",
              "  background-color: #7cbe66;\n",
              "  color: #000000;\n",
              "}\n",
              "#T_e6338_row5_col3 {\n",
              "  background-color: #76bb66;\n",
              "  color: #f1f1f1;\n",
              "}\n",
              "#T_e6338_row6_col0 {\n",
              "  background-color: #1a8c66;\n",
              "  color: #f1f1f1;\n",
              "}\n",
              "#T_e6338_row6_col1 {\n",
              "  background-color: #158a66;\n",
              "  color: #f1f1f1;\n",
              "}\n",
              "#T_e6338_row6_col3 {\n",
              "  background-color: #8bc566;\n",
              "  color: #000000;\n",
              "}\n",
              "#T_e6338_row6_col5 {\n",
              "  background-color: #0d8666;\n",
              "  color: #f1f1f1;\n",
              "}\n",
              "#T_e6338_row7_col1 {\n",
              "  background-color: #269266;\n",
              "  color: #f1f1f1;\n",
              "}\n",
              "</style>\n",
              "<table id=\"T_e6338\" class=\"dataframe\">\n",
              "  <thead>\n",
              "    <tr>\n",
              "      <th class=\"blank level0\" >&nbsp;</th>\n",
              "      <th id=\"T_e6338_level0_col0\" class=\"col_heading level0 col0\" >box_num</th>\n",
              "      <th id=\"T_e6338_level0_col1\" class=\"col_heading level0 col1\" >sel_calc_cube</th>\n",
              "      <th id=\"T_e6338_level0_col2\" class=\"col_heading level0 col2\" >pack_volume</th>\n",
              "      <th id=\"T_e6338_level0_col3\" class=\"col_heading level0 col3\" >goods_wght</th>\n",
              "      <th id=\"T_e6338_level0_col4\" class=\"col_heading level0 col4\" >a</th>\n",
              "      <th id=\"T_e6338_level0_col5\" class=\"col_heading level0 col5\" >b</th>\n",
              "      <th id=\"T_e6338_level0_col6\" class=\"col_heading level0 col6\" >c</th>\n",
              "      <th id=\"T_e6338_level0_col7\" class=\"col_heading level0 col7\" >cargotype</th>\n",
              "    </tr>\n",
              "  </thead>\n",
              "  <tbody>\n",
              "    <tr>\n",
              "      <th id=\"T_e6338_level0_row0\" class=\"row_heading level0 row0\" >box_num</th>\n",
              "      <td id=\"T_e6338_row0_col0\" class=\"data row0 col0\" >1.000000</td>\n",
              "      <td id=\"T_e6338_row0_col1\" class=\"data row0 col1\" >-0.055856</td>\n",
              "      <td id=\"T_e6338_row0_col2\" class=\"data row0 col2\" >0.013733</td>\n",
              "      <td id=\"T_e6338_row0_col3\" class=\"data row0 col3\" >0.005242</td>\n",
              "      <td id=\"T_e6338_row0_col4\" class=\"data row0 col4\" >0.024547</td>\n",
              "      <td id=\"T_e6338_row0_col5\" class=\"data row0 col5\" >0.009149</td>\n",
              "      <td id=\"T_e6338_row0_col6\" class=\"data row0 col6\" >0.054268</td>\n",
              "      <td id=\"T_e6338_row0_col7\" class=\"data row0 col7\" >-0.006685</td>\n",
              "    </tr>\n",
              "    <tr>\n",
              "      <th id=\"T_e6338_level0_row1\" class=\"row_heading level0 row1\" >sel_calc_cube</th>\n",
              "      <td id=\"T_e6338_row1_col0\" class=\"data row1 col0\" >-0.055856</td>\n",
              "      <td id=\"T_e6338_row1_col1\" class=\"data row1 col1\" >1.000000</td>\n",
              "      <td id=\"T_e6338_row1_col2\" class=\"data row1 col2\" >-0.130358</td>\n",
              "      <td id=\"T_e6338_row1_col3\" class=\"data row1 col3\" >-0.137325</td>\n",
              "      <td id=\"T_e6338_row1_col4\" class=\"data row1 col4\" >-0.067736</td>\n",
              "      <td id=\"T_e6338_row1_col5\" class=\"data row1 col5\" >0.000361</td>\n",
              "      <td id=\"T_e6338_row1_col6\" class=\"data row1 col6\" >-0.041711</td>\n",
              "      <td id=\"T_e6338_row1_col7\" class=\"data row1 col7\" >0.032806</td>\n",
              "    </tr>\n",
              "    <tr>\n",
              "      <th id=\"T_e6338_level0_row2\" class=\"row_heading level0 row2\" >pack_volume</th>\n",
              "      <td id=\"T_e6338_row2_col0\" class=\"data row2 col0\" >0.013733</td>\n",
              "      <td id=\"T_e6338_row2_col1\" class=\"data row2 col1\" >-0.130358</td>\n",
              "      <td id=\"T_e6338_row2_col2\" class=\"data row2 col2\" >1.000000</td>\n",
              "      <td id=\"T_e6338_row2_col3\" class=\"data row2 col3\" >0.708932</td>\n",
              "      <td id=\"T_e6338_row2_col4\" class=\"data row2 col4\" >0.531610</td>\n",
              "      <td id=\"T_e6338_row2_col5\" class=\"data row2 col5\" >0.419851</td>\n",
              "      <td id=\"T_e6338_row2_col6\" class=\"data row2 col6\" >0.529737</td>\n",
              "      <td id=\"T_e6338_row2_col7\" class=\"data row2 col7\" >-0.032250</td>\n",
              "    </tr>\n",
              "    <tr>\n",
              "      <th id=\"T_e6338_level0_row3\" class=\"row_heading level0 row3\" >goods_wght</th>\n",
              "      <td id=\"T_e6338_row3_col0\" class=\"data row3 col0\" >0.005242</td>\n",
              "      <td id=\"T_e6338_row3_col1\" class=\"data row3 col1\" >-0.137325</td>\n",
              "      <td id=\"T_e6338_row3_col2\" class=\"data row3 col2\" >0.708932</td>\n",
              "      <td id=\"T_e6338_row3_col3\" class=\"data row3 col3\" >1.000000</td>\n",
              "      <td id=\"T_e6338_row3_col4\" class=\"data row3 col4\" >0.501092</td>\n",
              "      <td id=\"T_e6338_row3_col5\" class=\"data row3 col5\" >0.389567</td>\n",
              "      <td id=\"T_e6338_row3_col6\" class=\"data row3 col6\" >0.481521</td>\n",
              "      <td id=\"T_e6338_row3_col7\" class=\"data row3 col7\" >-0.038921</td>\n",
              "    </tr>\n",
              "    <tr>\n",
              "      <th id=\"T_e6338_level0_row4\" class=\"row_heading level0 row4\" >a</th>\n",
              "      <td id=\"T_e6338_row4_col0\" class=\"data row4 col0\" >0.024547</td>\n",
              "      <td id=\"T_e6338_row4_col1\" class=\"data row4 col1\" >-0.067736</td>\n",
              "      <td id=\"T_e6338_row4_col2\" class=\"data row4 col2\" >0.531610</td>\n",
              "      <td id=\"T_e6338_row4_col3\" class=\"data row4 col3\" >0.501092</td>\n",
              "      <td id=\"T_e6338_row4_col4\" class=\"data row4 col4\" >1.000000</td>\n",
              "      <td id=\"T_e6338_row4_col5\" class=\"data row4 col5\" >0.010759</td>\n",
              "      <td id=\"T_e6338_row4_col6\" class=\"data row4 col6\" >0.532164</td>\n",
              "      <td id=\"T_e6338_row4_col7\" class=\"data row4 col7\" >-0.021329</td>\n",
              "    </tr>\n",
              "    <tr>\n",
              "      <th id=\"T_e6338_level0_row5\" class=\"row_heading level0 row5\" >b</th>\n",
              "      <td id=\"T_e6338_row5_col0\" class=\"data row5 col0\" >0.009149</td>\n",
              "      <td id=\"T_e6338_row5_col1\" class=\"data row5 col1\" >0.000361</td>\n",
              "      <td id=\"T_e6338_row5_col2\" class=\"data row5 col2\" >0.419851</td>\n",
              "      <td id=\"T_e6338_row5_col3\" class=\"data row5 col3\" >0.389567</td>\n",
              "      <td id=\"T_e6338_row5_col4\" class=\"data row5 col4\" >0.010759</td>\n",
              "      <td id=\"T_e6338_row5_col5\" class=\"data row5 col5\" >1.000000</td>\n",
              "      <td id=\"T_e6338_row5_col6\" class=\"data row5 col6\" >0.015937</td>\n",
              "      <td id=\"T_e6338_row5_col7\" class=\"data row5 col7\" >-0.038469</td>\n",
              "    </tr>\n",
              "    <tr>\n",
              "      <th id=\"T_e6338_level0_row6\" class=\"row_heading level0 row6\" >c</th>\n",
              "      <td id=\"T_e6338_row6_col0\" class=\"data row6 col0\" >0.054268</td>\n",
              "      <td id=\"T_e6338_row6_col1\" class=\"data row6 col1\" >-0.041711</td>\n",
              "      <td id=\"T_e6338_row6_col2\" class=\"data row6 col2\" >0.529737</td>\n",
              "      <td id=\"T_e6338_row6_col3\" class=\"data row6 col3\" >0.481521</td>\n",
              "      <td id=\"T_e6338_row6_col4\" class=\"data row6 col4\" >0.532164</td>\n",
              "      <td id=\"T_e6338_row6_col5\" class=\"data row6 col5\" >0.015937</td>\n",
              "      <td id=\"T_e6338_row6_col6\" class=\"data row6 col6\" >1.000000</td>\n",
              "      <td id=\"T_e6338_row6_col7\" class=\"data row6 col7\" >0.006737</td>\n",
              "    </tr>\n",
              "    <tr>\n",
              "      <th id=\"T_e6338_level0_row7\" class=\"row_heading level0 row7\" >cargotype</th>\n",
              "      <td id=\"T_e6338_row7_col0\" class=\"data row7 col0\" >-0.006685</td>\n",
              "      <td id=\"T_e6338_row7_col1\" class=\"data row7 col1\" >0.032806</td>\n",
              "      <td id=\"T_e6338_row7_col2\" class=\"data row7 col2\" >-0.032250</td>\n",
              "      <td id=\"T_e6338_row7_col3\" class=\"data row7 col3\" >-0.038921</td>\n",
              "      <td id=\"T_e6338_row7_col4\" class=\"data row7 col4\" >-0.021329</td>\n",
              "      <td id=\"T_e6338_row7_col5\" class=\"data row7 col5\" >-0.038469</td>\n",
              "      <td id=\"T_e6338_row7_col6\" class=\"data row7 col6\" >0.006737</td>\n",
              "      <td id=\"T_e6338_row7_col7\" class=\"data row7 col7\" >1.000000</td>\n",
              "    </tr>\n",
              "  </tbody>\n",
              "</table>\n"
            ]
          },
          "metadata": {}
        }
      ],
      "source": [
        "display(df.corr().style.background_gradient(cmap='summer'))"
      ]
    },
    {
      "cell_type": "markdown",
      "metadata": {
        "id": "O0GMqyMMtQ6c"
      },
      "source": [
        "Проверка корреляции показала отсутствие слишком высокой линейной зависимости между признаками, кроме goods_wght и pack_volume. Здесь прямая линейная зависимость 0.7. Пока признаки оставим"
      ]
    },
    {
      "cell_type": "markdown",
      "metadata": {
        "id": "N3miLvTvtQ6c"
      },
      "source": [
        "**************"
      ]
    },
    {
      "cell_type": "markdown",
      "source": [
        "#### Целевой признак"
      ],
      "metadata": {
        "id": "dDVlHTTbNNkt"
      }
    },
    {
      "cell_type": "code",
      "source": [
        "df"
      ],
      "metadata": {
        "colab": {
          "base_uri": "https://localhost:8080/",
          "height": 424
        },
        "id": "XoncQna0L5nh",
        "outputId": "8310d132-09f8-444d-b7ba-8047e8431e40"
      },
      "execution_count": 78,
      "outputs": [
        {
          "output_type": "execute_result",
          "data": {
            "text/plain": [
              "       selected_cartontype  box_num  sel_calc_cube  pack_volume  goods_wght  \\\n",
              "0                  NONPACK        1              0         2046        0.10   \n",
              "1                  NONPACK        1              0         2046        0.10   \n",
              "2                  NONPACK        1              0         2046        0.10   \n",
              "3                  NONPACK        1              0         2046        0.10   \n",
              "4                  NONPACK        1              0         2046        0.10   \n",
              "...                    ...      ...            ...          ...         ...   \n",
              "574987             NONPACK        4              0         1617        0.43   \n",
              "574988             NONPACK        2              0        16200        1.70   \n",
              "574989             NONPACK        2              0        16200        1.70   \n",
              "574990             NONPACK        2              0        16200        1.70   \n",
              "574991             NONPACK        2              0        16200        1.70   \n",
              "\n",
              "           a    b     c  cargotype                         description  \n",
              "0      11.00 6.00 31.00     290.00    Склад МГТ (малогабаритный товар)  \n",
              "1      11.00 6.00 31.00     600.00           одежда, обувь, аксессуары  \n",
              "2      11.00 6.00 31.00     610.00                      обувь взрослая  \n",
              "3      11.00 6.00 31.00     950.00                           пачкается  \n",
              "4      11.00 6.00 31.00     970.00                     впитывает запах  \n",
              "...      ...  ...   ...        ...                                 ...  \n",
              "574987 77.00 3.00  6.00     310.00                             хрупкое  \n",
              "574988 45.00 8.00 45.00     200.00               техника и электроника  \n",
              "574989 45.00 8.00 45.00     291.00  Склад СГТ (среднегабаритный товар)  \n",
              "574990 45.00 8.00 45.00     310.00                             хрупкое  \n",
              "574991 45.00 8.00 45.00     340.00                 не требует упаковки  \n",
              "\n",
              "[574992 rows x 10 columns]"
            ],
            "text/html": [
              "\n",
              "  <div id=\"df-dedc7bdc-ec71-4a91-a3df-1a888f2b8456\">\n",
              "    <div class=\"colab-df-container\">\n",
              "      <div>\n",
              "<style scoped>\n",
              "    .dataframe tbody tr th:only-of-type {\n",
              "        vertical-align: middle;\n",
              "    }\n",
              "\n",
              "    .dataframe tbody tr th {\n",
              "        vertical-align: top;\n",
              "    }\n",
              "\n",
              "    .dataframe thead th {\n",
              "        text-align: right;\n",
              "    }\n",
              "</style>\n",
              "<table border=\"1\" class=\"dataframe\">\n",
              "  <thead>\n",
              "    <tr style=\"text-align: right;\">\n",
              "      <th></th>\n",
              "      <th>selected_cartontype</th>\n",
              "      <th>box_num</th>\n",
              "      <th>sel_calc_cube</th>\n",
              "      <th>pack_volume</th>\n",
              "      <th>goods_wght</th>\n",
              "      <th>a</th>\n",
              "      <th>b</th>\n",
              "      <th>c</th>\n",
              "      <th>cargotype</th>\n",
              "      <th>description</th>\n",
              "    </tr>\n",
              "  </thead>\n",
              "  <tbody>\n",
              "    <tr>\n",
              "      <th>0</th>\n",
              "      <td>NONPACK</td>\n",
              "      <td>1</td>\n",
              "      <td>0</td>\n",
              "      <td>2046</td>\n",
              "      <td>0.10</td>\n",
              "      <td>11.00</td>\n",
              "      <td>6.00</td>\n",
              "      <td>31.00</td>\n",
              "      <td>290.00</td>\n",
              "      <td>Склад МГТ (малогабаритный товар)</td>\n",
              "    </tr>\n",
              "    <tr>\n",
              "      <th>1</th>\n",
              "      <td>NONPACK</td>\n",
              "      <td>1</td>\n",
              "      <td>0</td>\n",
              "      <td>2046</td>\n",
              "      <td>0.10</td>\n",
              "      <td>11.00</td>\n",
              "      <td>6.00</td>\n",
              "      <td>31.00</td>\n",
              "      <td>600.00</td>\n",
              "      <td>одежда, обувь, аксессуары</td>\n",
              "    </tr>\n",
              "    <tr>\n",
              "      <th>2</th>\n",
              "      <td>NONPACK</td>\n",
              "      <td>1</td>\n",
              "      <td>0</td>\n",
              "      <td>2046</td>\n",
              "      <td>0.10</td>\n",
              "      <td>11.00</td>\n",
              "      <td>6.00</td>\n",
              "      <td>31.00</td>\n",
              "      <td>610.00</td>\n",
              "      <td>обувь взрослая</td>\n",
              "    </tr>\n",
              "    <tr>\n",
              "      <th>3</th>\n",
              "      <td>NONPACK</td>\n",
              "      <td>1</td>\n",
              "      <td>0</td>\n",
              "      <td>2046</td>\n",
              "      <td>0.10</td>\n",
              "      <td>11.00</td>\n",
              "      <td>6.00</td>\n",
              "      <td>31.00</td>\n",
              "      <td>950.00</td>\n",
              "      <td>пачкается</td>\n",
              "    </tr>\n",
              "    <tr>\n",
              "      <th>4</th>\n",
              "      <td>NONPACK</td>\n",
              "      <td>1</td>\n",
              "      <td>0</td>\n",
              "      <td>2046</td>\n",
              "      <td>0.10</td>\n",
              "      <td>11.00</td>\n",
              "      <td>6.00</td>\n",
              "      <td>31.00</td>\n",
              "      <td>970.00</td>\n",
              "      <td>впитывает запах</td>\n",
              "    </tr>\n",
              "    <tr>\n",
              "      <th>...</th>\n",
              "      <td>...</td>\n",
              "      <td>...</td>\n",
              "      <td>...</td>\n",
              "      <td>...</td>\n",
              "      <td>...</td>\n",
              "      <td>...</td>\n",
              "      <td>...</td>\n",
              "      <td>...</td>\n",
              "      <td>...</td>\n",
              "      <td>...</td>\n",
              "    </tr>\n",
              "    <tr>\n",
              "      <th>574987</th>\n",
              "      <td>NONPACK</td>\n",
              "      <td>4</td>\n",
              "      <td>0</td>\n",
              "      <td>1617</td>\n",
              "      <td>0.43</td>\n",
              "      <td>77.00</td>\n",
              "      <td>3.00</td>\n",
              "      <td>6.00</td>\n",
              "      <td>310.00</td>\n",
              "      <td>хрупкое</td>\n",
              "    </tr>\n",
              "    <tr>\n",
              "      <th>574988</th>\n",
              "      <td>NONPACK</td>\n",
              "      <td>2</td>\n",
              "      <td>0</td>\n",
              "      <td>16200</td>\n",
              "      <td>1.70</td>\n",
              "      <td>45.00</td>\n",
              "      <td>8.00</td>\n",
              "      <td>45.00</td>\n",
              "      <td>200.00</td>\n",
              "      <td>техника и электроника</td>\n",
              "    </tr>\n",
              "    <tr>\n",
              "      <th>574989</th>\n",
              "      <td>NONPACK</td>\n",
              "      <td>2</td>\n",
              "      <td>0</td>\n",
              "      <td>16200</td>\n",
              "      <td>1.70</td>\n",
              "      <td>45.00</td>\n",
              "      <td>8.00</td>\n",
              "      <td>45.00</td>\n",
              "      <td>291.00</td>\n",
              "      <td>Склад СГТ (среднегабаритный товар)</td>\n",
              "    </tr>\n",
              "    <tr>\n",
              "      <th>574990</th>\n",
              "      <td>NONPACK</td>\n",
              "      <td>2</td>\n",
              "      <td>0</td>\n",
              "      <td>16200</td>\n",
              "      <td>1.70</td>\n",
              "      <td>45.00</td>\n",
              "      <td>8.00</td>\n",
              "      <td>45.00</td>\n",
              "      <td>310.00</td>\n",
              "      <td>хрупкое</td>\n",
              "    </tr>\n",
              "    <tr>\n",
              "      <th>574991</th>\n",
              "      <td>NONPACK</td>\n",
              "      <td>2</td>\n",
              "      <td>0</td>\n",
              "      <td>16200</td>\n",
              "      <td>1.70</td>\n",
              "      <td>45.00</td>\n",
              "      <td>8.00</td>\n",
              "      <td>45.00</td>\n",
              "      <td>340.00</td>\n",
              "      <td>не требует упаковки</td>\n",
              "    </tr>\n",
              "  </tbody>\n",
              "</table>\n",
              "<p>574992 rows × 10 columns</p>\n",
              "</div>\n",
              "      <button class=\"colab-df-convert\" onclick=\"convertToInteractive('df-dedc7bdc-ec71-4a91-a3df-1a888f2b8456')\"\n",
              "              title=\"Convert this dataframe to an interactive table.\"\n",
              "              style=\"display:none;\">\n",
              "        \n",
              "  <svg xmlns=\"http://www.w3.org/2000/svg\" height=\"24px\"viewBox=\"0 0 24 24\"\n",
              "       width=\"24px\">\n",
              "    <path d=\"M0 0h24v24H0V0z\" fill=\"none\"/>\n",
              "    <path d=\"M18.56 5.44l.94 2.06.94-2.06 2.06-.94-2.06-.94-.94-2.06-.94 2.06-2.06.94zm-11 1L8.5 8.5l.94-2.06 2.06-.94-2.06-.94L8.5 2.5l-.94 2.06-2.06.94zm10 10l.94 2.06.94-2.06 2.06-.94-2.06-.94-.94-2.06-.94 2.06-2.06.94z\"/><path d=\"M17.41 7.96l-1.37-1.37c-.4-.4-.92-.59-1.43-.59-.52 0-1.04.2-1.43.59L10.3 9.45l-7.72 7.72c-.78.78-.78 2.05 0 2.83L4 21.41c.39.39.9.59 1.41.59.51 0 1.02-.2 1.41-.59l7.78-7.78 2.81-2.81c.8-.78.8-2.07 0-2.86zM5.41 20L4 18.59l7.72-7.72 1.47 1.35L5.41 20z\"/>\n",
              "  </svg>\n",
              "      </button>\n",
              "      \n",
              "  <style>\n",
              "    .colab-df-container {\n",
              "      display:flex;\n",
              "      flex-wrap:wrap;\n",
              "      gap: 12px;\n",
              "    }\n",
              "\n",
              "    .colab-df-convert {\n",
              "      background-color: #E8F0FE;\n",
              "      border: none;\n",
              "      border-radius: 50%;\n",
              "      cursor: pointer;\n",
              "      display: none;\n",
              "      fill: #1967D2;\n",
              "      height: 32px;\n",
              "      padding: 0 0 0 0;\n",
              "      width: 32px;\n",
              "    }\n",
              "\n",
              "    .colab-df-convert:hover {\n",
              "      background-color: #E2EBFA;\n",
              "      box-shadow: 0px 1px 2px rgba(60, 64, 67, 0.3), 0px 1px 3px 1px rgba(60, 64, 67, 0.15);\n",
              "      fill: #174EA6;\n",
              "    }\n",
              "\n",
              "    [theme=dark] .colab-df-convert {\n",
              "      background-color: #3B4455;\n",
              "      fill: #D2E3FC;\n",
              "    }\n",
              "\n",
              "    [theme=dark] .colab-df-convert:hover {\n",
              "      background-color: #434B5C;\n",
              "      box-shadow: 0px 1px 3px 1px rgba(0, 0, 0, 0.15);\n",
              "      filter: drop-shadow(0px 1px 2px rgba(0, 0, 0, 0.3));\n",
              "      fill: #FFFFFF;\n",
              "    }\n",
              "  </style>\n",
              "\n",
              "      <script>\n",
              "        const buttonEl =\n",
              "          document.querySelector('#df-dedc7bdc-ec71-4a91-a3df-1a888f2b8456 button.colab-df-convert');\n",
              "        buttonEl.style.display =\n",
              "          google.colab.kernel.accessAllowed ? 'block' : 'none';\n",
              "\n",
              "        async function convertToInteractive(key) {\n",
              "          const element = document.querySelector('#df-dedc7bdc-ec71-4a91-a3df-1a888f2b8456');\n",
              "          const dataTable =\n",
              "            await google.colab.kernel.invokeFunction('convertToInteractive',\n",
              "                                                     [key], {});\n",
              "          if (!dataTable) return;\n",
              "\n",
              "          const docLinkHtml = 'Like what you see? Visit the ' +\n",
              "            '<a target=\"_blank\" href=https://colab.research.google.com/notebooks/data_table.ipynb>data table notebook</a>'\n",
              "            + ' to learn more about interactive tables.';\n",
              "          element.innerHTML = '';\n",
              "          dataTable['output_type'] = 'display_data';\n",
              "          await google.colab.output.renderOutput(dataTable, element);\n",
              "          const docLink = document.createElement('div');\n",
              "          docLink.innerHTML = docLinkHtml;\n",
              "          element.appendChild(docLink);\n",
              "        }\n",
              "      </script>\n",
              "    </div>\n",
              "  </div>\n",
              "  "
            ]
          },
          "metadata": {},
          "execution_count": 78
        }
      ]
    },
    {
      "cell_type": "code",
      "source": [
        "df[df['sel_calc_cube'] != 0]"
      ],
      "metadata": {
        "colab": {
          "base_uri": "https://localhost:8080/",
          "height": 424
        },
        "id": "06copCFmMJF5",
        "outputId": "fae8ee16-4a23-4062-dd32-82e3aa46e412"
      },
      "execution_count": 81,
      "outputs": [
        {
          "output_type": "execute_result",
          "data": {
            "text/plain": [
              "       selected_cartontype  box_num  sel_calc_cube  pack_volume  goods_wght  \\\n",
              "40                     MYC        1           8436         3456        3.05   \n",
              "41                     MYC        1           8436         3456        3.05   \n",
              "42                     MYC        1           8436         3456        3.05   \n",
              "43                     MYC        1           8436         3456        3.05   \n",
              "44                     MYC        1           8436         3456        3.05   \n",
              "...                    ...      ...            ...          ...         ...   \n",
              "574970                 YMA        1           3360          378        0.03   \n",
              "574971                 YMA        1           3360          160        0.03   \n",
              "574972                 YMA        1           3360          160        0.03   \n",
              "574973                 YMA        1           3360          160        0.03   \n",
              "574974                 YMA        1           3360          160        0.03   \n",
              "\n",
              "           a    b     c  cargotype                       description  \n",
              "40     24.00 8.00 18.00     290.00  Склад МГТ (малогабаритный товар)  \n",
              "41     24.00 8.00 18.00     360.00                 упаковка в пленку  \n",
              "42     24.00 8.00 18.00     440.00            косметика и парфюмерия  \n",
              "43     24.00 8.00 18.00     441.00                товары для красоты  \n",
              "44     24.00 8.00 18.00     460.00                           пахучий  \n",
              "...      ...  ...   ...        ...                               ...  \n",
              "574970 14.00 3.00  9.00     310.00                           хрупкое  \n",
              "574971 10.00 4.00  4.00     200.00             техника и электроника  \n",
              "574972 10.00 4.00  4.00     290.00  Склад МГТ (малогабаритный товар)  \n",
              "574973 10.00 4.00  4.00     310.00                           хрупкое  \n",
              "574974 10.00 4.00  4.00     340.00               не требует упаковки  \n",
              "\n",
              "[505094 rows x 10 columns]"
            ],
            "text/html": [
              "\n",
              "  <div id=\"df-ba306b78-883d-4528-a8ae-3e501890c8ce\">\n",
              "    <div class=\"colab-df-container\">\n",
              "      <div>\n",
              "<style scoped>\n",
              "    .dataframe tbody tr th:only-of-type {\n",
              "        vertical-align: middle;\n",
              "    }\n",
              "\n",
              "    .dataframe tbody tr th {\n",
              "        vertical-align: top;\n",
              "    }\n",
              "\n",
              "    .dataframe thead th {\n",
              "        text-align: right;\n",
              "    }\n",
              "</style>\n",
              "<table border=\"1\" class=\"dataframe\">\n",
              "  <thead>\n",
              "    <tr style=\"text-align: right;\">\n",
              "      <th></th>\n",
              "      <th>selected_cartontype</th>\n",
              "      <th>box_num</th>\n",
              "      <th>sel_calc_cube</th>\n",
              "      <th>pack_volume</th>\n",
              "      <th>goods_wght</th>\n",
              "      <th>a</th>\n",
              "      <th>b</th>\n",
              "      <th>c</th>\n",
              "      <th>cargotype</th>\n",
              "      <th>description</th>\n",
              "    </tr>\n",
              "  </thead>\n",
              "  <tbody>\n",
              "    <tr>\n",
              "      <th>40</th>\n",
              "      <td>MYC</td>\n",
              "      <td>1</td>\n",
              "      <td>8436</td>\n",
              "      <td>3456</td>\n",
              "      <td>3.05</td>\n",
              "      <td>24.00</td>\n",
              "      <td>8.00</td>\n",
              "      <td>18.00</td>\n",
              "      <td>290.00</td>\n",
              "      <td>Склад МГТ (малогабаритный товар)</td>\n",
              "    </tr>\n",
              "    <tr>\n",
              "      <th>41</th>\n",
              "      <td>MYC</td>\n",
              "      <td>1</td>\n",
              "      <td>8436</td>\n",
              "      <td>3456</td>\n",
              "      <td>3.05</td>\n",
              "      <td>24.00</td>\n",
              "      <td>8.00</td>\n",
              "      <td>18.00</td>\n",
              "      <td>360.00</td>\n",
              "      <td>упаковка в пленку</td>\n",
              "    </tr>\n",
              "    <tr>\n",
              "      <th>42</th>\n",
              "      <td>MYC</td>\n",
              "      <td>1</td>\n",
              "      <td>8436</td>\n",
              "      <td>3456</td>\n",
              "      <td>3.05</td>\n",
              "      <td>24.00</td>\n",
              "      <td>8.00</td>\n",
              "      <td>18.00</td>\n",
              "      <td>440.00</td>\n",
              "      <td>косметика и парфюмерия</td>\n",
              "    </tr>\n",
              "    <tr>\n",
              "      <th>43</th>\n",
              "      <td>MYC</td>\n",
              "      <td>1</td>\n",
              "      <td>8436</td>\n",
              "      <td>3456</td>\n",
              "      <td>3.05</td>\n",
              "      <td>24.00</td>\n",
              "      <td>8.00</td>\n",
              "      <td>18.00</td>\n",
              "      <td>441.00</td>\n",
              "      <td>товары для красоты</td>\n",
              "    </tr>\n",
              "    <tr>\n",
              "      <th>44</th>\n",
              "      <td>MYC</td>\n",
              "      <td>1</td>\n",
              "      <td>8436</td>\n",
              "      <td>3456</td>\n",
              "      <td>3.05</td>\n",
              "      <td>24.00</td>\n",
              "      <td>8.00</td>\n",
              "      <td>18.00</td>\n",
              "      <td>460.00</td>\n",
              "      <td>пахучий</td>\n",
              "    </tr>\n",
              "    <tr>\n",
              "      <th>...</th>\n",
              "      <td>...</td>\n",
              "      <td>...</td>\n",
              "      <td>...</td>\n",
              "      <td>...</td>\n",
              "      <td>...</td>\n",
              "      <td>...</td>\n",
              "      <td>...</td>\n",
              "      <td>...</td>\n",
              "      <td>...</td>\n",
              "      <td>...</td>\n",
              "    </tr>\n",
              "    <tr>\n",
              "      <th>574970</th>\n",
              "      <td>YMA</td>\n",
              "      <td>1</td>\n",
              "      <td>3360</td>\n",
              "      <td>378</td>\n",
              "      <td>0.03</td>\n",
              "      <td>14.00</td>\n",
              "      <td>3.00</td>\n",
              "      <td>9.00</td>\n",
              "      <td>310.00</td>\n",
              "      <td>хрупкое</td>\n",
              "    </tr>\n",
              "    <tr>\n",
              "      <th>574971</th>\n",
              "      <td>YMA</td>\n",
              "      <td>1</td>\n",
              "      <td>3360</td>\n",
              "      <td>160</td>\n",
              "      <td>0.03</td>\n",
              "      <td>10.00</td>\n",
              "      <td>4.00</td>\n",
              "      <td>4.00</td>\n",
              "      <td>200.00</td>\n",
              "      <td>техника и электроника</td>\n",
              "    </tr>\n",
              "    <tr>\n",
              "      <th>574972</th>\n",
              "      <td>YMA</td>\n",
              "      <td>1</td>\n",
              "      <td>3360</td>\n",
              "      <td>160</td>\n",
              "      <td>0.03</td>\n",
              "      <td>10.00</td>\n",
              "      <td>4.00</td>\n",
              "      <td>4.00</td>\n",
              "      <td>290.00</td>\n",
              "      <td>Склад МГТ (малогабаритный товар)</td>\n",
              "    </tr>\n",
              "    <tr>\n",
              "      <th>574973</th>\n",
              "      <td>YMA</td>\n",
              "      <td>1</td>\n",
              "      <td>3360</td>\n",
              "      <td>160</td>\n",
              "      <td>0.03</td>\n",
              "      <td>10.00</td>\n",
              "      <td>4.00</td>\n",
              "      <td>4.00</td>\n",
              "      <td>310.00</td>\n",
              "      <td>хрупкое</td>\n",
              "    </tr>\n",
              "    <tr>\n",
              "      <th>574974</th>\n",
              "      <td>YMA</td>\n",
              "      <td>1</td>\n",
              "      <td>3360</td>\n",
              "      <td>160</td>\n",
              "      <td>0.03</td>\n",
              "      <td>10.00</td>\n",
              "      <td>4.00</td>\n",
              "      <td>4.00</td>\n",
              "      <td>340.00</td>\n",
              "      <td>не требует упаковки</td>\n",
              "    </tr>\n",
              "  </tbody>\n",
              "</table>\n",
              "<p>505094 rows × 10 columns</p>\n",
              "</div>\n",
              "      <button class=\"colab-df-convert\" onclick=\"convertToInteractive('df-ba306b78-883d-4528-a8ae-3e501890c8ce')\"\n",
              "              title=\"Convert this dataframe to an interactive table.\"\n",
              "              style=\"display:none;\">\n",
              "        \n",
              "  <svg xmlns=\"http://www.w3.org/2000/svg\" height=\"24px\"viewBox=\"0 0 24 24\"\n",
              "       width=\"24px\">\n",
              "    <path d=\"M0 0h24v24H0V0z\" fill=\"none\"/>\n",
              "    <path d=\"M18.56 5.44l.94 2.06.94-2.06 2.06-.94-2.06-.94-.94-2.06-.94 2.06-2.06.94zm-11 1L8.5 8.5l.94-2.06 2.06-.94-2.06-.94L8.5 2.5l-.94 2.06-2.06.94zm10 10l.94 2.06.94-2.06 2.06-.94-2.06-.94-.94-2.06-.94 2.06-2.06.94z\"/><path d=\"M17.41 7.96l-1.37-1.37c-.4-.4-.92-.59-1.43-.59-.52 0-1.04.2-1.43.59L10.3 9.45l-7.72 7.72c-.78.78-.78 2.05 0 2.83L4 21.41c.39.39.9.59 1.41.59.51 0 1.02-.2 1.41-.59l7.78-7.78 2.81-2.81c.8-.78.8-2.07 0-2.86zM5.41 20L4 18.59l7.72-7.72 1.47 1.35L5.41 20z\"/>\n",
              "  </svg>\n",
              "      </button>\n",
              "      \n",
              "  <style>\n",
              "    .colab-df-container {\n",
              "      display:flex;\n",
              "      flex-wrap:wrap;\n",
              "      gap: 12px;\n",
              "    }\n",
              "\n",
              "    .colab-df-convert {\n",
              "      background-color: #E8F0FE;\n",
              "      border: none;\n",
              "      border-radius: 50%;\n",
              "      cursor: pointer;\n",
              "      display: none;\n",
              "      fill: #1967D2;\n",
              "      height: 32px;\n",
              "      padding: 0 0 0 0;\n",
              "      width: 32px;\n",
              "    }\n",
              "\n",
              "    .colab-df-convert:hover {\n",
              "      background-color: #E2EBFA;\n",
              "      box-shadow: 0px 1px 2px rgba(60, 64, 67, 0.3), 0px 1px 3px 1px rgba(60, 64, 67, 0.15);\n",
              "      fill: #174EA6;\n",
              "    }\n",
              "\n",
              "    [theme=dark] .colab-df-convert {\n",
              "      background-color: #3B4455;\n",
              "      fill: #D2E3FC;\n",
              "    }\n",
              "\n",
              "    [theme=dark] .colab-df-convert:hover {\n",
              "      background-color: #434B5C;\n",
              "      box-shadow: 0px 1px 3px 1px rgba(0, 0, 0, 0.15);\n",
              "      filter: drop-shadow(0px 1px 2px rgba(0, 0, 0, 0.3));\n",
              "      fill: #FFFFFF;\n",
              "    }\n",
              "  </style>\n",
              "\n",
              "      <script>\n",
              "        const buttonEl =\n",
              "          document.querySelector('#df-ba306b78-883d-4528-a8ae-3e501890c8ce button.colab-df-convert');\n",
              "        buttonEl.style.display =\n",
              "          google.colab.kernel.accessAllowed ? 'block' : 'none';\n",
              "\n",
              "        async function convertToInteractive(key) {\n",
              "          const element = document.querySelector('#df-ba306b78-883d-4528-a8ae-3e501890c8ce');\n",
              "          const dataTable =\n",
              "            await google.colab.kernel.invokeFunction('convertToInteractive',\n",
              "                                                     [key], {});\n",
              "          if (!dataTable) return;\n",
              "\n",
              "          const docLinkHtml = 'Like what you see? Visit the ' +\n",
              "            '<a target=\"_blank\" href=https://colab.research.google.com/notebooks/data_table.ipynb>data table notebook</a>'\n",
              "            + ' to learn more about interactive tables.';\n",
              "          element.innerHTML = '';\n",
              "          dataTable['output_type'] = 'display_data';\n",
              "          await google.colab.output.renderOutput(dataTable, element);\n",
              "          const docLink = document.createElement('div');\n",
              "          docLink.innerHTML = docLinkHtml;\n",
              "          element.appendChild(docLink);\n",
              "        }\n",
              "      </script>\n",
              "    </div>\n",
              "  </div>\n",
              "  "
            ]
          },
          "metadata": {},
          "execution_count": 81
        }
      ]
    },
    {
      "cell_type": "markdown",
      "metadata": {
        "id": "aLTT0FSRtQ6e"
      },
      "source": [
        "#### Кодирование категориальных признаков"
      ]
    },
    {
      "cell_type": "markdown",
      "metadata": {
        "id": "nW0lxm2TtQ6e"
      },
      "source": [
        "С целью исключения категориальных признаков для обучения модели преобразовать категориальные признаки в численные поможет техника прямого кодирования, или отображения (англ. One-Hot Encoding, OHE)"
      ]
    },
    {
      "cell_type": "code",
      "execution_count": null,
      "metadata": {
        "id": "zOvWuJ3OtQ6e"
      },
      "outputs": [],
      "source": [
        "df = pd.get_dummies (df, columns=['selected_cartontype', 'recommended_cartontype', 'cargotype', 'description'], drop_first= True)"
      ]
    },
    {
      "cell_type": "code",
      "source": [
        "df.head()"
      ],
      "metadata": {
        "id": "wcutL7w3Vb7B"
      },
      "execution_count": null,
      "outputs": []
    },
    {
      "cell_type": "markdown",
      "metadata": {
        "id": "x3HG6_0CtQ6e"
      },
      "source": [
        "**************"
      ]
    },
    {
      "cell_type": "markdown",
      "metadata": {
        "id": "JiJ1ZRpstQ6e"
      },
      "source": [
        "#### Разделение данных на обучающую 75% и тестовую выборку 25%"
      ]
    },
    {
      "cell_type": "code",
      "execution_count": null,
      "metadata": {
        "id": "buSHA8RHtQ6e"
      },
      "outputs": [],
      "source": [
        "train, test = train_test_split(df, test_size=0.25, random_state=42)  "
      ]
    },
    {
      "cell_type": "markdown",
      "metadata": {
        "id": "-SirlDbDtQ6e"
      },
      "source": [
        "Проверка размера выборок"
      ]
    },
    {
      "cell_type": "code",
      "execution_count": null,
      "metadata": {
        "id": "eUwxOdg9tQ6f"
      },
      "outputs": [],
      "source": [
        "len(df) - len(train) - len(test)"
      ]
    },
    {
      "cell_type": "markdown",
      "metadata": {
        "id": "kkdupMYvtQ6f"
      },
      "source": [
        "**************"
      ]
    },
    {
      "cell_type": "markdown",
      "metadata": {
        "id": "NImq3maQtQ6f"
      },
      "source": [
        "#### Масштабирование признаков\n",
        "\n",
        "Приведение непрерывных значений признаков к единому масштабу."
      ]
    },
    {
      "cell_type": "markdown",
      "metadata": {
        "id": "4P7ddVhjtQ6f"
      },
      "source": [
        "Для выборки train применяется метод fit и transform совместно - fit_transform, а для выборки test - transform"
      ]
    },
    {
      "cell_type": "code",
      "execution_count": null,
      "metadata": {
        "id": "r4Q7DlcatQ6f"
      },
      "outputs": [],
      "source": [
        "numeric = ['box_num', 'sel_calc_cube', 'pack_volume', 'rec_calc_cube', 'goods_wght', 'a', 'b', 'c']"
      ]
    },
    {
      "cell_type": "code",
      "execution_count": null,
      "metadata": {
        "id": "JCsV8lBYtQ6f"
      },
      "outputs": [],
      "source": [
        "scaler = StandardScaler()"
      ]
    },
    {
      "cell_type": "code",
      "execution_count": null,
      "metadata": {
        "id": "dUTdQiNvtQ6f"
      },
      "outputs": [],
      "source": [
        "train[numeric] = scaler.fit_transform(train[numeric])"
      ]
    },
    {
      "cell_type": "code",
      "execution_count": null,
      "metadata": {
        "id": "fH_D8ilqtQ6f"
      },
      "outputs": [],
      "source": [
        "test[numeric] = scaler.transform(test[numeric])"
      ]
    },
    {
      "cell_type": "code",
      "source": [
        "train"
      ],
      "metadata": {
        "id": "Pg7ToRyw9yIl",
        "outputId": "df15460d-f6bf-4f8e-d6e9-1f23b79d9f25",
        "colab": {
          "base_uri": "https://localhost:8080/",
          "height": 540
        }
      },
      "execution_count": null,
      "outputs": [
        {
          "output_type": "execute_result",
          "data": {
            "text/plain": [
              "        box_num  sel_calc_cube  pack_volume  rec_calc_cube  goods_wght     a  \\\n",
              "535719    -0.11          -0.02        -0.07          -0.10        0.04 -0.71   \n",
              "66503     -0.11           0.62        -0.29          -0.03       -0.37 -0.43   \n",
              "28450     -0.11           0.95         0.31           1.18        1.24 -0.36   \n",
              "545236    -0.11          -0.71        -0.26          -0.78       -0.32 -0.71   \n",
              "137443    -0.11          -0.71        -0.26          -1.10       -0.40 -0.50   \n",
              "...         ...            ...          ...            ...         ...   ...   \n",
              "110268    -0.11          -0.02        -0.17          -0.10       -0.32 -0.64   \n",
              "259178    -0.11          -0.71        -0.16          -0.03       -0.17 -0.23   \n",
              "365838    -0.11          -0.67        -0.17          -0.74       -0.14 -0.57   \n",
              "131932    -0.11           0.95        -0.28           0.85       -0.37 -0.77   \n",
              "121958    -0.11          -0.71        -0.28          -1.10       -0.39 -0.10   \n",
              "\n",
              "           b     c  selected_cartontype_MYB  selected_cartontype_MYC  \\\n",
              "535719  1.84  0.17                        0                        1   \n",
              "66503  -1.14 -0.42                        0                        0   \n",
              "28450   1.43  1.15                        0                        0   \n",
              "545236  0.30 -0.81                        1                        0   \n",
              "137443 -1.14 -0.71                        1                        0   \n",
              "...      ...   ...                      ...                      ...   \n",
              "110268  0.60 -0.12                        0                        1   \n",
              "259178 -0.22 -0.03                        1                        0   \n",
              "365838  1.12 -0.50                        0                        0   \n",
              "131932 -0.73 -0.32                        0                        0   \n",
              "121958 -0.93 -0.81                        1                        0   \n",
              "\n",
              "        selected_cartontype_MYD  selected_cartontype_MYE  \\\n",
              "535719                        0                        0   \n",
              "66503                         0                        0   \n",
              "28450                         1                        0   \n",
              "545236                        0                        0   \n",
              "137443                        0                        0   \n",
              "...                         ...                      ...   \n",
              "110268                        0                        0   \n",
              "259178                        0                        0   \n",
              "365838                        0                        0   \n",
              "131932                        1                        0   \n",
              "121958                        0                        0   \n",
              "\n",
              "        selected_cartontype_MYF  selected_cartontype_NONPACK  \\\n",
              "535719                        0                            0   \n",
              "66503                         0                            0   \n",
              "28450                         0                            0   \n",
              "545236                        0                            0   \n",
              "137443                        0                            0   \n",
              "...                         ...                          ...   \n",
              "110268                        0                            0   \n",
              "259178                        0                            0   \n",
              "365838                        0                            0   \n",
              "131932                        0                            0   \n",
              "121958                        0                            0   \n",
              "\n",
              "        selected_cartontype_STRETCH  selected_cartontype_YMA  \\\n",
              "535719                            0                        0   \n",
              "66503                             0                        0   \n",
              "28450                             0                        0   \n",
              "545236                            0                        0   \n",
              "137443                            0                        0   \n",
              "...                             ...                      ...   \n",
              "110268                            0                        0   \n",
              "259178                            0                        0   \n",
              "365838                            0                        1   \n",
              "131932                            0                        0   \n",
              "121958                            0                        0   \n",
              "\n",
              "        selected_cartontype_YMC  selected_cartontype_YMF  \\\n",
              "535719                        0                        0   \n",
              "66503                         0                        1   \n",
              "28450                         0                        0   \n",
              "545236                        0                        0   \n",
              "137443                        0                        0   \n",
              "...                         ...                      ...   \n",
              "110268                        0                        0   \n",
              "259178                        0                        0   \n",
              "365838                        0                        0   \n",
              "131932                        0                        0   \n",
              "121958                        0                        0   \n",
              "\n",
              "        selected_cartontype_YMG  selected_cartontype_YMW  \\\n",
              "535719                        0                        0   \n",
              "66503                         0                        0   \n",
              "28450                         0                        0   \n",
              "545236                        0                        0   \n",
              "137443                        0                        0   \n",
              "...                         ...                      ...   \n",
              "110268                        0                        0   \n",
              "259178                        0                        0   \n",
              "365838                        0                        0   \n",
              "131932                        0                        0   \n",
              "121958                        0                        0   \n",
              "\n",
              "        recommended_cartontype_MYB  recommended_cartontype_MYC  \\\n",
              "535719                           0                           1   \n",
              "66503                            0                           0   \n",
              "28450                            0                           0   \n",
              "545236                           0                           0   \n",
              "137443                           0                           0   \n",
              "...                            ...                         ...   \n",
              "110268                           0                           1   \n",
              "259178                           0                           0   \n",
              "365838                           0                           0   \n",
              "131932                           0                           0   \n",
              "121958                           0                           0   \n",
              "\n",
              "        recommended_cartontype_MYD  recommended_cartontype_MYE  \\\n",
              "535719                           0                           0   \n",
              "66503                            0                           0   \n",
              "28450                            0                           0   \n",
              "545236                           0                           0   \n",
              "137443                           0                           0   \n",
              "...                            ...                         ...   \n",
              "110268                           0                           0   \n",
              "259178                           0                           0   \n",
              "365838                           0                           0   \n",
              "131932                           1                           0   \n",
              "121958                           0                           0   \n",
              "\n",
              "        recommended_cartontype_MYF  recommended_cartontype_NONPACK  \\\n",
              "535719                           0                               0   \n",
              "66503                            0                               0   \n",
              "28450                            0                               0   \n",
              "545236                           0                               0   \n",
              "137443                           0                               0   \n",
              "...                            ...                             ...   \n",
              "110268                           0                               0   \n",
              "259178                           0                               0   \n",
              "365838                           0                               0   \n",
              "131932                           0                               0   \n",
              "121958                           0                               0   \n",
              "\n",
              "        recommended_cartontype_STRETCH  recommended_cartontype_YMA  \\\n",
              "535719                               0                           0   \n",
              "66503                                0                           0   \n",
              "28450                                0                           0   \n",
              "545236                               0                           1   \n",
              "137443                               0                           0   \n",
              "...                                ...                         ...   \n",
              "110268                               0                           0   \n",
              "259178                               0                           0   \n",
              "365838                               0                           1   \n",
              "131932                               0                           0   \n",
              "121958                               0                           0   \n",
              "\n",
              "        recommended_cartontype_YMC  recommended_cartontype_YMF  \\\n",
              "535719                           0                           0   \n",
              "66503                            1                           0   \n",
              "28450                            0                           0   \n",
              "545236                           0                           0   \n",
              "137443                           0                           0   \n",
              "...                            ...                         ...   \n",
              "110268                           0                           0   \n",
              "259178                           1                           0   \n",
              "365838                           0                           0   \n",
              "131932                           0                           0   \n",
              "121958                           0                           0   \n",
              "\n",
              "        recommended_cartontype_YMG  recommended_cartontype_YMT  \\\n",
              "535719                           0                           0   \n",
              "66503                            0                           0   \n",
              "28450                            0                           0   \n",
              "545236                           0                           0   \n",
              "137443                           0                           0   \n",
              "...                            ...                         ...   \n",
              "110268                           0                           0   \n",
              "259178                           0                           0   \n",
              "365838                           0                           0   \n",
              "131932                           0                           0   \n",
              "121958                           0                           0   \n",
              "\n",
              "        recommended_cartontype_YMU  recommended_cartontype_YMV  \\\n",
              "535719                           0                           0   \n",
              "66503                            0                           0   \n",
              "28450                            0                           0   \n",
              "545236                           0                           0   \n",
              "137443                           0                           0   \n",
              "...                            ...                         ...   \n",
              "110268                           0                           0   \n",
              "259178                           0                           0   \n",
              "365838                           0                           0   \n",
              "131932                           0                           0   \n",
              "121958                           0                           0   \n",
              "\n",
              "        recommended_cartontype_YMW  cargotype_20.0  cargotype_40.0  \\\n",
              "535719                           0               0               0   \n",
              "66503                            0               0               0   \n",
              "28450                            1               0               0   \n",
              "545236                           0               0               0   \n",
              "137443                           0               0               0   \n",
              "...                            ...             ...             ...   \n",
              "110268                           0               0               0   \n",
              "259178                           0               0               0   \n",
              "365838                           0               0               0   \n",
              "131932                           0               0               0   \n",
              "121958                           0               0               0   \n",
              "\n",
              "        cargotype_81.0  cargotype_110.0  cargotype_120.0  cargotype_130.0  \\\n",
              "535719               0                0                0                0   \n",
              "66503                0                0                0                0   \n",
              "28450                0                0                0                0   \n",
              "545236               0                0                0                0   \n",
              "137443               0                0                0                0   \n",
              "...                ...              ...              ...              ...   \n",
              "110268               0                0                0                0   \n",
              "259178               0                0                0                0   \n",
              "365838               0                0                0                0   \n",
              "131932               0                0                0                0   \n",
              "121958               0                0                0                0   \n",
              "\n",
              "        cargotype_140.0  cargotype_160.0  cargotype_200.0  cargotype_210.0  \\\n",
              "535719                0                0                0                0   \n",
              "66503                 0                0                0                0   \n",
              "28450                 0                0                0                0   \n",
              "545236                0                0                0                0   \n",
              "137443                0                0                0                0   \n",
              "...                 ...              ...              ...              ...   \n",
              "110268                0                0                0                0   \n",
              "259178                0                0                0                0   \n",
              "365838                0                0                0                0   \n",
              "131932                0                0                0                0   \n",
              "121958                0                0                0                0   \n",
              "\n",
              "        cargotype_290.0  cargotype_291.0  cargotype_292.0  cargotype_300.0  \\\n",
              "535719                1                0                0                0   \n",
              "66503                 0                0                0                0   \n",
              "28450                 0                0                0                0   \n",
              "545236                0                0                0                0   \n",
              "137443                0                0                0                0   \n",
              "...                 ...              ...              ...              ...   \n",
              "110268                0                0                0                0   \n",
              "259178                1                0                0                0   \n",
              "365838                0                0                0                0   \n",
              "131932                1                0                0                0   \n",
              "121958                0                0                0                0   \n",
              "\n",
              "        cargotype_301.0  cargotype_302.0  cargotype_303.0  cargotype_305.0  \\\n",
              "535719                0                0                0                0   \n",
              "66503                 0                0                0                0   \n",
              "28450                 0                0                0                0   \n",
              "545236                0                0                0                0   \n",
              "137443                0                0                0                0   \n",
              "...                 ...              ...              ...              ...   \n",
              "110268                0                0                0                0   \n",
              "259178                0                0                0                0   \n",
              "365838                0                0                0                0   \n",
              "131932                0                0                0                0   \n",
              "121958                0                0                0                0   \n",
              "\n",
              "        cargotype_310.0  cargotype_315.0  cargotype_320.0  cargotype_330.0  \\\n",
              "535719                0                0                0                0   \n",
              "66503                 0                0                0                0   \n",
              "28450                 0                0                0                0   \n",
              "545236                0                0                0                0   \n",
              "137443                0                0                0                0   \n",
              "...                 ...              ...              ...              ...   \n",
              "110268                0                0                0                0   \n",
              "259178                0                0                0                0   \n",
              "365838                0                0                0                0   \n",
              "131932                0                0                0                0   \n",
              "121958                0                0                0                0   \n",
              "\n",
              "        cargotype_340.0  cargotype_350.0  cargotype_360.0  cargotype_400.0  \\\n",
              "535719                0                0                0                0   \n",
              "66503                 0                0                0                0   \n",
              "28450                 0                0                0                0   \n",
              "545236                0                0                0                0   \n",
              "137443                0                0                0                0   \n",
              "...                 ...              ...              ...              ...   \n",
              "110268                0                0                0                0   \n",
              "259178                0                0                0                0   \n",
              "365838                0                0                0                0   \n",
              "131932                0                0                0                0   \n",
              "121958                0                0                0                0   \n",
              "\n",
              "        cargotype_410.0  cargotype_440.0  cargotype_441.0  cargotype_460.0  \\\n",
              "535719                0                0                0                0   \n",
              "66503                 0                0                0                0   \n",
              "28450                 1                0                0                0   \n",
              "545236                0                0                0                0   \n",
              "137443                0                0                0                0   \n",
              "...                 ...              ...              ...              ...   \n",
              "110268                1                0                0                0   \n",
              "259178                0                0                0                0   \n",
              "365838                0                0                0                0   \n",
              "131932                0                0                0                0   \n",
              "121958                0                1                0                0   \n",
              "\n",
              "        cargotype_480.0  cargotype_485.0  cargotype_490.0  cargotype_510.0  \\\n",
              "535719                0                0                0                0   \n",
              "66503                 0                0                0                0   \n",
              "28450                 0                0                0                0   \n",
              "545236                0                0                0                0   \n",
              "137443                0                0                0                0   \n",
              "...                 ...              ...              ...              ...   \n",
              "110268                0                0                0                0   \n",
              "259178                0                0                0                0   \n",
              "365838                0                0                0                0   \n",
              "131932                0                0                0                0   \n",
              "121958                0                0                0                0   \n",
              "\n",
              "        cargotype_520.0  cargotype_600.0  cargotype_601.0  cargotype_610.0  \\\n",
              "535719                0                0                0                0   \n",
              "66503                 0                0                0                0   \n",
              "28450                 0                0                0                0   \n",
              "545236                0                0                0                0   \n",
              "137443                0                0                0                0   \n",
              "...                 ...              ...              ...              ...   \n",
              "110268                0                0                0                0   \n",
              "259178                0                0                0                0   \n",
              "365838                1                0                0                0   \n",
              "131932                0                0                0                0   \n",
              "121958                0                0                0                0   \n",
              "\n",
              "        cargotype_611.0  cargotype_620.0  cargotype_621.0  cargotype_622.0  \\\n",
              "535719                0                0                0                0   \n",
              "66503                 0                0                0                0   \n",
              "28450                 0                0                0                0   \n",
              "545236                0                0                0                0   \n",
              "137443                0                0                0                0   \n",
              "...                 ...              ...              ...              ...   \n",
              "110268                0                0                0                0   \n",
              "259178                0                0                0                0   \n",
              "365838                0                0                0                0   \n",
              "131932                0                0                0                0   \n",
              "121958                0                0                0                0   \n",
              "\n",
              "        cargotype_623.0  cargotype_640.0  cargotype_641.0  cargotype_670.0  \\\n",
              "535719                0                0                0                0   \n",
              "66503                 0                0                0                0   \n",
              "28450                 0                0                0                0   \n",
              "545236                0                0                0                0   \n",
              "137443                0                0                0                0   \n",
              "...                 ...              ...              ...              ...   \n",
              "110268                0                0                0                0   \n",
              "259178                0                0                0                0   \n",
              "365838                0                0                0                0   \n",
              "131932                0                0                0                0   \n",
              "121958                0                0                0                0   \n",
              "\n",
              "        cargotype_671.0  cargotype_672.0  cargotype_673.0  cargotype_690.0  \\\n",
              "535719                0                0                0                0   \n",
              "66503                 0                0                0                0   \n",
              "28450                 0                0                0                0   \n",
              "545236                0                0                0                0   \n",
              "137443                0                0                0                1   \n",
              "...                 ...              ...              ...              ...   \n",
              "110268                0                0                0                0   \n",
              "259178                0                0                0                0   \n",
              "365838                0                0                0                0   \n",
              "131932                0                0                0                0   \n",
              "121958                0                0                0                0   \n",
              "\n",
              "        cargotype_691.0  cargotype_692.0  cargotype_710.0  cargotype_720.0  \\\n",
              "535719                0                0                0                0   \n",
              "66503                 0                0                0                0   \n",
              "28450                 0                0                0                0   \n",
              "545236                0                0                0                0   \n",
              "137443                0                0                0                0   \n",
              "...                 ...              ...              ...              ...   \n",
              "110268                0                0                0                0   \n",
              "259178                0                0                0                0   \n",
              "365838                0                0                0                0   \n",
              "131932                0                0                0                0   \n",
              "121958                0                0                0                0   \n",
              "\n",
              "        cargotype_750.0  cargotype_751.0  cargotype_770.0  cargotype_780.0  \\\n",
              "535719                0                0                0                0   \n",
              "66503                 0                0                0                0   \n",
              "28450                 0                0                0                0   \n",
              "545236                0                0                0                0   \n",
              "137443                0                0                0                0   \n",
              "...                 ...              ...              ...              ...   \n",
              "110268                0                0                0                0   \n",
              "259178                0                0                0                0   \n",
              "365838                0                0                0                0   \n",
              "131932                0                0                0                0   \n",
              "121958                0                0                0                0   \n",
              "\n",
              "        cargotype_790.0  cargotype_799.0  cargotype_801.0  cargotype_900.0  \\\n",
              "535719                0                0                0                0   \n",
              "66503                 0                0                0                0   \n",
              "28450                 0                0                0                0   \n",
              "545236                0                0                0                0   \n",
              "137443                0                0                0                0   \n",
              "...                 ...              ...              ...              ...   \n",
              "110268                0                0                0                0   \n",
              "259178                0                0                0                0   \n",
              "365838                0                0                0                0   \n",
              "131932                0                0                0                0   \n",
              "121958                0                0                0                0   \n",
              "\n",
              "        cargotype_901.0  cargotype_905.0  cargotype_908.0  cargotype_910.0  \\\n",
              "535719                0                0                0                0   \n",
              "66503                 0                0                0                0   \n",
              "28450                 0                0                0                0   \n",
              "545236                0                0                0                1   \n",
              "137443                0                0                0                0   \n",
              "...                 ...              ...              ...              ...   \n",
              "110268                0                0                0                0   \n",
              "259178                0                0                0                0   \n",
              "365838                0                0                0                0   \n",
              "131932                0                0                0                0   \n",
              "121958                0                0                0                0   \n",
              "\n",
              "        cargotype_920.0  cargotype_931.0  cargotype_950.0  cargotype_955.0  \\\n",
              "535719                0                0                0                0   \n",
              "66503                 1                0                0                0   \n",
              "28450                 0                0                0                0   \n",
              "545236                0                0                0                0   \n",
              "137443                0                0                0                0   \n",
              "...                 ...              ...              ...              ...   \n",
              "110268                0                0                0                0   \n",
              "259178                0                0                0                0   \n",
              "365838                0                0                0                0   \n",
              "131932                0                0                0                0   \n",
              "121958                0                0                0                0   \n",
              "\n",
              "        cargotype_960.0  cargotype_970.0  cargotype_980.0  cargotype_990.0  \\\n",
              "535719                0                0                0                0   \n",
              "66503                 0                0                0                0   \n",
              "28450                 0                0                0                0   \n",
              "545236                0                0                0                0   \n",
              "137443                0                0                0                0   \n",
              "...                 ...              ...              ...              ...   \n",
              "110268                0                0                0                0   \n",
              "259178                0                0                0                0   \n",
              "365838                0                0                0                0   \n",
              "131932                0                0                0                0   \n",
              "121958                0                0                0                0   \n",
              "\n",
              "        cargotype_1010.0  cargotype_1300.0  description_Нельзя на ФФЦ и СЦ  \\\n",
              "535719                 0                 0                               0   \n",
              "66503                  0                 0                               0   \n",
              "28450                  0                 0                               0   \n",
              "545236                 0                 0                               0   \n",
              "137443                 0                 0                               0   \n",
              "...                  ...               ...                             ...   \n",
              "110268                 0                 0                               0   \n",
              "259178                 0                 0                               0   \n",
              "365838                 0                 0                               0   \n",
              "131932                 0                 0                               0   \n",
              "121958                 0                 0                               0   \n",
              "\n",
              "        description_Потребует обязательной маркировки в ближайшем будущем  \\\n",
              "535719                                                  0                   \n",
              "66503                                                   0                   \n",
              "28450                                                   0                   \n",
              "545236                                                  0                   \n",
              "137443                                                  0                   \n",
              "...                                                   ...                   \n",
              "110268                                                  0                   \n",
              "259178                                                  0                   \n",
              "365838                                                  0                   \n",
              "131932                                                  0                   \n",
              "121958                                                  0                   \n",
              "\n",
              "        description_Склад КГТ (крупногабаритный товар)  \\\n",
              "535719                                               0   \n",
              "66503                                                0   \n",
              "28450                                                0   \n",
              "545236                                               0   \n",
              "137443                                               0   \n",
              "...                                                ...   \n",
              "110268                                               0   \n",
              "259178                                               0   \n",
              "365838                                               0   \n",
              "131932                                               0   \n",
              "121958                                               0   \n",
              "\n",
              "        description_Склад МГТ (малогабаритный товар)  \\\n",
              "535719                                             1   \n",
              "66503                                              0   \n",
              "28450                                              0   \n",
              "545236                                             0   \n",
              "137443                                             0   \n",
              "...                                              ...   \n",
              "110268                                             0   \n",
              "259178                                             1   \n",
              "365838                                             0   \n",
              "131932                                             1   \n",
              "121958                                             0   \n",
              "\n",
              "        description_Склад СГТ (среднегабаритный товар)  \\\n",
              "535719                                               0   \n",
              "66503                                                0   \n",
              "28450                                                0   \n",
              "545236                                               0   \n",
              "137443                                               0   \n",
              "...                                                ...   \n",
              "110268                                               0   \n",
              "259178                                               0   \n",
              "365838                                               0   \n",
              "131932                                               0   \n",
              "121958                                               0   \n",
              "\n",
              "        description_Терморежим 13-22  \\\n",
              "535719                             0   \n",
              "66503                              1   \n",
              "28450                              0   \n",
              "545236                             0   \n",
              "137443                             0   \n",
              "...                              ...   \n",
              "110268                             0   \n",
              "259178                             0   \n",
              "365838                             0   \n",
              "131932                             0   \n",
              "121958                             0   \n",
              "\n",
              "        description_Требует обязательной маркировки  description_агрохимикаты  \\\n",
              "535719                                            0                         0   \n",
              "66503                                             0                         0   \n",
              "28450                                             0                         0   \n",
              "545236                                            0                         0   \n",
              "137443                                            0                         0   \n",
              "...                                             ...                       ...   \n",
              "110268                                            0                         0   \n",
              "259178                                            0                         0   \n",
              "365838                                            0                         0   \n",
              "131932                                            0                         0   \n",
              "121958                                            0                         0   \n",
              "\n",
              "        description_аксессуары, часы и украшения  description_аптека  \\\n",
              "535719                                         0                   0   \n",
              "66503                                          0                   0   \n",
              "28450                                          0                   0   \n",
              "545236                                         0                   0   \n",
              "137443                                         0                   0   \n",
              "...                                          ...                 ...   \n",
              "110268                                         0                   0   \n",
              "259178                                         0                   0   \n",
              "365838                                         0                   0   \n",
              "131932                                         0                   0   \n",
              "121958                                         0                   0   \n",
              "\n",
              "        description_большой аксессуар  description_бытовая техника  \\\n",
              "535719                              0                            0   \n",
              "66503                               0                            0   \n",
              "28450                               0                            0   \n",
              "545236                              0                            0   \n",
              "137443                              0                            0   \n",
              "...                               ...                          ...   \n",
              "110268                              0                            0   \n",
              "259178                              0                            0   \n",
              "365838                              0                            0   \n",
              "131932                              0                            0   \n",
              "121958                              0                            0   \n",
              "\n",
              "        description_бытовая химия  description_в ассортименте  \\\n",
              "535719                          0                           0   \n",
              "66503                           0                           0   \n",
              "28450                           0                           0   \n",
              "545236                          0                           0   \n",
              "137443                          0                           0   \n",
              "...                           ...                         ...   \n",
              "110268                          0                           0   \n",
              "259178                          0                           0   \n",
              "365838                          0                           0   \n",
              "131932                          0                           0   \n",
              "121958                          0                           0   \n",
              "\n",
              "        description_ветеринарная аптека  \\\n",
              "535719                                0   \n",
              "66503                                 0   \n",
              "28450                                 0   \n",
              "545236                                0   \n",
              "137443                                0   \n",
              "...                                 ...   \n",
              "110268                                0   \n",
              "259178                                0   \n",
              "365838                                0   \n",
              "131932                                0   \n",
              "121958                                0   \n",
              "\n",
              "        description_возможно вскрытие заводской упаковки покупателем  \\\n",
              "535719                                                  0              \n",
              "66503                                                   0              \n",
              "28450                                                   0              \n",
              "545236                                                  0              \n",
              "137443                                                  0              \n",
              "...                                                   ...              \n",
              "110268                                                  0              \n",
              "259178                                                  0              \n",
              "365838                                                  0              \n",
              "131932                                                  0              \n",
              "121958                                                  0              \n",
              "\n",
              "        description_возрастное ограничение на получение товара  \\\n",
              "535719                                                  0        \n",
              "66503                                                   0        \n",
              "28450                                                   0        \n",
              "545236                                                  0        \n",
              "137443                                                  0        \n",
              "...                                                   ...        \n",
              "110268                                                  0        \n",
              "259178                                                  0        \n",
              "365838                                                  0        \n",
              "131932                                                  0        \n",
              "121958                                                  0        \n",
              "\n",
              "        description_впитывает запах  description_готовое блюда  \\\n",
              "535719                            0                          0   \n",
              "66503                             0                          0   \n",
              "28450                             0                          0   \n",
              "545236                            0                          0   \n",
              "137443                            0                          0   \n",
              "...                             ...                        ...   \n",
              "110268                            0                          0   \n",
              "259178                            0                          0   \n",
              "365838                            0                          0   \n",
              "131932                            0                          0   \n",
              "121958                            0                          0   \n",
              "\n",
              "        description_детские игрушки и игры  description_жидкость  \\\n",
              "535719                                   0                     0   \n",
              "66503                                    0                     0   \n",
              "28450                                    0                     0   \n",
              "545236                                   0                     0   \n",
              "137443                                   0                     0   \n",
              "...                                    ...                   ...   \n",
              "110268                                   0                     0   \n",
              "259178                                   0                     0   \n",
              "365838                                   0                     1   \n",
              "131932                                   0                     0   \n",
              "121958                                   0                     0   \n",
              "\n",
              "        description_интим товар  description_керамика/стекло/камень/фарфор  \\\n",
              "535719                        0                                          0   \n",
              "66503                         0                                          0   \n",
              "28450                         0                                          0   \n",
              "545236                        1                                          0   \n",
              "137443                        0                                          0   \n",
              "...                         ...                                        ...   \n",
              "110268                        0                                          0   \n",
              "259178                        0                                          0   \n",
              "365838                        0                                          0   \n",
              "131932                        0                                          0   \n",
              "121958                        0                                          0   \n",
              "\n",
              "        description_консервы  description_корма для животных  \\\n",
              "535719                     0                               0   \n",
              "66503                      0                               0   \n",
              "28450                      0                               0   \n",
              "545236                     0                               0   \n",
              "137443                     0                               0   \n",
              "...                      ...                             ...   \n",
              "110268                     0                               0   \n",
              "259178                     0                               0   \n",
              "365838                     0                               0   \n",
              "131932                     0                               0   \n",
              "121958                     0                               0   \n",
              "\n",
              "        description_косметика и парфюмерия  description_мебель  \\\n",
              "535719                                   0                   0   \n",
              "66503                                    0                   0   \n",
              "28450                                    0                   0   \n",
              "545236                                   0                   0   \n",
              "137443                                   0                   0   \n",
              "...                                    ...                 ...   \n",
              "110268                                   0                   0   \n",
              "259178                                   0                   0   \n",
              "365838                                   0                   0   \n",
              "131932                                   0                   0   \n",
              "121958                                   1                   0   \n",
              "\n",
              "        description_медикаменты  description_меркурий  description_мнется  \\\n",
              "535719                        0                     0                   0   \n",
              "66503                         0                     0                   0   \n",
              "28450                         0                     0                   0   \n",
              "545236                        0                     0                   0   \n",
              "137443                        0                     0                   0   \n",
              "...                         ...                   ...                 ...   \n",
              "110268                        0                     0                   0   \n",
              "259178                        0                     0                   0   \n",
              "365838                        0                     0                   0   \n",
              "131932                        0                     0                   0   \n",
              "121958                        0                     0                   0   \n",
              "\n",
              "        description_многоместный товар  description_не определен  \\\n",
              "535719                               0                         0   \n",
              "66503                                0                         0   \n",
              "28450                                0                         0   \n",
              "545236                               0                         0   \n",
              "137443                               0                         0   \n",
              "...                                ...                       ...   \n",
              "110268                               0                         0   \n",
              "259178                               0                         0   \n",
              "365838                               0                         0   \n",
              "131932                               0                         0   \n",
              "121958                               0                         0   \n",
              "\n",
              "        description_не требует упаковки  description_нельзя примерить  \\\n",
              "535719                                0                             0   \n",
              "66503                                 0                             0   \n",
              "28450                                 0                             0   \n",
              "545236                                0                             0   \n",
              "137443                                0                             0   \n",
              "...                                 ...                           ...   \n",
              "110268                                0                             0   \n",
              "259178                                0                             0   \n",
              "365838                                0                             0   \n",
              "131932                                0                             0   \n",
              "121958                                0                             0   \n",
              "\n",
              "        description_обувь взрослая  description_обувь детская  \\\n",
              "535719                           0                          0   \n",
              "66503                            0                          0   \n",
              "28450                            0                          0   \n",
              "545236                           0                          0   \n",
              "137443                           0                          0   \n",
              "...                            ...                        ...   \n",
              "110268                           0                          0   \n",
              "259178                           0                          0   \n",
              "365838                           0                          0   \n",
              "131932                           0                          0   \n",
              "121958                           0                          0   \n",
              "\n",
              "        description_одежда верхняя  description_одежда детская  \\\n",
              "535719                           0                           0   \n",
              "66503                            0                           0   \n",
              "28450                            0                           0   \n",
              "545236                           0                           0   \n",
              "137443                           0                           0   \n",
              "...                            ...                         ...   \n",
              "110268                           0                           0   \n",
              "259178                           0                           0   \n",
              "365838                           0                           0   \n",
              "131932                           0                           0   \n",
              "121958                           0                           0   \n",
              "\n",
              "        description_одежда прочая  description_одежда с плечиками  \\\n",
              "535719                          0                               0   \n",
              "66503                           0                               0   \n",
              "28450                           0                               0   \n",
              "545236                          0                               0   \n",
              "137443                          0                               0   \n",
              "...                           ...                             ...   \n",
              "110268                          0                               0   \n",
              "259178                          0                               0   \n",
              "365838                          0                               0   \n",
              "131932                          0                               0   \n",
              "121958                          0                               0   \n",
              "\n",
              "        description_одежда, обувь, аксессуары  description_опасный  \\\n",
              "535719                                      0                    0   \n",
              "66503                                       0                    0   \n",
              "28450                                       0                    0   \n",
              "545236                                      0                    0   \n",
              "137443                                      0                    0   \n",
              "...                                       ...                  ...   \n",
              "110268                                      0                    0   \n",
              "259178                                      0                    0   \n",
              "365838                                      0                    0   \n",
              "131932                                      0                    0   \n",
              "121958                                      0                    0   \n",
              "\n",
              "        description_опасный Авиа  description_охлажденные  \\\n",
              "535719                         0                        0   \n",
              "66503                          0                        0   \n",
              "28450                          1                        0   \n",
              "545236                         0                        0   \n",
              "137443                         0                        0   \n",
              "...                          ...                      ...   \n",
              "110268                         1                        0   \n",
              "259178                         0                        0   \n",
              "365838                         0                        0   \n",
              "131932                         0                        0   \n",
              "121958                         0                        0   \n",
              "\n",
              "        description_пахучий  description_пачкает  description_пачкается  \\\n",
              "535719                    0                    0                      0   \n",
              "66503                     0                    0                      0   \n",
              "28450                     0                    0                      0   \n",
              "545236                    0                    0                      0   \n",
              "137443                    0                    0                      0   \n",
              "...                     ...                  ...                    ...   \n",
              "110268                    0                    0                      0   \n",
              "259178                    0                    0                      0   \n",
              "365838                    0                    0                      0   \n",
              "131932                    0                    0                      0   \n",
              "121958                    0                    0                      0   \n",
              "\n",
              "        description_пестициды  description_полуфабрикат  \\\n",
              "535719                      0                         0   \n",
              "66503                       0                         0   \n",
              "28450                       0                         0   \n",
              "545236                      0                         0   \n",
              "137443                      0                         0   \n",
              "...                       ...                       ...   \n",
              "110268                      0                         0   \n",
              "259178                      0                         0   \n",
              "365838                      0                         0   \n",
              "131932                      0                         0   \n",
              "121958                      0                         0   \n",
              "\n",
              "        description_продукты питания  description_ручки письменные  \\\n",
              "535719                             0                             0   \n",
              "66503                              0                             0   \n",
              "28450                              0                             0   \n",
              "545236                             0                             0   \n",
              "137443                             0                             0   \n",
              "...                              ...                           ...   \n",
              "110268                             0                             0   \n",
              "259178                             0                             0   \n",
              "365838                             0                             0   \n",
              "131932                             0                             0   \n",
              "121958                             0                             0   \n",
              "\n",
              "        description_семена  description_средства личной гигиены  \\\n",
              "535719                   0                                    0   \n",
              "66503                    0                                    0   \n",
              "28450                    0                                    0   \n",
              "545236                   0                                    0   \n",
              "137443                   0                                    0   \n",
              "...                    ...                                  ...   \n",
              "110268                   0                                    0   \n",
              "259178                   0                                    0   \n",
              "365838                   0                                    0   \n",
              "131932                   0                                    0   \n",
              "121958                   0                                    0   \n",
              "\n",
              "        description_строительные материалы  description_сухие  \\\n",
              "535719                                   0                  0   \n",
              "66503                                    0                  0   \n",
              "28450                                    0                  0   \n",
              "545236                                   0                  0   \n",
              "137443                                   0                  0   \n",
              "...                                    ...                ...   \n",
              "110268                                   0                  0   \n",
              "259178                                   0                  0   \n",
              "365838                                   0                  0   \n",
              "131932                                   0                  0   \n",
              "121958                                   0                  0   \n",
              "\n",
              "        description_сыпучее  description_сырье  \\\n",
              "535719                    0                  0   \n",
              "66503                     0                  0   \n",
              "28450                     0                  0   \n",
              "545236                    0                  0   \n",
              "137443                    0                  0   \n",
              "...                     ...                ...   \n",
              "110268                    0                  0   \n",
              "259178                    0                  0   \n",
              "365838                    0                  0   \n",
              "131932                    0                  0   \n",
              "121958                    0                  0   \n",
              "\n",
              "        description_техника и электроника  \\\n",
              "535719                                  0   \n",
              "66503                                   0   \n",
              "28450                                   0   \n",
              "545236                                  0   \n",
              "137443                                  0   \n",
              "...                                   ...   \n",
              "110268                                  0   \n",
              "259178                                  0   \n",
              "365838                                  0   \n",
              "131932                                  0   \n",
              "121958                                  0   \n",
              "\n",
              "        description_товары для авто и мототехники  \\\n",
              "535719                                          0   \n",
              "66503                                           0   \n",
              "28450                                           0   \n",
              "545236                                          0   \n",
              "137443                                          0   \n",
              "...                                           ...   \n",
              "110268                                          0   \n",
              "259178                                          0   \n",
              "365838                                          0   \n",
              "131932                                          0   \n",
              "121958                                          0   \n",
              "\n",
              "        description_товары для животных  description_товары для красоты  \\\n",
              "535719                                0                               0   \n",
              "66503                                 0                               0   \n",
              "28450                                 0                               0   \n",
              "545236                                0                               0   \n",
              "137443                                0                               0   \n",
              "...                                 ...                             ...   \n",
              "110268                                0                               0   \n",
              "259178                                0                               0   \n",
              "365838                                0                               0   \n",
              "131932                                0                               0   \n",
              "121958                                0                               0   \n",
              "\n",
              "        description_товары для спорта и отдыха  \\\n",
              "535719                                       0   \n",
              "66503                                        0   \n",
              "28450                                        0   \n",
              "545236                                       0   \n",
              "137443                                       0   \n",
              "...                                        ...   \n",
              "110268                                       0   \n",
              "259178                                       0   \n",
              "365838                                       0   \n",
              "131932                                       0   \n",
              "121958                                       0   \n",
              "\n",
              "        description_требует доставки с термо режимом 0+  \\\n",
              "535719                                                0   \n",
              "66503                                                 0   \n",
              "28450                                                 0   \n",
              "545236                                                0   \n",
              "137443                                                0   \n",
              "...                                                 ...   \n",
              "110268                                                0   \n",
              "259178                                                0   \n",
              "365838                                                0   \n",
              "131932                                                0   \n",
              "121958                                                0   \n",
              "\n",
              "        description_тяжеловесный и крупногабаритный  \\\n",
              "535719                                            0   \n",
              "66503                                             0   \n",
              "28450                                             0   \n",
              "545236                                            0   \n",
              "137443                                            0   \n",
              "...                                             ...   \n",
              "110268                                            0   \n",
              "259178                                            0   \n",
              "365838                                            0   \n",
              "131932                                            0   \n",
              "121958                                            0   \n",
              "\n",
              "        description_тяжеловесный и крупногабаритный 20кг  \\\n",
              "535719                                                 0   \n",
              "66503                                                  0   \n",
              "28450                                                  0   \n",
              "545236                                                 0   \n",
              "137443                                                 0   \n",
              "...                                                  ...   \n",
              "110268                                                 0   \n",
              "259178                                                 0   \n",
              "365838                                                 0   \n",
              "131932                                                 0   \n",
              "121958                                                 0   \n",
              "\n",
              "        description_тяжеловесный и крупногабаритный больше паллеты  \\\n",
              "535719                                                  0            \n",
              "66503                                                   0            \n",
              "28450                                                   0            \n",
              "545236                                                  0            \n",
              "137443                                                  0            \n",
              "...                                                   ...            \n",
              "110268                                                  0            \n",
              "259178                                                  0            \n",
              "365838                                                  0            \n",
              "131932                                                  0            \n",
              "121958                                                  0            \n",
              "\n",
              "        description_упаковка в пленку  description_фреш  description_химикаты  \\\n",
              "535719                              0                 0                     0   \n",
              "66503                               0                 0                     0   \n",
              "28450                               0                 0                     0   \n",
              "545236                              0                 0                     0   \n",
              "137443                              0                 0                     0   \n",
              "...                               ...               ...                   ...   \n",
              "110268                              0                 0                     0   \n",
              "259178                              0                 0                     0   \n",
              "365838                              0                 0                     0   \n",
              "131932                              0                 0                     0   \n",
              "121958                              0                 0                     0   \n",
              "\n",
              "        description_хрупкое  description_цена высокая  \\\n",
              "535719                    0                         0   \n",
              "66503                     0                         0   \n",
              "28450                     0                         0   \n",
              "545236                    0                         0   \n",
              "137443                    0                         0   \n",
              "...                     ...                       ...   \n",
              "110268                    0                         0   \n",
              "259178                    0                         0   \n",
              "365838                    0                         0   \n",
              "131932                    0                         0   \n",
              "121958                    0                         0   \n",
              "\n",
              "        description_цена низкая  description_цена средняя  description_ценное  \\\n",
              "535719                        0                         0                   0   \n",
              "66503                         0                         0                   0   \n",
              "28450                         0                         0                   0   \n",
              "545236                        0                         0                   0   \n",
              "137443                        1                         0                   0   \n",
              "...                         ...                       ...                 ...   \n",
              "110268                        0                         0                   0   \n",
              "259178                        0                         0                   0   \n",
              "365838                        0                         0                   0   \n",
              "131932                        0                         0                   0   \n",
              "121958                        0                         0                   0   \n",
              "\n",
              "        description_цифровой товар  description_электроника  \n",
              "535719                           0                        0  \n",
              "66503                            0                        0  \n",
              "28450                            0                        0  \n",
              "545236                           0                        0  \n",
              "137443                           0                        0  \n",
              "...                            ...                      ...  \n",
              "110268                           0                        0  \n",
              "259178                           0                        0  \n",
              "365838                           0                        0  \n",
              "131932                           0                        0  \n",
              "121958                           0                        0  \n",
              "\n",
              "[468721 rows x 187 columns]"
            ],
            "text/html": [
              "\n",
              "  <div id=\"df-df706fee-b542-484d-96c1-7742e8179731\">\n",
              "    <div class=\"colab-df-container\">\n",
              "      <div>\n",
              "<style scoped>\n",
              "    .dataframe tbody tr th:only-of-type {\n",
              "        vertical-align: middle;\n",
              "    }\n",
              "\n",
              "    .dataframe tbody tr th {\n",
              "        vertical-align: top;\n",
              "    }\n",
              "\n",
              "    .dataframe thead th {\n",
              "        text-align: right;\n",
              "    }\n",
              "</style>\n",
              "<table border=\"1\" class=\"dataframe\">\n",
              "  <thead>\n",
              "    <tr style=\"text-align: right;\">\n",
              "      <th></th>\n",
              "      <th>box_num</th>\n",
              "      <th>sel_calc_cube</th>\n",
              "      <th>pack_volume</th>\n",
              "      <th>rec_calc_cube</th>\n",
              "      <th>goods_wght</th>\n",
              "      <th>a</th>\n",
              "      <th>b</th>\n",
              "      <th>c</th>\n",
              "      <th>selected_cartontype_MYB</th>\n",
              "      <th>selected_cartontype_MYC</th>\n",
              "      <th>selected_cartontype_MYD</th>\n",
              "      <th>selected_cartontype_MYE</th>\n",
              "      <th>selected_cartontype_MYF</th>\n",
              "      <th>selected_cartontype_NONPACK</th>\n",
              "      <th>selected_cartontype_STRETCH</th>\n",
              "      <th>selected_cartontype_YMA</th>\n",
              "      <th>selected_cartontype_YMC</th>\n",
              "      <th>selected_cartontype_YMF</th>\n",
              "      <th>selected_cartontype_YMG</th>\n",
              "      <th>selected_cartontype_YMW</th>\n",
              "      <th>recommended_cartontype_MYB</th>\n",
              "      <th>recommended_cartontype_MYC</th>\n",
              "      <th>recommended_cartontype_MYD</th>\n",
              "      <th>recommended_cartontype_MYE</th>\n",
              "      <th>recommended_cartontype_MYF</th>\n",
              "      <th>recommended_cartontype_NONPACK</th>\n",
              "      <th>recommended_cartontype_STRETCH</th>\n",
              "      <th>recommended_cartontype_YMA</th>\n",
              "      <th>recommended_cartontype_YMC</th>\n",
              "      <th>recommended_cartontype_YMF</th>\n",
              "      <th>recommended_cartontype_YMG</th>\n",
              "      <th>recommended_cartontype_YMT</th>\n",
              "      <th>recommended_cartontype_YMU</th>\n",
              "      <th>recommended_cartontype_YMV</th>\n",
              "      <th>recommended_cartontype_YMW</th>\n",
              "      <th>cargotype_20.0</th>\n",
              "      <th>cargotype_40.0</th>\n",
              "      <th>cargotype_81.0</th>\n",
              "      <th>cargotype_110.0</th>\n",
              "      <th>cargotype_120.0</th>\n",
              "      <th>cargotype_130.0</th>\n",
              "      <th>cargotype_140.0</th>\n",
              "      <th>cargotype_160.0</th>\n",
              "      <th>cargotype_200.0</th>\n",
              "      <th>cargotype_210.0</th>\n",
              "      <th>cargotype_290.0</th>\n",
              "      <th>cargotype_291.0</th>\n",
              "      <th>cargotype_292.0</th>\n",
              "      <th>cargotype_300.0</th>\n",
              "      <th>cargotype_301.0</th>\n",
              "      <th>cargotype_302.0</th>\n",
              "      <th>cargotype_303.0</th>\n",
              "      <th>cargotype_305.0</th>\n",
              "      <th>cargotype_310.0</th>\n",
              "      <th>cargotype_315.0</th>\n",
              "      <th>cargotype_320.0</th>\n",
              "      <th>cargotype_330.0</th>\n",
              "      <th>cargotype_340.0</th>\n",
              "      <th>cargotype_350.0</th>\n",
              "      <th>cargotype_360.0</th>\n",
              "      <th>cargotype_400.0</th>\n",
              "      <th>cargotype_410.0</th>\n",
              "      <th>cargotype_440.0</th>\n",
              "      <th>cargotype_441.0</th>\n",
              "      <th>cargotype_460.0</th>\n",
              "      <th>cargotype_480.0</th>\n",
              "      <th>cargotype_485.0</th>\n",
              "      <th>cargotype_490.0</th>\n",
              "      <th>cargotype_510.0</th>\n",
              "      <th>cargotype_520.0</th>\n",
              "      <th>cargotype_600.0</th>\n",
              "      <th>cargotype_601.0</th>\n",
              "      <th>cargotype_610.0</th>\n",
              "      <th>cargotype_611.0</th>\n",
              "      <th>cargotype_620.0</th>\n",
              "      <th>cargotype_621.0</th>\n",
              "      <th>cargotype_622.0</th>\n",
              "      <th>cargotype_623.0</th>\n",
              "      <th>cargotype_640.0</th>\n",
              "      <th>cargotype_641.0</th>\n",
              "      <th>cargotype_670.0</th>\n",
              "      <th>cargotype_671.0</th>\n",
              "      <th>cargotype_672.0</th>\n",
              "      <th>cargotype_673.0</th>\n",
              "      <th>cargotype_690.0</th>\n",
              "      <th>cargotype_691.0</th>\n",
              "      <th>cargotype_692.0</th>\n",
              "      <th>cargotype_710.0</th>\n",
              "      <th>cargotype_720.0</th>\n",
              "      <th>cargotype_750.0</th>\n",
              "      <th>cargotype_751.0</th>\n",
              "      <th>cargotype_770.0</th>\n",
              "      <th>cargotype_780.0</th>\n",
              "      <th>cargotype_790.0</th>\n",
              "      <th>cargotype_799.0</th>\n",
              "      <th>cargotype_801.0</th>\n",
              "      <th>cargotype_900.0</th>\n",
              "      <th>cargotype_901.0</th>\n",
              "      <th>cargotype_905.0</th>\n",
              "      <th>cargotype_908.0</th>\n",
              "      <th>cargotype_910.0</th>\n",
              "      <th>cargotype_920.0</th>\n",
              "      <th>cargotype_931.0</th>\n",
              "      <th>cargotype_950.0</th>\n",
              "      <th>cargotype_955.0</th>\n",
              "      <th>cargotype_960.0</th>\n",
              "      <th>cargotype_970.0</th>\n",
              "      <th>cargotype_980.0</th>\n",
              "      <th>cargotype_990.0</th>\n",
              "      <th>cargotype_1010.0</th>\n",
              "      <th>cargotype_1300.0</th>\n",
              "      <th>description_Нельзя на ФФЦ и СЦ</th>\n",
              "      <th>description_Потребует обязательной маркировки в ближайшем будущем</th>\n",
              "      <th>description_Склад КГТ (крупногабаритный товар)</th>\n",
              "      <th>description_Склад МГТ (малогабаритный товар)</th>\n",
              "      <th>description_Склад СГТ (среднегабаритный товар)</th>\n",
              "      <th>description_Терморежим 13-22</th>\n",
              "      <th>description_Требует обязательной маркировки</th>\n",
              "      <th>description_агрохимикаты</th>\n",
              "      <th>description_аксессуары, часы и украшения</th>\n",
              "      <th>description_аптека</th>\n",
              "      <th>description_большой аксессуар</th>\n",
              "      <th>description_бытовая техника</th>\n",
              "      <th>description_бытовая химия</th>\n",
              "      <th>description_в ассортименте</th>\n",
              "      <th>description_ветеринарная аптека</th>\n",
              "      <th>description_возможно вскрытие заводской упаковки покупателем</th>\n",
              "      <th>description_возрастное ограничение на получение товара</th>\n",
              "      <th>description_впитывает запах</th>\n",
              "      <th>description_готовое блюда</th>\n",
              "      <th>description_детские игрушки и игры</th>\n",
              "      <th>description_жидкость</th>\n",
              "      <th>description_интим товар</th>\n",
              "      <th>description_керамика/стекло/камень/фарфор</th>\n",
              "      <th>description_консервы</th>\n",
              "      <th>description_корма для животных</th>\n",
              "      <th>description_косметика и парфюмерия</th>\n",
              "      <th>description_мебель</th>\n",
              "      <th>description_медикаменты</th>\n",
              "      <th>description_меркурий</th>\n",
              "      <th>description_мнется</th>\n",
              "      <th>description_многоместный товар</th>\n",
              "      <th>description_не определен</th>\n",
              "      <th>description_не требует упаковки</th>\n",
              "      <th>description_нельзя примерить</th>\n",
              "      <th>description_обувь взрослая</th>\n",
              "      <th>description_обувь детская</th>\n",
              "      <th>description_одежда верхняя</th>\n",
              "      <th>description_одежда детская</th>\n",
              "      <th>description_одежда прочая</th>\n",
              "      <th>description_одежда с плечиками</th>\n",
              "      <th>description_одежда, обувь, аксессуары</th>\n",
              "      <th>description_опасный</th>\n",
              "      <th>description_опасный Авиа</th>\n",
              "      <th>description_охлажденные</th>\n",
              "      <th>description_пахучий</th>\n",
              "      <th>description_пачкает</th>\n",
              "      <th>description_пачкается</th>\n",
              "      <th>description_пестициды</th>\n",
              "      <th>description_полуфабрикат</th>\n",
              "      <th>description_продукты питания</th>\n",
              "      <th>description_ручки письменные</th>\n",
              "      <th>description_семена</th>\n",
              "      <th>description_средства личной гигиены</th>\n",
              "      <th>description_строительные материалы</th>\n",
              "      <th>description_сухие</th>\n",
              "      <th>description_сыпучее</th>\n",
              "      <th>description_сырье</th>\n",
              "      <th>description_техника и электроника</th>\n",
              "      <th>description_товары для авто и мототехники</th>\n",
              "      <th>description_товары для животных</th>\n",
              "      <th>description_товары для красоты</th>\n",
              "      <th>description_товары для спорта и отдыха</th>\n",
              "      <th>description_требует доставки с термо режимом 0+</th>\n",
              "      <th>description_тяжеловесный и крупногабаритный</th>\n",
              "      <th>description_тяжеловесный и крупногабаритный 20кг</th>\n",
              "      <th>description_тяжеловесный и крупногабаритный больше паллеты</th>\n",
              "      <th>description_упаковка в пленку</th>\n",
              "      <th>description_фреш</th>\n",
              "      <th>description_химикаты</th>\n",
              "      <th>description_хрупкое</th>\n",
              "      <th>description_цена высокая</th>\n",
              "      <th>description_цена низкая</th>\n",
              "      <th>description_цена средняя</th>\n",
              "      <th>description_ценное</th>\n",
              "      <th>description_цифровой товар</th>\n",
              "      <th>description_электроника</th>\n",
              "    </tr>\n",
              "  </thead>\n",
              "  <tbody>\n",
              "    <tr>\n",
              "      <th>535719</th>\n",
              "      <td>-0.11</td>\n",
              "      <td>-0.02</td>\n",
              "      <td>-0.07</td>\n",
              "      <td>-0.10</td>\n",
              "      <td>0.04</td>\n",
              "      <td>-0.71</td>\n",
              "      <td>1.84</td>\n",
              "      <td>0.17</td>\n",
              "      <td>0</td>\n",
              "      <td>1</td>\n",
              "      <td>0</td>\n",
              "      <td>0</td>\n",
              "      <td>0</td>\n",
              "      <td>0</td>\n",
              "      <td>0</td>\n",
              "      <td>0</td>\n",
              "      <td>0</td>\n",
              "      <td>0</td>\n",
              "      <td>0</td>\n",
              "      <td>0</td>\n",
              "      <td>0</td>\n",
              "      <td>1</td>\n",
              "      <td>0</td>\n",
              "      <td>0</td>\n",
              "      <td>0</td>\n",
              "      <td>0</td>\n",
              "      <td>0</td>\n",
              "      <td>0</td>\n",
              "      <td>0</td>\n",
              "      <td>0</td>\n",
              "      <td>0</td>\n",
              "      <td>0</td>\n",
              "      <td>0</td>\n",
              "      <td>0</td>\n",
              "      <td>0</td>\n",
              "      <td>0</td>\n",
              "      <td>0</td>\n",
              "      <td>0</td>\n",
              "      <td>0</td>\n",
              "      <td>0</td>\n",
              "      <td>0</td>\n",
              "      <td>0</td>\n",
              "      <td>0</td>\n",
              "      <td>0</td>\n",
              "      <td>0</td>\n",
              "      <td>1</td>\n",
              "      <td>0</td>\n",
              "      <td>0</td>\n",
              "      <td>0</td>\n",
              "      <td>0</td>\n",
              "      <td>0</td>\n",
              "      <td>0</td>\n",
              "      <td>0</td>\n",
              "      <td>0</td>\n",
              "      <td>0</td>\n",
              "      <td>0</td>\n",
              "      <td>0</td>\n",
              "      <td>0</td>\n",
              "      <td>0</td>\n",
              "      <td>0</td>\n",
              "      <td>0</td>\n",
              "      <td>0</td>\n",
              "      <td>0</td>\n",
              "      <td>0</td>\n",
              "      <td>0</td>\n",
              "      <td>0</td>\n",
              "      <td>0</td>\n",
              "      <td>0</td>\n",
              "      <td>0</td>\n",
              "      <td>0</td>\n",
              "      <td>0</td>\n",
              "      <td>0</td>\n",
              "      <td>0</td>\n",
              "      <td>0</td>\n",
              "      <td>0</td>\n",
              "      <td>0</td>\n",
              "      <td>0</td>\n",
              "      <td>0</td>\n",
              "      <td>0</td>\n",
              "      <td>0</td>\n",
              "      <td>0</td>\n",
              "      <td>0</td>\n",
              "      <td>0</td>\n",
              "      <td>0</td>\n",
              "      <td>0</td>\n",
              "      <td>0</td>\n",
              "      <td>0</td>\n",
              "      <td>0</td>\n",
              "      <td>0</td>\n",
              "      <td>0</td>\n",
              "      <td>0</td>\n",
              "      <td>0</td>\n",
              "      <td>0</td>\n",
              "      <td>0</td>\n",
              "      <td>0</td>\n",
              "      <td>0</td>\n",
              "      <td>0</td>\n",
              "      <td>0</td>\n",
              "      <td>0</td>\n",
              "      <td>0</td>\n",
              "      <td>0</td>\n",
              "      <td>0</td>\n",
              "      <td>0</td>\n",
              "      <td>0</td>\n",
              "      <td>0</td>\n",
              "      <td>0</td>\n",
              "      <td>0</td>\n",
              "      <td>0</td>\n",
              "      <td>0</td>\n",
              "      <td>0</td>\n",
              "      <td>0</td>\n",
              "      <td>0</td>\n",
              "      <td>0</td>\n",
              "      <td>0</td>\n",
              "      <td>1</td>\n",
              "      <td>0</td>\n",
              "      <td>0</td>\n",
              "      <td>0</td>\n",
              "      <td>0</td>\n",
              "      <td>0</td>\n",
              "      <td>0</td>\n",
              "      <td>0</td>\n",
              "      <td>0</td>\n",
              "      <td>0</td>\n",
              "      <td>0</td>\n",
              "      <td>0</td>\n",
              "      <td>0</td>\n",
              "      <td>0</td>\n",
              "      <td>0</td>\n",
              "      <td>0</td>\n",
              "      <td>0</td>\n",
              "      <td>0</td>\n",
              "      <td>0</td>\n",
              "      <td>0</td>\n",
              "      <td>0</td>\n",
              "      <td>0</td>\n",
              "      <td>0</td>\n",
              "      <td>0</td>\n",
              "      <td>0</td>\n",
              "      <td>0</td>\n",
              "      <td>0</td>\n",
              "      <td>0</td>\n",
              "      <td>0</td>\n",
              "      <td>0</td>\n",
              "      <td>0</td>\n",
              "      <td>0</td>\n",
              "      <td>0</td>\n",
              "      <td>0</td>\n",
              "      <td>0</td>\n",
              "      <td>0</td>\n",
              "      <td>0</td>\n",
              "      <td>0</td>\n",
              "      <td>0</td>\n",
              "      <td>0</td>\n",
              "      <td>0</td>\n",
              "      <td>0</td>\n",
              "      <td>0</td>\n",
              "      <td>0</td>\n",
              "      <td>0</td>\n",
              "      <td>0</td>\n",
              "      <td>0</td>\n",
              "      <td>0</td>\n",
              "      <td>0</td>\n",
              "      <td>0</td>\n",
              "      <td>0</td>\n",
              "      <td>0</td>\n",
              "      <td>0</td>\n",
              "      <td>0</td>\n",
              "      <td>0</td>\n",
              "      <td>0</td>\n",
              "      <td>0</td>\n",
              "      <td>0</td>\n",
              "      <td>0</td>\n",
              "      <td>0</td>\n",
              "      <td>0</td>\n",
              "      <td>0</td>\n",
              "      <td>0</td>\n",
              "      <td>0</td>\n",
              "      <td>0</td>\n",
              "      <td>0</td>\n",
              "      <td>0</td>\n",
              "      <td>0</td>\n",
              "      <td>0</td>\n",
              "      <td>0</td>\n",
              "      <td>0</td>\n",
              "      <td>0</td>\n",
              "      <td>0</td>\n",
              "    </tr>\n",
              "    <tr>\n",
              "      <th>66503</th>\n",
              "      <td>-0.11</td>\n",
              "      <td>0.62</td>\n",
              "      <td>-0.29</td>\n",
              "      <td>-0.03</td>\n",
              "      <td>-0.37</td>\n",
              "      <td>-0.43</td>\n",
              "      <td>-1.14</td>\n",
              "      <td>-0.42</td>\n",
              "      <td>0</td>\n",
              "      <td>0</td>\n",
              "      <td>0</td>\n",
              "      <td>0</td>\n",
              "      <td>0</td>\n",
              "      <td>0</td>\n",
              "      <td>0</td>\n",
              "      <td>0</td>\n",
              "      <td>0</td>\n",
              "      <td>1</td>\n",
              "      <td>0</td>\n",
              "      <td>0</td>\n",
              "      <td>0</td>\n",
              "      <td>0</td>\n",
              "      <td>0</td>\n",
              "      <td>0</td>\n",
              "      <td>0</td>\n",
              "      <td>0</td>\n",
              "      <td>0</td>\n",
              "      <td>0</td>\n",
              "      <td>1</td>\n",
              "      <td>0</td>\n",
              "      <td>0</td>\n",
              "      <td>0</td>\n",
              "      <td>0</td>\n",
              "      <td>0</td>\n",
              "      <td>0</td>\n",
              "      <td>0</td>\n",
              "      <td>0</td>\n",
              "      <td>0</td>\n",
              "      <td>0</td>\n",
              "      <td>0</td>\n",
              "      <td>0</td>\n",
              "      <td>0</td>\n",
              "      <td>0</td>\n",
              "      <td>0</td>\n",
              "      <td>0</td>\n",
              "      <td>0</td>\n",
              "      <td>0</td>\n",
              "      <td>0</td>\n",
              "      <td>0</td>\n",
              "      <td>0</td>\n",
              "      <td>0</td>\n",
              "      <td>0</td>\n",
              "      <td>0</td>\n",
              "      <td>0</td>\n",
              "      <td>0</td>\n",
              "      <td>0</td>\n",
              "      <td>0</td>\n",
              "      <td>0</td>\n",
              "      <td>0</td>\n",
              "      <td>0</td>\n",
              "      <td>0</td>\n",
              "      <td>0</td>\n",
              "      <td>0</td>\n",
              "      <td>0</td>\n",
              "      <td>0</td>\n",
              "      <td>0</td>\n",
              "      <td>0</td>\n",
              "      <td>0</td>\n",
              "      <td>0</td>\n",
              "      <td>0</td>\n",
              "      <td>0</td>\n",
              "      <td>0</td>\n",
              "      <td>0</td>\n",
              "      <td>0</td>\n",
              "      <td>0</td>\n",
              "      <td>0</td>\n",
              "      <td>0</td>\n",
              "      <td>0</td>\n",
              "      <td>0</td>\n",
              "      <td>0</td>\n",
              "      <td>0</td>\n",
              "      <td>0</td>\n",
              "      <td>0</td>\n",
              "      <td>0</td>\n",
              "      <td>0</td>\n",
              "      <td>0</td>\n",
              "      <td>0</td>\n",
              "      <td>0</td>\n",
              "      <td>0</td>\n",
              "      <td>0</td>\n",
              "      <td>0</td>\n",
              "      <td>0</td>\n",
              "      <td>0</td>\n",
              "      <td>0</td>\n",
              "      <td>0</td>\n",
              "      <td>0</td>\n",
              "      <td>0</td>\n",
              "      <td>0</td>\n",
              "      <td>0</td>\n",
              "      <td>0</td>\n",
              "      <td>0</td>\n",
              "      <td>1</td>\n",
              "      <td>0</td>\n",
              "      <td>0</td>\n",
              "      <td>0</td>\n",
              "      <td>0</td>\n",
              "      <td>0</td>\n",
              "      <td>0</td>\n",
              "      <td>0</td>\n",
              "      <td>0</td>\n",
              "      <td>0</td>\n",
              "      <td>0</td>\n",
              "      <td>0</td>\n",
              "      <td>0</td>\n",
              "      <td>0</td>\n",
              "      <td>0</td>\n",
              "      <td>1</td>\n",
              "      <td>0</td>\n",
              "      <td>0</td>\n",
              "      <td>0</td>\n",
              "      <td>0</td>\n",
              "      <td>0</td>\n",
              "      <td>0</td>\n",
              "      <td>0</td>\n",
              "      <td>0</td>\n",
              "      <td>0</td>\n",
              "      <td>0</td>\n",
              "      <td>0</td>\n",
              "      <td>0</td>\n",
              "      <td>0</td>\n",
              "      <td>0</td>\n",
              "      <td>0</td>\n",
              "      <td>0</td>\n",
              "      <td>0</td>\n",
              "      <td>0</td>\n",
              "      <td>0</td>\n",
              "      <td>0</td>\n",
              "      <td>0</td>\n",
              "      <td>0</td>\n",
              "      <td>0</td>\n",
              "      <td>0</td>\n",
              "      <td>0</td>\n",
              "      <td>0</td>\n",
              "      <td>0</td>\n",
              "      <td>0</td>\n",
              "      <td>0</td>\n",
              "      <td>0</td>\n",
              "      <td>0</td>\n",
              "      <td>0</td>\n",
              "      <td>0</td>\n",
              "      <td>0</td>\n",
              "      <td>0</td>\n",
              "      <td>0</td>\n",
              "      <td>0</td>\n",
              "      <td>0</td>\n",
              "      <td>0</td>\n",
              "      <td>0</td>\n",
              "      <td>0</td>\n",
              "      <td>0</td>\n",
              "      <td>0</td>\n",
              "      <td>0</td>\n",
              "      <td>0</td>\n",
              "      <td>0</td>\n",
              "      <td>0</td>\n",
              "      <td>0</td>\n",
              "      <td>0</td>\n",
              "      <td>0</td>\n",
              "      <td>0</td>\n",
              "      <td>0</td>\n",
              "      <td>0</td>\n",
              "      <td>0</td>\n",
              "      <td>0</td>\n",
              "      <td>0</td>\n",
              "      <td>0</td>\n",
              "      <td>0</td>\n",
              "      <td>0</td>\n",
              "      <td>0</td>\n",
              "      <td>0</td>\n",
              "      <td>0</td>\n",
              "      <td>0</td>\n",
              "      <td>0</td>\n",
              "      <td>0</td>\n",
              "      <td>0</td>\n",
              "      <td>0</td>\n",
              "      <td>0</td>\n",
              "      <td>0</td>\n",
              "      <td>0</td>\n",
              "    </tr>\n",
              "    <tr>\n",
              "      <th>28450</th>\n",
              "      <td>-0.11</td>\n",
              "      <td>0.95</td>\n",
              "      <td>0.31</td>\n",
              "      <td>1.18</td>\n",
              "      <td>1.24</td>\n",
              "      <td>-0.36</td>\n",
              "      <td>1.43</td>\n",
              "      <td>1.15</td>\n",
              "      <td>0</td>\n",
              "      <td>0</td>\n",
              "      <td>1</td>\n",
              "      <td>0</td>\n",
              "      <td>0</td>\n",
              "      <td>0</td>\n",
              "      <td>0</td>\n",
              "      <td>0</td>\n",
              "      <td>0</td>\n",
              "      <td>0</td>\n",
              "      <td>0</td>\n",
              "      <td>0</td>\n",
              "      <td>0</td>\n",
              "      <td>0</td>\n",
              "      <td>0</td>\n",
              "      <td>0</td>\n",
              "      <td>0</td>\n",
              "      <td>0</td>\n",
              "      <td>0</td>\n",
              "      <td>0</td>\n",
              "      <td>0</td>\n",
              "      <td>0</td>\n",
              "      <td>0</td>\n",
              "      <td>0</td>\n",
              "      <td>0</td>\n",
              "      <td>0</td>\n",
              "      <td>1</td>\n",
              "      <td>0</td>\n",
              "      <td>0</td>\n",
              "      <td>0</td>\n",
              "      <td>0</td>\n",
              "      <td>0</td>\n",
              "      <td>0</td>\n",
              "      <td>0</td>\n",
              "      <td>0</td>\n",
              "      <td>0</td>\n",
              "      <td>0</td>\n",
              "      <td>0</td>\n",
              "      <td>0</td>\n",
              "      <td>0</td>\n",
              "      <td>0</td>\n",
              "      <td>0</td>\n",
              "      <td>0</td>\n",
              "      <td>0</td>\n",
              "      <td>0</td>\n",
              "      <td>0</td>\n",
              "      <td>0</td>\n",
              "      <td>0</td>\n",
              "      <td>0</td>\n",
              "      <td>0</td>\n",
              "      <td>0</td>\n",
              "      <td>0</td>\n",
              "      <td>0</td>\n",
              "      <td>1</td>\n",
              "      <td>0</td>\n",
              "      <td>0</td>\n",
              "      <td>0</td>\n",
              "      <td>0</td>\n",
              "      <td>0</td>\n",
              "      <td>0</td>\n",
              "      <td>0</td>\n",
              "      <td>0</td>\n",
              "      <td>0</td>\n",
              "      <td>0</td>\n",
              "      <td>0</td>\n",
              "      <td>0</td>\n",
              "      <td>0</td>\n",
              "      <td>0</td>\n",
              "      <td>0</td>\n",
              "      <td>0</td>\n",
              "      <td>0</td>\n",
              "      <td>0</td>\n",
              "      <td>0</td>\n",
              "      <td>0</td>\n",
              "      <td>0</td>\n",
              "      <td>0</td>\n",
              "      <td>0</td>\n",
              "      <td>0</td>\n",
              "      <td>0</td>\n",
              "      <td>0</td>\n",
              "      <td>0</td>\n",
              "      <td>0</td>\n",
              "      <td>0</td>\n",
              "      <td>0</td>\n",
              "      <td>0</td>\n",
              "      <td>0</td>\n",
              "      <td>0</td>\n",
              "      <td>0</td>\n",
              "      <td>0</td>\n",
              "      <td>0</td>\n",
              "      <td>0</td>\n",
              "      <td>0</td>\n",
              "      <td>0</td>\n",
              "      <td>0</td>\n",
              "      <td>0</td>\n",
              "      <td>0</td>\n",
              "      <td>0</td>\n",
              "      <td>0</td>\n",
              "      <td>0</td>\n",
              "      <td>0</td>\n",
              "      <td>0</td>\n",
              "      <td>0</td>\n",
              "      <td>0</td>\n",
              "      <td>0</td>\n",
              "      <td>0</td>\n",
              "      <td>0</td>\n",
              "      <td>0</td>\n",
              "      <td>0</td>\n",
              "      <td>0</td>\n",
              "      <td>0</td>\n",
              "      <td>0</td>\n",
              "      <td>0</td>\n",
              "      <td>0</td>\n",
              "      <td>0</td>\n",
              "      <td>0</td>\n",
              "      <td>0</td>\n",
              "      <td>0</td>\n",
              "      <td>0</td>\n",
              "      <td>0</td>\n",
              "      <td>0</td>\n",
              "      <td>0</td>\n",
              "      <td>0</td>\n",
              "      <td>0</td>\n",
              "      <td>0</td>\n",
              "      <td>0</td>\n",
              "      <td>0</td>\n",
              "      <td>0</td>\n",
              "      <td>0</td>\n",
              "      <td>0</td>\n",
              "      <td>0</td>\n",
              "      <td>0</td>\n",
              "      <td>0</td>\n",
              "      <td>0</td>\n",
              "      <td>0</td>\n",
              "      <td>0</td>\n",
              "      <td>0</td>\n",
              "      <td>0</td>\n",
              "      <td>0</td>\n",
              "      <td>0</td>\n",
              "      <td>0</td>\n",
              "      <td>0</td>\n",
              "      <td>0</td>\n",
              "      <td>0</td>\n",
              "      <td>0</td>\n",
              "      <td>0</td>\n",
              "      <td>1</td>\n",
              "      <td>0</td>\n",
              "      <td>0</td>\n",
              "      <td>0</td>\n",
              "      <td>0</td>\n",
              "      <td>0</td>\n",
              "      <td>0</td>\n",
              "      <td>0</td>\n",
              "      <td>0</td>\n",
              "      <td>0</td>\n",
              "      <td>0</td>\n",
              "      <td>0</td>\n",
              "      <td>0</td>\n",
              "      <td>0</td>\n",
              "      <td>0</td>\n",
              "      <td>0</td>\n",
              "      <td>0</td>\n",
              "      <td>0</td>\n",
              "      <td>0</td>\n",
              "      <td>0</td>\n",
              "      <td>0</td>\n",
              "      <td>0</td>\n",
              "      <td>0</td>\n",
              "      <td>0</td>\n",
              "      <td>0</td>\n",
              "      <td>0</td>\n",
              "      <td>0</td>\n",
              "      <td>0</td>\n",
              "      <td>0</td>\n",
              "      <td>0</td>\n",
              "      <td>0</td>\n",
              "      <td>0</td>\n",
              "      <td>0</td>\n",
              "      <td>0</td>\n",
              "    </tr>\n",
              "    <tr>\n",
              "      <th>545236</th>\n",
              "      <td>-0.11</td>\n",
              "      <td>-0.71</td>\n",
              "      <td>-0.26</td>\n",
              "      <td>-0.78</td>\n",
              "      <td>-0.32</td>\n",
              "      <td>-0.71</td>\n",
              "      <td>0.30</td>\n",
              "      <td>-0.81</td>\n",
              "      <td>1</td>\n",
              "      <td>0</td>\n",
              "      <td>0</td>\n",
              "      <td>0</td>\n",
              "      <td>0</td>\n",
              "      <td>0</td>\n",
              "      <td>0</td>\n",
              "      <td>0</td>\n",
              "      <td>0</td>\n",
              "      <td>0</td>\n",
              "      <td>0</td>\n",
              "      <td>0</td>\n",
              "      <td>0</td>\n",
              "      <td>0</td>\n",
              "      <td>0</td>\n",
              "      <td>0</td>\n",
              "      <td>0</td>\n",
              "      <td>0</td>\n",
              "      <td>0</td>\n",
              "      <td>1</td>\n",
              "      <td>0</td>\n",
              "      <td>0</td>\n",
              "      <td>0</td>\n",
              "      <td>0</td>\n",
              "      <td>0</td>\n",
              "      <td>0</td>\n",
              "      <td>0</td>\n",
              "      <td>0</td>\n",
              "      <td>0</td>\n",
              "      <td>0</td>\n",
              "      <td>0</td>\n",
              "      <td>0</td>\n",
              "      <td>0</td>\n",
              "      <td>0</td>\n",
              "      <td>0</td>\n",
              "      <td>0</td>\n",
              "      <td>0</td>\n",
              "      <td>0</td>\n",
              "      <td>0</td>\n",
              "      <td>0</td>\n",
              "      <td>0</td>\n",
              "      <td>0</td>\n",
              "      <td>0</td>\n",
              "      <td>0</td>\n",
              "      <td>0</td>\n",
              "      <td>0</td>\n",
              "      <td>0</td>\n",
              "      <td>0</td>\n",
              "      <td>0</td>\n",
              "      <td>0</td>\n",
              "      <td>0</td>\n",
              "      <td>0</td>\n",
              "      <td>0</td>\n",
              "      <td>0</td>\n",
              "      <td>0</td>\n",
              "      <td>0</td>\n",
              "      <td>0</td>\n",
              "      <td>0</td>\n",
              "      <td>0</td>\n",
              "      <td>0</td>\n",
              "      <td>0</td>\n",
              "      <td>0</td>\n",
              "      <td>0</td>\n",
              "      <td>0</td>\n",
              "      <td>0</td>\n",
              "      <td>0</td>\n",
              "      <td>0</td>\n",
              "      <td>0</td>\n",
              "      <td>0</td>\n",
              "      <td>0</td>\n",
              "      <td>0</td>\n",
              "      <td>0</td>\n",
              "      <td>0</td>\n",
              "      <td>0</td>\n",
              "      <td>0</td>\n",
              "      <td>0</td>\n",
              "      <td>0</td>\n",
              "      <td>0</td>\n",
              "      <td>0</td>\n",
              "      <td>0</td>\n",
              "      <td>0</td>\n",
              "      <td>0</td>\n",
              "      <td>0</td>\n",
              "      <td>0</td>\n",
              "      <td>0</td>\n",
              "      <td>0</td>\n",
              "      <td>0</td>\n",
              "      <td>0</td>\n",
              "      <td>0</td>\n",
              "      <td>0</td>\n",
              "      <td>0</td>\n",
              "      <td>0</td>\n",
              "      <td>1</td>\n",
              "      <td>0</td>\n",
              "      <td>0</td>\n",
              "      <td>0</td>\n",
              "      <td>0</td>\n",
              "      <td>0</td>\n",
              "      <td>0</td>\n",
              "      <td>0</td>\n",
              "      <td>0</td>\n",
              "      <td>0</td>\n",
              "      <td>0</td>\n",
              "      <td>0</td>\n",
              "      <td>0</td>\n",
              "      <td>0</td>\n",
              "      <td>0</td>\n",
              "      <td>0</td>\n",
              "      <td>0</td>\n",
              "      <td>0</td>\n",
              "      <td>0</td>\n",
              "      <td>0</td>\n",
              "      <td>0</td>\n",
              "      <td>0</td>\n",
              "      <td>0</td>\n",
              "      <td>0</td>\n",
              "      <td>0</td>\n",
              "      <td>0</td>\n",
              "      <td>0</td>\n",
              "      <td>0</td>\n",
              "      <td>0</td>\n",
              "      <td>0</td>\n",
              "      <td>0</td>\n",
              "      <td>0</td>\n",
              "      <td>1</td>\n",
              "      <td>0</td>\n",
              "      <td>0</td>\n",
              "      <td>0</td>\n",
              "      <td>0</td>\n",
              "      <td>0</td>\n",
              "      <td>0</td>\n",
              "      <td>0</td>\n",
              "      <td>0</td>\n",
              "      <td>0</td>\n",
              "      <td>0</td>\n",
              "      <td>0</td>\n",
              "      <td>0</td>\n",
              "      <td>0</td>\n",
              "      <td>0</td>\n",
              "      <td>0</td>\n",
              "      <td>0</td>\n",
              "      <td>0</td>\n",
              "      <td>0</td>\n",
              "      <td>0</td>\n",
              "      <td>0</td>\n",
              "      <td>0</td>\n",
              "      <td>0</td>\n",
              "      <td>0</td>\n",
              "      <td>0</td>\n",
              "      <td>0</td>\n",
              "      <td>0</td>\n",
              "      <td>0</td>\n",
              "      <td>0</td>\n",
              "      <td>0</td>\n",
              "      <td>0</td>\n",
              "      <td>0</td>\n",
              "      <td>0</td>\n",
              "      <td>0</td>\n",
              "      <td>0</td>\n",
              "      <td>0</td>\n",
              "      <td>0</td>\n",
              "      <td>0</td>\n",
              "      <td>0</td>\n",
              "      <td>0</td>\n",
              "      <td>0</td>\n",
              "      <td>0</td>\n",
              "      <td>0</td>\n",
              "      <td>0</td>\n",
              "      <td>0</td>\n",
              "      <td>0</td>\n",
              "      <td>0</td>\n",
              "      <td>0</td>\n",
              "      <td>0</td>\n",
              "      <td>0</td>\n",
              "      <td>0</td>\n",
              "      <td>0</td>\n",
              "      <td>0</td>\n",
              "      <td>0</td>\n",
              "      <td>0</td>\n",
              "    </tr>\n",
              "    <tr>\n",
              "      <th>137443</th>\n",
              "      <td>-0.11</td>\n",
              "      <td>-0.71</td>\n",
              "      <td>-0.26</td>\n",
              "      <td>-1.10</td>\n",
              "      <td>-0.40</td>\n",
              "      <td>-0.50</td>\n",
              "      <td>-1.14</td>\n",
              "      <td>-0.71</td>\n",
              "      <td>1</td>\n",
              "      <td>0</td>\n",
              "      <td>0</td>\n",
              "      <td>0</td>\n",
              "      <td>0</td>\n",
              "      <td>0</td>\n",
              "      <td>0</td>\n",
              "      <td>0</td>\n",
              "      <td>0</td>\n",
              "      <td>0</td>\n",
              "      <td>0</td>\n",
              "      <td>0</td>\n",
              "      <td>0</td>\n",
              "      <td>0</td>\n",
              "      <td>0</td>\n",
              "      <td>0</td>\n",
              "      <td>0</td>\n",
              "      <td>0</td>\n",
              "      <td>0</td>\n",
              "      <td>0</td>\n",
              "      <td>0</td>\n",
              "      <td>0</td>\n",
              "      <td>0</td>\n",
              "      <td>0</td>\n",
              "      <td>0</td>\n",
              "      <td>0</td>\n",
              "      <td>0</td>\n",
              "      <td>0</td>\n",
              "      <td>0</td>\n",
              "      <td>0</td>\n",
              "      <td>0</td>\n",
              "      <td>0</td>\n",
              "      <td>0</td>\n",
              "      <td>0</td>\n",
              "      <td>0</td>\n",
              "      <td>0</td>\n",
              "      <td>0</td>\n",
              "      <td>0</td>\n",
              "      <td>0</td>\n",
              "      <td>0</td>\n",
              "      <td>0</td>\n",
              "      <td>0</td>\n",
              "      <td>0</td>\n",
              "      <td>0</td>\n",
              "      <td>0</td>\n",
              "      <td>0</td>\n",
              "      <td>0</td>\n",
              "      <td>0</td>\n",
              "      <td>0</td>\n",
              "      <td>0</td>\n",
              "      <td>0</td>\n",
              "      <td>0</td>\n",
              "      <td>0</td>\n",
              "      <td>0</td>\n",
              "      <td>0</td>\n",
              "      <td>0</td>\n",
              "      <td>0</td>\n",
              "      <td>0</td>\n",
              "      <td>0</td>\n",
              "      <td>0</td>\n",
              "      <td>0</td>\n",
              "      <td>0</td>\n",
              "      <td>0</td>\n",
              "      <td>0</td>\n",
              "      <td>0</td>\n",
              "      <td>0</td>\n",
              "      <td>0</td>\n",
              "      <td>0</td>\n",
              "      <td>0</td>\n",
              "      <td>0</td>\n",
              "      <td>0</td>\n",
              "      <td>0</td>\n",
              "      <td>0</td>\n",
              "      <td>0</td>\n",
              "      <td>0</td>\n",
              "      <td>0</td>\n",
              "      <td>1</td>\n",
              "      <td>0</td>\n",
              "      <td>0</td>\n",
              "      <td>0</td>\n",
              "      <td>0</td>\n",
              "      <td>0</td>\n",
              "      <td>0</td>\n",
              "      <td>0</td>\n",
              "      <td>0</td>\n",
              "      <td>0</td>\n",
              "      <td>0</td>\n",
              "      <td>0</td>\n",
              "      <td>0</td>\n",
              "      <td>0</td>\n",
              "      <td>0</td>\n",
              "      <td>0</td>\n",
              "      <td>0</td>\n",
              "      <td>0</td>\n",
              "      <td>0</td>\n",
              "      <td>0</td>\n",
              "      <td>0</td>\n",
              "      <td>0</td>\n",
              "      <td>0</td>\n",
              "      <td>0</td>\n",
              "      <td>0</td>\n",
              "      <td>0</td>\n",
              "      <td>0</td>\n",
              "      <td>0</td>\n",
              "      <td>0</td>\n",
              "      <td>0</td>\n",
              "      <td>0</td>\n",
              "      <td>0</td>\n",
              "      <td>0</td>\n",
              "      <td>0</td>\n",
              "      <td>0</td>\n",
              "      <td>0</td>\n",
              "      <td>0</td>\n",
              "      <td>0</td>\n",
              "      <td>0</td>\n",
              "      <td>0</td>\n",
              "      <td>0</td>\n",
              "      <td>0</td>\n",
              "      <td>0</td>\n",
              "      <td>0</td>\n",
              "      <td>0</td>\n",
              "      <td>0</td>\n",
              "      <td>0</td>\n",
              "      <td>0</td>\n",
              "      <td>0</td>\n",
              "      <td>0</td>\n",
              "      <td>0</td>\n",
              "      <td>0</td>\n",
              "      <td>0</td>\n",
              "      <td>0</td>\n",
              "      <td>0</td>\n",
              "      <td>0</td>\n",
              "      <td>0</td>\n",
              "      <td>0</td>\n",
              "      <td>0</td>\n",
              "      <td>0</td>\n",
              "      <td>0</td>\n",
              "      <td>0</td>\n",
              "      <td>0</td>\n",
              "      <td>0</td>\n",
              "      <td>0</td>\n",
              "      <td>0</td>\n",
              "      <td>0</td>\n",
              "      <td>0</td>\n",
              "      <td>0</td>\n",
              "      <td>0</td>\n",
              "      <td>0</td>\n",
              "      <td>0</td>\n",
              "      <td>0</td>\n",
              "      <td>0</td>\n",
              "      <td>0</td>\n",
              "      <td>0</td>\n",
              "      <td>0</td>\n",
              "      <td>0</td>\n",
              "      <td>0</td>\n",
              "      <td>0</td>\n",
              "      <td>0</td>\n",
              "      <td>0</td>\n",
              "      <td>0</td>\n",
              "      <td>0</td>\n",
              "      <td>0</td>\n",
              "      <td>0</td>\n",
              "      <td>0</td>\n",
              "      <td>0</td>\n",
              "      <td>0</td>\n",
              "      <td>0</td>\n",
              "      <td>0</td>\n",
              "      <td>0</td>\n",
              "      <td>0</td>\n",
              "      <td>0</td>\n",
              "      <td>0</td>\n",
              "      <td>0</td>\n",
              "      <td>0</td>\n",
              "      <td>0</td>\n",
              "      <td>1</td>\n",
              "      <td>0</td>\n",
              "      <td>0</td>\n",
              "      <td>0</td>\n",
              "      <td>0</td>\n",
              "    </tr>\n",
              "    <tr>\n",
              "      <th>...</th>\n",
              "      <td>...</td>\n",
              "      <td>...</td>\n",
              "      <td>...</td>\n",
              "      <td>...</td>\n",
              "      <td>...</td>\n",
              "      <td>...</td>\n",
              "      <td>...</td>\n",
              "      <td>...</td>\n",
              "      <td>...</td>\n",
              "      <td>...</td>\n",
              "      <td>...</td>\n",
              "      <td>...</td>\n",
              "      <td>...</td>\n",
              "      <td>...</td>\n",
              "      <td>...</td>\n",
              "      <td>...</td>\n",
              "      <td>...</td>\n",
              "      <td>...</td>\n",
              "      <td>...</td>\n",
              "      <td>...</td>\n",
              "      <td>...</td>\n",
              "      <td>...</td>\n",
              "      <td>...</td>\n",
              "      <td>...</td>\n",
              "      <td>...</td>\n",
              "      <td>...</td>\n",
              "      <td>...</td>\n",
              "      <td>...</td>\n",
              "      <td>...</td>\n",
              "      <td>...</td>\n",
              "      <td>...</td>\n",
              "      <td>...</td>\n",
              "      <td>...</td>\n",
              "      <td>...</td>\n",
              "      <td>...</td>\n",
              "      <td>...</td>\n",
              "      <td>...</td>\n",
              "      <td>...</td>\n",
              "      <td>...</td>\n",
              "      <td>...</td>\n",
              "      <td>...</td>\n",
              "      <td>...</td>\n",
              "      <td>...</td>\n",
              "      <td>...</td>\n",
              "      <td>...</td>\n",
              "      <td>...</td>\n",
              "      <td>...</td>\n",
              "      <td>...</td>\n",
              "      <td>...</td>\n",
              "      <td>...</td>\n",
              "      <td>...</td>\n",
              "      <td>...</td>\n",
              "      <td>...</td>\n",
              "      <td>...</td>\n",
              "      <td>...</td>\n",
              "      <td>...</td>\n",
              "      <td>...</td>\n",
              "      <td>...</td>\n",
              "      <td>...</td>\n",
              "      <td>...</td>\n",
              "      <td>...</td>\n",
              "      <td>...</td>\n",
              "      <td>...</td>\n",
              "      <td>...</td>\n",
              "      <td>...</td>\n",
              "      <td>...</td>\n",
              "      <td>...</td>\n",
              "      <td>...</td>\n",
              "      <td>...</td>\n",
              "      <td>...</td>\n",
              "      <td>...</td>\n",
              "      <td>...</td>\n",
              "      <td>...</td>\n",
              "      <td>...</td>\n",
              "      <td>...</td>\n",
              "      <td>...</td>\n",
              "      <td>...</td>\n",
              "      <td>...</td>\n",
              "      <td>...</td>\n",
              "      <td>...</td>\n",
              "      <td>...</td>\n",
              "      <td>...</td>\n",
              "      <td>...</td>\n",
              "      <td>...</td>\n",
              "      <td>...</td>\n",
              "      <td>...</td>\n",
              "      <td>...</td>\n",
              "      <td>...</td>\n",
              "      <td>...</td>\n",
              "      <td>...</td>\n",
              "      <td>...</td>\n",
              "      <td>...</td>\n",
              "      <td>...</td>\n",
              "      <td>...</td>\n",
              "      <td>...</td>\n",
              "      <td>...</td>\n",
              "      <td>...</td>\n",
              "      <td>...</td>\n",
              "      <td>...</td>\n",
              "      <td>...</td>\n",
              "      <td>...</td>\n",
              "      <td>...</td>\n",
              "      <td>...</td>\n",
              "      <td>...</td>\n",
              "      <td>...</td>\n",
              "      <td>...</td>\n",
              "      <td>...</td>\n",
              "      <td>...</td>\n",
              "      <td>...</td>\n",
              "      <td>...</td>\n",
              "      <td>...</td>\n",
              "      <td>...</td>\n",
              "      <td>...</td>\n",
              "      <td>...</td>\n",
              "      <td>...</td>\n",
              "      <td>...</td>\n",
              "      <td>...</td>\n",
              "      <td>...</td>\n",
              "      <td>...</td>\n",
              "      <td>...</td>\n",
              "      <td>...</td>\n",
              "      <td>...</td>\n",
              "      <td>...</td>\n",
              "      <td>...</td>\n",
              "      <td>...</td>\n",
              "      <td>...</td>\n",
              "      <td>...</td>\n",
              "      <td>...</td>\n",
              "      <td>...</td>\n",
              "      <td>...</td>\n",
              "      <td>...</td>\n",
              "      <td>...</td>\n",
              "      <td>...</td>\n",
              "      <td>...</td>\n",
              "      <td>...</td>\n",
              "      <td>...</td>\n",
              "      <td>...</td>\n",
              "      <td>...</td>\n",
              "      <td>...</td>\n",
              "      <td>...</td>\n",
              "      <td>...</td>\n",
              "      <td>...</td>\n",
              "      <td>...</td>\n",
              "      <td>...</td>\n",
              "      <td>...</td>\n",
              "      <td>...</td>\n",
              "      <td>...</td>\n",
              "      <td>...</td>\n",
              "      <td>...</td>\n",
              "      <td>...</td>\n",
              "      <td>...</td>\n",
              "      <td>...</td>\n",
              "      <td>...</td>\n",
              "      <td>...</td>\n",
              "      <td>...</td>\n",
              "      <td>...</td>\n",
              "      <td>...</td>\n",
              "      <td>...</td>\n",
              "      <td>...</td>\n",
              "      <td>...</td>\n",
              "      <td>...</td>\n",
              "      <td>...</td>\n",
              "      <td>...</td>\n",
              "      <td>...</td>\n",
              "      <td>...</td>\n",
              "      <td>...</td>\n",
              "      <td>...</td>\n",
              "      <td>...</td>\n",
              "      <td>...</td>\n",
              "      <td>...</td>\n",
              "      <td>...</td>\n",
              "      <td>...</td>\n",
              "      <td>...</td>\n",
              "      <td>...</td>\n",
              "      <td>...</td>\n",
              "      <td>...</td>\n",
              "      <td>...</td>\n",
              "      <td>...</td>\n",
              "      <td>...</td>\n",
              "      <td>...</td>\n",
              "      <td>...</td>\n",
              "      <td>...</td>\n",
              "      <td>...</td>\n",
              "      <td>...</td>\n",
              "      <td>...</td>\n",
              "      <td>...</td>\n",
              "      <td>...</td>\n",
              "    </tr>\n",
              "    <tr>\n",
              "      <th>110268</th>\n",
              "      <td>-0.11</td>\n",
              "      <td>-0.02</td>\n",
              "      <td>-0.17</td>\n",
              "      <td>-0.10</td>\n",
              "      <td>-0.32</td>\n",
              "      <td>-0.64</td>\n",
              "      <td>0.60</td>\n",
              "      <td>-0.12</td>\n",
              "      <td>0</td>\n",
              "      <td>1</td>\n",
              "      <td>0</td>\n",
              "      <td>0</td>\n",
              "      <td>0</td>\n",
              "      <td>0</td>\n",
              "      <td>0</td>\n",
              "      <td>0</td>\n",
              "      <td>0</td>\n",
              "      <td>0</td>\n",
              "      <td>0</td>\n",
              "      <td>0</td>\n",
              "      <td>0</td>\n",
              "      <td>1</td>\n",
              "      <td>0</td>\n",
              "      <td>0</td>\n",
              "      <td>0</td>\n",
              "      <td>0</td>\n",
              "      <td>0</td>\n",
              "      <td>0</td>\n",
              "      <td>0</td>\n",
              "      <td>0</td>\n",
              "      <td>0</td>\n",
              "      <td>0</td>\n",
              "      <td>0</td>\n",
              "      <td>0</td>\n",
              "      <td>0</td>\n",
              "      <td>0</td>\n",
              "      <td>0</td>\n",
              "      <td>0</td>\n",
              "      <td>0</td>\n",
              "      <td>0</td>\n",
              "      <td>0</td>\n",
              "      <td>0</td>\n",
              "      <td>0</td>\n",
              "      <td>0</td>\n",
              "      <td>0</td>\n",
              "      <td>0</td>\n",
              "      <td>0</td>\n",
              "      <td>0</td>\n",
              "      <td>0</td>\n",
              "      <td>0</td>\n",
              "      <td>0</td>\n",
              "      <td>0</td>\n",
              "      <td>0</td>\n",
              "      <td>0</td>\n",
              "      <td>0</td>\n",
              "      <td>0</td>\n",
              "      <td>0</td>\n",
              "      <td>0</td>\n",
              "      <td>0</td>\n",
              "      <td>0</td>\n",
              "      <td>0</td>\n",
              "      <td>1</td>\n",
              "      <td>0</td>\n",
              "      <td>0</td>\n",
              "      <td>0</td>\n",
              "      <td>0</td>\n",
              "      <td>0</td>\n",
              "      <td>0</td>\n",
              "      <td>0</td>\n",
              "      <td>0</td>\n",
              "      <td>0</td>\n",
              "      <td>0</td>\n",
              "      <td>0</td>\n",
              "      <td>0</td>\n",
              "      <td>0</td>\n",
              "      <td>0</td>\n",
              "      <td>0</td>\n",
              "      <td>0</td>\n",
              "      <td>0</td>\n",
              "      <td>0</td>\n",
              "      <td>0</td>\n",
              "      <td>0</td>\n",
              "      <td>0</td>\n",
              "      <td>0</td>\n",
              "      <td>0</td>\n",
              "      <td>0</td>\n",
              "      <td>0</td>\n",
              "      <td>0</td>\n",
              "      <td>0</td>\n",
              "      <td>0</td>\n",
              "      <td>0</td>\n",
              "      <td>0</td>\n",
              "      <td>0</td>\n",
              "      <td>0</td>\n",
              "      <td>0</td>\n",
              "      <td>0</td>\n",
              "      <td>0</td>\n",
              "      <td>0</td>\n",
              "      <td>0</td>\n",
              "      <td>0</td>\n",
              "      <td>0</td>\n",
              "      <td>0</td>\n",
              "      <td>0</td>\n",
              "      <td>0</td>\n",
              "      <td>0</td>\n",
              "      <td>0</td>\n",
              "      <td>0</td>\n",
              "      <td>0</td>\n",
              "      <td>0</td>\n",
              "      <td>0</td>\n",
              "      <td>0</td>\n",
              "      <td>0</td>\n",
              "      <td>0</td>\n",
              "      <td>0</td>\n",
              "      <td>0</td>\n",
              "      <td>0</td>\n",
              "      <td>0</td>\n",
              "      <td>0</td>\n",
              "      <td>0</td>\n",
              "      <td>0</td>\n",
              "      <td>0</td>\n",
              "      <td>0</td>\n",
              "      <td>0</td>\n",
              "      <td>0</td>\n",
              "      <td>0</td>\n",
              "      <td>0</td>\n",
              "      <td>0</td>\n",
              "      <td>0</td>\n",
              "      <td>0</td>\n",
              "      <td>0</td>\n",
              "      <td>0</td>\n",
              "      <td>0</td>\n",
              "      <td>0</td>\n",
              "      <td>0</td>\n",
              "      <td>0</td>\n",
              "      <td>0</td>\n",
              "      <td>0</td>\n",
              "      <td>0</td>\n",
              "      <td>0</td>\n",
              "      <td>0</td>\n",
              "      <td>0</td>\n",
              "      <td>0</td>\n",
              "      <td>0</td>\n",
              "      <td>0</td>\n",
              "      <td>0</td>\n",
              "      <td>0</td>\n",
              "      <td>0</td>\n",
              "      <td>0</td>\n",
              "      <td>0</td>\n",
              "      <td>0</td>\n",
              "      <td>0</td>\n",
              "      <td>0</td>\n",
              "      <td>0</td>\n",
              "      <td>1</td>\n",
              "      <td>0</td>\n",
              "      <td>0</td>\n",
              "      <td>0</td>\n",
              "      <td>0</td>\n",
              "      <td>0</td>\n",
              "      <td>0</td>\n",
              "      <td>0</td>\n",
              "      <td>0</td>\n",
              "      <td>0</td>\n",
              "      <td>0</td>\n",
              "      <td>0</td>\n",
              "      <td>0</td>\n",
              "      <td>0</td>\n",
              "      <td>0</td>\n",
              "      <td>0</td>\n",
              "      <td>0</td>\n",
              "      <td>0</td>\n",
              "      <td>0</td>\n",
              "      <td>0</td>\n",
              "      <td>0</td>\n",
              "      <td>0</td>\n",
              "      <td>0</td>\n",
              "      <td>0</td>\n",
              "      <td>0</td>\n",
              "      <td>0</td>\n",
              "      <td>0</td>\n",
              "      <td>0</td>\n",
              "      <td>0</td>\n",
              "      <td>0</td>\n",
              "      <td>0</td>\n",
              "      <td>0</td>\n",
              "      <td>0</td>\n",
              "      <td>0</td>\n",
              "    </tr>\n",
              "    <tr>\n",
              "      <th>259178</th>\n",
              "      <td>-0.11</td>\n",
              "      <td>-0.71</td>\n",
              "      <td>-0.16</td>\n",
              "      <td>-0.03</td>\n",
              "      <td>-0.17</td>\n",
              "      <td>-0.23</td>\n",
              "      <td>-0.22</td>\n",
              "      <td>-0.03</td>\n",
              "      <td>1</td>\n",
              "      <td>0</td>\n",
              "      <td>0</td>\n",
              "      <td>0</td>\n",
              "      <td>0</td>\n",
              "      <td>0</td>\n",
              "      <td>0</td>\n",
              "      <td>0</td>\n",
              "      <td>0</td>\n",
              "      <td>0</td>\n",
              "      <td>0</td>\n",
              "      <td>0</td>\n",
              "      <td>0</td>\n",
              "      <td>0</td>\n",
              "      <td>0</td>\n",
              "      <td>0</td>\n",
              "      <td>0</td>\n",
              "      <td>0</td>\n",
              "      <td>0</td>\n",
              "      <td>0</td>\n",
              "      <td>1</td>\n",
              "      <td>0</td>\n",
              "      <td>0</td>\n",
              "      <td>0</td>\n",
              "      <td>0</td>\n",
              "      <td>0</td>\n",
              "      <td>0</td>\n",
              "      <td>0</td>\n",
              "      <td>0</td>\n",
              "      <td>0</td>\n",
              "      <td>0</td>\n",
              "      <td>0</td>\n",
              "      <td>0</td>\n",
              "      <td>0</td>\n",
              "      <td>0</td>\n",
              "      <td>0</td>\n",
              "      <td>0</td>\n",
              "      <td>1</td>\n",
              "      <td>0</td>\n",
              "      <td>0</td>\n",
              "      <td>0</td>\n",
              "      <td>0</td>\n",
              "      <td>0</td>\n",
              "      <td>0</td>\n",
              "      <td>0</td>\n",
              "      <td>0</td>\n",
              "      <td>0</td>\n",
              "      <td>0</td>\n",
              "      <td>0</td>\n",
              "      <td>0</td>\n",
              "      <td>0</td>\n",
              "      <td>0</td>\n",
              "      <td>0</td>\n",
              "      <td>0</td>\n",
              "      <td>0</td>\n",
              "      <td>0</td>\n",
              "      <td>0</td>\n",
              "      <td>0</td>\n",
              "      <td>0</td>\n",
              "      <td>0</td>\n",
              "      <td>0</td>\n",
              "      <td>0</td>\n",
              "      <td>0</td>\n",
              "      <td>0</td>\n",
              "      <td>0</td>\n",
              "      <td>0</td>\n",
              "      <td>0</td>\n",
              "      <td>0</td>\n",
              "      <td>0</td>\n",
              "      <td>0</td>\n",
              "      <td>0</td>\n",
              "      <td>0</td>\n",
              "      <td>0</td>\n",
              "      <td>0</td>\n",
              "      <td>0</td>\n",
              "      <td>0</td>\n",
              "      <td>0</td>\n",
              "      <td>0</td>\n",
              "      <td>0</td>\n",
              "      <td>0</td>\n",
              "      <td>0</td>\n",
              "      <td>0</td>\n",
              "      <td>0</td>\n",
              "      <td>0</td>\n",
              "      <td>0</td>\n",
              "      <td>0</td>\n",
              "      <td>0</td>\n",
              "      <td>0</td>\n",
              "      <td>0</td>\n",
              "      <td>0</td>\n",
              "      <td>0</td>\n",
              "      <td>0</td>\n",
              "      <td>0</td>\n",
              "      <td>0</td>\n",
              "      <td>0</td>\n",
              "      <td>0</td>\n",
              "      <td>0</td>\n",
              "      <td>0</td>\n",
              "      <td>0</td>\n",
              "      <td>0</td>\n",
              "      <td>0</td>\n",
              "      <td>0</td>\n",
              "      <td>0</td>\n",
              "      <td>0</td>\n",
              "      <td>0</td>\n",
              "      <td>0</td>\n",
              "      <td>1</td>\n",
              "      <td>0</td>\n",
              "      <td>0</td>\n",
              "      <td>0</td>\n",
              "      <td>0</td>\n",
              "      <td>0</td>\n",
              "      <td>0</td>\n",
              "      <td>0</td>\n",
              "      <td>0</td>\n",
              "      <td>0</td>\n",
              "      <td>0</td>\n",
              "      <td>0</td>\n",
              "      <td>0</td>\n",
              "      <td>0</td>\n",
              "      <td>0</td>\n",
              "      <td>0</td>\n",
              "      <td>0</td>\n",
              "      <td>0</td>\n",
              "      <td>0</td>\n",
              "      <td>0</td>\n",
              "      <td>0</td>\n",
              "      <td>0</td>\n",
              "      <td>0</td>\n",
              "      <td>0</td>\n",
              "      <td>0</td>\n",
              "      <td>0</td>\n",
              "      <td>0</td>\n",
              "      <td>0</td>\n",
              "      <td>0</td>\n",
              "      <td>0</td>\n",
              "      <td>0</td>\n",
              "      <td>0</td>\n",
              "      <td>0</td>\n",
              "      <td>0</td>\n",
              "      <td>0</td>\n",
              "      <td>0</td>\n",
              "      <td>0</td>\n",
              "      <td>0</td>\n",
              "      <td>0</td>\n",
              "      <td>0</td>\n",
              "      <td>0</td>\n",
              "      <td>0</td>\n",
              "      <td>0</td>\n",
              "      <td>0</td>\n",
              "      <td>0</td>\n",
              "      <td>0</td>\n",
              "      <td>0</td>\n",
              "      <td>0</td>\n",
              "      <td>0</td>\n",
              "      <td>0</td>\n",
              "      <td>0</td>\n",
              "      <td>0</td>\n",
              "      <td>0</td>\n",
              "      <td>0</td>\n",
              "      <td>0</td>\n",
              "      <td>0</td>\n",
              "      <td>0</td>\n",
              "      <td>0</td>\n",
              "      <td>0</td>\n",
              "      <td>0</td>\n",
              "      <td>0</td>\n",
              "      <td>0</td>\n",
              "      <td>0</td>\n",
              "      <td>0</td>\n",
              "      <td>0</td>\n",
              "      <td>0</td>\n",
              "      <td>0</td>\n",
              "      <td>0</td>\n",
              "      <td>0</td>\n",
              "      <td>0</td>\n",
              "      <td>0</td>\n",
              "      <td>0</td>\n",
              "      <td>0</td>\n",
              "    </tr>\n",
              "    <tr>\n",
              "      <th>365838</th>\n",
              "      <td>-0.11</td>\n",
              "      <td>-0.67</td>\n",
              "      <td>-0.17</td>\n",
              "      <td>-0.74</td>\n",
              "      <td>-0.14</td>\n",
              "      <td>-0.57</td>\n",
              "      <td>1.12</td>\n",
              "      <td>-0.50</td>\n",
              "      <td>0</td>\n",
              "      <td>0</td>\n",
              "      <td>0</td>\n",
              "      <td>0</td>\n",
              "      <td>0</td>\n",
              "      <td>0</td>\n",
              "      <td>0</td>\n",
              "      <td>1</td>\n",
              "      <td>0</td>\n",
              "      <td>0</td>\n",
              "      <td>0</td>\n",
              "      <td>0</td>\n",
              "      <td>0</td>\n",
              "      <td>0</td>\n",
              "      <td>0</td>\n",
              "      <td>0</td>\n",
              "      <td>0</td>\n",
              "      <td>0</td>\n",
              "      <td>0</td>\n",
              "      <td>1</td>\n",
              "      <td>0</td>\n",
              "      <td>0</td>\n",
              "      <td>0</td>\n",
              "      <td>0</td>\n",
              "      <td>0</td>\n",
              "      <td>0</td>\n",
              "      <td>0</td>\n",
              "      <td>0</td>\n",
              "      <td>0</td>\n",
              "      <td>0</td>\n",
              "      <td>0</td>\n",
              "      <td>0</td>\n",
              "      <td>0</td>\n",
              "      <td>0</td>\n",
              "      <td>0</td>\n",
              "      <td>0</td>\n",
              "      <td>0</td>\n",
              "      <td>0</td>\n",
              "      <td>0</td>\n",
              "      <td>0</td>\n",
              "      <td>0</td>\n",
              "      <td>0</td>\n",
              "      <td>0</td>\n",
              "      <td>0</td>\n",
              "      <td>0</td>\n",
              "      <td>0</td>\n",
              "      <td>0</td>\n",
              "      <td>0</td>\n",
              "      <td>0</td>\n",
              "      <td>0</td>\n",
              "      <td>0</td>\n",
              "      <td>0</td>\n",
              "      <td>0</td>\n",
              "      <td>0</td>\n",
              "      <td>0</td>\n",
              "      <td>0</td>\n",
              "      <td>0</td>\n",
              "      <td>0</td>\n",
              "      <td>0</td>\n",
              "      <td>0</td>\n",
              "      <td>0</td>\n",
              "      <td>1</td>\n",
              "      <td>0</td>\n",
              "      <td>0</td>\n",
              "      <td>0</td>\n",
              "      <td>0</td>\n",
              "      <td>0</td>\n",
              "      <td>0</td>\n",
              "      <td>0</td>\n",
              "      <td>0</td>\n",
              "      <td>0</td>\n",
              "      <td>0</td>\n",
              "      <td>0</td>\n",
              "      <td>0</td>\n",
              "      <td>0</td>\n",
              "      <td>0</td>\n",
              "      <td>0</td>\n",
              "      <td>0</td>\n",
              "      <td>0</td>\n",
              "      <td>0</td>\n",
              "      <td>0</td>\n",
              "      <td>0</td>\n",
              "      <td>0</td>\n",
              "      <td>0</td>\n",
              "      <td>0</td>\n",
              "      <td>0</td>\n",
              "      <td>0</td>\n",
              "      <td>0</td>\n",
              "      <td>0</td>\n",
              "      <td>0</td>\n",
              "      <td>0</td>\n",
              "      <td>0</td>\n",
              "      <td>0</td>\n",
              "      <td>0</td>\n",
              "      <td>0</td>\n",
              "      <td>0</td>\n",
              "      <td>0</td>\n",
              "      <td>0</td>\n",
              "      <td>0</td>\n",
              "      <td>0</td>\n",
              "      <td>0</td>\n",
              "      <td>0</td>\n",
              "      <td>0</td>\n",
              "      <td>0</td>\n",
              "      <td>0</td>\n",
              "      <td>0</td>\n",
              "      <td>0</td>\n",
              "      <td>0</td>\n",
              "      <td>0</td>\n",
              "      <td>0</td>\n",
              "      <td>0</td>\n",
              "      <td>0</td>\n",
              "      <td>0</td>\n",
              "      <td>0</td>\n",
              "      <td>0</td>\n",
              "      <td>0</td>\n",
              "      <td>0</td>\n",
              "      <td>0</td>\n",
              "      <td>0</td>\n",
              "      <td>0</td>\n",
              "      <td>0</td>\n",
              "      <td>0</td>\n",
              "      <td>0</td>\n",
              "      <td>1</td>\n",
              "      <td>0</td>\n",
              "      <td>0</td>\n",
              "      <td>0</td>\n",
              "      <td>0</td>\n",
              "      <td>0</td>\n",
              "      <td>0</td>\n",
              "      <td>0</td>\n",
              "      <td>0</td>\n",
              "      <td>0</td>\n",
              "      <td>0</td>\n",
              "      <td>0</td>\n",
              "      <td>0</td>\n",
              "      <td>0</td>\n",
              "      <td>0</td>\n",
              "      <td>0</td>\n",
              "      <td>0</td>\n",
              "      <td>0</td>\n",
              "      <td>0</td>\n",
              "      <td>0</td>\n",
              "      <td>0</td>\n",
              "      <td>0</td>\n",
              "      <td>0</td>\n",
              "      <td>0</td>\n",
              "      <td>0</td>\n",
              "      <td>0</td>\n",
              "      <td>0</td>\n",
              "      <td>0</td>\n",
              "      <td>0</td>\n",
              "      <td>0</td>\n",
              "      <td>0</td>\n",
              "      <td>0</td>\n",
              "      <td>0</td>\n",
              "      <td>0</td>\n",
              "      <td>0</td>\n",
              "      <td>0</td>\n",
              "      <td>0</td>\n",
              "      <td>0</td>\n",
              "      <td>0</td>\n",
              "      <td>0</td>\n",
              "      <td>0</td>\n",
              "      <td>0</td>\n",
              "      <td>0</td>\n",
              "      <td>0</td>\n",
              "      <td>0</td>\n",
              "      <td>0</td>\n",
              "      <td>0</td>\n",
              "      <td>0</td>\n",
              "      <td>0</td>\n",
              "      <td>0</td>\n",
              "      <td>0</td>\n",
              "      <td>0</td>\n",
              "      <td>0</td>\n",
              "      <td>0</td>\n",
              "      <td>0</td>\n",
              "      <td>0</td>\n",
              "    </tr>\n",
              "    <tr>\n",
              "      <th>131932</th>\n",
              "      <td>-0.11</td>\n",
              "      <td>0.95</td>\n",
              "      <td>-0.28</td>\n",
              "      <td>0.85</td>\n",
              "      <td>-0.37</td>\n",
              "      <td>-0.77</td>\n",
              "      <td>-0.73</td>\n",
              "      <td>-0.32</td>\n",
              "      <td>0</td>\n",
              "      <td>0</td>\n",
              "      <td>1</td>\n",
              "      <td>0</td>\n",
              "      <td>0</td>\n",
              "      <td>0</td>\n",
              "      <td>0</td>\n",
              "      <td>0</td>\n",
              "      <td>0</td>\n",
              "      <td>0</td>\n",
              "      <td>0</td>\n",
              "      <td>0</td>\n",
              "      <td>0</td>\n",
              "      <td>0</td>\n",
              "      <td>1</td>\n",
              "      <td>0</td>\n",
              "      <td>0</td>\n",
              "      <td>0</td>\n",
              "      <td>0</td>\n",
              "      <td>0</td>\n",
              "      <td>0</td>\n",
              "      <td>0</td>\n",
              "      <td>0</td>\n",
              "      <td>0</td>\n",
              "      <td>0</td>\n",
              "      <td>0</td>\n",
              "      <td>0</td>\n",
              "      <td>0</td>\n",
              "      <td>0</td>\n",
              "      <td>0</td>\n",
              "      <td>0</td>\n",
              "      <td>0</td>\n",
              "      <td>0</td>\n",
              "      <td>0</td>\n",
              "      <td>0</td>\n",
              "      <td>0</td>\n",
              "      <td>0</td>\n",
              "      <td>1</td>\n",
              "      <td>0</td>\n",
              "      <td>0</td>\n",
              "      <td>0</td>\n",
              "      <td>0</td>\n",
              "      <td>0</td>\n",
              "      <td>0</td>\n",
              "      <td>0</td>\n",
              "      <td>0</td>\n",
              "      <td>0</td>\n",
              "      <td>0</td>\n",
              "      <td>0</td>\n",
              "      <td>0</td>\n",
              "      <td>0</td>\n",
              "      <td>0</td>\n",
              "      <td>0</td>\n",
              "      <td>0</td>\n",
              "      <td>0</td>\n",
              "      <td>0</td>\n",
              "      <td>0</td>\n",
              "      <td>0</td>\n",
              "      <td>0</td>\n",
              "      <td>0</td>\n",
              "      <td>0</td>\n",
              "      <td>0</td>\n",
              "      <td>0</td>\n",
              "      <td>0</td>\n",
              "      <td>0</td>\n",
              "      <td>0</td>\n",
              "      <td>0</td>\n",
              "      <td>0</td>\n",
              "      <td>0</td>\n",
              "      <td>0</td>\n",
              "      <td>0</td>\n",
              "      <td>0</td>\n",
              "      <td>0</td>\n",
              "      <td>0</td>\n",
              "      <td>0</td>\n",
              "      <td>0</td>\n",
              "      <td>0</td>\n",
              "      <td>0</td>\n",
              "      <td>0</td>\n",
              "      <td>0</td>\n",
              "      <td>0</td>\n",
              "      <td>0</td>\n",
              "      <td>0</td>\n",
              "      <td>0</td>\n",
              "      <td>0</td>\n",
              "      <td>0</td>\n",
              "      <td>0</td>\n",
              "      <td>0</td>\n",
              "      <td>0</td>\n",
              "      <td>0</td>\n",
              "      <td>0</td>\n",
              "      <td>0</td>\n",
              "      <td>0</td>\n",
              "      <td>0</td>\n",
              "      <td>0</td>\n",
              "      <td>0</td>\n",
              "      <td>0</td>\n",
              "      <td>0</td>\n",
              "      <td>0</td>\n",
              "      <td>0</td>\n",
              "      <td>0</td>\n",
              "      <td>0</td>\n",
              "      <td>0</td>\n",
              "      <td>0</td>\n",
              "      <td>0</td>\n",
              "      <td>0</td>\n",
              "      <td>1</td>\n",
              "      <td>0</td>\n",
              "      <td>0</td>\n",
              "      <td>0</td>\n",
              "      <td>0</td>\n",
              "      <td>0</td>\n",
              "      <td>0</td>\n",
              "      <td>0</td>\n",
              "      <td>0</td>\n",
              "      <td>0</td>\n",
              "      <td>0</td>\n",
              "      <td>0</td>\n",
              "      <td>0</td>\n",
              "      <td>0</td>\n",
              "      <td>0</td>\n",
              "      <td>0</td>\n",
              "      <td>0</td>\n",
              "      <td>0</td>\n",
              "      <td>0</td>\n",
              "      <td>0</td>\n",
              "      <td>0</td>\n",
              "      <td>0</td>\n",
              "      <td>0</td>\n",
              "      <td>0</td>\n",
              "      <td>0</td>\n",
              "      <td>0</td>\n",
              "      <td>0</td>\n",
              "      <td>0</td>\n",
              "      <td>0</td>\n",
              "      <td>0</td>\n",
              "      <td>0</td>\n",
              "      <td>0</td>\n",
              "      <td>0</td>\n",
              "      <td>0</td>\n",
              "      <td>0</td>\n",
              "      <td>0</td>\n",
              "      <td>0</td>\n",
              "      <td>0</td>\n",
              "      <td>0</td>\n",
              "      <td>0</td>\n",
              "      <td>0</td>\n",
              "      <td>0</td>\n",
              "      <td>0</td>\n",
              "      <td>0</td>\n",
              "      <td>0</td>\n",
              "      <td>0</td>\n",
              "      <td>0</td>\n",
              "      <td>0</td>\n",
              "      <td>0</td>\n",
              "      <td>0</td>\n",
              "      <td>0</td>\n",
              "      <td>0</td>\n",
              "      <td>0</td>\n",
              "      <td>0</td>\n",
              "      <td>0</td>\n",
              "      <td>0</td>\n",
              "      <td>0</td>\n",
              "      <td>0</td>\n",
              "      <td>0</td>\n",
              "      <td>0</td>\n",
              "      <td>0</td>\n",
              "      <td>0</td>\n",
              "      <td>0</td>\n",
              "      <td>0</td>\n",
              "      <td>0</td>\n",
              "      <td>0</td>\n",
              "      <td>0</td>\n",
              "      <td>0</td>\n",
              "      <td>0</td>\n",
              "      <td>0</td>\n",
              "      <td>0</td>\n",
              "      <td>0</td>\n",
              "      <td>0</td>\n",
              "    </tr>\n",
              "    <tr>\n",
              "      <th>121958</th>\n",
              "      <td>-0.11</td>\n",
              "      <td>-0.71</td>\n",
              "      <td>-0.28</td>\n",
              "      <td>-1.10</td>\n",
              "      <td>-0.39</td>\n",
              "      <td>-0.10</td>\n",
              "      <td>-0.93</td>\n",
              "      <td>-0.81</td>\n",
              "      <td>1</td>\n",
              "      <td>0</td>\n",
              "      <td>0</td>\n",
              "      <td>0</td>\n",
              "      <td>0</td>\n",
              "      <td>0</td>\n",
              "      <td>0</td>\n",
              "      <td>0</td>\n",
              "      <td>0</td>\n",
              "      <td>0</td>\n",
              "      <td>0</td>\n",
              "      <td>0</td>\n",
              "      <td>0</td>\n",
              "      <td>0</td>\n",
              "      <td>0</td>\n",
              "      <td>0</td>\n",
              "      <td>0</td>\n",
              "      <td>0</td>\n",
              "      <td>0</td>\n",
              "      <td>0</td>\n",
              "      <td>0</td>\n",
              "      <td>0</td>\n",
              "      <td>0</td>\n",
              "      <td>0</td>\n",
              "      <td>0</td>\n",
              "      <td>0</td>\n",
              "      <td>0</td>\n",
              "      <td>0</td>\n",
              "      <td>0</td>\n",
              "      <td>0</td>\n",
              "      <td>0</td>\n",
              "      <td>0</td>\n",
              "      <td>0</td>\n",
              "      <td>0</td>\n",
              "      <td>0</td>\n",
              "      <td>0</td>\n",
              "      <td>0</td>\n",
              "      <td>0</td>\n",
              "      <td>0</td>\n",
              "      <td>0</td>\n",
              "      <td>0</td>\n",
              "      <td>0</td>\n",
              "      <td>0</td>\n",
              "      <td>0</td>\n",
              "      <td>0</td>\n",
              "      <td>0</td>\n",
              "      <td>0</td>\n",
              "      <td>0</td>\n",
              "      <td>0</td>\n",
              "      <td>0</td>\n",
              "      <td>0</td>\n",
              "      <td>0</td>\n",
              "      <td>0</td>\n",
              "      <td>0</td>\n",
              "      <td>1</td>\n",
              "      <td>0</td>\n",
              "      <td>0</td>\n",
              "      <td>0</td>\n",
              "      <td>0</td>\n",
              "      <td>0</td>\n",
              "      <td>0</td>\n",
              "      <td>0</td>\n",
              "      <td>0</td>\n",
              "      <td>0</td>\n",
              "      <td>0</td>\n",
              "      <td>0</td>\n",
              "      <td>0</td>\n",
              "      <td>0</td>\n",
              "      <td>0</td>\n",
              "      <td>0</td>\n",
              "      <td>0</td>\n",
              "      <td>0</td>\n",
              "      <td>0</td>\n",
              "      <td>0</td>\n",
              "      <td>0</td>\n",
              "      <td>0</td>\n",
              "      <td>0</td>\n",
              "      <td>0</td>\n",
              "      <td>0</td>\n",
              "      <td>0</td>\n",
              "      <td>0</td>\n",
              "      <td>0</td>\n",
              "      <td>0</td>\n",
              "      <td>0</td>\n",
              "      <td>0</td>\n",
              "      <td>0</td>\n",
              "      <td>0</td>\n",
              "      <td>0</td>\n",
              "      <td>0</td>\n",
              "      <td>0</td>\n",
              "      <td>0</td>\n",
              "      <td>0</td>\n",
              "      <td>0</td>\n",
              "      <td>0</td>\n",
              "      <td>0</td>\n",
              "      <td>0</td>\n",
              "      <td>0</td>\n",
              "      <td>0</td>\n",
              "      <td>0</td>\n",
              "      <td>0</td>\n",
              "      <td>0</td>\n",
              "      <td>0</td>\n",
              "      <td>0</td>\n",
              "      <td>0</td>\n",
              "      <td>0</td>\n",
              "      <td>0</td>\n",
              "      <td>0</td>\n",
              "      <td>0</td>\n",
              "      <td>0</td>\n",
              "      <td>0</td>\n",
              "      <td>0</td>\n",
              "      <td>0</td>\n",
              "      <td>0</td>\n",
              "      <td>0</td>\n",
              "      <td>0</td>\n",
              "      <td>0</td>\n",
              "      <td>0</td>\n",
              "      <td>0</td>\n",
              "      <td>0</td>\n",
              "      <td>0</td>\n",
              "      <td>0</td>\n",
              "      <td>0</td>\n",
              "      <td>0</td>\n",
              "      <td>0</td>\n",
              "      <td>0</td>\n",
              "      <td>0</td>\n",
              "      <td>0</td>\n",
              "      <td>0</td>\n",
              "      <td>1</td>\n",
              "      <td>0</td>\n",
              "      <td>0</td>\n",
              "      <td>0</td>\n",
              "      <td>0</td>\n",
              "      <td>0</td>\n",
              "      <td>0</td>\n",
              "      <td>0</td>\n",
              "      <td>0</td>\n",
              "      <td>0</td>\n",
              "      <td>0</td>\n",
              "      <td>0</td>\n",
              "      <td>0</td>\n",
              "      <td>0</td>\n",
              "      <td>0</td>\n",
              "      <td>0</td>\n",
              "      <td>0</td>\n",
              "      <td>0</td>\n",
              "      <td>0</td>\n",
              "      <td>0</td>\n",
              "      <td>0</td>\n",
              "      <td>0</td>\n",
              "      <td>0</td>\n",
              "      <td>0</td>\n",
              "      <td>0</td>\n",
              "      <td>0</td>\n",
              "      <td>0</td>\n",
              "      <td>0</td>\n",
              "      <td>0</td>\n",
              "      <td>0</td>\n",
              "      <td>0</td>\n",
              "      <td>0</td>\n",
              "      <td>0</td>\n",
              "      <td>0</td>\n",
              "      <td>0</td>\n",
              "      <td>0</td>\n",
              "      <td>0</td>\n",
              "      <td>0</td>\n",
              "      <td>0</td>\n",
              "      <td>0</td>\n",
              "      <td>0</td>\n",
              "      <td>0</td>\n",
              "      <td>0</td>\n",
              "      <td>0</td>\n",
              "      <td>0</td>\n",
              "      <td>0</td>\n",
              "      <td>0</td>\n",
              "      <td>0</td>\n",
              "      <td>0</td>\n",
              "      <td>0</td>\n",
              "      <td>0</td>\n",
              "    </tr>\n",
              "  </tbody>\n",
              "</table>\n",
              "<p>468721 rows × 187 columns</p>\n",
              "</div>\n",
              "      <button class=\"colab-df-convert\" onclick=\"convertToInteractive('df-df706fee-b542-484d-96c1-7742e8179731')\"\n",
              "              title=\"Convert this dataframe to an interactive table.\"\n",
              "              style=\"display:none;\">\n",
              "        \n",
              "  <svg xmlns=\"http://www.w3.org/2000/svg\" height=\"24px\"viewBox=\"0 0 24 24\"\n",
              "       width=\"24px\">\n",
              "    <path d=\"M0 0h24v24H0V0z\" fill=\"none\"/>\n",
              "    <path d=\"M18.56 5.44l.94 2.06.94-2.06 2.06-.94-2.06-.94-.94-2.06-.94 2.06-2.06.94zm-11 1L8.5 8.5l.94-2.06 2.06-.94-2.06-.94L8.5 2.5l-.94 2.06-2.06.94zm10 10l.94 2.06.94-2.06 2.06-.94-2.06-.94-.94-2.06-.94 2.06-2.06.94z\"/><path d=\"M17.41 7.96l-1.37-1.37c-.4-.4-.92-.59-1.43-.59-.52 0-1.04.2-1.43.59L10.3 9.45l-7.72 7.72c-.78.78-.78 2.05 0 2.83L4 21.41c.39.39.9.59 1.41.59.51 0 1.02-.2 1.41-.59l7.78-7.78 2.81-2.81c.8-.78.8-2.07 0-2.86zM5.41 20L4 18.59l7.72-7.72 1.47 1.35L5.41 20z\"/>\n",
              "  </svg>\n",
              "      </button>\n",
              "      \n",
              "  <style>\n",
              "    .colab-df-container {\n",
              "      display:flex;\n",
              "      flex-wrap:wrap;\n",
              "      gap: 12px;\n",
              "    }\n",
              "\n",
              "    .colab-df-convert {\n",
              "      background-color: #E8F0FE;\n",
              "      border: none;\n",
              "      border-radius: 50%;\n",
              "      cursor: pointer;\n",
              "      display: none;\n",
              "      fill: #1967D2;\n",
              "      height: 32px;\n",
              "      padding: 0 0 0 0;\n",
              "      width: 32px;\n",
              "    }\n",
              "\n",
              "    .colab-df-convert:hover {\n",
              "      background-color: #E2EBFA;\n",
              "      box-shadow: 0px 1px 2px rgba(60, 64, 67, 0.3), 0px 1px 3px 1px rgba(60, 64, 67, 0.15);\n",
              "      fill: #174EA6;\n",
              "    }\n",
              "\n",
              "    [theme=dark] .colab-df-convert {\n",
              "      background-color: #3B4455;\n",
              "      fill: #D2E3FC;\n",
              "    }\n",
              "\n",
              "    [theme=dark] .colab-df-convert:hover {\n",
              "      background-color: #434B5C;\n",
              "      box-shadow: 0px 1px 3px 1px rgba(0, 0, 0, 0.15);\n",
              "      filter: drop-shadow(0px 1px 2px rgba(0, 0, 0, 0.3));\n",
              "      fill: #FFFFFF;\n",
              "    }\n",
              "  </style>\n",
              "\n",
              "      <script>\n",
              "        const buttonEl =\n",
              "          document.querySelector('#df-df706fee-b542-484d-96c1-7742e8179731 button.colab-df-convert');\n",
              "        buttonEl.style.display =\n",
              "          google.colab.kernel.accessAllowed ? 'block' : 'none';\n",
              "\n",
              "        async function convertToInteractive(key) {\n",
              "          const element = document.querySelector('#df-df706fee-b542-484d-96c1-7742e8179731');\n",
              "          const dataTable =\n",
              "            await google.colab.kernel.invokeFunction('convertToInteractive',\n",
              "                                                     [key], {});\n",
              "          if (!dataTable) return;\n",
              "\n",
              "          const docLinkHtml = 'Like what you see? Visit the ' +\n",
              "            '<a target=\"_blank\" href=https://colab.research.google.com/notebooks/data_table.ipynb>data table notebook</a>'\n",
              "            + ' to learn more about interactive tables.';\n",
              "          element.innerHTML = '';\n",
              "          dataTable['output_type'] = 'display_data';\n",
              "          await google.colab.output.renderOutput(dataTable, element);\n",
              "          const docLink = document.createElement('div');\n",
              "          docLink.innerHTML = docLinkHtml;\n",
              "          element.appendChild(docLink);\n",
              "        }\n",
              "      </script>\n",
              "    </div>\n",
              "  </div>\n",
              "  "
            ]
          },
          "metadata": {},
          "execution_count": 212
        }
      ]
    },
    {
      "cell_type": "markdown",
      "metadata": {
        "id": "v3qZVT8GtQ6g"
      },
      "source": [
        "Обучающие признаки"
      ]
    },
    {
      "cell_type": "markdown",
      "source": [],
      "metadata": {
        "id": "KbnW-Zv79WEr"
      }
    },
    {
      "cell_type": "code",
      "execution_count": null,
      "metadata": {
        "id": "dIevo51XtQ6g"
      },
      "outputs": [],
      "source": [
        "x_train = train.drop(['client_off'] , axis=1)"
      ]
    },
    {
      "cell_type": "markdown",
      "metadata": {
        "id": "ejlZwJC8tQ6g"
      },
      "source": [
        "Обучающие целевые признаки"
      ]
    },
    {
      "cell_type": "code",
      "execution_count": null,
      "metadata": {
        "id": "44s1ZoOvtQ6g"
      },
      "outputs": [],
      "source": [
        "y_train = train['client_off']"
      ]
    },
    {
      "cell_type": "markdown",
      "metadata": {
        "id": "-ov3Z6GWtQ6g"
      },
      "source": [
        "Тестовые признаки"
      ]
    },
    {
      "cell_type": "code",
      "execution_count": null,
      "metadata": {
        "id": "dEYc-FPitQ6g"
      },
      "outputs": [],
      "source": [
        "x_test = test.drop(['client_off'] , axis=1)"
      ]
    },
    {
      "cell_type": "markdown",
      "metadata": {
        "id": "ci6skoH7tQ6g"
      },
      "source": [
        "Тестовый целевой признак"
      ]
    },
    {
      "cell_type": "code",
      "execution_count": null,
      "metadata": {
        "id": "5h0xpISstQ6g"
      },
      "outputs": [],
      "source": [
        "y_test = test['client_off']"
      ]
    },
    {
      "cell_type": "markdown",
      "metadata": {
        "id": "LIR8S4O3tQ6g"
      },
      "source": [
        "**************"
      ]
    },
    {
      "cell_type": "markdown",
      "metadata": {
        "id": "mLAuJR-7tQ6h"
      },
      "source": [
        "# Обучение моделей"
      ]
    },
    {
      "cell_type": "markdown",
      "source": [
        "Выбор таргета основан на ошибках предыдущих рекомендаций, совпадения рекомендаций и авбора оставлены. Несовпадения - оставлен \"выбор\""
      ],
      "metadata": {
        "id": "ZWHZ8sjij2Sj"
      }
    },
    {
      "cell_type": "code",
      "source": [
        "(df_data[df_data['sel_calc_cube'] == df_data['rec_calc_cube']])['rec_calc_cube'].count()"
      ],
      "metadata": {
        "id": "ju3FcqU1j0or"
      },
      "execution_count": null,
      "outputs": []
    },
    {
      "cell_type": "markdown",
      "source": [
        "Обучать будем три модели:\n",
        "1. Определение размера упаковки\n",
        "2. Определение типа упаковки\n",
        "3. Определение совместимости товаров"
      ],
      "metadata": {
        "id": "kK31yYG490m8"
      }
    },
    {
      "cell_type": "markdown",
      "source": [
        "## 1. Определение размера упаковки"
      ],
      "metadata": {
        "id": "SXI30Q7w921M"
      }
    },
    {
      "cell_type": "markdown",
      "source": [
        "Для обучения модели оставим только те признаки, которые отвечают за размер"
      ],
      "metadata": {
        "id": "aYqNsU2k-K3k"
      }
    },
    {
      "cell_type": "code",
      "source": [
        "df.head(50)"
      ],
      "metadata": {
        "colab": {
          "base_uri": "https://localhost:8080/",
          "height": 1000
        },
        "id": "GNbfgJ7a-XpK",
        "outputId": "62c55203-b4f8-47a4-f56f-d88d6ec0c219"
      },
      "execution_count": null,
      "outputs": [
        {
          "output_type": "execute_result",
          "data": {
            "text/plain": [
              "    box_num  sel_calc_cube  pack_volume  rec_calc_cube  goods_wght     a  \\\n",
              "0         1              0         3050          15579        0.90 18.60   \n",
              "1         1              0         3050          15579        0.90 18.60   \n",
              "2         1              0         3050          15579        0.90 18.60   \n",
              "3         1              0        13662          26820        4.40 30.00   \n",
              "4         1              0        13662          26820        4.40 30.00   \n",
              "5         1              0        13662          26820        4.40 30.00   \n",
              "6         1              0         4518          26277        0.70 14.00   \n",
              "7         1              0         4518          26277        0.70 14.00   \n",
              "8         1              0         6346          13125        2.08 23.40   \n",
              "9         1              0         6346          13125        2.08 23.40   \n",
              "10        1              0         6346          13125        2.08 23.40   \n",
              "11        1              0         7569          18000        6.08 29.00   \n",
              "12        1              0         7569          18000        6.08 29.00   \n",
              "13        1              0         7569          18000        6.08 29.00   \n",
              "14        1              0         7569          18000        6.08 29.00   \n",
              "15        1              0         7569          18000        6.08 29.00   \n",
              "16        1              0         7569          18000        6.08 29.00   \n",
              "17        1              0         9192          26820        1.09 32.40   \n",
              "18        1              0         9192          26820        1.09 32.40   \n",
              "19        1              0         9192          26820        1.09 32.40   \n",
              "20        1              0         9192          26820        1.09 32.40   \n",
              "21        1              0         9192          26820        1.09 32.40   \n",
              "22        1           8436         3456           9000        3.05 24.00   \n",
              "23        1           8436         3456           9000        3.05 24.00   \n",
              "24        1           8436         3456           9000        3.05 24.00   \n",
              "25        1           8436         3456           9000        3.05 24.00   \n",
              "26        1           8436         3456           9000        3.05 24.00   \n",
              "27        1           8436         3456           9000        3.05 24.00   \n",
              "28        1           8436         3456           9000        3.05 24.00   \n",
              "29        1           8436         3456           9000        3.05 24.00   \n",
              "30        1              0         4800              0        0.46 80.00   \n",
              "31        1              0         4800              0        0.46 80.00   \n",
              "32        1              0         4800              0        0.46 80.00   \n",
              "33        1           8436         2484           8436        3.10 36.00   \n",
              "34        1           8436         2484           8436        3.10 36.00   \n",
              "35        1           8436         2484           8436        3.10 36.00   \n",
              "36        1           8436         2484           8436        3.10 36.00   \n",
              "37        1           8436         2484           8436        3.10 36.00   \n",
              "38        1           8436         2484           8436        3.10 36.00   \n",
              "39        1              0          957              0        0.16 71.90   \n",
              "40        1              0          957              0        0.16 71.90   \n",
              "41        1              0          957              0        0.16 71.90   \n",
              "42        1              0          957              0        0.16 71.90   \n",
              "43        1          26820          930          26277        0.72  7.90   \n",
              "44        1          26820          930          26277        0.72  7.90   \n",
              "45        1          26820          930          26277        0.72  7.90   \n",
              "46        1          26820          930          26277        0.72  7.90   \n",
              "47        1          26820          930          26277        0.72  7.90   \n",
              "48        1          26820          930          26277        0.72  7.90   \n",
              "49        1          26820          930          26277        0.72  7.90   \n",
              "\n",
              "       b     c  selected_cartontype_MYB  selected_cartontype_MYC  ...  \\\n",
              "0   3.30 49.70                        0                        0  ...   \n",
              "1   3.30 49.70                        0                        0  ...   \n",
              "2   3.30 49.70                        0                        0  ...   \n",
              "3  23.00 22.00                        0                        0  ...   \n",
              "4  23.00 22.00                        0                        0  ...   \n",
              "5  23.00 22.00                        0                        0  ...   \n",
              "6  10.70 43.80                        0                        0  ...   \n",
              "7  10.70 43.80                        0                        0  ...   \n",
              "8   8.00 33.90                        0                        0  ...   \n",
              "9   8.00 33.90                        0                        0  ...   \n",
              "10  8.00 33.90                        0                        0  ...   \n",
              "11  9.00 29.00                        0                        0  ...   \n",
              "12  9.00 29.00                        0                        0  ...   \n",
              "13  9.00 29.00                        0                        0  ...   \n",
              "14  9.00 29.00                        0                        0  ...   \n",
              "15  9.00 29.00                        0                        0  ...   \n",
              "16  9.00 29.00                        0                        0  ...   \n",
              "17 16.40 17.30                        0                        0  ...   \n",
              "18 16.40 17.30                        0                        0  ...   \n",
              "19 16.40 17.30                        0                        0  ...   \n",
              "20 16.40 17.30                        0                        0  ...   \n",
              "21 16.40 17.30                        0                        0  ...   \n",
              "22  8.00 18.00                        0                        1  ...   \n",
              "23  8.00 18.00                        0                        1  ...   \n",
              "24  8.00 18.00                        0                        1  ...   \n",
              "25  8.00 18.00                        0                        1  ...   \n",
              "26  8.00 18.00                        0                        1  ...   \n",
              "27  8.00 18.00                        0                        1  ...   \n",
              "28  8.00 18.00                        0                        1  ...   \n",
              "29  8.00 18.00                        0                        1  ...   \n",
              "30  1.00 60.00                        0                        0  ...   \n",
              "31  1.00 60.00                        0                        0  ...   \n",
              "32  1.00 60.00                        0                        0  ...   \n",
              "33  3.00 23.00                        0                        1  ...   \n",
              "34  3.00 23.00                        0                        1  ...   \n",
              "35  3.00 23.00                        0                        1  ...   \n",
              "36  3.00 23.00                        0                        1  ...   \n",
              "37  3.00 23.00                        0                        1  ...   \n",
              "38  3.00 23.00                        0                        1  ...   \n",
              "39  3.70  3.60                        0                        0  ...   \n",
              "40  3.70  3.60                        0                        0  ...   \n",
              "41  3.70  3.60                        0                        0  ...   \n",
              "42  3.70  3.60                        0                        0  ...   \n",
              "43 15.50  7.60                        0                        0  ...   \n",
              "44 15.50  7.60                        0                        0  ...   \n",
              "45 15.50  7.60                        0                        0  ...   \n",
              "46 15.50  7.60                        0                        0  ...   \n",
              "47 15.50  7.60                        0                        0  ...   \n",
              "48 15.50  7.60                        0                        0  ...   \n",
              "49 15.50  7.60                        0                        0  ...   \n",
              "\n",
              "    description_упаковка в пленку  description_фреш  description_химикаты  \\\n",
              "0                               0                 0                     0   \n",
              "1                               0                 0                     0   \n",
              "2                               1                 0                     0   \n",
              "3                               0                 0                     0   \n",
              "4                               0                 0                     0   \n",
              "5                               0                 0                     0   \n",
              "6                               0                 0                     0   \n",
              "7                               0                 0                     0   \n",
              "8                               0                 0                     0   \n",
              "9                               0                 0                     0   \n",
              "10                              1                 0                     0   \n",
              "11                              0                 0                     0   \n",
              "12                              0                 0                     0   \n",
              "13                              0                 0                     0   \n",
              "14                              0                 0                     0   \n",
              "15                              0                 0                     1   \n",
              "16                              0                 0                     0   \n",
              "17                              0                 0                     0   \n",
              "18                              0                 0                     0   \n",
              "19                              1                 0                     0   \n",
              "20                              0                 0                     0   \n",
              "21                              0                 0                     0   \n",
              "22                              0                 0                     0   \n",
              "23                              1                 0                     0   \n",
              "24                              0                 0                     0   \n",
              "25                              0                 0                     0   \n",
              "26                              0                 0                     0   \n",
              "27                              0                 0                     1   \n",
              "28                              0                 0                     0   \n",
              "29                              0                 0                     0   \n",
              "30                              0                 0                     0   \n",
              "31                              0                 0                     0   \n",
              "32                              0                 0                     0   \n",
              "33                              0                 0                     0   \n",
              "34                              0                 0                     0   \n",
              "35                              0                 0                     0   \n",
              "36                              0                 0                     1   \n",
              "37                              0                 0                     0   \n",
              "38                              0                 0                     0   \n",
              "39                              0                 0                     0   \n",
              "40                              0                 0                     0   \n",
              "41                              0                 0                     0   \n",
              "42                              0                 0                     0   \n",
              "43                              0                 0                     0   \n",
              "44                              0                 0                     0   \n",
              "45                              0                 0                     0   \n",
              "46                              0                 0                     0   \n",
              "47                              0                 0                     0   \n",
              "48                              0                 0                     0   \n",
              "49                              0                 0                     0   \n",
              "\n",
              "    description_хрупкое  description_цена высокая  description_цена низкая  \\\n",
              "0                     0                         0                        0   \n",
              "1                     0                         0                        0   \n",
              "2                     0                         0                        0   \n",
              "3                     0                         0                        0   \n",
              "4                     0                         0                        0   \n",
              "5                     0                         0                        0   \n",
              "6                     0                         0                        0   \n",
              "7                     0                         0                        0   \n",
              "8                     0                         0                        0   \n",
              "9                     0                         0                        0   \n",
              "10                    0                         0                        0   \n",
              "11                    0                         0                        0   \n",
              "12                    0                         0                        0   \n",
              "13                    0                         0                        0   \n",
              "14                    0                         0                        0   \n",
              "15                    0                         0                        0   \n",
              "16                    0                         0                        0   \n",
              "17                    0                         0                        0   \n",
              "18                    0                         0                        0   \n",
              "19                    0                         0                        0   \n",
              "20                    0                         0                        0   \n",
              "21                    0                         1                        0   \n",
              "22                    0                         0                        0   \n",
              "23                    0                         0                        0   \n",
              "24                    0                         0                        0   \n",
              "25                    0                         0                        0   \n",
              "26                    0                         0                        0   \n",
              "27                    0                         0                        0   \n",
              "28                    0                         0                        1   \n",
              "29                    0                         0                        0   \n",
              "30                    0                         0                        0   \n",
              "31                    0                         0                        0   \n",
              "32                    0                         0                        0   \n",
              "33                    0                         0                        0   \n",
              "34                    0                         0                        0   \n",
              "35                    0                         0                        0   \n",
              "36                    0                         0                        0   \n",
              "37                    0                         0                        0   \n",
              "38                    0                         0                        0   \n",
              "39                    0                         0                        0   \n",
              "40                    0                         0                        0   \n",
              "41                    1                         0                        0   \n",
              "42                    0                         0                        0   \n",
              "43                    0                         0                        0   \n",
              "44                    0                         0                        0   \n",
              "45                    0                         0                        0   \n",
              "46                    0                         0                        0   \n",
              "47                    0                         0                        0   \n",
              "48                    0                         0                        0   \n",
              "49                    0                         0                        0   \n",
              "\n",
              "    description_цена средняя  description_ценное  description_цифровой товар  \\\n",
              "0                          0                   0                           0   \n",
              "1                          0                   0                           0   \n",
              "2                          0                   0                           0   \n",
              "3                          0                   0                           0   \n",
              "4                          0                   0                           0   \n",
              "5                          0                   0                           0   \n",
              "6                          0                   0                           0   \n",
              "7                          0                   0                           0   \n",
              "8                          0                   0                           0   \n",
              "9                          0                   0                           0   \n",
              "10                         0                   0                           0   \n",
              "11                         0                   0                           0   \n",
              "12                         0                   0                           0   \n",
              "13                         0                   0                           0   \n",
              "14                         0                   0                           0   \n",
              "15                         0                   0                           0   \n",
              "16                         0                   0                           0   \n",
              "17                         0                   0                           0   \n",
              "18                         0                   0                           0   \n",
              "19                         0                   0                           0   \n",
              "20                         0                   0                           0   \n",
              "21                         0                   0                           0   \n",
              "22                         0                   0                           0   \n",
              "23                         0                   0                           0   \n",
              "24                         0                   0                           0   \n",
              "25                         0                   0                           0   \n",
              "26                         0                   0                           0   \n",
              "27                         0                   0                           0   \n",
              "28                         0                   0                           0   \n",
              "29                         0                   0                           0   \n",
              "30                         0                   0                           0   \n",
              "31                         0                   0                           0   \n",
              "32                         0                   0                           0   \n",
              "33                         0                   0                           0   \n",
              "34                         0                   0                           0   \n",
              "35                         0                   0                           0   \n",
              "36                         0                   0                           0   \n",
              "37                         0                   0                           0   \n",
              "38                         0                   0                           0   \n",
              "39                         0                   0                           0   \n",
              "40                         0                   0                           0   \n",
              "41                         0                   0                           0   \n",
              "42                         0                   0                           0   \n",
              "43                         0                   0                           0   \n",
              "44                         0                   0                           0   \n",
              "45                         0                   0                           0   \n",
              "46                         0                   0                           0   \n",
              "47                         0                   0                           0   \n",
              "48                         0                   0                           0   \n",
              "49                         0                   0                           0   \n",
              "\n",
              "    description_электроника  \n",
              "0                         0  \n",
              "1                         0  \n",
              "2                         0  \n",
              "3                         0  \n",
              "4                         0  \n",
              "5                         0  \n",
              "6                         0  \n",
              "7                         0  \n",
              "8                         0  \n",
              "9                         0  \n",
              "10                        0  \n",
              "11                        0  \n",
              "12                        0  \n",
              "13                        0  \n",
              "14                        0  \n",
              "15                        0  \n",
              "16                        0  \n",
              "17                        0  \n",
              "18                        0  \n",
              "19                        0  \n",
              "20                        0  \n",
              "21                        0  \n",
              "22                        0  \n",
              "23                        0  \n",
              "24                        0  \n",
              "25                        0  \n",
              "26                        0  \n",
              "27                        0  \n",
              "28                        0  \n",
              "29                        0  \n",
              "30                        0  \n",
              "31                        0  \n",
              "32                        0  \n",
              "33                        0  \n",
              "34                        0  \n",
              "35                        0  \n",
              "36                        0  \n",
              "37                        0  \n",
              "38                        0  \n",
              "39                        0  \n",
              "40                        0  \n",
              "41                        0  \n",
              "42                        0  \n",
              "43                        0  \n",
              "44                        0  \n",
              "45                        0  \n",
              "46                        0  \n",
              "47                        0  \n",
              "48                        0  \n",
              "49                        0  \n",
              "\n",
              "[50 rows x 187 columns]"
            ],
            "text/html": [
              "\n",
              "  <div id=\"df-ad77d870-b773-42fa-80a5-b9a3a3914f9b\">\n",
              "    <div class=\"colab-df-container\">\n",
              "      <div>\n",
              "<style scoped>\n",
              "    .dataframe tbody tr th:only-of-type {\n",
              "        vertical-align: middle;\n",
              "    }\n",
              "\n",
              "    .dataframe tbody tr th {\n",
              "        vertical-align: top;\n",
              "    }\n",
              "\n",
              "    .dataframe thead th {\n",
              "        text-align: right;\n",
              "    }\n",
              "</style>\n",
              "<table border=\"1\" class=\"dataframe\">\n",
              "  <thead>\n",
              "    <tr style=\"text-align: right;\">\n",
              "      <th></th>\n",
              "      <th>box_num</th>\n",
              "      <th>sel_calc_cube</th>\n",
              "      <th>pack_volume</th>\n",
              "      <th>rec_calc_cube</th>\n",
              "      <th>goods_wght</th>\n",
              "      <th>a</th>\n",
              "      <th>b</th>\n",
              "      <th>c</th>\n",
              "      <th>selected_cartontype_MYB</th>\n",
              "      <th>selected_cartontype_MYC</th>\n",
              "      <th>...</th>\n",
              "      <th>description_упаковка в пленку</th>\n",
              "      <th>description_фреш</th>\n",
              "      <th>description_химикаты</th>\n",
              "      <th>description_хрупкое</th>\n",
              "      <th>description_цена высокая</th>\n",
              "      <th>description_цена низкая</th>\n",
              "      <th>description_цена средняя</th>\n",
              "      <th>description_ценное</th>\n",
              "      <th>description_цифровой товар</th>\n",
              "      <th>description_электроника</th>\n",
              "    </tr>\n",
              "  </thead>\n",
              "  <tbody>\n",
              "    <tr>\n",
              "      <th>0</th>\n",
              "      <td>1</td>\n",
              "      <td>0</td>\n",
              "      <td>3050</td>\n",
              "      <td>15579</td>\n",
              "      <td>0.90</td>\n",
              "      <td>18.60</td>\n",
              "      <td>3.30</td>\n",
              "      <td>49.70</td>\n",
              "      <td>0</td>\n",
              "      <td>0</td>\n",
              "      <td>...</td>\n",
              "      <td>0</td>\n",
              "      <td>0</td>\n",
              "      <td>0</td>\n",
              "      <td>0</td>\n",
              "      <td>0</td>\n",
              "      <td>0</td>\n",
              "      <td>0</td>\n",
              "      <td>0</td>\n",
              "      <td>0</td>\n",
              "      <td>0</td>\n",
              "    </tr>\n",
              "    <tr>\n",
              "      <th>1</th>\n",
              "      <td>1</td>\n",
              "      <td>0</td>\n",
              "      <td>3050</td>\n",
              "      <td>15579</td>\n",
              "      <td>0.90</td>\n",
              "      <td>18.60</td>\n",
              "      <td>3.30</td>\n",
              "      <td>49.70</td>\n",
              "      <td>0</td>\n",
              "      <td>0</td>\n",
              "      <td>...</td>\n",
              "      <td>0</td>\n",
              "      <td>0</td>\n",
              "      <td>0</td>\n",
              "      <td>0</td>\n",
              "      <td>0</td>\n",
              "      <td>0</td>\n",
              "      <td>0</td>\n",
              "      <td>0</td>\n",
              "      <td>0</td>\n",
              "      <td>0</td>\n",
              "    </tr>\n",
              "    <tr>\n",
              "      <th>2</th>\n",
              "      <td>1</td>\n",
              "      <td>0</td>\n",
              "      <td>3050</td>\n",
              "      <td>15579</td>\n",
              "      <td>0.90</td>\n",
              "      <td>18.60</td>\n",
              "      <td>3.30</td>\n",
              "      <td>49.70</td>\n",
              "      <td>0</td>\n",
              "      <td>0</td>\n",
              "      <td>...</td>\n",
              "      <td>1</td>\n",
              "      <td>0</td>\n",
              "      <td>0</td>\n",
              "      <td>0</td>\n",
              "      <td>0</td>\n",
              "      <td>0</td>\n",
              "      <td>0</td>\n",
              "      <td>0</td>\n",
              "      <td>0</td>\n",
              "      <td>0</td>\n",
              "    </tr>\n",
              "    <tr>\n",
              "      <th>3</th>\n",
              "      <td>1</td>\n",
              "      <td>0</td>\n",
              "      <td>13662</td>\n",
              "      <td>26820</td>\n",
              "      <td>4.40</td>\n",
              "      <td>30.00</td>\n",
              "      <td>23.00</td>\n",
              "      <td>22.00</td>\n",
              "      <td>0</td>\n",
              "      <td>0</td>\n",
              "      <td>...</td>\n",
              "      <td>0</td>\n",
              "      <td>0</td>\n",
              "      <td>0</td>\n",
              "      <td>0</td>\n",
              "      <td>0</td>\n",
              "      <td>0</td>\n",
              "      <td>0</td>\n",
              "      <td>0</td>\n",
              "      <td>0</td>\n",
              "      <td>0</td>\n",
              "    </tr>\n",
              "    <tr>\n",
              "      <th>4</th>\n",
              "      <td>1</td>\n",
              "      <td>0</td>\n",
              "      <td>13662</td>\n",
              "      <td>26820</td>\n",
              "      <td>4.40</td>\n",
              "      <td>30.00</td>\n",
              "      <td>23.00</td>\n",
              "      <td>22.00</td>\n",
              "      <td>0</td>\n",
              "      <td>0</td>\n",
              "      <td>...</td>\n",
              "      <td>0</td>\n",
              "      <td>0</td>\n",
              "      <td>0</td>\n",
              "      <td>0</td>\n",
              "      <td>0</td>\n",
              "      <td>0</td>\n",
              "      <td>0</td>\n",
              "      <td>0</td>\n",
              "      <td>0</td>\n",
              "      <td>0</td>\n",
              "    </tr>\n",
              "    <tr>\n",
              "      <th>5</th>\n",
              "      <td>1</td>\n",
              "      <td>0</td>\n",
              "      <td>13662</td>\n",
              "      <td>26820</td>\n",
              "      <td>4.40</td>\n",
              "      <td>30.00</td>\n",
              "      <td>23.00</td>\n",
              "      <td>22.00</td>\n",
              "      <td>0</td>\n",
              "      <td>0</td>\n",
              "      <td>...</td>\n",
              "      <td>0</td>\n",
              "      <td>0</td>\n",
              "      <td>0</td>\n",
              "      <td>0</td>\n",
              "      <td>0</td>\n",
              "      <td>0</td>\n",
              "      <td>0</td>\n",
              "      <td>0</td>\n",
              "      <td>0</td>\n",
              "      <td>0</td>\n",
              "    </tr>\n",
              "    <tr>\n",
              "      <th>6</th>\n",
              "      <td>1</td>\n",
              "      <td>0</td>\n",
              "      <td>4518</td>\n",
              "      <td>26277</td>\n",
              "      <td>0.70</td>\n",
              "      <td>14.00</td>\n",
              "      <td>10.70</td>\n",
              "      <td>43.80</td>\n",
              "      <td>0</td>\n",
              "      <td>0</td>\n",
              "      <td>...</td>\n",
              "      <td>0</td>\n",
              "      <td>0</td>\n",
              "      <td>0</td>\n",
              "      <td>0</td>\n",
              "      <td>0</td>\n",
              "      <td>0</td>\n",
              "      <td>0</td>\n",
              "      <td>0</td>\n",
              "      <td>0</td>\n",
              "      <td>0</td>\n",
              "    </tr>\n",
              "    <tr>\n",
              "      <th>7</th>\n",
              "      <td>1</td>\n",
              "      <td>0</td>\n",
              "      <td>4518</td>\n",
              "      <td>26277</td>\n",
              "      <td>0.70</td>\n",
              "      <td>14.00</td>\n",
              "      <td>10.70</td>\n",
              "      <td>43.80</td>\n",
              "      <td>0</td>\n",
              "      <td>0</td>\n",
              "      <td>...</td>\n",
              "      <td>0</td>\n",
              "      <td>0</td>\n",
              "      <td>0</td>\n",
              "      <td>0</td>\n",
              "      <td>0</td>\n",
              "      <td>0</td>\n",
              "      <td>0</td>\n",
              "      <td>0</td>\n",
              "      <td>0</td>\n",
              "      <td>0</td>\n",
              "    </tr>\n",
              "    <tr>\n",
              "      <th>8</th>\n",
              "      <td>1</td>\n",
              "      <td>0</td>\n",
              "      <td>6346</td>\n",
              "      <td>13125</td>\n",
              "      <td>2.08</td>\n",
              "      <td>23.40</td>\n",
              "      <td>8.00</td>\n",
              "      <td>33.90</td>\n",
              "      <td>0</td>\n",
              "      <td>0</td>\n",
              "      <td>...</td>\n",
              "      <td>0</td>\n",
              "      <td>0</td>\n",
              "      <td>0</td>\n",
              "      <td>0</td>\n",
              "      <td>0</td>\n",
              "      <td>0</td>\n",
              "      <td>0</td>\n",
              "      <td>0</td>\n",
              "      <td>0</td>\n",
              "      <td>0</td>\n",
              "    </tr>\n",
              "    <tr>\n",
              "      <th>9</th>\n",
              "      <td>1</td>\n",
              "      <td>0</td>\n",
              "      <td>6346</td>\n",
              "      <td>13125</td>\n",
              "      <td>2.08</td>\n",
              "      <td>23.40</td>\n",
              "      <td>8.00</td>\n",
              "      <td>33.90</td>\n",
              "      <td>0</td>\n",
              "      <td>0</td>\n",
              "      <td>...</td>\n",
              "      <td>0</td>\n",
              "      <td>0</td>\n",
              "      <td>0</td>\n",
              "      <td>0</td>\n",
              "      <td>0</td>\n",
              "      <td>0</td>\n",
              "      <td>0</td>\n",
              "      <td>0</td>\n",
              "      <td>0</td>\n",
              "      <td>0</td>\n",
              "    </tr>\n",
              "    <tr>\n",
              "      <th>10</th>\n",
              "      <td>1</td>\n",
              "      <td>0</td>\n",
              "      <td>6346</td>\n",
              "      <td>13125</td>\n",
              "      <td>2.08</td>\n",
              "      <td>23.40</td>\n",
              "      <td>8.00</td>\n",
              "      <td>33.90</td>\n",
              "      <td>0</td>\n",
              "      <td>0</td>\n",
              "      <td>...</td>\n",
              "      <td>1</td>\n",
              "      <td>0</td>\n",
              "      <td>0</td>\n",
              "      <td>0</td>\n",
              "      <td>0</td>\n",
              "      <td>0</td>\n",
              "      <td>0</td>\n",
              "      <td>0</td>\n",
              "      <td>0</td>\n",
              "      <td>0</td>\n",
              "    </tr>\n",
              "    <tr>\n",
              "      <th>11</th>\n",
              "      <td>1</td>\n",
              "      <td>0</td>\n",
              "      <td>7569</td>\n",
              "      <td>18000</td>\n",
              "      <td>6.08</td>\n",
              "      <td>29.00</td>\n",
              "      <td>9.00</td>\n",
              "      <td>29.00</td>\n",
              "      <td>0</td>\n",
              "      <td>0</td>\n",
              "      <td>...</td>\n",
              "      <td>0</td>\n",
              "      <td>0</td>\n",
              "      <td>0</td>\n",
              "      <td>0</td>\n",
              "      <td>0</td>\n",
              "      <td>0</td>\n",
              "      <td>0</td>\n",
              "      <td>0</td>\n",
              "      <td>0</td>\n",
              "      <td>0</td>\n",
              "    </tr>\n",
              "    <tr>\n",
              "      <th>12</th>\n",
              "      <td>1</td>\n",
              "      <td>0</td>\n",
              "      <td>7569</td>\n",
              "      <td>18000</td>\n",
              "      <td>6.08</td>\n",
              "      <td>29.00</td>\n",
              "      <td>9.00</td>\n",
              "      <td>29.00</td>\n",
              "      <td>0</td>\n",
              "      <td>0</td>\n",
              "      <td>...</td>\n",
              "      <td>0</td>\n",
              "      <td>0</td>\n",
              "      <td>0</td>\n",
              "      <td>0</td>\n",
              "      <td>0</td>\n",
              "      <td>0</td>\n",
              "      <td>0</td>\n",
              "      <td>0</td>\n",
              "      <td>0</td>\n",
              "      <td>0</td>\n",
              "    </tr>\n",
              "    <tr>\n",
              "      <th>13</th>\n",
              "      <td>1</td>\n",
              "      <td>0</td>\n",
              "      <td>7569</td>\n",
              "      <td>18000</td>\n",
              "      <td>6.08</td>\n",
              "      <td>29.00</td>\n",
              "      <td>9.00</td>\n",
              "      <td>29.00</td>\n",
              "      <td>0</td>\n",
              "      <td>0</td>\n",
              "      <td>...</td>\n",
              "      <td>0</td>\n",
              "      <td>0</td>\n",
              "      <td>0</td>\n",
              "      <td>0</td>\n",
              "      <td>0</td>\n",
              "      <td>0</td>\n",
              "      <td>0</td>\n",
              "      <td>0</td>\n",
              "      <td>0</td>\n",
              "      <td>0</td>\n",
              "    </tr>\n",
              "    <tr>\n",
              "      <th>14</th>\n",
              "      <td>1</td>\n",
              "      <td>0</td>\n",
              "      <td>7569</td>\n",
              "      <td>18000</td>\n",
              "      <td>6.08</td>\n",
              "      <td>29.00</td>\n",
              "      <td>9.00</td>\n",
              "      <td>29.00</td>\n",
              "      <td>0</td>\n",
              "      <td>0</td>\n",
              "      <td>...</td>\n",
              "      <td>0</td>\n",
              "      <td>0</td>\n",
              "      <td>0</td>\n",
              "      <td>0</td>\n",
              "      <td>0</td>\n",
              "      <td>0</td>\n",
              "      <td>0</td>\n",
              "      <td>0</td>\n",
              "      <td>0</td>\n",
              "      <td>0</td>\n",
              "    </tr>\n",
              "    <tr>\n",
              "      <th>15</th>\n",
              "      <td>1</td>\n",
              "      <td>0</td>\n",
              "      <td>7569</td>\n",
              "      <td>18000</td>\n",
              "      <td>6.08</td>\n",
              "      <td>29.00</td>\n",
              "      <td>9.00</td>\n",
              "      <td>29.00</td>\n",
              "      <td>0</td>\n",
              "      <td>0</td>\n",
              "      <td>...</td>\n",
              "      <td>0</td>\n",
              "      <td>0</td>\n",
              "      <td>1</td>\n",
              "      <td>0</td>\n",
              "      <td>0</td>\n",
              "      <td>0</td>\n",
              "      <td>0</td>\n",
              "      <td>0</td>\n",
              "      <td>0</td>\n",
              "      <td>0</td>\n",
              "    </tr>\n",
              "    <tr>\n",
              "      <th>16</th>\n",
              "      <td>1</td>\n",
              "      <td>0</td>\n",
              "      <td>7569</td>\n",
              "      <td>18000</td>\n",
              "      <td>6.08</td>\n",
              "      <td>29.00</td>\n",
              "      <td>9.00</td>\n",
              "      <td>29.00</td>\n",
              "      <td>0</td>\n",
              "      <td>0</td>\n",
              "      <td>...</td>\n",
              "      <td>0</td>\n",
              "      <td>0</td>\n",
              "      <td>0</td>\n",
              "      <td>0</td>\n",
              "      <td>0</td>\n",
              "      <td>0</td>\n",
              "      <td>0</td>\n",
              "      <td>0</td>\n",
              "      <td>0</td>\n",
              "      <td>0</td>\n",
              "    </tr>\n",
              "    <tr>\n",
              "      <th>17</th>\n",
              "      <td>1</td>\n",
              "      <td>0</td>\n",
              "      <td>9192</td>\n",
              "      <td>26820</td>\n",
              "      <td>1.09</td>\n",
              "      <td>32.40</td>\n",
              "      <td>16.40</td>\n",
              "      <td>17.30</td>\n",
              "      <td>0</td>\n",
              "      <td>0</td>\n",
              "      <td>...</td>\n",
              "      <td>0</td>\n",
              "      <td>0</td>\n",
              "      <td>0</td>\n",
              "      <td>0</td>\n",
              "      <td>0</td>\n",
              "      <td>0</td>\n",
              "      <td>0</td>\n",
              "      <td>0</td>\n",
              "      <td>0</td>\n",
              "      <td>0</td>\n",
              "    </tr>\n",
              "    <tr>\n",
              "      <th>18</th>\n",
              "      <td>1</td>\n",
              "      <td>0</td>\n",
              "      <td>9192</td>\n",
              "      <td>26820</td>\n",
              "      <td>1.09</td>\n",
              "      <td>32.40</td>\n",
              "      <td>16.40</td>\n",
              "      <td>17.30</td>\n",
              "      <td>0</td>\n",
              "      <td>0</td>\n",
              "      <td>...</td>\n",
              "      <td>0</td>\n",
              "      <td>0</td>\n",
              "      <td>0</td>\n",
              "      <td>0</td>\n",
              "      <td>0</td>\n",
              "      <td>0</td>\n",
              "      <td>0</td>\n",
              "      <td>0</td>\n",
              "      <td>0</td>\n",
              "      <td>0</td>\n",
              "    </tr>\n",
              "    <tr>\n",
              "      <th>19</th>\n",
              "      <td>1</td>\n",
              "      <td>0</td>\n",
              "      <td>9192</td>\n",
              "      <td>26820</td>\n",
              "      <td>1.09</td>\n",
              "      <td>32.40</td>\n",
              "      <td>16.40</td>\n",
              "      <td>17.30</td>\n",
              "      <td>0</td>\n",
              "      <td>0</td>\n",
              "      <td>...</td>\n",
              "      <td>1</td>\n",
              "      <td>0</td>\n",
              "      <td>0</td>\n",
              "      <td>0</td>\n",
              "      <td>0</td>\n",
              "      <td>0</td>\n",
              "      <td>0</td>\n",
              "      <td>0</td>\n",
              "      <td>0</td>\n",
              "      <td>0</td>\n",
              "    </tr>\n",
              "    <tr>\n",
              "      <th>20</th>\n",
              "      <td>1</td>\n",
              "      <td>0</td>\n",
              "      <td>9192</td>\n",
              "      <td>26820</td>\n",
              "      <td>1.09</td>\n",
              "      <td>32.40</td>\n",
              "      <td>16.40</td>\n",
              "      <td>17.30</td>\n",
              "      <td>0</td>\n",
              "      <td>0</td>\n",
              "      <td>...</td>\n",
              "      <td>0</td>\n",
              "      <td>0</td>\n",
              "      <td>0</td>\n",
              "      <td>0</td>\n",
              "      <td>0</td>\n",
              "      <td>0</td>\n",
              "      <td>0</td>\n",
              "      <td>0</td>\n",
              "      <td>0</td>\n",
              "      <td>0</td>\n",
              "    </tr>\n",
              "    <tr>\n",
              "      <th>21</th>\n",
              "      <td>1</td>\n",
              "      <td>0</td>\n",
              "      <td>9192</td>\n",
              "      <td>26820</td>\n",
              "      <td>1.09</td>\n",
              "      <td>32.40</td>\n",
              "      <td>16.40</td>\n",
              "      <td>17.30</td>\n",
              "      <td>0</td>\n",
              "      <td>0</td>\n",
              "      <td>...</td>\n",
              "      <td>0</td>\n",
              "      <td>0</td>\n",
              "      <td>0</td>\n",
              "      <td>0</td>\n",
              "      <td>1</td>\n",
              "      <td>0</td>\n",
              "      <td>0</td>\n",
              "      <td>0</td>\n",
              "      <td>0</td>\n",
              "      <td>0</td>\n",
              "    </tr>\n",
              "    <tr>\n",
              "      <th>22</th>\n",
              "      <td>1</td>\n",
              "      <td>8436</td>\n",
              "      <td>3456</td>\n",
              "      <td>9000</td>\n",
              "      <td>3.05</td>\n",
              "      <td>24.00</td>\n",
              "      <td>8.00</td>\n",
              "      <td>18.00</td>\n",
              "      <td>0</td>\n",
              "      <td>1</td>\n",
              "      <td>...</td>\n",
              "      <td>0</td>\n",
              "      <td>0</td>\n",
              "      <td>0</td>\n",
              "      <td>0</td>\n",
              "      <td>0</td>\n",
              "      <td>0</td>\n",
              "      <td>0</td>\n",
              "      <td>0</td>\n",
              "      <td>0</td>\n",
              "      <td>0</td>\n",
              "    </tr>\n",
              "    <tr>\n",
              "      <th>23</th>\n",
              "      <td>1</td>\n",
              "      <td>8436</td>\n",
              "      <td>3456</td>\n",
              "      <td>9000</td>\n",
              "      <td>3.05</td>\n",
              "      <td>24.00</td>\n",
              "      <td>8.00</td>\n",
              "      <td>18.00</td>\n",
              "      <td>0</td>\n",
              "      <td>1</td>\n",
              "      <td>...</td>\n",
              "      <td>1</td>\n",
              "      <td>0</td>\n",
              "      <td>0</td>\n",
              "      <td>0</td>\n",
              "      <td>0</td>\n",
              "      <td>0</td>\n",
              "      <td>0</td>\n",
              "      <td>0</td>\n",
              "      <td>0</td>\n",
              "      <td>0</td>\n",
              "    </tr>\n",
              "    <tr>\n",
              "      <th>24</th>\n",
              "      <td>1</td>\n",
              "      <td>8436</td>\n",
              "      <td>3456</td>\n",
              "      <td>9000</td>\n",
              "      <td>3.05</td>\n",
              "      <td>24.00</td>\n",
              "      <td>8.00</td>\n",
              "      <td>18.00</td>\n",
              "      <td>0</td>\n",
              "      <td>1</td>\n",
              "      <td>...</td>\n",
              "      <td>0</td>\n",
              "      <td>0</td>\n",
              "      <td>0</td>\n",
              "      <td>0</td>\n",
              "      <td>0</td>\n",
              "      <td>0</td>\n",
              "      <td>0</td>\n",
              "      <td>0</td>\n",
              "      <td>0</td>\n",
              "      <td>0</td>\n",
              "    </tr>\n",
              "    <tr>\n",
              "      <th>25</th>\n",
              "      <td>1</td>\n",
              "      <td>8436</td>\n",
              "      <td>3456</td>\n",
              "      <td>9000</td>\n",
              "      <td>3.05</td>\n",
              "      <td>24.00</td>\n",
              "      <td>8.00</td>\n",
              "      <td>18.00</td>\n",
              "      <td>0</td>\n",
              "      <td>1</td>\n",
              "      <td>...</td>\n",
              "      <td>0</td>\n",
              "      <td>0</td>\n",
              "      <td>0</td>\n",
              "      <td>0</td>\n",
              "      <td>0</td>\n",
              "      <td>0</td>\n",
              "      <td>0</td>\n",
              "      <td>0</td>\n",
              "      <td>0</td>\n",
              "      <td>0</td>\n",
              "    </tr>\n",
              "    <tr>\n",
              "      <th>26</th>\n",
              "      <td>1</td>\n",
              "      <td>8436</td>\n",
              "      <td>3456</td>\n",
              "      <td>9000</td>\n",
              "      <td>3.05</td>\n",
              "      <td>24.00</td>\n",
              "      <td>8.00</td>\n",
              "      <td>18.00</td>\n",
              "      <td>0</td>\n",
              "      <td>1</td>\n",
              "      <td>...</td>\n",
              "      <td>0</td>\n",
              "      <td>0</td>\n",
              "      <td>0</td>\n",
              "      <td>0</td>\n",
              "      <td>0</td>\n",
              "      <td>0</td>\n",
              "      <td>0</td>\n",
              "      <td>0</td>\n",
              "      <td>0</td>\n",
              "      <td>0</td>\n",
              "    </tr>\n",
              "    <tr>\n",
              "      <th>27</th>\n",
              "      <td>1</td>\n",
              "      <td>8436</td>\n",
              "      <td>3456</td>\n",
              "      <td>9000</td>\n",
              "      <td>3.05</td>\n",
              "      <td>24.00</td>\n",
              "      <td>8.00</td>\n",
              "      <td>18.00</td>\n",
              "      <td>0</td>\n",
              "      <td>1</td>\n",
              "      <td>...</td>\n",
              "      <td>0</td>\n",
              "      <td>0</td>\n",
              "      <td>1</td>\n",
              "      <td>0</td>\n",
              "      <td>0</td>\n",
              "      <td>0</td>\n",
              "      <td>0</td>\n",
              "      <td>0</td>\n",
              "      <td>0</td>\n",
              "      <td>0</td>\n",
              "    </tr>\n",
              "    <tr>\n",
              "      <th>28</th>\n",
              "      <td>1</td>\n",
              "      <td>8436</td>\n",
              "      <td>3456</td>\n",
              "      <td>9000</td>\n",
              "      <td>3.05</td>\n",
              "      <td>24.00</td>\n",
              "      <td>8.00</td>\n",
              "      <td>18.00</td>\n",
              "      <td>0</td>\n",
              "      <td>1</td>\n",
              "      <td>...</td>\n",
              "      <td>0</td>\n",
              "      <td>0</td>\n",
              "      <td>0</td>\n",
              "      <td>0</td>\n",
              "      <td>0</td>\n",
              "      <td>1</td>\n",
              "      <td>0</td>\n",
              "      <td>0</td>\n",
              "      <td>0</td>\n",
              "      <td>0</td>\n",
              "    </tr>\n",
              "    <tr>\n",
              "      <th>29</th>\n",
              "      <td>1</td>\n",
              "      <td>8436</td>\n",
              "      <td>3456</td>\n",
              "      <td>9000</td>\n",
              "      <td>3.05</td>\n",
              "      <td>24.00</td>\n",
              "      <td>8.00</td>\n",
              "      <td>18.00</td>\n",
              "      <td>0</td>\n",
              "      <td>1</td>\n",
              "      <td>...</td>\n",
              "      <td>0</td>\n",
              "      <td>0</td>\n",
              "      <td>0</td>\n",
              "      <td>0</td>\n",
              "      <td>0</td>\n",
              "      <td>0</td>\n",
              "      <td>0</td>\n",
              "      <td>0</td>\n",
              "      <td>0</td>\n",
              "      <td>0</td>\n",
              "    </tr>\n",
              "    <tr>\n",
              "      <th>30</th>\n",
              "      <td>1</td>\n",
              "      <td>0</td>\n",
              "      <td>4800</td>\n",
              "      <td>0</td>\n",
              "      <td>0.46</td>\n",
              "      <td>80.00</td>\n",
              "      <td>1.00</td>\n",
              "      <td>60.00</td>\n",
              "      <td>0</td>\n",
              "      <td>0</td>\n",
              "      <td>...</td>\n",
              "      <td>0</td>\n",
              "      <td>0</td>\n",
              "      <td>0</td>\n",
              "      <td>0</td>\n",
              "      <td>0</td>\n",
              "      <td>0</td>\n",
              "      <td>0</td>\n",
              "      <td>0</td>\n",
              "      <td>0</td>\n",
              "      <td>0</td>\n",
              "    </tr>\n",
              "    <tr>\n",
              "      <th>31</th>\n",
              "      <td>1</td>\n",
              "      <td>0</td>\n",
              "      <td>4800</td>\n",
              "      <td>0</td>\n",
              "      <td>0.46</td>\n",
              "      <td>80.00</td>\n",
              "      <td>1.00</td>\n",
              "      <td>60.00</td>\n",
              "      <td>0</td>\n",
              "      <td>0</td>\n",
              "      <td>...</td>\n",
              "      <td>0</td>\n",
              "      <td>0</td>\n",
              "      <td>0</td>\n",
              "      <td>0</td>\n",
              "      <td>0</td>\n",
              "      <td>0</td>\n",
              "      <td>0</td>\n",
              "      <td>0</td>\n",
              "      <td>0</td>\n",
              "      <td>0</td>\n",
              "    </tr>\n",
              "    <tr>\n",
              "      <th>32</th>\n",
              "      <td>1</td>\n",
              "      <td>0</td>\n",
              "      <td>4800</td>\n",
              "      <td>0</td>\n",
              "      <td>0.46</td>\n",
              "      <td>80.00</td>\n",
              "      <td>1.00</td>\n",
              "      <td>60.00</td>\n",
              "      <td>0</td>\n",
              "      <td>0</td>\n",
              "      <td>...</td>\n",
              "      <td>0</td>\n",
              "      <td>0</td>\n",
              "      <td>0</td>\n",
              "      <td>0</td>\n",
              "      <td>0</td>\n",
              "      <td>0</td>\n",
              "      <td>0</td>\n",
              "      <td>0</td>\n",
              "      <td>0</td>\n",
              "      <td>0</td>\n",
              "    </tr>\n",
              "    <tr>\n",
              "      <th>33</th>\n",
              "      <td>1</td>\n",
              "      <td>8436</td>\n",
              "      <td>2484</td>\n",
              "      <td>8436</td>\n",
              "      <td>3.10</td>\n",
              "      <td>36.00</td>\n",
              "      <td>3.00</td>\n",
              "      <td>23.00</td>\n",
              "      <td>0</td>\n",
              "      <td>1</td>\n",
              "      <td>...</td>\n",
              "      <td>0</td>\n",
              "      <td>0</td>\n",
              "      <td>0</td>\n",
              "      <td>0</td>\n",
              "      <td>0</td>\n",
              "      <td>0</td>\n",
              "      <td>0</td>\n",
              "      <td>0</td>\n",
              "      <td>0</td>\n",
              "      <td>0</td>\n",
              "    </tr>\n",
              "    <tr>\n",
              "      <th>34</th>\n",
              "      <td>1</td>\n",
              "      <td>8436</td>\n",
              "      <td>2484</td>\n",
              "      <td>8436</td>\n",
              "      <td>3.10</td>\n",
              "      <td>36.00</td>\n",
              "      <td>3.00</td>\n",
              "      <td>23.00</td>\n",
              "      <td>0</td>\n",
              "      <td>1</td>\n",
              "      <td>...</td>\n",
              "      <td>0</td>\n",
              "      <td>0</td>\n",
              "      <td>0</td>\n",
              "      <td>0</td>\n",
              "      <td>0</td>\n",
              "      <td>0</td>\n",
              "      <td>0</td>\n",
              "      <td>0</td>\n",
              "      <td>0</td>\n",
              "      <td>0</td>\n",
              "    </tr>\n",
              "    <tr>\n",
              "      <th>35</th>\n",
              "      <td>1</td>\n",
              "      <td>8436</td>\n",
              "      <td>2484</td>\n",
              "      <td>8436</td>\n",
              "      <td>3.10</td>\n",
              "      <td>36.00</td>\n",
              "      <td>3.00</td>\n",
              "      <td>23.00</td>\n",
              "      <td>0</td>\n",
              "      <td>1</td>\n",
              "      <td>...</td>\n",
              "      <td>0</td>\n",
              "      <td>0</td>\n",
              "      <td>0</td>\n",
              "      <td>0</td>\n",
              "      <td>0</td>\n",
              "      <td>0</td>\n",
              "      <td>0</td>\n",
              "      <td>0</td>\n",
              "      <td>0</td>\n",
              "      <td>0</td>\n",
              "    </tr>\n",
              "    <tr>\n",
              "      <th>36</th>\n",
              "      <td>1</td>\n",
              "      <td>8436</td>\n",
              "      <td>2484</td>\n",
              "      <td>8436</td>\n",
              "      <td>3.10</td>\n",
              "      <td>36.00</td>\n",
              "      <td>3.00</td>\n",
              "      <td>23.00</td>\n",
              "      <td>0</td>\n",
              "      <td>1</td>\n",
              "      <td>...</td>\n",
              "      <td>0</td>\n",
              "      <td>0</td>\n",
              "      <td>1</td>\n",
              "      <td>0</td>\n",
              "      <td>0</td>\n",
              "      <td>0</td>\n",
              "      <td>0</td>\n",
              "      <td>0</td>\n",
              "      <td>0</td>\n",
              "      <td>0</td>\n",
              "    </tr>\n",
              "    <tr>\n",
              "      <th>37</th>\n",
              "      <td>1</td>\n",
              "      <td>8436</td>\n",
              "      <td>2484</td>\n",
              "      <td>8436</td>\n",
              "      <td>3.10</td>\n",
              "      <td>36.00</td>\n",
              "      <td>3.00</td>\n",
              "      <td>23.00</td>\n",
              "      <td>0</td>\n",
              "      <td>1</td>\n",
              "      <td>...</td>\n",
              "      <td>0</td>\n",
              "      <td>0</td>\n",
              "      <td>0</td>\n",
              "      <td>0</td>\n",
              "      <td>0</td>\n",
              "      <td>0</td>\n",
              "      <td>0</td>\n",
              "      <td>0</td>\n",
              "      <td>0</td>\n",
              "      <td>0</td>\n",
              "    </tr>\n",
              "    <tr>\n",
              "      <th>38</th>\n",
              "      <td>1</td>\n",
              "      <td>8436</td>\n",
              "      <td>2484</td>\n",
              "      <td>8436</td>\n",
              "      <td>3.10</td>\n",
              "      <td>36.00</td>\n",
              "      <td>3.00</td>\n",
              "      <td>23.00</td>\n",
              "      <td>0</td>\n",
              "      <td>1</td>\n",
              "      <td>...</td>\n",
              "      <td>0</td>\n",
              "      <td>0</td>\n",
              "      <td>0</td>\n",
              "      <td>0</td>\n",
              "      <td>0</td>\n",
              "      <td>0</td>\n",
              "      <td>0</td>\n",
              "      <td>0</td>\n",
              "      <td>0</td>\n",
              "      <td>0</td>\n",
              "    </tr>\n",
              "    <tr>\n",
              "      <th>39</th>\n",
              "      <td>1</td>\n",
              "      <td>0</td>\n",
              "      <td>957</td>\n",
              "      <td>0</td>\n",
              "      <td>0.16</td>\n",
              "      <td>71.90</td>\n",
              "      <td>3.70</td>\n",
              "      <td>3.60</td>\n",
              "      <td>0</td>\n",
              "      <td>0</td>\n",
              "      <td>...</td>\n",
              "      <td>0</td>\n",
              "      <td>0</td>\n",
              "      <td>0</td>\n",
              "      <td>0</td>\n",
              "      <td>0</td>\n",
              "      <td>0</td>\n",
              "      <td>0</td>\n",
              "      <td>0</td>\n",
              "      <td>0</td>\n",
              "      <td>0</td>\n",
              "    </tr>\n",
              "    <tr>\n",
              "      <th>40</th>\n",
              "      <td>1</td>\n",
              "      <td>0</td>\n",
              "      <td>957</td>\n",
              "      <td>0</td>\n",
              "      <td>0.16</td>\n",
              "      <td>71.90</td>\n",
              "      <td>3.70</td>\n",
              "      <td>3.60</td>\n",
              "      <td>0</td>\n",
              "      <td>0</td>\n",
              "      <td>...</td>\n",
              "      <td>0</td>\n",
              "      <td>0</td>\n",
              "      <td>0</td>\n",
              "      <td>0</td>\n",
              "      <td>0</td>\n",
              "      <td>0</td>\n",
              "      <td>0</td>\n",
              "      <td>0</td>\n",
              "      <td>0</td>\n",
              "      <td>0</td>\n",
              "    </tr>\n",
              "    <tr>\n",
              "      <th>41</th>\n",
              "      <td>1</td>\n",
              "      <td>0</td>\n",
              "      <td>957</td>\n",
              "      <td>0</td>\n",
              "      <td>0.16</td>\n",
              "      <td>71.90</td>\n",
              "      <td>3.70</td>\n",
              "      <td>3.60</td>\n",
              "      <td>0</td>\n",
              "      <td>0</td>\n",
              "      <td>...</td>\n",
              "      <td>0</td>\n",
              "      <td>0</td>\n",
              "      <td>0</td>\n",
              "      <td>1</td>\n",
              "      <td>0</td>\n",
              "      <td>0</td>\n",
              "      <td>0</td>\n",
              "      <td>0</td>\n",
              "      <td>0</td>\n",
              "      <td>0</td>\n",
              "    </tr>\n",
              "    <tr>\n",
              "      <th>42</th>\n",
              "      <td>1</td>\n",
              "      <td>0</td>\n",
              "      <td>957</td>\n",
              "      <td>0</td>\n",
              "      <td>0.16</td>\n",
              "      <td>71.90</td>\n",
              "      <td>3.70</td>\n",
              "      <td>3.60</td>\n",
              "      <td>0</td>\n",
              "      <td>0</td>\n",
              "      <td>...</td>\n",
              "      <td>0</td>\n",
              "      <td>0</td>\n",
              "      <td>0</td>\n",
              "      <td>0</td>\n",
              "      <td>0</td>\n",
              "      <td>0</td>\n",
              "      <td>0</td>\n",
              "      <td>0</td>\n",
              "      <td>0</td>\n",
              "      <td>0</td>\n",
              "    </tr>\n",
              "    <tr>\n",
              "      <th>43</th>\n",
              "      <td>1</td>\n",
              "      <td>26820</td>\n",
              "      <td>930</td>\n",
              "      <td>26277</td>\n",
              "      <td>0.72</td>\n",
              "      <td>7.90</td>\n",
              "      <td>15.50</td>\n",
              "      <td>7.60</td>\n",
              "      <td>0</td>\n",
              "      <td>0</td>\n",
              "      <td>...</td>\n",
              "      <td>0</td>\n",
              "      <td>0</td>\n",
              "      <td>0</td>\n",
              "      <td>0</td>\n",
              "      <td>0</td>\n",
              "      <td>0</td>\n",
              "      <td>0</td>\n",
              "      <td>0</td>\n",
              "      <td>0</td>\n",
              "      <td>0</td>\n",
              "    </tr>\n",
              "    <tr>\n",
              "      <th>44</th>\n",
              "      <td>1</td>\n",
              "      <td>26820</td>\n",
              "      <td>930</td>\n",
              "      <td>26277</td>\n",
              "      <td>0.72</td>\n",
              "      <td>7.90</td>\n",
              "      <td>15.50</td>\n",
              "      <td>7.60</td>\n",
              "      <td>0</td>\n",
              "      <td>0</td>\n",
              "      <td>...</td>\n",
              "      <td>0</td>\n",
              "      <td>0</td>\n",
              "      <td>0</td>\n",
              "      <td>0</td>\n",
              "      <td>0</td>\n",
              "      <td>0</td>\n",
              "      <td>0</td>\n",
              "      <td>0</td>\n",
              "      <td>0</td>\n",
              "      <td>0</td>\n",
              "    </tr>\n",
              "    <tr>\n",
              "      <th>45</th>\n",
              "      <td>1</td>\n",
              "      <td>26820</td>\n",
              "      <td>930</td>\n",
              "      <td>26277</td>\n",
              "      <td>0.72</td>\n",
              "      <td>7.90</td>\n",
              "      <td>15.50</td>\n",
              "      <td>7.60</td>\n",
              "      <td>0</td>\n",
              "      <td>0</td>\n",
              "      <td>...</td>\n",
              "      <td>0</td>\n",
              "      <td>0</td>\n",
              "      <td>0</td>\n",
              "      <td>0</td>\n",
              "      <td>0</td>\n",
              "      <td>0</td>\n",
              "      <td>0</td>\n",
              "      <td>0</td>\n",
              "      <td>0</td>\n",
              "      <td>0</td>\n",
              "    </tr>\n",
              "    <tr>\n",
              "      <th>46</th>\n",
              "      <td>1</td>\n",
              "      <td>26820</td>\n",
              "      <td>930</td>\n",
              "      <td>26277</td>\n",
              "      <td>0.72</td>\n",
              "      <td>7.90</td>\n",
              "      <td>15.50</td>\n",
              "      <td>7.60</td>\n",
              "      <td>0</td>\n",
              "      <td>0</td>\n",
              "      <td>...</td>\n",
              "      <td>0</td>\n",
              "      <td>0</td>\n",
              "      <td>0</td>\n",
              "      <td>0</td>\n",
              "      <td>0</td>\n",
              "      <td>0</td>\n",
              "      <td>0</td>\n",
              "      <td>0</td>\n",
              "      <td>0</td>\n",
              "      <td>0</td>\n",
              "    </tr>\n",
              "    <tr>\n",
              "      <th>47</th>\n",
              "      <td>1</td>\n",
              "      <td>26820</td>\n",
              "      <td>930</td>\n",
              "      <td>26277</td>\n",
              "      <td>0.72</td>\n",
              "      <td>7.90</td>\n",
              "      <td>15.50</td>\n",
              "      <td>7.60</td>\n",
              "      <td>0</td>\n",
              "      <td>0</td>\n",
              "      <td>...</td>\n",
              "      <td>0</td>\n",
              "      <td>0</td>\n",
              "      <td>0</td>\n",
              "      <td>0</td>\n",
              "      <td>0</td>\n",
              "      <td>0</td>\n",
              "      <td>0</td>\n",
              "      <td>0</td>\n",
              "      <td>0</td>\n",
              "      <td>0</td>\n",
              "    </tr>\n",
              "    <tr>\n",
              "      <th>48</th>\n",
              "      <td>1</td>\n",
              "      <td>26820</td>\n",
              "      <td>930</td>\n",
              "      <td>26277</td>\n",
              "      <td>0.72</td>\n",
              "      <td>7.90</td>\n",
              "      <td>15.50</td>\n",
              "      <td>7.60</td>\n",
              "      <td>0</td>\n",
              "      <td>0</td>\n",
              "      <td>...</td>\n",
              "      <td>0</td>\n",
              "      <td>0</td>\n",
              "      <td>0</td>\n",
              "      <td>0</td>\n",
              "      <td>0</td>\n",
              "      <td>0</td>\n",
              "      <td>0</td>\n",
              "      <td>0</td>\n",
              "      <td>0</td>\n",
              "      <td>0</td>\n",
              "    </tr>\n",
              "    <tr>\n",
              "      <th>49</th>\n",
              "      <td>1</td>\n",
              "      <td>26820</td>\n",
              "      <td>930</td>\n",
              "      <td>26277</td>\n",
              "      <td>0.72</td>\n",
              "      <td>7.90</td>\n",
              "      <td>15.50</td>\n",
              "      <td>7.60</td>\n",
              "      <td>0</td>\n",
              "      <td>0</td>\n",
              "      <td>...</td>\n",
              "      <td>0</td>\n",
              "      <td>0</td>\n",
              "      <td>0</td>\n",
              "      <td>0</td>\n",
              "      <td>0</td>\n",
              "      <td>0</td>\n",
              "      <td>0</td>\n",
              "      <td>0</td>\n",
              "      <td>0</td>\n",
              "      <td>0</td>\n",
              "    </tr>\n",
              "  </tbody>\n",
              "</table>\n",
              "<p>50 rows × 187 columns</p>\n",
              "</div>\n",
              "      <button class=\"colab-df-convert\" onclick=\"convertToInteractive('df-ad77d870-b773-42fa-80a5-b9a3a3914f9b')\"\n",
              "              title=\"Convert this dataframe to an interactive table.\"\n",
              "              style=\"display:none;\">\n",
              "        \n",
              "  <svg xmlns=\"http://www.w3.org/2000/svg\" height=\"24px\"viewBox=\"0 0 24 24\"\n",
              "       width=\"24px\">\n",
              "    <path d=\"M0 0h24v24H0V0z\" fill=\"none\"/>\n",
              "    <path d=\"M18.56 5.44l.94 2.06.94-2.06 2.06-.94-2.06-.94-.94-2.06-.94 2.06-2.06.94zm-11 1L8.5 8.5l.94-2.06 2.06-.94-2.06-.94L8.5 2.5l-.94 2.06-2.06.94zm10 10l.94 2.06.94-2.06 2.06-.94-2.06-.94-.94-2.06-.94 2.06-2.06.94z\"/><path d=\"M17.41 7.96l-1.37-1.37c-.4-.4-.92-.59-1.43-.59-.52 0-1.04.2-1.43.59L10.3 9.45l-7.72 7.72c-.78.78-.78 2.05 0 2.83L4 21.41c.39.39.9.59 1.41.59.51 0 1.02-.2 1.41-.59l7.78-7.78 2.81-2.81c.8-.78.8-2.07 0-2.86zM5.41 20L4 18.59l7.72-7.72 1.47 1.35L5.41 20z\"/>\n",
              "  </svg>\n",
              "      </button>\n",
              "      \n",
              "  <style>\n",
              "    .colab-df-container {\n",
              "      display:flex;\n",
              "      flex-wrap:wrap;\n",
              "      gap: 12px;\n",
              "    }\n",
              "\n",
              "    .colab-df-convert {\n",
              "      background-color: #E8F0FE;\n",
              "      border: none;\n",
              "      border-radius: 50%;\n",
              "      cursor: pointer;\n",
              "      display: none;\n",
              "      fill: #1967D2;\n",
              "      height: 32px;\n",
              "      padding: 0 0 0 0;\n",
              "      width: 32px;\n",
              "    }\n",
              "\n",
              "    .colab-df-convert:hover {\n",
              "      background-color: #E2EBFA;\n",
              "      box-shadow: 0px 1px 2px rgba(60, 64, 67, 0.3), 0px 1px 3px 1px rgba(60, 64, 67, 0.15);\n",
              "      fill: #174EA6;\n",
              "    }\n",
              "\n",
              "    [theme=dark] .colab-df-convert {\n",
              "      background-color: #3B4455;\n",
              "      fill: #D2E3FC;\n",
              "    }\n",
              "\n",
              "    [theme=dark] .colab-df-convert:hover {\n",
              "      background-color: #434B5C;\n",
              "      box-shadow: 0px 1px 3px 1px rgba(0, 0, 0, 0.15);\n",
              "      filter: drop-shadow(0px 1px 2px rgba(0, 0, 0, 0.3));\n",
              "      fill: #FFFFFF;\n",
              "    }\n",
              "  </style>\n",
              "\n",
              "      <script>\n",
              "        const buttonEl =\n",
              "          document.querySelector('#df-ad77d870-b773-42fa-80a5-b9a3a3914f9b button.colab-df-convert');\n",
              "        buttonEl.style.display =\n",
              "          google.colab.kernel.accessAllowed ? 'block' : 'none';\n",
              "\n",
              "        async function convertToInteractive(key) {\n",
              "          const element = document.querySelector('#df-ad77d870-b773-42fa-80a5-b9a3a3914f9b');\n",
              "          const dataTable =\n",
              "            await google.colab.kernel.invokeFunction('convertToInteractive',\n",
              "                                                     [key], {});\n",
              "          if (!dataTable) return;\n",
              "\n",
              "          const docLinkHtml = 'Like what you see? Visit the ' +\n",
              "            '<a target=\"_blank\" href=https://colab.research.google.com/notebooks/data_table.ipynb>data table notebook</a>'\n",
              "            + ' to learn more about interactive tables.';\n",
              "          element.innerHTML = '';\n",
              "          dataTable['output_type'] = 'display_data';\n",
              "          await google.colab.output.renderOutput(dataTable, element);\n",
              "          const docLink = document.createElement('div');\n",
              "          docLink.innerHTML = docLinkHtml;\n",
              "          element.appendChild(docLink);\n",
              "        }\n",
              "      </script>\n",
              "    </div>\n",
              "  </div>\n",
              "  "
            ]
          },
          "metadata": {},
          "execution_count": 77
        }
      ]
    },
    {
      "cell_type": "code",
      "source": [
        "test_size = [['sel_calc_cube', 'pack_volume', 'rec_calc_cube']]"
      ],
      "metadata": {
        "colab": {
          "base_uri": "https://localhost:8080/"
        },
        "id": "yqNcRlibAeUJ",
        "outputId": "c7d3a7e7-1eb2-4211-8151-d8f65b3896db"
      },
      "execution_count": null,
      "outputs": [
        {
          "output_type": "execute_result",
          "data": {
            "text/plain": [
              "Index(['box_num', 'sel_calc_cube', 'pack_volume', 'rec_calc_cube',\n",
              "       'goods_wght', 'a', 'b', 'c', 'selected_cartontype_MYB',\n",
              "       'selected_cartontype_MYC',\n",
              "       ...\n",
              "       'description_упаковка в пленку', 'description_фреш',\n",
              "       'description_химикаты', 'description_хрупкое',\n",
              "       'description_цена высокая', 'description_цена низкая',\n",
              "       'description_цена средняя', 'description_ценное',\n",
              "       'description_цифровой товар', 'description_электроника'],\n",
              "      dtype='object', length=187)"
            ]
          },
          "metadata": {},
          "execution_count": 78
        }
      ]
    },
    {
      "cell_type": "code",
      "source": [
        "df.drop(['Unnamed: 0_x', 'whs', 'orderkey', 'selected_carton', 'recommended_carton', 'who', \n",
        "'trackingid', 'sku', 'Unnamed: 0_y', 'Unnamed: 0_x', 'Unnamed: 0_y'], axis= 1 , inplace= True)"
      ],
      "metadata": {
        "colab": {
          "base_uri": "https://localhost:8080/"
        },
        "id": "SR98G5gU-8Y4",
        "outputId": "6994235f-fdad-4082-a24a-d4a611bc9fe5"
      },
      "execution_count": null,
      "outputs": [
        {
          "output_type": "execute_result",
          "data": {
            "text/plain": [
              "0             0\n",
              "291700        0\n",
              "291692        0\n",
              "291691        0\n",
              "291690        0\n",
              "          ...  \n",
              "432185    27000\n",
              "432184    27000\n",
              "432183    27000\n",
              "432181    27000\n",
              "407507    27000\n",
              "Name: sel_calc_cube, Length: 624962, dtype: int64"
            ]
          },
          "metadata": {},
          "execution_count": 76
        }
      ]
    }
  ],
  "metadata": {
    "ExecuteTimeLog": [
      {
        "duration": 9724,
        "start_time": "2022-05-22T15:13:50.449Z"
      },
      {
        "duration": 1523,
        "start_time": "2022-05-22T15:28:28.179Z"
      },
      {
        "duration": 56,
        "start_time": "2022-05-22T15:28:59.097Z"
      },
      {
        "duration": 25,
        "start_time": "2022-05-22T15:28:59.370Z"
      },
      {
        "duration": 53,
        "start_time": "2022-05-22T15:28:59.641Z"
      },
      {
        "duration": 20,
        "start_time": "2022-05-22T15:28:59.888Z"
      },
      {
        "duration": 42,
        "start_time": "2022-05-22T15:29:00.184Z"
      },
      {
        "duration": 18,
        "start_time": "2022-05-22T15:29:00.465Z"
      },
      {
        "duration": 66,
        "start_time": "2022-05-22T15:29:03.524Z"
      },
      {
        "duration": 7,
        "start_time": "2022-05-22T15:29:04.132Z"
      },
      {
        "duration": 48,
        "start_time": "2022-05-22T15:29:11.540Z"
      },
      {
        "duration": 17,
        "start_time": "2022-05-22T15:29:14.789Z"
      },
      {
        "duration": 4,
        "start_time": "2022-05-22T15:29:23.506Z"
      },
      {
        "duration": 3,
        "start_time": "2022-05-22T15:29:29.505Z"
      },
      {
        "duration": 4,
        "start_time": "2022-05-22T15:29:29.772Z"
      },
      {
        "duration": 18,
        "start_time": "2022-05-22T15:29:37.819Z"
      },
      {
        "duration": 12,
        "start_time": "2022-05-22T15:29:59.193Z"
      },
      {
        "duration": 10,
        "start_time": "2022-05-22T15:29:59.694Z"
      },
      {
        "duration": 9,
        "start_time": "2022-05-22T15:30:02.168Z"
      },
      {
        "duration": 11,
        "start_time": "2022-05-22T15:30:31.760Z"
      },
      {
        "duration": 30,
        "start_time": "2022-05-22T15:30:32.222Z"
      },
      {
        "duration": 10,
        "start_time": "2022-05-22T15:30:32.618Z"
      },
      {
        "duration": 6,
        "start_time": "2022-05-22T15:30:33.400Z"
      },
      {
        "duration": 16,
        "start_time": "2022-05-22T15:30:41.320Z"
      },
      {
        "duration": 8,
        "start_time": "2022-05-22T15:30:50.277Z"
      },
      {
        "duration": 419,
        "start_time": "2022-05-22T15:30:53.074Z"
      },
      {
        "duration": 8,
        "start_time": "2022-05-22T15:31:02.269Z"
      },
      {
        "duration": 278,
        "start_time": "2022-05-22T15:31:04.497Z"
      },
      {
        "duration": 12,
        "start_time": "2022-05-22T15:32:06.292Z"
      },
      {
        "duration": 9,
        "start_time": "2022-05-22T15:32:09.765Z"
      },
      {
        "duration": 18,
        "start_time": "2022-05-22T15:32:12.823Z"
      },
      {
        "duration": 3,
        "start_time": "2022-05-22T15:32:17.330Z"
      },
      {
        "duration": 39,
        "start_time": "2022-05-22T15:32:19.565Z"
      },
      {
        "duration": 3,
        "start_time": "2022-05-22T15:32:33.698Z"
      },
      {
        "duration": 6,
        "start_time": "2022-05-22T15:32:36.265Z"
      },
      {
        "duration": 7,
        "start_time": "2022-05-22T15:32:41.767Z"
      },
      {
        "duration": 5,
        "start_time": "2022-05-22T15:32:44.968Z"
      },
      {
        "duration": 9,
        "start_time": "2022-05-22T15:32:53.168Z"
      },
      {
        "duration": 5,
        "start_time": "2022-05-22T15:33:28.630Z"
      },
      {
        "duration": 6,
        "start_time": "2022-05-22T15:33:29.086Z"
      },
      {
        "duration": 6,
        "start_time": "2022-05-22T15:33:30.627Z"
      },
      {
        "duration": 4,
        "start_time": "2022-05-22T15:33:31.684Z"
      },
      {
        "duration": 14,
        "start_time": "2022-05-22T15:33:33.660Z"
      },
      {
        "duration": 10,
        "start_time": "2022-05-22T15:33:38.670Z"
      },
      {
        "duration": 280,
        "start_time": "2022-05-22T15:33:40.746Z"
      },
      {
        "duration": 7,
        "start_time": "2022-05-22T15:33:46.569Z"
      },
      {
        "duration": 10,
        "start_time": "2022-05-22T15:33:48.578Z"
      },
      {
        "duration": 260,
        "start_time": "2022-05-22T15:33:51.569Z"
      },
      {
        "duration": 400,
        "start_time": "2022-05-22T15:33:57.928Z"
      },
      {
        "duration": 14,
        "start_time": "2022-05-22T15:34:04.265Z"
      },
      {
        "duration": 6,
        "start_time": "2022-05-22T15:34:37.869Z"
      },
      {
        "duration": 32,
        "start_time": "2022-05-22T15:34:41.204Z"
      },
      {
        "duration": 3,
        "start_time": "2022-05-22T15:34:46.769Z"
      },
      {
        "duration": 3,
        "start_time": "2022-05-22T15:34:47.325Z"
      },
      {
        "duration": 8,
        "start_time": "2022-05-22T15:34:47.828Z"
      },
      {
        "duration": 9,
        "start_time": "2022-05-22T15:34:48.528Z"
      },
      {
        "duration": 22,
        "start_time": "2022-05-22T15:34:57.680Z"
      },
      {
        "duration": 18,
        "start_time": "2022-05-22T15:34:59.602Z"
      },
      {
        "duration": 6,
        "start_time": "2022-05-22T15:35:08.698Z"
      },
      {
        "duration": 5,
        "start_time": "2022-05-22T15:35:12.969Z"
      },
      {
        "duration": 7,
        "start_time": "2022-05-22T15:35:20.714Z"
      },
      {
        "duration": 3,
        "start_time": "2022-05-22T15:35:22.768Z"
      },
      {
        "duration": 4,
        "start_time": "2022-05-22T15:35:26.035Z"
      },
      {
        "duration": 3,
        "start_time": "2022-05-22T15:35:30.107Z"
      },
      {
        "duration": 6812,
        "start_time": "2022-05-22T15:35:52.867Z"
      },
      {
        "duration": 1913,
        "start_time": "2022-05-22T15:35:59.813Z"
      },
      {
        "duration": 119,
        "start_time": "2022-05-22T15:36:08.392Z"
      },
      {
        "duration": 139,
        "start_time": "2022-05-22T15:36:13.788Z"
      },
      {
        "duration": 10,
        "start_time": "2022-05-22T15:36:21.237Z"
      },
      {
        "duration": 10,
        "start_time": "2022-05-22T15:36:21.739Z"
      },
      {
        "duration": 7,
        "start_time": "2022-05-22T15:36:24.704Z"
      },
      {
        "duration": 27649,
        "start_time": "2022-05-22T15:36:30.671Z"
      },
      {
        "duration": 6,
        "start_time": "2022-05-22T15:36:58.322Z"
      },
      {
        "duration": 57,
        "start_time": "2022-05-22T15:36:58.330Z"
      },
      {
        "duration": 886,
        "start_time": "2022-05-22T15:36:58.389Z"
      },
      {
        "duration": 20,
        "start_time": "2022-05-22T15:36:59.350Z"
      },
      {
        "duration": 6,
        "start_time": "2022-05-22T15:36:59.442Z"
      },
      {
        "duration": 10,
        "start_time": "2022-05-22T15:37:04.122Z"
      },
      {
        "duration": 1409,
        "start_time": "2022-05-22T19:02:49.348Z"
      },
      {
        "duration": 94,
        "start_time": "2022-05-22T19:02:53.879Z"
      },
      {
        "duration": 16,
        "start_time": "2022-05-22T19:02:54.092Z"
      },
      {
        "duration": 36,
        "start_time": "2022-05-22T19:02:54.268Z"
      },
      {
        "duration": 10,
        "start_time": "2022-05-22T19:02:54.400Z"
      },
      {
        "duration": 38,
        "start_time": "2022-05-22T19:02:54.591Z"
      },
      {
        "duration": 12,
        "start_time": "2022-05-22T19:02:54.962Z"
      },
      {
        "duration": 43,
        "start_time": "2022-05-22T19:02:55.547Z"
      },
      {
        "duration": 8,
        "start_time": "2022-05-22T19:02:56.550Z"
      },
      {
        "duration": 29,
        "start_time": "2022-05-22T19:02:57.413Z"
      },
      {
        "duration": 19,
        "start_time": "2022-05-22T19:02:57.682Z"
      },
      {
        "duration": 3,
        "start_time": "2022-05-22T19:03:42.863Z"
      },
      {
        "duration": 3,
        "start_time": "2022-05-22T19:03:44.906Z"
      },
      {
        "duration": 3,
        "start_time": "2022-05-22T19:03:45.844Z"
      },
      {
        "duration": 21,
        "start_time": "2022-05-22T19:03:47.599Z"
      },
      {
        "duration": 13,
        "start_time": "2022-05-22T19:04:06.285Z"
      },
      {
        "duration": 10,
        "start_time": "2022-05-22T19:04:07.156Z"
      },
      {
        "duration": 10,
        "start_time": "2022-05-22T19:04:07.850Z"
      },
      {
        "duration": 7,
        "start_time": "2022-05-22T19:04:09.616Z"
      },
      {
        "duration": 22,
        "start_time": "2022-05-22T19:04:09.799Z"
      },
      {
        "duration": 9,
        "start_time": "2022-05-22T19:04:09.992Z"
      },
      {
        "duration": 6,
        "start_time": "2022-05-22T19:04:10.648Z"
      },
      {
        "duration": 16,
        "start_time": "2022-05-22T19:04:13.212Z"
      },
      {
        "duration": 8,
        "start_time": "2022-05-22T19:05:22.610Z"
      },
      {
        "duration": 926,
        "start_time": "2022-05-22T19:05:23.454Z"
      },
      {
        "duration": 9,
        "start_time": "2022-05-22T19:06:41.407Z"
      },
      {
        "duration": 239,
        "start_time": "2022-05-22T19:06:42.147Z"
      },
      {
        "duration": 12,
        "start_time": "2022-05-22T19:07:03.091Z"
      },
      {
        "duration": 10,
        "start_time": "2022-05-22T19:07:04.694Z"
      },
      {
        "duration": 12,
        "start_time": "2022-05-22T19:07:05.145Z"
      },
      {
        "duration": 3,
        "start_time": "2022-05-22T19:07:06.031Z"
      },
      {
        "duration": 35,
        "start_time": "2022-05-22T19:07:06.580Z"
      },
      {
        "duration": 4,
        "start_time": "2022-05-22T19:07:47.659Z"
      },
      {
        "duration": 6,
        "start_time": "2022-05-22T19:07:48.247Z"
      },
      {
        "duration": 7,
        "start_time": "2022-05-22T19:07:54.978Z"
      },
      {
        "duration": 6,
        "start_time": "2022-05-22T19:07:56.075Z"
      },
      {
        "duration": 6,
        "start_time": "2022-05-22T19:08:19.108Z"
      },
      {
        "duration": 4,
        "start_time": "2022-05-22T19:08:20.682Z"
      },
      {
        "duration": 7,
        "start_time": "2022-05-22T19:08:21.274Z"
      },
      {
        "duration": 5,
        "start_time": "2022-05-22T19:08:22.294Z"
      },
      {
        "duration": 4,
        "start_time": "2022-05-22T19:08:22.905Z"
      },
      {
        "duration": 6,
        "start_time": "2022-05-22T19:08:23.118Z"
      },
      {
        "duration": 9,
        "start_time": "2022-05-22T19:08:24.349Z"
      },
      {
        "duration": 218,
        "start_time": "2022-05-22T19:08:24.601Z"
      },
      {
        "duration": 5,
        "start_time": "2022-05-22T19:08:25.253Z"
      },
      {
        "duration": 8,
        "start_time": "2022-05-22T19:08:25.457Z"
      },
      {
        "duration": 210,
        "start_time": "2022-05-22T19:08:25.687Z"
      },
      {
        "duration": 398,
        "start_time": "2022-05-22T19:08:27.391Z"
      },
      {
        "duration": 12,
        "start_time": "2022-05-22T19:08:27.791Z"
      },
      {
        "duration": 5,
        "start_time": "2022-05-22T19:08:38.405Z"
      },
      {
        "duration": 3,
        "start_time": "2022-05-22T19:10:13.693Z"
      },
      {
        "duration": 4,
        "start_time": "2022-05-22T19:10:14.417Z"
      },
      {
        "duration": 9,
        "start_time": "2022-05-22T19:10:15.005Z"
      },
      {
        "duration": 10,
        "start_time": "2022-05-22T19:10:15.768Z"
      },
      {
        "duration": 20,
        "start_time": "2022-05-22T19:10:25.847Z"
      },
      {
        "duration": 15,
        "start_time": "2022-05-22T19:10:26.376Z"
      },
      {
        "duration": 6,
        "start_time": "2022-05-22T19:11:48.609Z"
      },
      {
        "duration": 4,
        "start_time": "2022-05-22T19:11:49.714Z"
      },
      {
        "duration": 4,
        "start_time": "2022-05-22T19:11:51.358Z"
      },
      {
        "duration": 3,
        "start_time": "2022-05-22T19:11:51.967Z"
      },
      {
        "duration": 4,
        "start_time": "2022-05-22T19:11:52.471Z"
      },
      {
        "duration": 3,
        "start_time": "2022-05-22T19:11:53.578Z"
      },
      {
        "duration": 6351,
        "start_time": "2022-05-22T19:12:34.725Z"
      },
      {
        "duration": 1151,
        "start_time": "2022-05-22T19:12:41.096Z"
      },
      {
        "duration": 116,
        "start_time": "2022-05-22T19:12:45.357Z"
      },
      {
        "duration": 5,
        "start_time": "2022-05-22T19:12:46.021Z"
      },
      {
        "duration": 6,
        "start_time": "2022-05-22T19:12:46.752Z"
      },
      {
        "duration": 6,
        "start_time": "2022-05-22T19:12:47.356Z"
      },
      {
        "duration": 24471,
        "start_time": "2022-05-22T19:12:49.415Z"
      },
      {
        "duration": 4,
        "start_time": "2022-05-22T19:13:13.888Z"
      },
      {
        "duration": 7,
        "start_time": "2022-05-22T19:13:13.894Z"
      },
      {
        "duration": 830,
        "start_time": "2022-05-22T19:13:13.903Z"
      },
      {
        "duration": 96,
        "start_time": "2022-05-22T19:13:14.735Z"
      },
      {
        "duration": 95,
        "start_time": "2022-05-22T19:13:14.833Z"
      },
      {
        "duration": 23,
        "start_time": "2022-05-22T19:13:14.930Z"
      },
      {
        "duration": 1586,
        "start_time": "2022-05-23T12:14:58.801Z"
      },
      {
        "duration": 94,
        "start_time": "2022-05-23T12:15:00.389Z"
      },
      {
        "duration": 16,
        "start_time": "2022-05-23T12:15:00.485Z"
      },
      {
        "duration": 38,
        "start_time": "2022-05-23T12:15:00.503Z"
      },
      {
        "duration": 9,
        "start_time": "2022-05-23T12:15:00.543Z"
      },
      {
        "duration": 61,
        "start_time": "2022-05-23T12:15:00.554Z"
      },
      {
        "duration": 12,
        "start_time": "2022-05-23T12:15:00.618Z"
      },
      {
        "duration": 60,
        "start_time": "2022-05-23T12:15:00.632Z"
      },
      {
        "duration": 6,
        "start_time": "2022-05-23T12:15:00.694Z"
      },
      {
        "duration": 48,
        "start_time": "2022-05-23T12:15:00.703Z"
      },
      {
        "duration": 31,
        "start_time": "2022-05-23T12:15:00.752Z"
      },
      {
        "duration": 25,
        "start_time": "2022-05-23T12:15:00.785Z"
      },
      {
        "duration": 24,
        "start_time": "2022-05-23T12:15:00.812Z"
      },
      {
        "duration": 14,
        "start_time": "2022-05-23T12:15:00.838Z"
      },
      {
        "duration": 33,
        "start_time": "2022-05-23T12:15:00.853Z"
      },
      {
        "duration": 20,
        "start_time": "2022-05-23T12:15:00.888Z"
      },
      {
        "duration": 10,
        "start_time": "2022-05-23T12:15:04.501Z"
      },
      {
        "duration": 30,
        "start_time": "2022-05-23T12:15:53.883Z"
      },
      {
        "duration": 10,
        "start_time": "2022-05-23T12:16:51.279Z"
      },
      {
        "duration": 6,
        "start_time": "2022-05-23T12:39:24.645Z"
      },
      {
        "duration": 51,
        "start_time": "2022-05-23T12:39:24.653Z"
      },
      {
        "duration": 11,
        "start_time": "2022-05-23T12:39:24.706Z"
      },
      {
        "duration": 16,
        "start_time": "2022-05-23T12:39:24.720Z"
      },
      {
        "duration": 9,
        "start_time": "2022-05-23T12:39:24.739Z"
      },
      {
        "duration": 27,
        "start_time": "2022-05-23T12:39:24.751Z"
      },
      {
        "duration": 11,
        "start_time": "2022-05-23T12:39:24.782Z"
      },
      {
        "duration": 17,
        "start_time": "2022-05-23T12:39:24.795Z"
      },
      {
        "duration": 8,
        "start_time": "2022-05-23T12:39:24.814Z"
      },
      {
        "duration": 51,
        "start_time": "2022-05-23T12:39:24.823Z"
      },
      {
        "duration": 30,
        "start_time": "2022-05-23T12:39:24.878Z"
      },
      {
        "duration": 6,
        "start_time": "2022-05-23T12:39:24.910Z"
      },
      {
        "duration": 9,
        "start_time": "2022-05-23T12:39:24.918Z"
      },
      {
        "duration": 7,
        "start_time": "2022-05-23T12:39:24.930Z"
      },
      {
        "duration": 61,
        "start_time": "2022-05-23T12:39:24.938Z"
      },
      {
        "duration": 18,
        "start_time": "2022-05-23T12:39:25.001Z"
      },
      {
        "duration": 38,
        "start_time": "2022-05-23T12:39:25.022Z"
      },
      {
        "duration": 16,
        "start_time": "2022-05-23T12:39:25.061Z"
      },
      {
        "duration": 18,
        "start_time": "2022-05-23T12:39:25.079Z"
      },
      {
        "duration": 29,
        "start_time": "2022-05-23T12:39:25.099Z"
      },
      {
        "duration": 12,
        "start_time": "2022-05-23T12:39:25.130Z"
      },
      {
        "duration": 34,
        "start_time": "2022-05-23T12:39:25.144Z"
      },
      {
        "duration": 32,
        "start_time": "2022-05-23T12:39:25.180Z"
      },
      {
        "duration": 12,
        "start_time": "2022-05-23T12:39:25.214Z"
      },
      {
        "duration": 720,
        "start_time": "2022-05-23T12:39:25.229Z"
      },
      {
        "duration": 7,
        "start_time": "2022-05-23T12:40:00.377Z"
      },
      {
        "duration": 56,
        "start_time": "2022-05-23T12:40:00.386Z"
      },
      {
        "duration": 13,
        "start_time": "2022-05-23T12:40:00.444Z"
      },
      {
        "duration": 41,
        "start_time": "2022-05-23T12:40:00.460Z"
      },
      {
        "duration": 11,
        "start_time": "2022-05-23T12:40:00.503Z"
      },
      {
        "duration": 32,
        "start_time": "2022-05-23T12:40:00.516Z"
      },
      {
        "duration": 29,
        "start_time": "2022-05-23T12:40:00.550Z"
      },
      {
        "duration": 42,
        "start_time": "2022-05-23T12:40:00.582Z"
      },
      {
        "duration": 21,
        "start_time": "2022-05-23T12:40:00.627Z"
      },
      {
        "duration": 64,
        "start_time": "2022-05-23T12:40:00.650Z"
      },
      {
        "duration": 24,
        "start_time": "2022-05-23T12:40:00.716Z"
      },
      {
        "duration": 17,
        "start_time": "2022-05-23T12:40:00.742Z"
      },
      {
        "duration": 40,
        "start_time": "2022-05-23T12:40:00.760Z"
      },
      {
        "duration": 33,
        "start_time": "2022-05-23T12:40:00.802Z"
      },
      {
        "duration": 46,
        "start_time": "2022-05-23T12:40:00.837Z"
      },
      {
        "duration": 30,
        "start_time": "2022-05-23T12:40:00.885Z"
      },
      {
        "duration": 74,
        "start_time": "2022-05-23T12:40:00.917Z"
      },
      {
        "duration": 40,
        "start_time": "2022-05-23T12:40:00.993Z"
      },
      {
        "duration": 55,
        "start_time": "2022-05-23T12:40:01.035Z"
      },
      {
        "duration": 41,
        "start_time": "2022-05-23T12:40:01.092Z"
      },
      {
        "duration": 11,
        "start_time": "2022-05-23T12:40:01.135Z"
      },
      {
        "duration": 44,
        "start_time": "2022-05-23T12:40:01.148Z"
      },
      {
        "duration": 38,
        "start_time": "2022-05-23T12:40:01.194Z"
      },
      {
        "duration": 18,
        "start_time": "2022-05-23T12:40:01.238Z"
      },
      {
        "duration": 358,
        "start_time": "2022-05-23T12:40:01.259Z"
      },
      {
        "duration": 11,
        "start_time": "2022-05-23T12:40:01.619Z"
      },
      {
        "duration": 352,
        "start_time": "2022-05-23T12:40:01.632Z"
      },
      {
        "duration": 15,
        "start_time": "2022-05-23T12:40:01.986Z"
      },
      {
        "duration": 12,
        "start_time": "2022-05-23T12:40:02.004Z"
      },
      {
        "duration": 23,
        "start_time": "2022-05-23T12:40:02.018Z"
      },
      {
        "duration": 43,
        "start_time": "2022-05-23T12:40:02.043Z"
      },
      {
        "duration": 59,
        "start_time": "2022-05-23T12:40:02.088Z"
      },
      {
        "duration": 5,
        "start_time": "2022-05-23T12:40:02.149Z"
      },
      {
        "duration": 10,
        "start_time": "2022-05-23T12:40:02.155Z"
      },
      {
        "duration": 31,
        "start_time": "2022-05-23T12:40:02.166Z"
      },
      {
        "duration": 10,
        "start_time": "2022-05-23T12:40:02.199Z"
      },
      {
        "duration": 24,
        "start_time": "2022-05-23T12:40:02.212Z"
      },
      {
        "duration": 22,
        "start_time": "2022-05-23T12:40:02.238Z"
      },
      {
        "duration": 28,
        "start_time": "2022-05-23T12:40:02.262Z"
      },
      {
        "duration": 20,
        "start_time": "2022-05-23T12:40:02.292Z"
      },
      {
        "duration": 10,
        "start_time": "2022-05-23T12:40:02.314Z"
      },
      {
        "duration": 19,
        "start_time": "2022-05-23T12:40:02.326Z"
      },
      {
        "duration": 20,
        "start_time": "2022-05-23T12:40:02.347Z"
      },
      {
        "duration": 327,
        "start_time": "2022-05-23T12:40:02.369Z"
      },
      {
        "duration": 5,
        "start_time": "2022-05-23T12:40:02.698Z"
      },
      {
        "duration": 14,
        "start_time": "2022-05-23T12:40:02.705Z"
      },
      {
        "duration": 298,
        "start_time": "2022-05-23T12:40:02.721Z"
      },
      {
        "duration": 595,
        "start_time": "2022-05-23T12:40:03.021Z"
      },
      {
        "duration": 12,
        "start_time": "2022-05-23T12:40:03.618Z"
      },
      {
        "duration": 6,
        "start_time": "2022-05-23T12:40:03.632Z"
      },
      {
        "duration": 16,
        "start_time": "2022-05-23T12:40:03.639Z"
      },
      {
        "duration": 22,
        "start_time": "2022-05-23T12:40:03.664Z"
      },
      {
        "duration": 26,
        "start_time": "2022-05-23T12:40:03.688Z"
      },
      {
        "duration": 16,
        "start_time": "2022-05-23T12:40:03.716Z"
      },
      {
        "duration": 28,
        "start_time": "2022-05-23T12:40:03.734Z"
      },
      {
        "duration": 26,
        "start_time": "2022-05-23T12:40:03.764Z"
      },
      {
        "duration": 26,
        "start_time": "2022-05-23T12:40:03.792Z"
      },
      {
        "duration": 5,
        "start_time": "2022-05-23T12:40:03.820Z"
      },
      {
        "duration": 10,
        "start_time": "2022-05-23T12:40:03.827Z"
      },
      {
        "duration": 10,
        "start_time": "2022-05-23T12:40:03.839Z"
      },
      {
        "duration": 12,
        "start_time": "2022-05-23T12:40:03.851Z"
      },
      {
        "duration": 20,
        "start_time": "2022-05-23T12:40:03.866Z"
      },
      {
        "duration": 7371,
        "start_time": "2022-05-23T12:40:03.888Z"
      },
      {
        "duration": 1350,
        "start_time": "2022-05-23T12:40:11.261Z"
      },
      {
        "duration": 138,
        "start_time": "2022-05-23T12:40:12.612Z"
      },
      {
        "duration": 12,
        "start_time": "2022-05-23T12:40:12.752Z"
      },
      {
        "duration": 12,
        "start_time": "2022-05-23T12:40:12.771Z"
      },
      {
        "duration": 12,
        "start_time": "2022-05-23T12:40:12.784Z"
      },
      {
        "duration": 29743,
        "start_time": "2022-05-23T12:40:12.801Z"
      },
      {
        "duration": 8,
        "start_time": "2022-05-23T12:40:42.546Z"
      },
      {
        "duration": 10,
        "start_time": "2022-05-23T12:40:42.574Z"
      },
      {
        "duration": 301,
        "start_time": "2022-05-23T12:40:42.587Z"
      },
      {
        "duration": 22,
        "start_time": "2022-05-23T12:40:42.967Z"
      },
      {
        "duration": 19,
        "start_time": "2022-05-23T12:40:43.069Z"
      },
      {
        "duration": 12,
        "start_time": "2022-05-23T12:40:43.090Z"
      },
      {
        "duration": 12,
        "start_time": "2022-05-23T12:44:20.562Z"
      },
      {
        "duration": 3,
        "start_time": "2022-05-23T12:44:21.263Z"
      },
      {
        "duration": 10,
        "start_time": "2022-05-23T12:44:21.787Z"
      },
      {
        "duration": 10,
        "start_time": "2022-05-23T12:44:22.343Z"
      },
      {
        "duration": 1454,
        "start_time": "2022-05-23T12:46:34.126Z"
      },
      {
        "duration": 45,
        "start_time": "2022-05-23T12:46:35.583Z"
      },
      {
        "duration": 17,
        "start_time": "2022-05-23T12:46:35.630Z"
      },
      {
        "duration": 20,
        "start_time": "2022-05-23T12:46:35.650Z"
      },
      {
        "duration": 27,
        "start_time": "2022-05-23T12:46:35.673Z"
      },
      {
        "duration": 30,
        "start_time": "2022-05-23T12:46:35.702Z"
      },
      {
        "duration": 17,
        "start_time": "2022-05-23T12:46:35.734Z"
      },
      {
        "duration": 29,
        "start_time": "2022-05-23T12:46:35.753Z"
      },
      {
        "duration": 13,
        "start_time": "2022-05-23T12:46:35.790Z"
      },
      {
        "duration": 37,
        "start_time": "2022-05-23T12:46:35.806Z"
      },
      {
        "duration": 22,
        "start_time": "2022-05-23T12:46:35.846Z"
      },
      {
        "duration": 28,
        "start_time": "2022-05-23T12:46:35.870Z"
      },
      {
        "duration": 9,
        "start_time": "2022-05-23T12:46:35.900Z"
      },
      {
        "duration": 9,
        "start_time": "2022-05-23T12:46:35.911Z"
      },
      {
        "duration": 27,
        "start_time": "2022-05-23T12:46:35.921Z"
      },
      {
        "duration": 13,
        "start_time": "2022-05-23T12:46:35.950Z"
      },
      {
        "duration": 56,
        "start_time": "2022-05-23T12:46:35.966Z"
      },
      {
        "duration": 11,
        "start_time": "2022-05-23T12:46:36.024Z"
      },
      {
        "duration": 19,
        "start_time": "2022-05-23T12:46:36.037Z"
      },
      {
        "duration": 35,
        "start_time": "2022-05-23T12:46:36.058Z"
      },
      {
        "duration": 16,
        "start_time": "2022-05-23T12:46:36.095Z"
      },
      {
        "duration": 10,
        "start_time": "2022-05-23T12:46:36.113Z"
      },
      {
        "duration": 46,
        "start_time": "2022-05-23T12:46:36.124Z"
      },
      {
        "duration": 12,
        "start_time": "2022-05-23T12:46:36.174Z"
      },
      {
        "duration": 333,
        "start_time": "2022-05-23T12:46:36.188Z"
      },
      {
        "duration": 9,
        "start_time": "2022-05-23T12:46:36.523Z"
      },
      {
        "duration": 357,
        "start_time": "2022-05-23T12:46:36.534Z"
      },
      {
        "duration": 15,
        "start_time": "2022-05-23T12:46:36.895Z"
      },
      {
        "duration": 14,
        "start_time": "2022-05-23T12:46:36.912Z"
      },
      {
        "duration": 52,
        "start_time": "2022-05-23T12:46:36.928Z"
      },
      {
        "duration": 9,
        "start_time": "2022-05-23T12:46:36.982Z"
      },
      {
        "duration": 47,
        "start_time": "2022-05-23T12:46:36.993Z"
      },
      {
        "duration": 3,
        "start_time": "2022-05-23T12:46:37.042Z"
      },
      {
        "duration": 12,
        "start_time": "2022-05-23T12:46:37.070Z"
      },
      {
        "duration": 22,
        "start_time": "2022-05-23T12:46:37.084Z"
      },
      {
        "duration": 8,
        "start_time": "2022-05-23T12:46:37.108Z"
      },
      {
        "duration": 7,
        "start_time": "2022-05-23T12:46:37.118Z"
      },
      {
        "duration": 10,
        "start_time": "2022-05-23T12:46:37.127Z"
      },
      {
        "duration": 10,
        "start_time": "2022-05-23T12:46:37.139Z"
      },
      {
        "duration": 18,
        "start_time": "2022-05-23T12:46:37.151Z"
      },
      {
        "duration": 8,
        "start_time": "2022-05-23T12:46:37.172Z"
      },
      {
        "duration": 8,
        "start_time": "2022-05-23T12:46:37.183Z"
      },
      {
        "duration": 9,
        "start_time": "2022-05-23T12:46:37.193Z"
      },
      {
        "duration": 343,
        "start_time": "2022-05-23T12:46:37.204Z"
      },
      {
        "duration": 5,
        "start_time": "2022-05-23T12:46:37.549Z"
      },
      {
        "duration": 19,
        "start_time": "2022-05-23T12:46:37.555Z"
      },
      {
        "duration": 317,
        "start_time": "2022-05-23T12:46:37.576Z"
      },
      {
        "duration": 401,
        "start_time": "2022-05-23T12:46:37.894Z"
      },
      {
        "duration": 14,
        "start_time": "2022-05-23T12:46:38.297Z"
      },
      {
        "duration": 6,
        "start_time": "2022-05-23T12:46:38.312Z"
      },
      {
        "duration": 169,
        "start_time": "2022-05-23T12:46:38.320Z"
      },
      {
        "duration": 0,
        "start_time": "2022-05-23T12:46:38.491Z"
      },
      {
        "duration": 0,
        "start_time": "2022-05-23T12:46:38.492Z"
      },
      {
        "duration": 0,
        "start_time": "2022-05-23T12:46:38.493Z"
      },
      {
        "duration": 0,
        "start_time": "2022-05-23T12:46:38.495Z"
      },
      {
        "duration": 5,
        "start_time": "2022-05-23T12:49:17.145Z"
      },
      {
        "duration": 50,
        "start_time": "2022-05-23T12:49:17.156Z"
      },
      {
        "duration": 12,
        "start_time": "2022-05-23T12:49:17.208Z"
      },
      {
        "duration": 21,
        "start_time": "2022-05-23T12:49:17.222Z"
      },
      {
        "duration": 9,
        "start_time": "2022-05-23T12:49:17.245Z"
      },
      {
        "duration": 26,
        "start_time": "2022-05-23T12:49:17.257Z"
      },
      {
        "duration": 12,
        "start_time": "2022-05-23T12:49:17.286Z"
      },
      {
        "duration": 18,
        "start_time": "2022-05-23T12:49:17.300Z"
      },
      {
        "duration": 8,
        "start_time": "2022-05-23T12:49:17.319Z"
      },
      {
        "duration": 56,
        "start_time": "2022-05-23T12:49:17.329Z"
      },
      {
        "duration": 20,
        "start_time": "2022-05-23T12:49:17.388Z"
      },
      {
        "duration": 16,
        "start_time": "2022-05-23T12:49:17.410Z"
      },
      {
        "duration": 9,
        "start_time": "2022-05-23T12:49:17.428Z"
      },
      {
        "duration": 11,
        "start_time": "2022-05-23T12:49:17.439Z"
      },
      {
        "duration": 30,
        "start_time": "2022-05-23T12:49:17.468Z"
      },
      {
        "duration": 23,
        "start_time": "2022-05-23T12:49:17.500Z"
      },
      {
        "duration": 64,
        "start_time": "2022-05-23T12:49:17.525Z"
      },
      {
        "duration": 11,
        "start_time": "2022-05-23T12:49:17.590Z"
      },
      {
        "duration": 9,
        "start_time": "2022-05-23T12:49:17.603Z"
      },
      {
        "duration": 27,
        "start_time": "2022-05-23T12:49:17.614Z"
      },
      {
        "duration": 23,
        "start_time": "2022-05-23T12:49:17.643Z"
      },
      {
        "duration": 11,
        "start_time": "2022-05-23T12:49:17.669Z"
      },
      {
        "duration": 22,
        "start_time": "2022-05-23T12:49:17.683Z"
      },
      {
        "duration": 9,
        "start_time": "2022-05-23T12:49:17.706Z"
      },
      {
        "duration": 431,
        "start_time": "2022-05-23T12:49:17.717Z"
      },
      {
        "duration": 16,
        "start_time": "2022-05-23T12:49:18.150Z"
      },
      {
        "duration": 302,
        "start_time": "2022-05-23T12:49:18.168Z"
      },
      {
        "duration": 16,
        "start_time": "2022-05-23T12:49:18.473Z"
      },
      {
        "duration": 11,
        "start_time": "2022-05-23T12:49:18.491Z"
      },
      {
        "duration": 15,
        "start_time": "2022-05-23T12:49:18.504Z"
      },
      {
        "duration": 3,
        "start_time": "2022-05-23T12:49:18.521Z"
      },
      {
        "duration": 102,
        "start_time": "2022-05-23T12:49:18.525Z"
      },
      {
        "duration": 4,
        "start_time": "2022-05-23T12:49:18.629Z"
      },
      {
        "duration": 14,
        "start_time": "2022-05-23T12:49:18.635Z"
      },
      {
        "duration": 15,
        "start_time": "2022-05-23T12:49:18.651Z"
      },
      {
        "duration": 8,
        "start_time": "2022-05-23T12:49:18.668Z"
      },
      {
        "duration": 20,
        "start_time": "2022-05-23T12:49:18.678Z"
      },
      {
        "duration": 5,
        "start_time": "2022-05-23T12:49:18.700Z"
      },
      {
        "duration": 8,
        "start_time": "2022-05-23T12:49:18.707Z"
      },
      {
        "duration": 6,
        "start_time": "2022-05-23T12:49:18.716Z"
      },
      {
        "duration": 7,
        "start_time": "2022-05-23T12:49:18.724Z"
      },
      {
        "duration": 31,
        "start_time": "2022-05-23T12:49:18.734Z"
      },
      {
        "duration": 26,
        "start_time": "2022-05-23T12:49:18.768Z"
      },
      {
        "duration": 334,
        "start_time": "2022-05-23T12:49:18.796Z"
      },
      {
        "duration": 6,
        "start_time": "2022-05-23T12:49:19.133Z"
      },
      {
        "duration": 33,
        "start_time": "2022-05-23T12:49:19.141Z"
      },
      {
        "duration": 346,
        "start_time": "2022-05-23T12:49:19.176Z"
      },
      {
        "duration": 478,
        "start_time": "2022-05-23T12:49:19.523Z"
      },
      {
        "duration": 13,
        "start_time": "2022-05-23T12:49:20.003Z"
      },
      {
        "duration": 5,
        "start_time": "2022-05-23T12:49:20.018Z"
      },
      {
        "duration": 51,
        "start_time": "2022-05-23T12:49:20.025Z"
      },
      {
        "duration": 20,
        "start_time": "2022-05-23T12:49:20.079Z"
      },
      {
        "duration": 9,
        "start_time": "2022-05-23T12:49:20.101Z"
      },
      {
        "duration": 9,
        "start_time": "2022-05-23T12:49:20.112Z"
      },
      {
        "duration": 3,
        "start_time": "2022-05-23T12:50:21.080Z"
      },
      {
        "duration": 3,
        "start_time": "2022-05-23T12:50:21.520Z"
      },
      {
        "duration": 12,
        "start_time": "2022-05-23T12:50:21.982Z"
      },
      {
        "duration": 11,
        "start_time": "2022-05-23T12:50:22.375Z"
      },
      {
        "duration": 38,
        "start_time": "2022-05-23T12:50:22.829Z"
      },
      {
        "duration": 24,
        "start_time": "2022-05-23T12:50:23.288Z"
      },
      {
        "duration": 3,
        "start_time": "2022-05-23T12:53:33.298Z"
      },
      {
        "duration": 3,
        "start_time": "2022-05-23T12:53:33.683Z"
      },
      {
        "duration": 11,
        "start_time": "2022-05-23T12:53:34.057Z"
      },
      {
        "duration": 3,
        "start_time": "2022-05-23T12:54:27.844Z"
      },
      {
        "duration": 4,
        "start_time": "2022-05-23T12:54:28.257Z"
      },
      {
        "duration": 12,
        "start_time": "2022-05-23T12:54:28.679Z"
      },
      {
        "duration": 8,
        "start_time": "2022-05-23T12:54:29.506Z"
      },
      {
        "duration": 5,
        "start_time": "2022-05-23T12:54:42.105Z"
      },
      {
        "duration": 10,
        "start_time": "2022-05-23T12:54:59.819Z"
      },
      {
        "duration": 1543,
        "start_time": "2022-05-23T14:53:08.060Z"
      },
      {
        "duration": 155,
        "start_time": "2022-05-23T14:53:09.606Z"
      },
      {
        "duration": 21,
        "start_time": "2022-05-23T14:53:09.763Z"
      },
      {
        "duration": 109,
        "start_time": "2022-05-23T14:53:09.786Z"
      },
      {
        "duration": 10,
        "start_time": "2022-05-23T14:53:09.898Z"
      },
      {
        "duration": 116,
        "start_time": "2022-05-23T14:53:09.910Z"
      },
      {
        "duration": 11,
        "start_time": "2022-05-23T14:53:10.029Z"
      },
      {
        "duration": 75,
        "start_time": "2022-05-23T14:53:10.042Z"
      },
      {
        "duration": 7,
        "start_time": "2022-05-23T14:53:10.119Z"
      },
      {
        "duration": 39,
        "start_time": "2022-05-23T14:53:10.129Z"
      },
      {
        "duration": 18,
        "start_time": "2022-05-23T14:53:10.169Z"
      },
      {
        "duration": 20,
        "start_time": "2022-05-23T14:53:10.189Z"
      },
      {
        "duration": 8,
        "start_time": "2022-05-23T14:53:10.211Z"
      },
      {
        "duration": 30,
        "start_time": "2022-05-23T14:53:10.221Z"
      },
      {
        "duration": 21,
        "start_time": "2022-05-23T14:53:10.253Z"
      },
      {
        "duration": 15,
        "start_time": "2022-05-23T14:53:10.276Z"
      },
      {
        "duration": 41,
        "start_time": "2022-05-23T14:53:10.293Z"
      },
      {
        "duration": 12,
        "start_time": "2022-05-23T14:53:10.336Z"
      },
      {
        "duration": 24,
        "start_time": "2022-05-23T14:53:10.350Z"
      },
      {
        "duration": 36,
        "start_time": "2022-05-23T14:53:10.376Z"
      },
      {
        "duration": 11,
        "start_time": "2022-05-23T14:53:10.414Z"
      },
      {
        "duration": 22,
        "start_time": "2022-05-23T14:53:10.427Z"
      },
      {
        "duration": 32,
        "start_time": "2022-05-23T14:53:10.451Z"
      },
      {
        "duration": 23,
        "start_time": "2022-05-23T14:53:10.485Z"
      },
      {
        "duration": 273,
        "start_time": "2022-05-23T14:53:10.510Z"
      },
      {
        "duration": 10,
        "start_time": "2022-05-23T14:53:10.785Z"
      },
      {
        "duration": 398,
        "start_time": "2022-05-23T14:53:10.797Z"
      },
      {
        "duration": 14,
        "start_time": "2022-05-23T14:53:11.199Z"
      },
      {
        "duration": 32,
        "start_time": "2022-05-23T14:53:11.214Z"
      },
      {
        "duration": 40,
        "start_time": "2022-05-23T14:53:11.248Z"
      },
      {
        "duration": 31,
        "start_time": "2022-05-23T14:53:11.290Z"
      },
      {
        "duration": 66,
        "start_time": "2022-05-23T14:53:11.323Z"
      },
      {
        "duration": 31,
        "start_time": "2022-05-23T14:53:18.428Z"
      },
      {
        "duration": 5,
        "start_time": "2022-05-23T14:53:24.679Z"
      },
      {
        "duration": 6,
        "start_time": "2022-05-23T14:53:25.467Z"
      },
      {
        "duration": 43,
        "start_time": "2022-05-23T14:53:29.421Z"
      },
      {
        "duration": 8,
        "start_time": "2022-05-23T14:54:02.945Z"
      },
      {
        "duration": 8,
        "start_time": "2022-05-23T14:54:04.986Z"
      },
      {
        "duration": 5,
        "start_time": "2022-05-23T14:58:52.024Z"
      },
      {
        "duration": 78,
        "start_time": "2022-05-23T14:58:52.031Z"
      },
      {
        "duration": 11,
        "start_time": "2022-05-23T14:58:52.111Z"
      },
      {
        "duration": 41,
        "start_time": "2022-05-23T14:58:52.123Z"
      },
      {
        "duration": 19,
        "start_time": "2022-05-23T14:58:52.166Z"
      },
      {
        "duration": 48,
        "start_time": "2022-05-23T14:58:52.186Z"
      },
      {
        "duration": 27,
        "start_time": "2022-05-23T14:58:52.236Z"
      },
      {
        "duration": 45,
        "start_time": "2022-05-23T14:58:52.265Z"
      },
      {
        "duration": 8,
        "start_time": "2022-05-23T14:58:52.312Z"
      },
      {
        "duration": 57,
        "start_time": "2022-05-23T14:58:52.321Z"
      },
      {
        "duration": 20,
        "start_time": "2022-05-23T14:58:52.381Z"
      },
      {
        "duration": 41,
        "start_time": "2022-05-23T14:58:52.403Z"
      },
      {
        "duration": 14,
        "start_time": "2022-05-23T14:58:52.446Z"
      },
      {
        "duration": 44,
        "start_time": "2022-05-23T14:58:52.461Z"
      },
      {
        "duration": 56,
        "start_time": "2022-05-23T14:58:52.507Z"
      },
      {
        "duration": 16,
        "start_time": "2022-05-23T14:58:52.565Z"
      },
      {
        "duration": 58,
        "start_time": "2022-05-23T14:58:52.583Z"
      },
      {
        "duration": 10,
        "start_time": "2022-05-23T14:58:52.643Z"
      },
      {
        "duration": 29,
        "start_time": "2022-05-23T14:58:52.654Z"
      },
      {
        "duration": 45,
        "start_time": "2022-05-23T14:58:52.685Z"
      },
      {
        "duration": 25,
        "start_time": "2022-05-23T14:58:52.732Z"
      },
      {
        "duration": 48,
        "start_time": "2022-05-23T14:58:52.759Z"
      },
      {
        "duration": 38,
        "start_time": "2022-05-23T14:58:52.809Z"
      },
      {
        "duration": 23,
        "start_time": "2022-05-23T14:58:52.849Z"
      },
      {
        "duration": 260,
        "start_time": "2022-05-23T14:58:52.873Z"
      },
      {
        "duration": 9,
        "start_time": "2022-05-23T14:58:53.134Z"
      },
      {
        "duration": 237,
        "start_time": "2022-05-23T14:58:53.144Z"
      },
      {
        "duration": 12,
        "start_time": "2022-05-23T14:58:53.382Z"
      },
      {
        "duration": 14,
        "start_time": "2022-05-23T14:58:53.398Z"
      },
      {
        "duration": 18,
        "start_time": "2022-05-23T14:58:53.414Z"
      },
      {
        "duration": 17,
        "start_time": "2022-05-23T14:58:53.434Z"
      },
      {
        "duration": 56,
        "start_time": "2022-05-23T14:58:53.453Z"
      },
      {
        "duration": 13,
        "start_time": "2022-05-23T14:58:53.510Z"
      },
      {
        "duration": 25,
        "start_time": "2022-05-23T14:58:53.525Z"
      },
      {
        "duration": 24,
        "start_time": "2022-05-23T14:58:53.551Z"
      },
      {
        "duration": 42,
        "start_time": "2022-05-23T14:58:53.577Z"
      },
      {
        "duration": 25,
        "start_time": "2022-05-23T14:58:53.621Z"
      },
      {
        "duration": 21,
        "start_time": "2022-05-23T14:58:53.648Z"
      },
      {
        "duration": 34,
        "start_time": "2022-05-23T14:58:53.670Z"
      },
      {
        "duration": 113,
        "start_time": "2022-05-23T14:58:53.706Z"
      },
      {
        "duration": 29,
        "start_time": "2022-05-23T14:58:53.821Z"
      },
      {
        "duration": 35,
        "start_time": "2022-05-23T14:58:53.851Z"
      },
      {
        "duration": 47,
        "start_time": "2022-05-23T14:58:53.888Z"
      },
      {
        "duration": 248,
        "start_time": "2022-05-23T14:58:53.937Z"
      },
      {
        "duration": 5,
        "start_time": "2022-05-23T14:58:54.187Z"
      },
      {
        "duration": 32,
        "start_time": "2022-05-23T14:58:54.194Z"
      },
      {
        "duration": 224,
        "start_time": "2022-05-23T14:58:54.228Z"
      },
      {
        "duration": 386,
        "start_time": "2022-05-23T14:58:54.453Z"
      },
      {
        "duration": 9,
        "start_time": "2022-05-23T14:58:54.841Z"
      },
      {
        "duration": 9,
        "start_time": "2022-05-23T14:58:54.859Z"
      },
      {
        "duration": 46,
        "start_time": "2022-05-23T14:58:54.870Z"
      },
      {
        "duration": 24,
        "start_time": "2022-05-23T14:58:54.918Z"
      },
      {
        "duration": 25,
        "start_time": "2022-05-23T14:58:54.944Z"
      },
      {
        "duration": 16,
        "start_time": "2022-05-23T14:58:54.970Z"
      },
      {
        "duration": 2,
        "start_time": "2022-05-23T14:58:59.349Z"
      },
      {
        "duration": 2,
        "start_time": "2022-05-23T14:59:00.087Z"
      },
      {
        "duration": 9,
        "start_time": "2022-05-23T14:59:00.615Z"
      },
      {
        "duration": 9,
        "start_time": "2022-05-23T14:59:12.253Z"
      },
      {
        "duration": 6,
        "start_time": "2022-05-23T14:59:13.058Z"
      },
      {
        "duration": 7,
        "start_time": "2022-05-23T14:59:13.589Z"
      },
      {
        "duration": 24,
        "start_time": "2022-05-23T14:59:27.270Z"
      },
      {
        "duration": 1295,
        "start_time": "2022-05-23T15:08:17.858Z"
      },
      {
        "duration": 49,
        "start_time": "2022-05-23T15:08:19.155Z"
      },
      {
        "duration": 14,
        "start_time": "2022-05-23T15:08:19.206Z"
      },
      {
        "duration": 38,
        "start_time": "2022-05-23T15:08:19.222Z"
      },
      {
        "duration": 13,
        "start_time": "2022-05-23T15:08:19.262Z"
      },
      {
        "duration": 35,
        "start_time": "2022-05-23T15:08:19.276Z"
      },
      {
        "duration": 10,
        "start_time": "2022-05-23T15:08:19.312Z"
      },
      {
        "duration": 21,
        "start_time": "2022-05-23T15:08:19.323Z"
      },
      {
        "duration": 6,
        "start_time": "2022-05-23T15:08:19.345Z"
      },
      {
        "duration": 33,
        "start_time": "2022-05-23T15:08:19.354Z"
      },
      {
        "duration": 21,
        "start_time": "2022-05-23T15:08:19.389Z"
      },
      {
        "duration": 17,
        "start_time": "2022-05-23T15:08:19.411Z"
      },
      {
        "duration": 14,
        "start_time": "2022-05-23T15:08:19.430Z"
      },
      {
        "duration": 10,
        "start_time": "2022-05-23T15:08:19.445Z"
      },
      {
        "duration": 29,
        "start_time": "2022-05-23T15:08:19.457Z"
      },
      {
        "duration": 26,
        "start_time": "2022-05-23T15:08:19.487Z"
      },
      {
        "duration": 51,
        "start_time": "2022-05-23T15:08:19.515Z"
      },
      {
        "duration": 12,
        "start_time": "2022-05-23T15:08:19.568Z"
      },
      {
        "duration": 6,
        "start_time": "2022-05-23T15:08:19.581Z"
      },
      {
        "duration": 24,
        "start_time": "2022-05-23T15:08:19.588Z"
      },
      {
        "duration": 21,
        "start_time": "2022-05-23T15:08:19.614Z"
      },
      {
        "duration": 31,
        "start_time": "2022-05-23T15:08:19.637Z"
      },
      {
        "duration": 19,
        "start_time": "2022-05-23T15:08:19.670Z"
      },
      {
        "duration": 9,
        "start_time": "2022-05-23T15:08:19.691Z"
      },
      {
        "duration": 278,
        "start_time": "2022-05-23T15:08:19.702Z"
      },
      {
        "duration": 9,
        "start_time": "2022-05-23T15:08:19.982Z"
      },
      {
        "duration": 275,
        "start_time": "2022-05-23T15:08:19.993Z"
      },
      {
        "duration": 11,
        "start_time": "2022-05-23T15:08:20.272Z"
      },
      {
        "duration": 11,
        "start_time": "2022-05-23T15:08:20.285Z"
      },
      {
        "duration": 14,
        "start_time": "2022-05-23T15:08:20.298Z"
      },
      {
        "duration": 4,
        "start_time": "2022-05-23T15:08:20.313Z"
      },
      {
        "duration": 72,
        "start_time": "2022-05-23T15:08:20.319Z"
      },
      {
        "duration": 3,
        "start_time": "2022-05-23T15:08:20.393Z"
      },
      {
        "duration": 14,
        "start_time": "2022-05-23T15:08:20.398Z"
      },
      {
        "duration": 23,
        "start_time": "2022-05-23T15:08:20.414Z"
      },
      {
        "duration": 14,
        "start_time": "2022-05-23T15:08:20.440Z"
      },
      {
        "duration": 20,
        "start_time": "2022-05-23T15:08:20.456Z"
      },
      {
        "duration": 10,
        "start_time": "2022-05-23T15:08:20.478Z"
      },
      {
        "duration": 32,
        "start_time": "2022-05-23T15:08:20.490Z"
      },
      {
        "duration": 20,
        "start_time": "2022-05-23T15:08:20.524Z"
      },
      {
        "duration": 13,
        "start_time": "2022-05-23T15:08:20.545Z"
      },
      {
        "duration": 15,
        "start_time": "2022-05-23T15:08:20.560Z"
      },
      {
        "duration": 36,
        "start_time": "2022-05-23T15:08:20.577Z"
      },
      {
        "duration": 238,
        "start_time": "2022-05-23T15:08:20.615Z"
      },
      {
        "duration": 9,
        "start_time": "2022-05-23T15:08:20.854Z"
      },
      {
        "duration": 21,
        "start_time": "2022-05-23T15:08:20.864Z"
      },
      {
        "duration": 244,
        "start_time": "2022-05-23T15:08:20.887Z"
      },
      {
        "duration": 402,
        "start_time": "2022-05-23T15:08:21.133Z"
      },
      {
        "duration": 11,
        "start_time": "2022-05-23T15:08:21.537Z"
      },
      {
        "duration": 10,
        "start_time": "2022-05-23T15:08:21.560Z"
      },
      {
        "duration": 38,
        "start_time": "2022-05-23T15:08:21.572Z"
      },
      {
        "duration": 18,
        "start_time": "2022-05-23T15:08:21.612Z"
      },
      {
        "duration": 22,
        "start_time": "2022-05-23T15:08:21.631Z"
      },
      {
        "duration": 50,
        "start_time": "2022-05-23T15:08:21.655Z"
      },
      {
        "duration": 4,
        "start_time": "2022-05-23T15:08:27.702Z"
      },
      {
        "duration": 3,
        "start_time": "2022-05-23T15:08:28.359Z"
      },
      {
        "duration": 13,
        "start_time": "2022-05-23T15:08:29.069Z"
      },
      {
        "duration": 27,
        "start_time": "2022-05-23T15:08:29.666Z"
      },
      {
        "duration": 1358,
        "start_time": "2022-05-23T15:09:05.259Z"
      },
      {
        "duration": 50,
        "start_time": "2022-05-23T15:09:06.619Z"
      },
      {
        "duration": 14,
        "start_time": "2022-05-23T15:09:06.670Z"
      },
      {
        "duration": 20,
        "start_time": "2022-05-23T15:09:06.686Z"
      },
      {
        "duration": 14,
        "start_time": "2022-05-23T15:09:06.708Z"
      },
      {
        "duration": 26,
        "start_time": "2022-05-23T15:09:06.723Z"
      },
      {
        "duration": 12,
        "start_time": "2022-05-23T15:09:06.750Z"
      },
      {
        "duration": 29,
        "start_time": "2022-05-23T15:09:06.765Z"
      },
      {
        "duration": 9,
        "start_time": "2022-05-23T15:09:06.796Z"
      },
      {
        "duration": 31,
        "start_time": "2022-05-23T15:09:06.806Z"
      },
      {
        "duration": 20,
        "start_time": "2022-05-23T15:09:06.839Z"
      },
      {
        "duration": 9,
        "start_time": "2022-05-23T15:09:06.861Z"
      },
      {
        "duration": 7,
        "start_time": "2022-05-23T15:09:06.872Z"
      },
      {
        "duration": 11,
        "start_time": "2022-05-23T15:09:06.882Z"
      },
      {
        "duration": 26,
        "start_time": "2022-05-23T15:09:06.896Z"
      },
      {
        "duration": 13,
        "start_time": "2022-05-23T15:09:06.924Z"
      },
      {
        "duration": 39,
        "start_time": "2022-05-23T15:09:06.939Z"
      },
      {
        "duration": 12,
        "start_time": "2022-05-23T15:09:06.981Z"
      },
      {
        "duration": 9,
        "start_time": "2022-05-23T15:09:06.995Z"
      },
      {
        "duration": 23,
        "start_time": "2022-05-23T15:09:07.006Z"
      },
      {
        "duration": 33,
        "start_time": "2022-05-23T15:09:07.031Z"
      },
      {
        "duration": 7,
        "start_time": "2022-05-23T15:09:07.067Z"
      },
      {
        "duration": 25,
        "start_time": "2022-05-23T15:09:07.075Z"
      },
      {
        "duration": 8,
        "start_time": "2022-05-23T15:09:07.101Z"
      },
      {
        "duration": 292,
        "start_time": "2022-05-23T15:09:07.110Z"
      },
      {
        "duration": 8,
        "start_time": "2022-05-23T15:09:07.403Z"
      },
      {
        "duration": 258,
        "start_time": "2022-05-23T15:09:07.413Z"
      },
      {
        "duration": 13,
        "start_time": "2022-05-23T15:09:07.673Z"
      },
      {
        "duration": 24,
        "start_time": "2022-05-23T15:09:07.688Z"
      },
      {
        "duration": 17,
        "start_time": "2022-05-23T15:09:07.714Z"
      },
      {
        "duration": 5,
        "start_time": "2022-05-23T15:09:07.732Z"
      },
      {
        "duration": 55,
        "start_time": "2022-05-23T15:09:07.738Z"
      },
      {
        "duration": 3,
        "start_time": "2022-05-23T15:09:07.795Z"
      },
      {
        "duration": 24,
        "start_time": "2022-05-23T15:09:07.800Z"
      },
      {
        "duration": 16,
        "start_time": "2022-05-23T15:09:07.827Z"
      },
      {
        "duration": 46,
        "start_time": "2022-05-23T15:09:07.845Z"
      },
      {
        "duration": 24,
        "start_time": "2022-05-23T15:09:07.893Z"
      },
      {
        "duration": 8,
        "start_time": "2022-05-23T15:09:07.919Z"
      },
      {
        "duration": 21,
        "start_time": "2022-05-23T15:09:07.929Z"
      },
      {
        "duration": 15,
        "start_time": "2022-05-23T15:09:07.952Z"
      },
      {
        "duration": 10,
        "start_time": "2022-05-23T15:09:07.972Z"
      },
      {
        "duration": 16,
        "start_time": "2022-05-23T15:09:07.984Z"
      },
      {
        "duration": 23,
        "start_time": "2022-05-23T15:09:08.002Z"
      },
      {
        "duration": 310,
        "start_time": "2022-05-23T15:09:08.027Z"
      },
      {
        "duration": 6,
        "start_time": "2022-05-23T15:09:08.339Z"
      },
      {
        "duration": 22,
        "start_time": "2022-05-23T15:09:08.347Z"
      },
      {
        "duration": 255,
        "start_time": "2022-05-23T15:09:08.370Z"
      },
      {
        "duration": 411,
        "start_time": "2022-05-23T15:09:08.627Z"
      },
      {
        "duration": 19,
        "start_time": "2022-05-23T15:09:09.041Z"
      },
      {
        "duration": 9,
        "start_time": "2022-05-23T15:09:09.062Z"
      },
      {
        "duration": 40,
        "start_time": "2022-05-23T15:09:09.073Z"
      },
      {
        "duration": 16,
        "start_time": "2022-05-23T15:09:09.115Z"
      },
      {
        "duration": 12,
        "start_time": "2022-05-23T15:09:09.133Z"
      },
      {
        "duration": 20,
        "start_time": "2022-05-23T15:09:09.146Z"
      },
      {
        "duration": 29,
        "start_time": "2022-05-23T15:09:12.358Z"
      },
      {
        "duration": 14,
        "start_time": "2022-05-23T15:09:20.611Z"
      },
      {
        "duration": 33,
        "start_time": "2022-05-23T15:09:29.927Z"
      },
      {
        "duration": 8,
        "start_time": "2022-05-23T15:10:15.019Z"
      },
      {
        "duration": 105,
        "start_time": "2022-05-23T15:10:15.029Z"
      },
      {
        "duration": 20,
        "start_time": "2022-05-23T15:10:15.136Z"
      },
      {
        "duration": 40,
        "start_time": "2022-05-23T15:10:15.158Z"
      },
      {
        "duration": 11,
        "start_time": "2022-05-23T15:10:15.202Z"
      },
      {
        "duration": 43,
        "start_time": "2022-05-23T15:10:15.215Z"
      },
      {
        "duration": 26,
        "start_time": "2022-05-23T15:10:15.261Z"
      },
      {
        "duration": 41,
        "start_time": "2022-05-23T15:10:15.289Z"
      },
      {
        "duration": 11,
        "start_time": "2022-05-23T15:10:15.332Z"
      },
      {
        "duration": 52,
        "start_time": "2022-05-23T15:10:15.346Z"
      },
      {
        "duration": 26,
        "start_time": "2022-05-23T15:10:15.400Z"
      },
      {
        "duration": 35,
        "start_time": "2022-05-23T15:10:15.428Z"
      },
      {
        "duration": 36,
        "start_time": "2022-05-23T15:10:15.464Z"
      },
      {
        "duration": 17,
        "start_time": "2022-05-23T15:10:15.504Z"
      },
      {
        "duration": 52,
        "start_time": "2022-05-23T15:10:15.523Z"
      },
      {
        "duration": 28,
        "start_time": "2022-05-23T15:10:15.577Z"
      },
      {
        "duration": 38,
        "start_time": "2022-05-23T15:10:15.608Z"
      },
      {
        "duration": 71,
        "start_time": "2022-05-23T15:10:15.648Z"
      },
      {
        "duration": 28,
        "start_time": "2022-05-23T15:10:15.721Z"
      },
      {
        "duration": 52,
        "start_time": "2022-05-23T15:10:15.751Z"
      },
      {
        "duration": 30,
        "start_time": "2022-05-23T15:10:15.805Z"
      },
      {
        "duration": 33,
        "start_time": "2022-05-23T15:10:15.837Z"
      },
      {
        "duration": 50,
        "start_time": "2022-05-23T15:10:15.873Z"
      },
      {
        "duration": 33,
        "start_time": "2022-05-23T15:10:15.925Z"
      },
      {
        "duration": 407,
        "start_time": "2022-05-23T15:10:15.962Z"
      },
      {
        "duration": 8,
        "start_time": "2022-05-23T15:10:16.371Z"
      },
      {
        "duration": 280,
        "start_time": "2022-05-23T15:10:16.381Z"
      },
      {
        "duration": 15,
        "start_time": "2022-05-23T15:10:16.663Z"
      },
      {
        "duration": 29,
        "start_time": "2022-05-23T15:10:16.680Z"
      },
      {
        "duration": 26,
        "start_time": "2022-05-23T15:10:16.711Z"
      },
      {
        "duration": 18,
        "start_time": "2022-05-23T15:10:16.741Z"
      },
      {
        "duration": 57,
        "start_time": "2022-05-23T15:10:16.761Z"
      },
      {
        "duration": 7,
        "start_time": "2022-05-23T15:10:16.820Z"
      },
      {
        "duration": 22,
        "start_time": "2022-05-23T15:10:16.829Z"
      },
      {
        "duration": 40,
        "start_time": "2022-05-23T15:10:16.853Z"
      },
      {
        "duration": 16,
        "start_time": "2022-05-23T15:10:16.894Z"
      },
      {
        "duration": 29,
        "start_time": "2022-05-23T15:10:16.911Z"
      },
      {
        "duration": 29,
        "start_time": "2022-05-23T15:10:16.941Z"
      },
      {
        "duration": 38,
        "start_time": "2022-05-23T15:10:16.972Z"
      },
      {
        "duration": 16,
        "start_time": "2022-05-23T15:10:17.013Z"
      },
      {
        "duration": 31,
        "start_time": "2022-05-23T15:10:17.032Z"
      },
      {
        "duration": 30,
        "start_time": "2022-05-23T15:10:17.065Z"
      },
      {
        "duration": 13,
        "start_time": "2022-05-23T15:10:17.097Z"
      },
      {
        "duration": 273,
        "start_time": "2022-05-23T15:10:17.113Z"
      },
      {
        "duration": 5,
        "start_time": "2022-05-23T15:10:17.388Z"
      },
      {
        "duration": 26,
        "start_time": "2022-05-23T15:10:17.394Z"
      },
      {
        "duration": 262,
        "start_time": "2022-05-23T15:10:17.422Z"
      },
      {
        "duration": 487,
        "start_time": "2022-05-23T15:10:17.686Z"
      },
      {
        "duration": 14,
        "start_time": "2022-05-23T15:10:18.176Z"
      },
      {
        "duration": 56,
        "start_time": "2022-05-23T15:10:18.192Z"
      },
      {
        "duration": 55,
        "start_time": "2022-05-23T15:10:18.250Z"
      },
      {
        "duration": 21,
        "start_time": "2022-05-23T15:10:18.307Z"
      },
      {
        "duration": 22,
        "start_time": "2022-05-23T15:10:18.330Z"
      },
      {
        "duration": 44,
        "start_time": "2022-05-23T15:10:18.354Z"
      },
      {
        "duration": 1347,
        "start_time": "2022-05-23T15:10:26.177Z"
      },
      {
        "duration": 52,
        "start_time": "2022-05-23T15:10:27.526Z"
      },
      {
        "duration": 17,
        "start_time": "2022-05-23T15:10:27.580Z"
      },
      {
        "duration": 37,
        "start_time": "2022-05-23T15:10:27.598Z"
      },
      {
        "duration": 11,
        "start_time": "2022-05-23T15:10:27.638Z"
      },
      {
        "duration": 44,
        "start_time": "2022-05-23T15:10:27.651Z"
      },
      {
        "duration": 11,
        "start_time": "2022-05-23T15:10:27.696Z"
      },
      {
        "duration": 34,
        "start_time": "2022-05-23T15:10:27.708Z"
      },
      {
        "duration": 7,
        "start_time": "2022-05-23T15:10:27.744Z"
      },
      {
        "duration": 50,
        "start_time": "2022-05-23T15:10:27.753Z"
      },
      {
        "duration": 19,
        "start_time": "2022-05-23T15:10:27.805Z"
      },
      {
        "duration": 40,
        "start_time": "2022-05-23T15:10:27.826Z"
      },
      {
        "duration": 57,
        "start_time": "2022-05-23T15:10:27.868Z"
      },
      {
        "duration": 27,
        "start_time": "2022-05-23T15:10:27.930Z"
      },
      {
        "duration": 56,
        "start_time": "2022-05-23T15:10:27.960Z"
      },
      {
        "duration": 40,
        "start_time": "2022-05-23T15:10:28.018Z"
      },
      {
        "duration": 68,
        "start_time": "2022-05-23T15:10:28.061Z"
      },
      {
        "duration": 23,
        "start_time": "2022-05-23T15:10:28.132Z"
      },
      {
        "duration": 38,
        "start_time": "2022-05-23T15:10:28.157Z"
      },
      {
        "duration": 66,
        "start_time": "2022-05-23T15:10:28.197Z"
      },
      {
        "duration": 102,
        "start_time": "2022-05-23T15:10:28.265Z"
      },
      {
        "duration": 31,
        "start_time": "2022-05-23T15:10:28.369Z"
      },
      {
        "duration": 56,
        "start_time": "2022-05-23T15:10:28.402Z"
      },
      {
        "duration": 26,
        "start_time": "2022-05-23T15:10:28.459Z"
      },
      {
        "duration": 326,
        "start_time": "2022-05-23T15:10:28.487Z"
      },
      {
        "duration": 8,
        "start_time": "2022-05-23T15:10:28.815Z"
      },
      {
        "duration": 274,
        "start_time": "2022-05-23T15:10:28.825Z"
      },
      {
        "duration": 11,
        "start_time": "2022-05-23T15:10:29.101Z"
      },
      {
        "duration": 19,
        "start_time": "2022-05-23T15:10:29.114Z"
      },
      {
        "duration": 42,
        "start_time": "2022-05-23T15:10:29.134Z"
      },
      {
        "duration": 31,
        "start_time": "2022-05-23T15:10:29.178Z"
      },
      {
        "duration": 68,
        "start_time": "2022-05-23T15:10:29.212Z"
      },
      {
        "duration": 3,
        "start_time": "2022-05-23T15:10:29.282Z"
      },
      {
        "duration": 59,
        "start_time": "2022-05-23T15:10:29.287Z"
      },
      {
        "duration": 25,
        "start_time": "2022-05-23T15:10:29.348Z"
      },
      {
        "duration": 49,
        "start_time": "2022-05-23T15:10:29.375Z"
      },
      {
        "duration": 30,
        "start_time": "2022-05-23T15:10:29.426Z"
      },
      {
        "duration": 34,
        "start_time": "2022-05-23T15:10:29.458Z"
      },
      {
        "duration": 30,
        "start_time": "2022-05-23T15:10:29.494Z"
      },
      {
        "duration": 22,
        "start_time": "2022-05-23T15:10:29.526Z"
      },
      {
        "duration": 19,
        "start_time": "2022-05-23T15:10:29.553Z"
      },
      {
        "duration": 28,
        "start_time": "2022-05-23T15:10:29.574Z"
      },
      {
        "duration": 56,
        "start_time": "2022-05-23T15:10:29.604Z"
      },
      {
        "duration": 351,
        "start_time": "2022-05-23T15:10:29.663Z"
      },
      {
        "duration": 5,
        "start_time": "2022-05-23T15:10:30.016Z"
      },
      {
        "duration": 38,
        "start_time": "2022-05-23T15:10:30.023Z"
      },
      {
        "duration": 261,
        "start_time": "2022-05-23T15:10:30.063Z"
      },
      {
        "duration": 427,
        "start_time": "2022-05-23T15:10:30.327Z"
      },
      {
        "duration": 16,
        "start_time": "2022-05-23T15:10:30.755Z"
      },
      {
        "duration": 27,
        "start_time": "2022-05-23T15:10:30.773Z"
      },
      {
        "duration": 49,
        "start_time": "2022-05-23T15:10:30.802Z"
      },
      {
        "duration": 33,
        "start_time": "2022-05-23T15:10:30.853Z"
      },
      {
        "duration": 32,
        "start_time": "2022-05-23T15:10:30.888Z"
      },
      {
        "duration": 28,
        "start_time": "2022-05-23T15:10:30.922Z"
      },
      {
        "duration": 3,
        "start_time": "2022-05-23T15:10:35.897Z"
      },
      {
        "duration": 2,
        "start_time": "2022-05-23T15:10:36.403Z"
      },
      {
        "duration": 10,
        "start_time": "2022-05-23T15:10:36.905Z"
      },
      {
        "duration": 19,
        "start_time": "2022-05-23T15:10:37.656Z"
      },
      {
        "duration": 7,
        "start_time": "2022-05-23T15:10:41.399Z"
      },
      {
        "duration": 19,
        "start_time": "2022-05-23T15:36:24.636Z"
      },
      {
        "duration": 1311,
        "start_time": "2022-05-23T15:37:28.443Z"
      },
      {
        "duration": 123,
        "start_time": "2022-05-23T15:37:29.756Z"
      },
      {
        "duration": 0,
        "start_time": "2022-05-23T15:37:29.883Z"
      },
      {
        "duration": 0,
        "start_time": "2022-05-23T15:37:29.884Z"
      },
      {
        "duration": 0,
        "start_time": "2022-05-23T15:37:29.886Z"
      },
      {
        "duration": 0,
        "start_time": "2022-05-23T15:37:29.887Z"
      },
      {
        "duration": 0,
        "start_time": "2022-05-23T15:37:29.889Z"
      },
      {
        "duration": 0,
        "start_time": "2022-05-23T15:37:29.890Z"
      },
      {
        "duration": 0,
        "start_time": "2022-05-23T15:37:29.891Z"
      },
      {
        "duration": 0,
        "start_time": "2022-05-23T15:37:29.893Z"
      },
      {
        "duration": 0,
        "start_time": "2022-05-23T15:37:29.894Z"
      },
      {
        "duration": 0,
        "start_time": "2022-05-23T15:37:29.896Z"
      },
      {
        "duration": 0,
        "start_time": "2022-05-23T15:37:29.897Z"
      },
      {
        "duration": 0,
        "start_time": "2022-05-23T15:37:29.898Z"
      },
      {
        "duration": 0,
        "start_time": "2022-05-23T15:37:29.899Z"
      },
      {
        "duration": 0,
        "start_time": "2022-05-23T15:37:29.900Z"
      },
      {
        "duration": 0,
        "start_time": "2022-05-23T15:37:29.901Z"
      },
      {
        "duration": 0,
        "start_time": "2022-05-23T15:37:29.902Z"
      },
      {
        "duration": 0,
        "start_time": "2022-05-23T15:37:29.903Z"
      },
      {
        "duration": 0,
        "start_time": "2022-05-23T15:37:29.904Z"
      },
      {
        "duration": 0,
        "start_time": "2022-05-23T15:37:29.905Z"
      },
      {
        "duration": 0,
        "start_time": "2022-05-23T15:37:29.906Z"
      },
      {
        "duration": 0,
        "start_time": "2022-05-23T15:37:29.906Z"
      },
      {
        "duration": 0,
        "start_time": "2022-05-23T15:37:29.909Z"
      },
      {
        "duration": 0,
        "start_time": "2022-05-23T15:37:29.910Z"
      },
      {
        "duration": 0,
        "start_time": "2022-05-23T15:37:29.911Z"
      },
      {
        "duration": 0,
        "start_time": "2022-05-23T15:37:29.960Z"
      },
      {
        "duration": 0,
        "start_time": "2022-05-23T15:37:29.961Z"
      },
      {
        "duration": 0,
        "start_time": "2022-05-23T15:37:29.962Z"
      },
      {
        "duration": 0,
        "start_time": "2022-05-23T15:37:29.963Z"
      },
      {
        "duration": 0,
        "start_time": "2022-05-23T15:37:29.964Z"
      },
      {
        "duration": 0,
        "start_time": "2022-05-23T15:37:29.965Z"
      },
      {
        "duration": 0,
        "start_time": "2022-05-23T15:37:29.966Z"
      },
      {
        "duration": 0,
        "start_time": "2022-05-23T15:37:29.966Z"
      },
      {
        "duration": 0,
        "start_time": "2022-05-23T15:37:29.967Z"
      },
      {
        "duration": 0,
        "start_time": "2022-05-23T15:37:29.969Z"
      },
      {
        "duration": 0,
        "start_time": "2022-05-23T15:37:29.971Z"
      },
      {
        "duration": 0,
        "start_time": "2022-05-23T15:37:29.972Z"
      },
      {
        "duration": 0,
        "start_time": "2022-05-23T15:37:29.973Z"
      },
      {
        "duration": 0,
        "start_time": "2022-05-23T15:37:29.975Z"
      },
      {
        "duration": 0,
        "start_time": "2022-05-23T15:37:29.976Z"
      },
      {
        "duration": 0,
        "start_time": "2022-05-23T15:37:29.977Z"
      },
      {
        "duration": 0,
        "start_time": "2022-05-23T15:37:29.979Z"
      },
      {
        "duration": 0,
        "start_time": "2022-05-23T15:37:29.980Z"
      },
      {
        "duration": 0,
        "start_time": "2022-05-23T15:37:29.982Z"
      },
      {
        "duration": 0,
        "start_time": "2022-05-23T15:37:29.982Z"
      },
      {
        "duration": 0,
        "start_time": "2022-05-23T15:37:29.984Z"
      },
      {
        "duration": 0,
        "start_time": "2022-05-23T15:37:29.985Z"
      },
      {
        "duration": 0,
        "start_time": "2022-05-23T15:37:29.986Z"
      },
      {
        "duration": 0,
        "start_time": "2022-05-23T15:37:29.987Z"
      },
      {
        "duration": 0,
        "start_time": "2022-05-23T15:37:29.988Z"
      },
      {
        "duration": 0,
        "start_time": "2022-05-23T15:37:29.989Z"
      },
      {
        "duration": 0,
        "start_time": "2022-05-23T15:37:29.990Z"
      },
      {
        "duration": 0,
        "start_time": "2022-05-23T15:37:29.991Z"
      },
      {
        "duration": 0,
        "start_time": "2022-05-23T15:37:29.992Z"
      },
      {
        "duration": 0,
        "start_time": "2022-05-23T15:37:29.993Z"
      },
      {
        "duration": 0,
        "start_time": "2022-05-23T15:37:29.994Z"
      },
      {
        "duration": 0,
        "start_time": "2022-05-23T15:37:29.996Z"
      },
      {
        "duration": 0,
        "start_time": "2022-05-23T15:37:29.997Z"
      },
      {
        "duration": 0,
        "start_time": "2022-05-23T15:37:29.998Z"
      },
      {
        "duration": 0,
        "start_time": "2022-05-23T15:37:30.060Z"
      },
      {
        "duration": 0,
        "start_time": "2022-05-23T15:37:30.062Z"
      },
      {
        "duration": 0,
        "start_time": "2022-05-23T15:37:30.063Z"
      },
      {
        "duration": 0,
        "start_time": "2022-05-23T15:37:30.065Z"
      },
      {
        "duration": 0,
        "start_time": "2022-05-23T15:37:30.066Z"
      },
      {
        "duration": 0,
        "start_time": "2022-05-23T15:37:30.067Z"
      },
      {
        "duration": 0,
        "start_time": "2022-05-23T15:37:30.070Z"
      },
      {
        "duration": 0,
        "start_time": "2022-05-23T15:37:30.074Z"
      },
      {
        "duration": 0,
        "start_time": "2022-05-23T15:37:30.077Z"
      },
      {
        "duration": 0,
        "start_time": "2022-05-23T15:37:30.080Z"
      },
      {
        "duration": 0,
        "start_time": "2022-05-23T15:37:30.082Z"
      },
      {
        "duration": 0,
        "start_time": "2022-05-23T15:37:30.084Z"
      },
      {
        "duration": 0,
        "start_time": "2022-05-23T15:37:30.088Z"
      },
      {
        "duration": 0,
        "start_time": "2022-05-23T15:37:30.091Z"
      },
      {
        "duration": 0,
        "start_time": "2022-05-23T15:37:30.095Z"
      },
      {
        "duration": 1453,
        "start_time": "2022-05-23T15:38:03.342Z"
      },
      {
        "duration": 120,
        "start_time": "2022-05-23T15:38:04.797Z"
      },
      {
        "duration": 0,
        "start_time": "2022-05-23T15:38:04.920Z"
      },
      {
        "duration": 0,
        "start_time": "2022-05-23T15:38:04.921Z"
      },
      {
        "duration": 0,
        "start_time": "2022-05-23T15:38:04.922Z"
      },
      {
        "duration": 0,
        "start_time": "2022-05-23T15:38:04.924Z"
      },
      {
        "duration": 0,
        "start_time": "2022-05-23T15:38:04.924Z"
      },
      {
        "duration": 0,
        "start_time": "2022-05-23T15:38:04.925Z"
      },
      {
        "duration": 0,
        "start_time": "2022-05-23T15:38:04.926Z"
      },
      {
        "duration": 0,
        "start_time": "2022-05-23T15:38:04.928Z"
      },
      {
        "duration": 0,
        "start_time": "2022-05-23T15:38:04.928Z"
      },
      {
        "duration": 0,
        "start_time": "2022-05-23T15:38:04.930Z"
      },
      {
        "duration": 0,
        "start_time": "2022-05-23T15:38:04.931Z"
      },
      {
        "duration": 0,
        "start_time": "2022-05-23T15:38:04.932Z"
      },
      {
        "duration": 0,
        "start_time": "2022-05-23T15:38:04.933Z"
      },
      {
        "duration": 0,
        "start_time": "2022-05-23T15:38:04.934Z"
      },
      {
        "duration": 0,
        "start_time": "2022-05-23T15:38:04.959Z"
      },
      {
        "duration": 0,
        "start_time": "2022-05-23T15:38:04.960Z"
      },
      {
        "duration": 0,
        "start_time": "2022-05-23T15:38:04.961Z"
      },
      {
        "duration": 0,
        "start_time": "2022-05-23T15:38:04.962Z"
      },
      {
        "duration": 0,
        "start_time": "2022-05-23T15:38:04.963Z"
      },
      {
        "duration": 0,
        "start_time": "2022-05-23T15:38:04.964Z"
      },
      {
        "duration": 0,
        "start_time": "2022-05-23T15:38:04.964Z"
      },
      {
        "duration": 0,
        "start_time": "2022-05-23T15:38:04.965Z"
      },
      {
        "duration": 0,
        "start_time": "2022-05-23T15:38:04.966Z"
      },
      {
        "duration": 0,
        "start_time": "2022-05-23T15:38:04.969Z"
      },
      {
        "duration": 0,
        "start_time": "2022-05-23T15:38:04.970Z"
      },
      {
        "duration": 0,
        "start_time": "2022-05-23T15:38:04.971Z"
      },
      {
        "duration": 0,
        "start_time": "2022-05-23T15:38:04.972Z"
      },
      {
        "duration": 0,
        "start_time": "2022-05-23T15:38:04.972Z"
      },
      {
        "duration": 0,
        "start_time": "2022-05-23T15:38:04.973Z"
      },
      {
        "duration": 0,
        "start_time": "2022-05-23T15:38:04.974Z"
      },
      {
        "duration": 0,
        "start_time": "2022-05-23T15:38:04.976Z"
      },
      {
        "duration": 0,
        "start_time": "2022-05-23T15:38:04.977Z"
      },
      {
        "duration": 0,
        "start_time": "2022-05-23T15:38:04.978Z"
      },
      {
        "duration": 0,
        "start_time": "2022-05-23T15:38:04.979Z"
      },
      {
        "duration": 0,
        "start_time": "2022-05-23T15:38:04.980Z"
      },
      {
        "duration": 0,
        "start_time": "2022-05-23T15:38:04.980Z"
      },
      {
        "duration": 0,
        "start_time": "2022-05-23T15:38:04.981Z"
      },
      {
        "duration": 0,
        "start_time": "2022-05-23T15:38:04.982Z"
      },
      {
        "duration": 0,
        "start_time": "2022-05-23T15:38:04.983Z"
      },
      {
        "duration": 0,
        "start_time": "2022-05-23T15:38:04.984Z"
      },
      {
        "duration": 0,
        "start_time": "2022-05-23T15:38:04.985Z"
      },
      {
        "duration": 0,
        "start_time": "2022-05-23T15:38:04.986Z"
      },
      {
        "duration": 0,
        "start_time": "2022-05-23T15:38:04.987Z"
      },
      {
        "duration": 0,
        "start_time": "2022-05-23T15:38:04.988Z"
      },
      {
        "duration": 0,
        "start_time": "2022-05-23T15:38:04.989Z"
      },
      {
        "duration": 0,
        "start_time": "2022-05-23T15:38:04.990Z"
      },
      {
        "duration": 0,
        "start_time": "2022-05-23T15:38:04.991Z"
      },
      {
        "duration": 0,
        "start_time": "2022-05-23T15:38:04.992Z"
      },
      {
        "duration": 0,
        "start_time": "2022-05-23T15:38:04.993Z"
      },
      {
        "duration": 0,
        "start_time": "2022-05-23T15:38:04.994Z"
      },
      {
        "duration": 0,
        "start_time": "2022-05-23T15:38:05.059Z"
      },
      {
        "duration": 0,
        "start_time": "2022-05-23T15:38:05.060Z"
      },
      {
        "duration": 0,
        "start_time": "2022-05-23T15:38:05.062Z"
      },
      {
        "duration": 0,
        "start_time": "2022-05-23T15:38:05.063Z"
      },
      {
        "duration": 0,
        "start_time": "2022-05-23T15:38:05.064Z"
      },
      {
        "duration": 0,
        "start_time": "2022-05-23T15:38:05.065Z"
      },
      {
        "duration": 0,
        "start_time": "2022-05-23T15:38:05.065Z"
      },
      {
        "duration": 0,
        "start_time": "2022-05-23T15:38:05.066Z"
      },
      {
        "duration": 0,
        "start_time": "2022-05-23T15:38:05.068Z"
      },
      {
        "duration": 0,
        "start_time": "2022-05-23T15:38:05.069Z"
      },
      {
        "duration": 0,
        "start_time": "2022-05-23T15:38:05.070Z"
      },
      {
        "duration": 0,
        "start_time": "2022-05-23T15:38:05.071Z"
      },
      {
        "duration": 0,
        "start_time": "2022-05-23T15:38:05.073Z"
      },
      {
        "duration": 0,
        "start_time": "2022-05-23T15:38:05.074Z"
      },
      {
        "duration": 0,
        "start_time": "2022-05-23T15:38:05.076Z"
      },
      {
        "duration": 0,
        "start_time": "2022-05-23T15:38:05.077Z"
      },
      {
        "duration": 0,
        "start_time": "2022-05-23T15:38:05.079Z"
      },
      {
        "duration": 0,
        "start_time": "2022-05-23T15:38:05.080Z"
      },
      {
        "duration": 0,
        "start_time": "2022-05-23T15:38:05.081Z"
      },
      {
        "duration": 0,
        "start_time": "2022-05-23T15:38:05.083Z"
      },
      {
        "duration": 0,
        "start_time": "2022-05-23T15:38:05.084Z"
      },
      {
        "duration": 0,
        "start_time": "2022-05-23T15:38:05.085Z"
      },
      {
        "duration": 0,
        "start_time": "2022-05-23T15:38:05.087Z"
      },
      {
        "duration": 70,
        "start_time": "2022-05-23T17:06:11.269Z"
      },
      {
        "duration": 1721,
        "start_time": "2022-05-23T17:06:15.048Z"
      },
      {
        "duration": 141,
        "start_time": "2022-05-23T17:06:19.384Z"
      },
      {
        "duration": 1324,
        "start_time": "2022-05-23T17:07:56.076Z"
      },
      {
        "duration": 47,
        "start_time": "2022-05-23T17:07:57.402Z"
      },
      {
        "duration": 14,
        "start_time": "2022-05-23T17:07:57.451Z"
      },
      {
        "duration": 44,
        "start_time": "2022-05-23T17:07:57.467Z"
      },
      {
        "duration": 8,
        "start_time": "2022-05-23T17:07:57.512Z"
      },
      {
        "duration": 93,
        "start_time": "2022-05-23T17:07:57.521Z"
      },
      {
        "duration": 9,
        "start_time": "2022-05-23T17:07:57.616Z"
      },
      {
        "duration": 39,
        "start_time": "2022-05-23T17:07:57.627Z"
      },
      {
        "duration": 7,
        "start_time": "2022-05-23T17:07:57.668Z"
      },
      {
        "duration": 27,
        "start_time": "2022-05-23T17:07:57.677Z"
      },
      {
        "duration": 15,
        "start_time": "2022-05-23T17:07:57.706Z"
      },
      {
        "duration": 6,
        "start_time": "2022-05-23T17:07:57.722Z"
      },
      {
        "duration": 5,
        "start_time": "2022-05-23T17:07:57.729Z"
      },
      {
        "duration": 4,
        "start_time": "2022-05-23T17:07:57.736Z"
      },
      {
        "duration": 20,
        "start_time": "2022-05-23T17:07:57.741Z"
      },
      {
        "duration": 11,
        "start_time": "2022-05-23T17:07:57.763Z"
      },
      {
        "duration": 51,
        "start_time": "2022-05-23T17:07:57.775Z"
      },
      {
        "duration": 8,
        "start_time": "2022-05-23T17:07:57.827Z"
      },
      {
        "duration": 7,
        "start_time": "2022-05-23T17:07:57.836Z"
      },
      {
        "duration": 21,
        "start_time": "2022-05-23T17:07:57.844Z"
      },
      {
        "duration": 12,
        "start_time": "2022-05-23T17:07:57.866Z"
      },
      {
        "duration": 23,
        "start_time": "2022-05-23T17:07:57.880Z"
      },
      {
        "duration": 17,
        "start_time": "2022-05-23T17:07:57.905Z"
      },
      {
        "duration": 9,
        "start_time": "2022-05-23T17:07:57.923Z"
      },
      {
        "duration": 296,
        "start_time": "2022-05-23T17:07:57.933Z"
      },
      {
        "duration": 8,
        "start_time": "2022-05-23T17:07:58.230Z"
      },
      {
        "duration": 278,
        "start_time": "2022-05-23T17:07:58.239Z"
      },
      {
        "duration": 10,
        "start_time": "2022-05-23T17:07:58.520Z"
      },
      {
        "duration": 8,
        "start_time": "2022-05-23T17:07:58.532Z"
      },
      {
        "duration": 12,
        "start_time": "2022-05-23T17:07:58.542Z"
      },
      {
        "duration": 3,
        "start_time": "2022-05-23T17:07:58.556Z"
      },
      {
        "duration": 68,
        "start_time": "2022-05-23T17:07:58.560Z"
      },
      {
        "duration": 3,
        "start_time": "2022-05-23T17:07:58.629Z"
      },
      {
        "duration": 10,
        "start_time": "2022-05-23T17:07:58.633Z"
      },
      {
        "duration": 12,
        "start_time": "2022-05-23T17:07:58.645Z"
      },
      {
        "duration": 5,
        "start_time": "2022-05-23T17:07:58.659Z"
      },
      {
        "duration": 9,
        "start_time": "2022-05-23T17:07:58.666Z"
      },
      {
        "duration": 10,
        "start_time": "2022-05-23T17:07:58.676Z"
      },
      {
        "duration": 14,
        "start_time": "2022-05-23T17:07:58.688Z"
      },
      {
        "duration": 9,
        "start_time": "2022-05-23T17:07:58.704Z"
      },
      {
        "duration": 9,
        "start_time": "2022-05-23T17:07:58.714Z"
      },
      {
        "duration": 8,
        "start_time": "2022-05-23T17:07:58.724Z"
      },
      {
        "duration": 8,
        "start_time": "2022-05-23T17:07:58.733Z"
      },
      {
        "duration": 269,
        "start_time": "2022-05-23T17:07:58.742Z"
      },
      {
        "duration": 5,
        "start_time": "2022-05-23T17:07:59.013Z"
      },
      {
        "duration": 13,
        "start_time": "2022-05-23T17:07:59.019Z"
      },
      {
        "duration": 253,
        "start_time": "2022-05-23T17:07:59.033Z"
      },
      {
        "duration": 395,
        "start_time": "2022-05-23T17:07:59.288Z"
      },
      {
        "duration": 24,
        "start_time": "2022-05-23T17:07:59.685Z"
      },
      {
        "duration": 5,
        "start_time": "2022-05-23T17:07:59.711Z"
      },
      {
        "duration": 25,
        "start_time": "2022-05-23T17:07:59.718Z"
      },
      {
        "duration": 17,
        "start_time": "2022-05-23T17:07:59.744Z"
      },
      {
        "duration": 6,
        "start_time": "2022-05-23T17:07:59.763Z"
      },
      {
        "duration": 10,
        "start_time": "2022-05-23T17:07:59.771Z"
      },
      {
        "duration": 3,
        "start_time": "2022-05-23T17:08:08.769Z"
      },
      {
        "duration": 2,
        "start_time": "2022-05-23T17:08:09.600Z"
      },
      {
        "duration": 13,
        "start_time": "2022-05-23T17:08:10.258Z"
      },
      {
        "duration": 9,
        "start_time": "2022-05-23T17:08:22.776Z"
      },
      {
        "duration": 18,
        "start_time": "2022-05-23T17:08:31.775Z"
      },
      {
        "duration": 8,
        "start_time": "2022-05-23T17:08:53.191Z"
      },
      {
        "duration": 5,
        "start_time": "2022-05-23T17:08:53.927Z"
      },
      {
        "duration": 3,
        "start_time": "2022-05-23T17:08:54.505Z"
      },
      {
        "duration": 4,
        "start_time": "2022-05-23T17:08:55.355Z"
      },
      {
        "duration": 3,
        "start_time": "2022-05-23T17:08:55.950Z"
      },
      {
        "duration": 5956,
        "start_time": "2022-05-23T17:09:02.728Z"
      },
      {
        "duration": 1248,
        "start_time": "2022-05-23T17:09:15.562Z"
      },
      {
        "duration": 107,
        "start_time": "2022-05-23T17:09:23.868Z"
      },
      {
        "duration": 6,
        "start_time": "2022-05-23T17:09:31.829Z"
      },
      {
        "duration": 6,
        "start_time": "2022-05-23T17:09:32.288Z"
      },
      {
        "duration": 5,
        "start_time": "2022-05-23T17:09:32.801Z"
      },
      {
        "duration": 24749,
        "start_time": "2022-05-23T17:09:37.300Z"
      },
      {
        "duration": 5,
        "start_time": "2022-05-23T17:10:02.050Z"
      },
      {
        "duration": 24,
        "start_time": "2022-05-23T17:10:02.057Z"
      },
      {
        "duration": 427,
        "start_time": "2022-05-23T17:10:02.082Z"
      },
      {
        "duration": 92,
        "start_time": "2022-05-23T17:10:02.511Z"
      },
      {
        "duration": 98,
        "start_time": "2022-05-23T17:10:02.610Z"
      },
      {
        "duration": 2,
        "start_time": "2022-05-23T17:21:03.139Z"
      },
      {
        "duration": 2,
        "start_time": "2022-05-23T17:21:03.590Z"
      },
      {
        "duration": 10,
        "start_time": "2022-05-23T17:21:03.949Z"
      },
      {
        "duration": 6,
        "start_time": "2022-05-23T17:21:04.227Z"
      },
      {
        "duration": 9,
        "start_time": "2022-05-23T17:21:19.959Z"
      },
      {
        "duration": 118,
        "start_time": "2022-05-23T17:22:03.479Z"
      },
      {
        "duration": 10,
        "start_time": "2022-05-23T17:22:34.961Z"
      },
      {
        "duration": 11,
        "start_time": "2022-05-23T17:31:53.201Z"
      },
      {
        "duration": 6273,
        "start_time": "2022-05-23T17:33:20.374Z"
      },
      {
        "duration": 11,
        "start_time": "2022-05-23T17:33:29.204Z"
      },
      {
        "duration": 18,
        "start_time": "2022-05-23T17:33:41.496Z"
      },
      {
        "duration": 1343,
        "start_time": "2022-05-23T17:34:53.978Z"
      },
      {
        "duration": 47,
        "start_time": "2022-05-23T17:34:55.322Z"
      },
      {
        "duration": 14,
        "start_time": "2022-05-23T17:34:55.370Z"
      },
      {
        "duration": 20,
        "start_time": "2022-05-23T17:34:55.386Z"
      },
      {
        "duration": 8,
        "start_time": "2022-05-23T17:34:55.407Z"
      },
      {
        "duration": 23,
        "start_time": "2022-05-23T17:34:55.416Z"
      },
      {
        "duration": 10,
        "start_time": "2022-05-23T17:34:55.441Z"
      },
      {
        "duration": 21,
        "start_time": "2022-05-23T17:34:55.454Z"
      },
      {
        "duration": 11,
        "start_time": "2022-05-23T17:34:55.477Z"
      },
      {
        "duration": 30,
        "start_time": "2022-05-23T17:34:55.490Z"
      },
      {
        "duration": 16,
        "start_time": "2022-05-23T17:34:55.522Z"
      },
      {
        "duration": 6,
        "start_time": "2022-05-23T17:34:55.540Z"
      },
      {
        "duration": 7,
        "start_time": "2022-05-23T17:34:55.547Z"
      },
      {
        "duration": 5,
        "start_time": "2022-05-23T17:34:55.556Z"
      },
      {
        "duration": 40,
        "start_time": "2022-05-23T17:34:55.562Z"
      },
      {
        "duration": 12,
        "start_time": "2022-05-23T17:34:55.604Z"
      },
      {
        "duration": 26,
        "start_time": "2022-05-23T17:34:55.618Z"
      },
      {
        "duration": 8,
        "start_time": "2022-05-23T17:34:55.646Z"
      },
      {
        "duration": 5,
        "start_time": "2022-05-23T17:34:55.656Z"
      },
      {
        "duration": 51,
        "start_time": "2022-05-23T17:34:55.663Z"
      },
      {
        "duration": 10,
        "start_time": "2022-05-23T17:34:55.716Z"
      },
      {
        "duration": 19,
        "start_time": "2022-05-23T17:34:55.728Z"
      },
      {
        "duration": 23,
        "start_time": "2022-05-23T17:34:55.748Z"
      },
      {
        "duration": 8,
        "start_time": "2022-05-23T17:34:55.773Z"
      },
      {
        "duration": 268,
        "start_time": "2022-05-23T17:34:55.783Z"
      },
      {
        "duration": 8,
        "start_time": "2022-05-23T17:34:56.053Z"
      },
      {
        "duration": 243,
        "start_time": "2022-05-23T17:34:56.063Z"
      },
      {
        "duration": 10,
        "start_time": "2022-05-23T17:34:56.310Z"
      },
      {
        "duration": 10,
        "start_time": "2022-05-23T17:34:56.322Z"
      },
      {
        "duration": 11,
        "start_time": "2022-05-23T17:34:56.333Z"
      },
      {
        "duration": 2,
        "start_time": "2022-05-23T17:34:56.345Z"
      },
      {
        "duration": 63,
        "start_time": "2022-05-23T17:34:56.349Z"
      },
      {
        "duration": 3,
        "start_time": "2022-05-23T17:34:56.413Z"
      },
      {
        "duration": 7,
        "start_time": "2022-05-23T17:34:56.417Z"
      },
      {
        "duration": 9,
        "start_time": "2022-05-23T17:34:56.426Z"
      },
      {
        "duration": 6,
        "start_time": "2022-05-23T17:34:56.436Z"
      },
      {
        "duration": 6,
        "start_time": "2022-05-23T17:34:56.443Z"
      },
      {
        "duration": 5,
        "start_time": "2022-05-23T17:34:56.451Z"
      },
      {
        "duration": 7,
        "start_time": "2022-05-23T17:34:56.457Z"
      },
      {
        "duration": 6,
        "start_time": "2022-05-23T17:34:56.465Z"
      },
      {
        "duration": 5,
        "start_time": "2022-05-23T17:34:56.501Z"
      },
      {
        "duration": 7,
        "start_time": "2022-05-23T17:34:56.507Z"
      },
      {
        "duration": 8,
        "start_time": "2022-05-23T17:34:56.516Z"
      },
      {
        "duration": 260,
        "start_time": "2022-05-23T17:34:56.526Z"
      },
      {
        "duration": 14,
        "start_time": "2022-05-23T17:34:56.788Z"
      },
      {
        "duration": 12,
        "start_time": "2022-05-23T17:34:56.804Z"
      },
      {
        "duration": 234,
        "start_time": "2022-05-23T17:34:56.818Z"
      },
      {
        "duration": 404,
        "start_time": "2022-05-23T17:34:57.053Z"
      },
      {
        "duration": 10,
        "start_time": "2022-05-23T17:34:57.458Z"
      },
      {
        "duration": 5,
        "start_time": "2022-05-23T17:34:57.469Z"
      },
      {
        "duration": 47,
        "start_time": "2022-05-23T17:34:57.475Z"
      },
      {
        "duration": 18,
        "start_time": "2022-05-23T17:34:57.524Z"
      },
      {
        "duration": 5,
        "start_time": "2022-05-23T17:34:57.544Z"
      },
      {
        "duration": 7,
        "start_time": "2022-05-23T17:34:57.550Z"
      },
      {
        "duration": 6,
        "start_time": "2022-05-23T17:34:57.559Z"
      },
      {
        "duration": 4,
        "start_time": "2022-05-23T17:34:57.567Z"
      },
      {
        "duration": 29,
        "start_time": "2022-05-23T17:34:57.573Z"
      },
      {
        "duration": 7,
        "start_time": "2022-05-23T17:34:57.603Z"
      },
      {
        "duration": 7,
        "start_time": "2022-05-23T17:34:57.611Z"
      },
      {
        "duration": 5,
        "start_time": "2022-05-23T17:34:57.619Z"
      },
      {
        "duration": 6,
        "start_time": "2022-05-23T17:34:57.625Z"
      },
      {
        "duration": 5,
        "start_time": "2022-05-23T17:34:57.632Z"
      },
      {
        "duration": 6192,
        "start_time": "2022-05-23T17:34:57.638Z"
      },
      {
        "duration": 135,
        "start_time": "2022-05-23T17:35:05.799Z"
      },
      {
        "duration": 9,
        "start_time": "2022-05-23T17:35:27.599Z"
      },
      {
        "duration": 2296,
        "start_time": "2022-05-23T17:35:33.892Z"
      },
      {
        "duration": 19,
        "start_time": "2022-05-23T17:35:45.198Z"
      },
      {
        "duration": 116,
        "start_time": "2022-05-23T17:36:46.808Z"
      },
      {
        "duration": 6,
        "start_time": "2022-05-23T17:36:48.044Z"
      },
      {
        "duration": 5,
        "start_time": "2022-05-23T17:36:48.813Z"
      },
      {
        "duration": 6,
        "start_time": "2022-05-23T17:36:49.468Z"
      },
      {
        "duration": 13,
        "start_time": "2022-05-23T17:36:50.452Z"
      },
      {
        "duration": 13,
        "start_time": "2022-05-23T17:38:59.593Z"
      },
      {
        "duration": 10,
        "start_time": "2022-05-23T17:39:09.740Z"
      },
      {
        "duration": 10,
        "start_time": "2022-05-23T17:39:59.587Z"
      },
      {
        "duration": 1392,
        "start_time": "2022-05-23T17:42:00.944Z"
      },
      {
        "duration": 11,
        "start_time": "2022-05-23T17:42:12.068Z"
      },
      {
        "duration": 11,
        "start_time": "2022-05-23T17:42:34.270Z"
      },
      {
        "duration": 11,
        "start_time": "2022-05-23T17:42:37.858Z"
      },
      {
        "duration": 12,
        "start_time": "2022-05-23T17:42:38.481Z"
      },
      {
        "duration": 11,
        "start_time": "2022-05-23T17:44:02.521Z"
      },
      {
        "duration": 11,
        "start_time": "2022-05-23T17:48:51.862Z"
      },
      {
        "duration": 1413,
        "start_time": "2022-05-23T17:49:23.309Z"
      },
      {
        "duration": 51,
        "start_time": "2022-05-23T17:49:24.724Z"
      },
      {
        "duration": 16,
        "start_time": "2022-05-23T17:49:24.777Z"
      },
      {
        "duration": 21,
        "start_time": "2022-05-23T17:49:24.796Z"
      },
      {
        "duration": 9,
        "start_time": "2022-05-23T17:49:24.819Z"
      },
      {
        "duration": 23,
        "start_time": "2022-05-23T17:49:24.829Z"
      },
      {
        "duration": 12,
        "start_time": "2022-05-23T17:49:24.853Z"
      },
      {
        "duration": 24,
        "start_time": "2022-05-23T17:49:24.866Z"
      },
      {
        "duration": 7,
        "start_time": "2022-05-23T17:49:24.892Z"
      },
      {
        "duration": 28,
        "start_time": "2022-05-23T17:49:24.904Z"
      },
      {
        "duration": 19,
        "start_time": "2022-05-23T17:49:24.934Z"
      },
      {
        "duration": 6,
        "start_time": "2022-05-23T17:49:24.955Z"
      },
      {
        "duration": 8,
        "start_time": "2022-05-23T17:49:24.962Z"
      },
      {
        "duration": 30,
        "start_time": "2022-05-23T17:49:24.972Z"
      },
      {
        "duration": 18,
        "start_time": "2022-05-23T17:49:25.004Z"
      },
      {
        "duration": 11,
        "start_time": "2022-05-23T17:49:25.024Z"
      },
      {
        "duration": 31,
        "start_time": "2022-05-23T17:49:25.036Z"
      },
      {
        "duration": 36,
        "start_time": "2022-05-23T17:49:25.069Z"
      },
      {
        "duration": 6,
        "start_time": "2022-05-23T17:49:25.107Z"
      },
      {
        "duration": 24,
        "start_time": "2022-05-23T17:49:25.114Z"
      },
      {
        "duration": 10,
        "start_time": "2022-05-23T17:49:25.140Z"
      },
      {
        "duration": 7,
        "start_time": "2022-05-23T17:49:25.152Z"
      },
      {
        "duration": 47,
        "start_time": "2022-05-23T17:49:25.161Z"
      },
      {
        "duration": 9,
        "start_time": "2022-05-23T17:49:25.209Z"
      },
      {
        "duration": 298,
        "start_time": "2022-05-23T17:49:25.219Z"
      },
      {
        "duration": 8,
        "start_time": "2022-05-23T17:49:25.519Z"
      },
      {
        "duration": 270,
        "start_time": "2022-05-23T17:49:25.529Z"
      },
      {
        "duration": 10,
        "start_time": "2022-05-23T17:49:25.803Z"
      },
      {
        "duration": 10,
        "start_time": "2022-05-23T17:49:25.815Z"
      },
      {
        "duration": 13,
        "start_time": "2022-05-23T17:49:25.826Z"
      },
      {
        "duration": 2,
        "start_time": "2022-05-23T17:49:25.841Z"
      },
      {
        "duration": 74,
        "start_time": "2022-05-23T17:49:25.845Z"
      },
      {
        "duration": 3,
        "start_time": "2022-05-23T17:49:25.921Z"
      },
      {
        "duration": 8,
        "start_time": "2022-05-23T17:49:25.925Z"
      },
      {
        "duration": 10,
        "start_time": "2022-05-23T17:49:25.935Z"
      },
      {
        "duration": 6,
        "start_time": "2022-05-23T17:49:25.947Z"
      },
      {
        "duration": 6,
        "start_time": "2022-05-23T17:49:25.955Z"
      },
      {
        "duration": 4,
        "start_time": "2022-05-23T17:49:25.963Z"
      },
      {
        "duration": 33,
        "start_time": "2022-05-23T17:49:25.969Z"
      },
      {
        "duration": 11,
        "start_time": "2022-05-23T17:49:26.004Z"
      },
      {
        "duration": 16,
        "start_time": "2022-05-23T17:49:26.017Z"
      },
      {
        "duration": 18,
        "start_time": "2022-05-23T17:49:26.035Z"
      },
      {
        "duration": 9,
        "start_time": "2022-05-23T17:49:26.054Z"
      },
      {
        "duration": 251,
        "start_time": "2022-05-23T17:49:26.065Z"
      },
      {
        "duration": 6,
        "start_time": "2022-05-23T17:49:26.318Z"
      },
      {
        "duration": 8,
        "start_time": "2022-05-23T17:49:26.326Z"
      },
      {
        "duration": 281,
        "start_time": "2022-05-23T17:49:26.336Z"
      },
      {
        "duration": 372,
        "start_time": "2022-05-23T17:49:26.618Z"
      },
      {
        "duration": 17,
        "start_time": "2022-05-23T17:49:26.992Z"
      },
      {
        "duration": 5,
        "start_time": "2022-05-23T17:49:27.011Z"
      },
      {
        "duration": 24,
        "start_time": "2022-05-23T17:49:27.017Z"
      },
      {
        "duration": 27,
        "start_time": "2022-05-23T17:49:27.043Z"
      },
      {
        "duration": 6,
        "start_time": "2022-05-23T17:49:27.072Z"
      },
      {
        "duration": 28,
        "start_time": "2022-05-23T17:49:27.079Z"
      },
      {
        "duration": 4,
        "start_time": "2022-05-23T17:49:27.109Z"
      },
      {
        "duration": 4,
        "start_time": "2022-05-23T17:49:27.115Z"
      },
      {
        "duration": 11,
        "start_time": "2022-05-23T17:49:27.121Z"
      },
      {
        "duration": 7,
        "start_time": "2022-05-23T17:49:27.133Z"
      },
      {
        "duration": 8,
        "start_time": "2022-05-23T17:49:27.141Z"
      },
      {
        "duration": 4,
        "start_time": "2022-05-23T17:49:27.150Z"
      },
      {
        "duration": 4,
        "start_time": "2022-05-23T17:49:27.156Z"
      },
      {
        "duration": 4,
        "start_time": "2022-05-23T17:49:27.162Z"
      },
      {
        "duration": 6618,
        "start_time": "2022-05-23T17:49:27.167Z"
      },
      {
        "duration": 1114,
        "start_time": "2022-05-23T17:49:33.787Z"
      },
      {
        "duration": 127,
        "start_time": "2022-05-23T17:49:34.903Z"
      },
      {
        "duration": 4,
        "start_time": "2022-05-23T17:49:35.032Z"
      },
      {
        "duration": 14,
        "start_time": "2022-05-23T17:49:35.038Z"
      },
      {
        "duration": 13,
        "start_time": "2022-05-23T17:49:35.053Z"
      },
      {
        "duration": 27187,
        "start_time": "2022-05-23T17:49:35.067Z"
      },
      {
        "duration": 6,
        "start_time": "2022-05-23T17:50:02.255Z"
      },
      {
        "duration": 8,
        "start_time": "2022-05-23T17:50:02.263Z"
      },
      {
        "duration": 1030,
        "start_time": "2022-05-23T17:50:02.273Z"
      },
      {
        "duration": 92,
        "start_time": "2022-05-23T17:50:03.314Z"
      },
      {
        "duration": 10,
        "start_time": "2022-05-23T17:50:03.408Z"
      },
      {
        "duration": 4,
        "start_time": "2022-05-23T17:53:56.670Z"
      },
      {
        "duration": 143,
        "start_time": "2022-05-23T17:54:08.315Z"
      },
      {
        "duration": 11,
        "start_time": "2022-05-23T17:54:57.076Z"
      },
      {
        "duration": 12,
        "start_time": "2022-05-23T17:55:18.964Z"
      },
      {
        "duration": 11,
        "start_time": "2022-05-23T17:58:20.694Z"
      },
      {
        "duration": 14,
        "start_time": "2022-05-23T17:59:16.822Z"
      },
      {
        "duration": 4,
        "start_time": "2022-05-23T17:59:49.150Z"
      },
      {
        "duration": 3,
        "start_time": "2022-05-23T17:59:49.871Z"
      },
      {
        "duration": 11,
        "start_time": "2022-05-23T17:59:50.397Z"
      },
      {
        "duration": 12,
        "start_time": "2022-05-23T17:59:50.850Z"
      },
      {
        "duration": 17,
        "start_time": "2022-05-23T18:00:34.011Z"
      },
      {
        "duration": 13,
        "start_time": "2022-05-23T18:01:19.001Z"
      },
      {
        "duration": 16,
        "start_time": "2022-05-23T18:01:35.797Z"
      },
      {
        "duration": 10,
        "start_time": "2022-05-23T18:02:39.428Z"
      },
      {
        "duration": 12,
        "start_time": "2022-05-23T18:03:56.793Z"
      },
      {
        "duration": 1536,
        "start_time": "2022-05-23T18:06:25.721Z"
      },
      {
        "duration": 52,
        "start_time": "2022-05-23T18:06:27.259Z"
      },
      {
        "duration": 17,
        "start_time": "2022-05-23T18:06:27.313Z"
      },
      {
        "duration": 20,
        "start_time": "2022-05-23T18:06:27.332Z"
      },
      {
        "duration": 8,
        "start_time": "2022-05-23T18:06:27.354Z"
      },
      {
        "duration": 23,
        "start_time": "2022-05-23T18:06:27.364Z"
      },
      {
        "duration": 21,
        "start_time": "2022-05-23T18:06:27.388Z"
      },
      {
        "duration": 31,
        "start_time": "2022-05-23T18:06:27.411Z"
      },
      {
        "duration": 7,
        "start_time": "2022-05-23T18:06:27.444Z"
      },
      {
        "duration": 31,
        "start_time": "2022-05-23T18:06:27.454Z"
      },
      {
        "duration": 26,
        "start_time": "2022-05-23T18:06:27.487Z"
      },
      {
        "duration": 6,
        "start_time": "2022-05-23T18:06:27.517Z"
      },
      {
        "duration": 6,
        "start_time": "2022-05-23T18:06:27.525Z"
      },
      {
        "duration": 6,
        "start_time": "2022-05-23T18:06:27.533Z"
      },
      {
        "duration": 22,
        "start_time": "2022-05-23T18:06:27.541Z"
      },
      {
        "duration": 12,
        "start_time": "2022-05-23T18:06:27.564Z"
      },
      {
        "duration": 55,
        "start_time": "2022-05-23T18:06:27.577Z"
      },
      {
        "duration": 10,
        "start_time": "2022-05-23T18:06:27.633Z"
      },
      {
        "duration": 7,
        "start_time": "2022-05-23T18:06:27.644Z"
      },
      {
        "duration": 50,
        "start_time": "2022-05-23T18:06:27.653Z"
      },
      {
        "duration": 16,
        "start_time": "2022-05-23T18:06:27.705Z"
      },
      {
        "duration": 8,
        "start_time": "2022-05-23T18:06:27.724Z"
      },
      {
        "duration": 20,
        "start_time": "2022-05-23T18:06:27.733Z"
      },
      {
        "duration": 8,
        "start_time": "2022-05-23T18:06:27.754Z"
      },
      {
        "duration": 325,
        "start_time": "2022-05-23T18:06:27.764Z"
      },
      {
        "duration": 12,
        "start_time": "2022-05-23T18:06:28.091Z"
      },
      {
        "duration": 305,
        "start_time": "2022-05-23T18:06:28.106Z"
      },
      {
        "duration": 14,
        "start_time": "2022-05-23T18:06:28.419Z"
      },
      {
        "duration": 10,
        "start_time": "2022-05-23T18:06:28.435Z"
      },
      {
        "duration": 23,
        "start_time": "2022-05-23T18:06:28.448Z"
      },
      {
        "duration": 23,
        "start_time": "2022-05-23T18:06:28.474Z"
      },
      {
        "duration": 52,
        "start_time": "2022-05-23T18:06:28.502Z"
      },
      {
        "duration": 3,
        "start_time": "2022-05-23T18:06:28.556Z"
      },
      {
        "duration": 13,
        "start_time": "2022-05-23T18:06:28.561Z"
      },
      {
        "duration": 28,
        "start_time": "2022-05-23T18:06:28.576Z"
      },
      {
        "duration": 12,
        "start_time": "2022-05-23T18:06:28.605Z"
      },
      {
        "duration": 19,
        "start_time": "2022-05-23T18:06:28.620Z"
      },
      {
        "duration": 8,
        "start_time": "2022-05-23T18:06:28.641Z"
      },
      {
        "duration": 11,
        "start_time": "2022-05-23T18:06:28.650Z"
      },
      {
        "duration": 7,
        "start_time": "2022-05-23T18:06:28.663Z"
      },
      {
        "duration": 7,
        "start_time": "2022-05-23T18:06:28.672Z"
      },
      {
        "duration": 21,
        "start_time": "2022-05-23T18:06:28.681Z"
      },
      {
        "duration": 11,
        "start_time": "2022-05-23T18:06:28.705Z"
      },
      {
        "duration": 278,
        "start_time": "2022-05-23T18:06:28.719Z"
      },
      {
        "duration": 5,
        "start_time": "2022-05-23T18:06:29.002Z"
      },
      {
        "duration": 28,
        "start_time": "2022-05-23T18:06:29.010Z"
      },
      {
        "duration": 246,
        "start_time": "2022-05-23T18:06:29.040Z"
      },
      {
        "duration": 404,
        "start_time": "2022-05-23T18:06:29.288Z"
      },
      {
        "duration": 24,
        "start_time": "2022-05-23T18:06:29.693Z"
      },
      {
        "duration": 7,
        "start_time": "2022-05-23T18:06:29.719Z"
      },
      {
        "duration": 25,
        "start_time": "2022-05-23T18:06:29.728Z"
      },
      {
        "duration": 18,
        "start_time": "2022-05-23T18:06:29.755Z"
      },
      {
        "duration": 36,
        "start_time": "2022-05-23T18:06:29.775Z"
      },
      {
        "duration": 12,
        "start_time": "2022-05-23T18:06:29.813Z"
      },
      {
        "duration": 7,
        "start_time": "2022-05-23T18:06:29.827Z"
      },
      {
        "duration": 6,
        "start_time": "2022-05-23T18:06:29.835Z"
      },
      {
        "duration": 12,
        "start_time": "2022-05-23T18:06:29.842Z"
      },
      {
        "duration": 7,
        "start_time": "2022-05-23T18:06:29.856Z"
      },
      {
        "duration": 4,
        "start_time": "2022-05-23T18:06:29.865Z"
      },
      {
        "duration": 4,
        "start_time": "2022-05-23T18:06:29.871Z"
      },
      {
        "duration": 6,
        "start_time": "2022-05-23T18:06:29.902Z"
      },
      {
        "duration": 14,
        "start_time": "2022-05-23T18:06:29.912Z"
      },
      {
        "duration": 7019,
        "start_time": "2022-05-23T18:06:29.927Z"
      },
      {
        "duration": 1236,
        "start_time": "2022-05-23T18:06:36.948Z"
      },
      {
        "duration": 137,
        "start_time": "2022-05-23T18:06:38.186Z"
      },
      {
        "duration": 6,
        "start_time": "2022-05-23T18:06:38.325Z"
      },
      {
        "duration": 7,
        "start_time": "2022-05-23T18:06:38.332Z"
      },
      {
        "duration": 11,
        "start_time": "2022-05-23T18:06:38.341Z"
      },
      {
        "duration": 28386,
        "start_time": "2022-05-23T18:06:38.353Z"
      },
      {
        "duration": 7,
        "start_time": "2022-05-23T18:07:06.741Z"
      },
      {
        "duration": 7,
        "start_time": "2022-05-23T18:07:06.749Z"
      },
      {
        "duration": 353,
        "start_time": "2022-05-23T18:07:06.758Z"
      },
      {
        "duration": 88,
        "start_time": "2022-05-23T18:07:07.114Z"
      },
      {
        "duration": 8,
        "start_time": "2022-05-23T18:07:07.205Z"
      },
      {
        "duration": 123,
        "start_time": "2022-05-23T18:24:06.252Z"
      },
      {
        "duration": 14,
        "start_time": "2022-05-23T18:24:10.227Z"
      },
      {
        "duration": 8,
        "start_time": "2022-05-23T18:25:48.405Z"
      },
      {
        "duration": 11,
        "start_time": "2022-05-23T18:26:10.250Z"
      },
      {
        "duration": 150,
        "start_time": "2022-05-23T18:41:56.858Z"
      },
      {
        "duration": 257,
        "start_time": "2022-05-23T18:42:16.162Z"
      },
      {
        "duration": 228,
        "start_time": "2022-05-23T18:42:30.094Z"
      },
      {
        "duration": 11,
        "start_time": "2022-05-23T18:43:08.759Z"
      },
      {
        "duration": 13,
        "start_time": "2022-05-23T18:55:56.765Z"
      },
      {
        "duration": 46,
        "start_time": "2022-05-23T19:01:03.268Z"
      },
      {
        "duration": 259,
        "start_time": "2022-05-23T19:03:58.269Z"
      },
      {
        "duration": 241,
        "start_time": "2022-05-23T19:04:51.665Z"
      },
      {
        "duration": 452,
        "start_time": "2022-05-23T19:04:56.487Z"
      },
      {
        "duration": 233,
        "start_time": "2022-05-23T19:05:04.055Z"
      },
      {
        "duration": 222,
        "start_time": "2022-05-23T19:05:09.421Z"
      },
      {
        "duration": 148,
        "start_time": "2022-05-23T19:05:37.998Z"
      },
      {
        "duration": 124,
        "start_time": "2022-05-23T19:06:13.517Z"
      },
      {
        "duration": 219,
        "start_time": "2022-05-23T19:06:19.054Z"
      },
      {
        "duration": 221,
        "start_time": "2022-05-23T19:07:12.066Z"
      },
      {
        "duration": 111,
        "start_time": "2022-05-23T19:07:22.095Z"
      },
      {
        "duration": 234,
        "start_time": "2022-05-23T19:07:55.597Z"
      },
      {
        "duration": 46,
        "start_time": "2022-05-23T19:08:22.692Z"
      },
      {
        "duration": 264,
        "start_time": "2022-05-23T19:08:28.471Z"
      },
      {
        "duration": 27,
        "start_time": "2022-05-23T19:09:19.857Z"
      },
      {
        "duration": 30,
        "start_time": "2022-05-23T19:09:45.821Z"
      },
      {
        "duration": 155,
        "start_time": "2022-05-23T19:10:07.778Z"
      },
      {
        "duration": 262,
        "start_time": "2022-05-23T19:10:31.914Z"
      },
      {
        "duration": 223,
        "start_time": "2022-05-23T19:10:43.864Z"
      },
      {
        "duration": 151,
        "start_time": "2022-05-23T19:11:54.567Z"
      },
      {
        "duration": 168,
        "start_time": "2022-05-23T19:12:31.393Z"
      },
      {
        "duration": 150,
        "start_time": "2022-05-23T19:12:58.994Z"
      },
      {
        "duration": 150,
        "start_time": "2022-05-23T19:13:10.572Z"
      },
      {
        "duration": 266,
        "start_time": "2022-05-23T19:14:24.901Z"
      },
      {
        "duration": 175,
        "start_time": "2022-05-23T19:14:45.609Z"
      },
      {
        "duration": 11,
        "start_time": "2022-05-23T19:17:02.288Z"
      },
      {
        "duration": 6,
        "start_time": "2022-05-23T19:17:08.563Z"
      },
      {
        "duration": 345,
        "start_time": "2022-05-23T19:17:09.801Z"
      },
      {
        "duration": 11,
        "start_time": "2022-05-23T19:34:18.463Z"
      },
      {
        "duration": 231,
        "start_time": "2022-05-23T19:36:06.782Z"
      },
      {
        "duration": 498,
        "start_time": "2022-05-23T19:39:08.165Z"
      },
      {
        "duration": 423,
        "start_time": "2022-05-23T19:39:25.457Z"
      },
      {
        "duration": 183,
        "start_time": "2022-05-23T19:40:54.170Z"
      },
      {
        "duration": 142,
        "start_time": "2022-05-23T19:41:16.865Z"
      },
      {
        "duration": 6,
        "start_time": "2022-05-23T19:41:45.803Z"
      },
      {
        "duration": 156,
        "start_time": "2022-05-23T19:42:47.678Z"
      },
      {
        "duration": 4,
        "start_time": "2022-05-23T19:43:18.557Z"
      },
      {
        "duration": 195,
        "start_time": "2022-05-23T19:44:09.183Z"
      },
      {
        "duration": 161,
        "start_time": "2022-05-23T19:44:15.764Z"
      },
      {
        "duration": 151,
        "start_time": "2022-05-23T19:44:23.063Z"
      },
      {
        "duration": 4,
        "start_time": "2022-05-23T19:44:53.136Z"
      },
      {
        "duration": 4,
        "start_time": "2022-05-23T19:45:00.656Z"
      },
      {
        "duration": 385,
        "start_time": "2022-05-23T19:45:01.313Z"
      },
      {
        "duration": 15,
        "start_time": "2022-05-23T19:45:47.677Z"
      },
      {
        "duration": 384,
        "start_time": "2022-05-23T19:45:50.705Z"
      },
      {
        "duration": 353,
        "start_time": "2022-05-23T19:46:39.158Z"
      },
      {
        "duration": 3,
        "start_time": "2022-05-23T19:47:11.424Z"
      },
      {
        "duration": 3,
        "start_time": "2022-05-23T19:47:21.558Z"
      },
      {
        "duration": 388,
        "start_time": "2022-05-23T19:47:22.954Z"
      },
      {
        "duration": 3,
        "start_time": "2022-05-23T19:51:06.127Z"
      },
      {
        "duration": 503,
        "start_time": "2022-05-23T19:51:08.967Z"
      },
      {
        "duration": 354,
        "start_time": "2022-05-23T19:51:39.567Z"
      },
      {
        "duration": 11,
        "start_time": "2022-05-23T19:53:16.987Z"
      },
      {
        "duration": 3,
        "start_time": "2022-05-23T19:53:19.678Z"
      },
      {
        "duration": 12,
        "start_time": "2022-05-23T19:53:31.464Z"
      },
      {
        "duration": 357,
        "start_time": "2022-05-23T19:53:38.177Z"
      },
      {
        "duration": 348,
        "start_time": "2022-05-23T19:53:55.887Z"
      },
      {
        "duration": 3,
        "start_time": "2022-05-23T19:54:05.202Z"
      },
      {
        "duration": 349,
        "start_time": "2022-05-23T19:54:06.064Z"
      },
      {
        "duration": 3,
        "start_time": "2022-05-23T19:54:17.195Z"
      },
      {
        "duration": 343,
        "start_time": "2022-05-23T19:54:17.868Z"
      },
      {
        "duration": 360,
        "start_time": "2022-05-23T19:54:53.159Z"
      },
      {
        "duration": 372,
        "start_time": "2022-05-23T19:55:52.358Z"
      },
      {
        "duration": 385,
        "start_time": "2022-05-23T19:55:58.425Z"
      },
      {
        "duration": 5,
        "start_time": "2022-05-23T20:01:24.228Z"
      },
      {
        "duration": 1368,
        "start_time": "2022-05-23T20:06:34.870Z"
      },
      {
        "duration": 133,
        "start_time": "2022-05-23T20:06:36.241Z"
      },
      {
        "duration": 14,
        "start_time": "2022-05-23T20:06:36.376Z"
      },
      {
        "duration": 42,
        "start_time": "2022-05-23T20:06:36.392Z"
      },
      {
        "duration": 9,
        "start_time": "2022-05-23T20:06:36.435Z"
      },
      {
        "duration": 92,
        "start_time": "2022-05-23T20:06:36.445Z"
      },
      {
        "duration": 10,
        "start_time": "2022-05-23T20:06:36.539Z"
      },
      {
        "duration": 40,
        "start_time": "2022-05-23T20:06:36.551Z"
      },
      {
        "duration": 6,
        "start_time": "2022-05-23T20:06:36.593Z"
      },
      {
        "duration": 26,
        "start_time": "2022-05-23T20:06:36.602Z"
      },
      {
        "duration": 19,
        "start_time": "2022-05-23T20:06:36.629Z"
      },
      {
        "duration": 6,
        "start_time": "2022-05-23T20:06:36.650Z"
      },
      {
        "duration": 7,
        "start_time": "2022-05-23T20:06:36.658Z"
      },
      {
        "duration": 6,
        "start_time": "2022-05-23T20:06:36.666Z"
      },
      {
        "duration": 39,
        "start_time": "2022-05-23T20:06:36.674Z"
      },
      {
        "duration": 12,
        "start_time": "2022-05-23T20:06:36.714Z"
      },
      {
        "duration": 31,
        "start_time": "2022-05-23T20:06:36.728Z"
      },
      {
        "duration": 10,
        "start_time": "2022-05-23T20:06:36.761Z"
      },
      {
        "duration": 32,
        "start_time": "2022-05-23T20:06:36.773Z"
      },
      {
        "duration": 24,
        "start_time": "2022-05-23T20:06:36.807Z"
      },
      {
        "duration": 11,
        "start_time": "2022-05-23T20:06:36.833Z"
      },
      {
        "duration": 8,
        "start_time": "2022-05-23T20:06:36.846Z"
      },
      {
        "duration": 47,
        "start_time": "2022-05-23T20:06:36.855Z"
      },
      {
        "duration": 10,
        "start_time": "2022-05-23T20:06:36.904Z"
      },
      {
        "duration": 278,
        "start_time": "2022-05-23T20:06:36.916Z"
      },
      {
        "duration": 10,
        "start_time": "2022-05-23T20:06:37.201Z"
      },
      {
        "duration": 257,
        "start_time": "2022-05-23T20:06:37.213Z"
      },
      {
        "duration": 11,
        "start_time": "2022-05-23T20:06:37.474Z"
      },
      {
        "duration": 20,
        "start_time": "2022-05-23T20:06:37.487Z"
      },
      {
        "duration": 13,
        "start_time": "2022-05-23T20:06:37.508Z"
      },
      {
        "duration": 3,
        "start_time": "2022-05-23T20:06:37.523Z"
      },
      {
        "duration": 37,
        "start_time": "2022-05-23T20:06:37.528Z"
      },
      {
        "duration": 3,
        "start_time": "2022-05-23T20:06:37.567Z"
      },
      {
        "duration": 36,
        "start_time": "2022-05-23T20:06:37.572Z"
      },
      {
        "duration": 11,
        "start_time": "2022-05-23T20:06:37.609Z"
      },
      {
        "duration": 13,
        "start_time": "2022-05-23T20:06:37.622Z"
      },
      {
        "duration": 7,
        "start_time": "2022-05-23T20:06:37.636Z"
      },
      {
        "duration": 5,
        "start_time": "2022-05-23T20:06:37.645Z"
      },
      {
        "duration": 7,
        "start_time": "2022-05-23T20:06:37.651Z"
      },
      {
        "duration": 5,
        "start_time": "2022-05-23T20:06:37.659Z"
      },
      {
        "duration": 4,
        "start_time": "2022-05-23T20:06:37.666Z"
      },
      {
        "duration": 32,
        "start_time": "2022-05-23T20:06:37.672Z"
      },
      {
        "duration": 8,
        "start_time": "2022-05-23T20:06:37.706Z"
      },
      {
        "duration": 254,
        "start_time": "2022-05-23T20:06:37.715Z"
      },
      {
        "duration": 5,
        "start_time": "2022-05-23T20:06:37.971Z"
      },
      {
        "duration": 12,
        "start_time": "2022-05-23T20:06:37.977Z"
      },
      {
        "duration": 245,
        "start_time": "2022-05-23T20:06:37.990Z"
      },
      {
        "duration": 357,
        "start_time": "2022-05-23T20:06:38.237Z"
      },
      {
        "duration": 21,
        "start_time": "2022-05-23T20:06:38.595Z"
      },
      {
        "duration": 6,
        "start_time": "2022-05-23T20:06:38.618Z"
      },
      {
        "duration": 23,
        "start_time": "2022-05-23T20:06:38.626Z"
      },
      {
        "duration": 16,
        "start_time": "2022-05-23T20:06:38.650Z"
      },
      {
        "duration": 34,
        "start_time": "2022-05-23T20:06:38.668Z"
      },
      {
        "duration": 3,
        "start_time": "2022-05-23T20:06:38.704Z"
      },
      {
        "duration": 7,
        "start_time": "2022-05-23T20:06:38.709Z"
      },
      {
        "duration": 5,
        "start_time": "2022-05-23T20:06:38.717Z"
      },
      {
        "duration": 12,
        "start_time": "2022-05-23T20:06:38.724Z"
      },
      {
        "duration": 7,
        "start_time": "2022-05-23T20:06:38.738Z"
      },
      {
        "duration": 4,
        "start_time": "2022-05-23T20:06:38.746Z"
      },
      {
        "duration": 5,
        "start_time": "2022-05-23T20:06:38.752Z"
      },
      {
        "duration": 5,
        "start_time": "2022-05-23T20:06:38.759Z"
      },
      {
        "duration": 6,
        "start_time": "2022-05-23T20:06:38.765Z"
      },
      {
        "duration": 6029,
        "start_time": "2022-05-23T20:06:38.773Z"
      },
      {
        "duration": 1419,
        "start_time": "2022-05-23T20:06:44.803Z"
      },
      {
        "duration": 117,
        "start_time": "2022-05-23T20:06:46.224Z"
      },
      {
        "duration": 5,
        "start_time": "2022-05-23T20:06:46.343Z"
      },
      {
        "duration": 7,
        "start_time": "2022-05-23T20:06:46.349Z"
      },
      {
        "duration": 8,
        "start_time": "2022-05-23T20:06:46.358Z"
      },
      {
        "duration": 25351,
        "start_time": "2022-05-23T20:06:46.367Z"
      },
      {
        "duration": 6,
        "start_time": "2022-05-23T20:07:11.720Z"
      },
      {
        "duration": 7,
        "start_time": "2022-05-23T20:07:11.727Z"
      },
      {
        "duration": 180,
        "start_time": "2022-05-23T20:07:11.736Z"
      },
      {
        "duration": 10,
        "start_time": "2022-05-23T20:07:12.003Z"
      },
      {
        "duration": 92,
        "start_time": "2022-05-23T20:07:12.016Z"
      },
      {
        "duration": 11,
        "start_time": "2022-05-23T20:07:12.110Z"
      },
      {
        "duration": 8,
        "start_time": "2022-05-23T20:07:12.122Z"
      },
      {
        "duration": 408,
        "start_time": "2022-05-23T20:07:12.131Z"
      },
      {
        "duration": 649,
        "start_time": "2022-05-23T20:11:23.351Z"
      },
      {
        "duration": 4,
        "start_time": "2022-05-23T20:11:33.408Z"
      },
      {
        "duration": 290,
        "start_time": "2022-05-23T20:11:36.163Z"
      },
      {
        "duration": 10,
        "start_time": "2022-05-23T20:13:07.237Z"
      },
      {
        "duration": 1536,
        "start_time": "2022-05-26T08:46:47.616Z"
      },
      {
        "duration": 147,
        "start_time": "2022-05-26T08:46:49.154Z"
      },
      {
        "duration": 16,
        "start_time": "2022-05-26T08:46:49.302Z"
      },
      {
        "duration": 46,
        "start_time": "2022-05-26T08:46:49.320Z"
      },
      {
        "duration": 10,
        "start_time": "2022-05-26T08:46:49.368Z"
      },
      {
        "duration": 107,
        "start_time": "2022-05-26T08:46:49.380Z"
      },
      {
        "duration": 10,
        "start_time": "2022-05-26T08:46:49.489Z"
      },
      {
        "duration": 49,
        "start_time": "2022-05-26T08:46:49.500Z"
      },
      {
        "duration": 6,
        "start_time": "2022-05-26T08:46:49.551Z"
      },
      {
        "duration": 31,
        "start_time": "2022-05-26T08:46:49.560Z"
      },
      {
        "duration": 19,
        "start_time": "2022-05-26T08:46:49.593Z"
      },
      {
        "duration": 5,
        "start_time": "2022-05-26T08:46:51.121Z"
      },
      {
        "duration": 24,
        "start_time": "2022-05-26T08:47:09.900Z"
      },
      {
        "duration": 6,
        "start_time": "2022-05-26T08:50:23.880Z"
      },
      {
        "duration": 54,
        "start_time": "2022-05-26T08:50:23.888Z"
      },
      {
        "duration": 11,
        "start_time": "2022-05-26T08:50:23.944Z"
      },
      {
        "duration": 24,
        "start_time": "2022-05-26T08:50:23.957Z"
      },
      {
        "duration": 8,
        "start_time": "2022-05-26T08:50:23.984Z"
      },
      {
        "duration": 26,
        "start_time": "2022-05-26T08:50:23.993Z"
      },
      {
        "duration": 10,
        "start_time": "2022-05-26T08:50:24.020Z"
      },
      {
        "duration": 19,
        "start_time": "2022-05-26T08:50:24.032Z"
      },
      {
        "duration": 7,
        "start_time": "2022-05-26T08:50:24.053Z"
      },
      {
        "duration": 28,
        "start_time": "2022-05-26T08:50:24.062Z"
      },
      {
        "duration": 19,
        "start_time": "2022-05-26T08:50:24.103Z"
      },
      {
        "duration": 9,
        "start_time": "2022-05-26T08:50:24.124Z"
      },
      {
        "duration": 28,
        "start_time": "2022-05-26T08:50:24.134Z"
      },
      {
        "duration": 3,
        "start_time": "2022-05-26T08:50:24.164Z"
      },
      {
        "duration": 34,
        "start_time": "2022-05-26T08:50:24.168Z"
      },
      {
        "duration": 20,
        "start_time": "2022-05-26T08:50:24.204Z"
      },
      {
        "duration": 12,
        "start_time": "2022-05-26T08:50:24.225Z"
      },
      {
        "duration": 31,
        "start_time": "2022-05-26T08:50:24.239Z"
      },
      {
        "duration": 39,
        "start_time": "2022-05-26T08:50:24.271Z"
      },
      {
        "duration": 5,
        "start_time": "2022-05-26T08:50:24.311Z"
      },
      {
        "duration": 24,
        "start_time": "2022-05-26T08:50:24.318Z"
      },
      {
        "duration": 11,
        "start_time": "2022-05-26T08:50:24.344Z"
      },
      {
        "duration": 6,
        "start_time": "2022-05-26T08:50:24.357Z"
      },
      {
        "duration": 18,
        "start_time": "2022-05-26T08:50:24.402Z"
      },
      {
        "duration": 8,
        "start_time": "2022-05-26T08:50:24.422Z"
      },
      {
        "duration": 431,
        "start_time": "2022-05-26T08:50:24.432Z"
      },
      {
        "duration": 9,
        "start_time": "2022-05-26T08:50:24.865Z"
      },
      {
        "duration": 287,
        "start_time": "2022-05-26T08:50:24.876Z"
      },
      {
        "duration": 12,
        "start_time": "2022-05-26T08:50:25.167Z"
      },
      {
        "duration": 26,
        "start_time": "2022-05-26T08:50:25.180Z"
      },
      {
        "duration": 15,
        "start_time": "2022-05-26T08:50:25.208Z"
      },
      {
        "duration": 3,
        "start_time": "2022-05-26T08:50:25.225Z"
      },
      {
        "duration": 40,
        "start_time": "2022-05-26T08:50:25.230Z"
      },
      {
        "duration": 3,
        "start_time": "2022-05-26T08:50:25.302Z"
      },
      {
        "duration": 8,
        "start_time": "2022-05-26T08:50:25.307Z"
      },
      {
        "duration": 11,
        "start_time": "2022-05-26T08:50:25.317Z"
      },
      {
        "duration": 9,
        "start_time": "2022-05-26T08:50:25.330Z"
      },
      {
        "duration": 8,
        "start_time": "2022-05-26T08:50:25.340Z"
      },
      {
        "duration": 5,
        "start_time": "2022-05-26T08:50:25.350Z"
      },
      {
        "duration": 9,
        "start_time": "2022-05-26T08:50:25.356Z"
      },
      {
        "duration": 7,
        "start_time": "2022-05-26T08:50:25.367Z"
      },
      {
        "duration": 28,
        "start_time": "2022-05-26T08:50:25.375Z"
      },
      {
        "duration": 6,
        "start_time": "2022-05-26T08:50:25.405Z"
      },
      {
        "duration": 12,
        "start_time": "2022-05-26T08:50:25.414Z"
      },
      {
        "duration": 276,
        "start_time": "2022-05-26T08:50:25.428Z"
      },
      {
        "duration": 4,
        "start_time": "2022-05-26T08:50:25.706Z"
      },
      {
        "duration": 10,
        "start_time": "2022-05-26T08:50:25.712Z"
      },
      {
        "duration": 272,
        "start_time": "2022-05-26T08:50:25.724Z"
      },
      {
        "duration": 426,
        "start_time": "2022-05-26T08:50:26.001Z"
      },
      {
        "duration": 12,
        "start_time": "2022-05-26T08:50:26.429Z"
      },
      {
        "duration": 5,
        "start_time": "2022-05-26T08:50:26.443Z"
      },
      {
        "duration": 28,
        "start_time": "2022-05-26T08:50:26.450Z"
      },
      {
        "duration": 37,
        "start_time": "2022-05-26T08:50:26.479Z"
      },
      {
        "duration": 5,
        "start_time": "2022-05-26T08:50:26.518Z"
      },
      {
        "duration": 8,
        "start_time": "2022-05-26T08:50:26.525Z"
      },
      {
        "duration": 7,
        "start_time": "2022-05-26T08:50:26.535Z"
      },
      {
        "duration": 5,
        "start_time": "2022-05-26T08:50:26.544Z"
      },
      {
        "duration": 12,
        "start_time": "2022-05-26T08:50:26.551Z"
      },
      {
        "duration": 7,
        "start_time": "2022-05-26T08:50:26.565Z"
      },
      {
        "duration": 30,
        "start_time": "2022-05-26T08:50:26.573Z"
      },
      {
        "duration": 2,
        "start_time": "2022-05-26T08:50:26.605Z"
      },
      {
        "duration": 6,
        "start_time": "2022-05-26T08:50:26.609Z"
      },
      {
        "duration": 6,
        "start_time": "2022-05-26T08:50:26.617Z"
      },
      {
        "duration": 6634,
        "start_time": "2022-05-26T08:50:26.625Z"
      },
      {
        "duration": 1103,
        "start_time": "2022-05-26T08:50:33.261Z"
      },
      {
        "duration": 131,
        "start_time": "2022-05-26T08:50:34.366Z"
      },
      {
        "duration": 6,
        "start_time": "2022-05-26T08:50:34.501Z"
      },
      {
        "duration": 8,
        "start_time": "2022-05-26T08:50:34.508Z"
      },
      {
        "duration": 7,
        "start_time": "2022-05-26T08:50:34.518Z"
      },
      {
        "duration": 26981,
        "start_time": "2022-05-26T08:50:34.526Z"
      },
      {
        "duration": 5,
        "start_time": "2022-05-26T08:51:01.509Z"
      },
      {
        "duration": 14,
        "start_time": "2022-05-26T08:51:01.516Z"
      },
      {
        "duration": 475,
        "start_time": "2022-05-26T08:51:01.532Z"
      },
      {
        "duration": 94,
        "start_time": "2022-05-26T08:51:02.009Z"
      },
      {
        "duration": 98,
        "start_time": "2022-05-26T08:51:02.106Z"
      },
      {
        "duration": 19,
        "start_time": "2022-05-26T08:51:02.206Z"
      },
      {
        "duration": 390,
        "start_time": "2022-05-26T08:51:02.227Z"
      },
      {
        "duration": 781,
        "start_time": "2022-05-26T08:52:52.426Z"
      },
      {
        "duration": 11,
        "start_time": "2022-05-26T08:53:46.617Z"
      },
      {
        "duration": 10,
        "start_time": "2022-05-26T08:54:09.366Z"
      },
      {
        "duration": 18,
        "start_time": "2022-05-26T08:57:55.175Z"
      },
      {
        "duration": 15,
        "start_time": "2022-05-26T08:58:47.270Z"
      },
      {
        "duration": 1375,
        "start_time": "2022-05-26T08:59:33.474Z"
      },
      {
        "duration": 51,
        "start_time": "2022-05-26T08:59:34.852Z"
      },
      {
        "duration": 14,
        "start_time": "2022-05-26T08:59:34.905Z"
      },
      {
        "duration": 25,
        "start_time": "2022-05-26T08:59:34.922Z"
      },
      {
        "duration": 9,
        "start_time": "2022-05-26T08:59:34.948Z"
      },
      {
        "duration": 25,
        "start_time": "2022-05-26T08:59:34.958Z"
      },
      {
        "duration": 11,
        "start_time": "2022-05-26T08:59:34.985Z"
      },
      {
        "duration": 22,
        "start_time": "2022-05-26T08:59:34.997Z"
      },
      {
        "duration": 7,
        "start_time": "2022-05-26T08:59:35.021Z"
      },
      {
        "duration": 29,
        "start_time": "2022-05-26T08:59:35.031Z"
      },
      {
        "duration": 18,
        "start_time": "2022-05-26T08:59:35.062Z"
      },
      {
        "duration": 21,
        "start_time": "2022-05-26T08:59:35.082Z"
      },
      {
        "duration": 25,
        "start_time": "2022-05-26T08:59:35.105Z"
      },
      {
        "duration": 4,
        "start_time": "2022-05-26T08:59:35.131Z"
      },
      {
        "duration": 13,
        "start_time": "2022-05-26T08:59:35.137Z"
      },
      {
        "duration": 31,
        "start_time": "2022-05-26T08:59:35.152Z"
      },
      {
        "duration": 24,
        "start_time": "2022-05-26T08:59:35.185Z"
      },
      {
        "duration": 32,
        "start_time": "2022-05-26T08:59:35.211Z"
      },
      {
        "duration": 11,
        "start_time": "2022-05-26T08:59:35.244Z"
      },
      {
        "duration": 8,
        "start_time": "2022-05-26T08:59:35.257Z"
      },
      {
        "duration": 53,
        "start_time": "2022-05-26T08:59:35.266Z"
      },
      {
        "duration": 11,
        "start_time": "2022-05-26T08:59:35.321Z"
      },
      {
        "duration": 10,
        "start_time": "2022-05-26T08:59:35.333Z"
      },
      {
        "duration": 18,
        "start_time": "2022-05-26T08:59:35.344Z"
      },
      {
        "duration": 8,
        "start_time": "2022-05-26T08:59:35.364Z"
      },
      {
        "duration": 324,
        "start_time": "2022-05-26T08:59:35.374Z"
      },
      {
        "duration": 9,
        "start_time": "2022-05-26T08:59:35.702Z"
      },
      {
        "duration": 298,
        "start_time": "2022-05-26T08:59:35.715Z"
      },
      {
        "duration": 11,
        "start_time": "2022-05-26T08:59:36.016Z"
      },
      {
        "duration": 10,
        "start_time": "2022-05-26T08:59:36.029Z"
      },
      {
        "duration": 13,
        "start_time": "2022-05-26T08:59:36.040Z"
      },
      {
        "duration": 3,
        "start_time": "2022-05-26T08:59:36.056Z"
      },
      {
        "duration": 75,
        "start_time": "2022-05-26T08:59:36.061Z"
      },
      {
        "duration": 3,
        "start_time": "2022-05-26T08:59:36.137Z"
      },
      {
        "duration": 8,
        "start_time": "2022-05-26T08:59:36.142Z"
      },
      {
        "duration": 8,
        "start_time": "2022-05-26T08:59:36.151Z"
      },
      {
        "duration": 7,
        "start_time": "2022-05-26T08:59:36.161Z"
      },
      {
        "duration": 41,
        "start_time": "2022-05-26T08:59:36.169Z"
      },
      {
        "duration": 6,
        "start_time": "2022-05-26T08:59:36.212Z"
      },
      {
        "duration": 8,
        "start_time": "2022-05-26T08:59:36.220Z"
      },
      {
        "duration": 7,
        "start_time": "2022-05-26T08:59:36.230Z"
      },
      {
        "duration": 6,
        "start_time": "2022-05-26T08:59:36.239Z"
      },
      {
        "duration": 10,
        "start_time": "2022-05-26T08:59:36.246Z"
      },
      {
        "duration": 8,
        "start_time": "2022-05-26T08:59:36.258Z"
      },
      {
        "duration": 288,
        "start_time": "2022-05-26T08:59:36.267Z"
      },
      {
        "duration": 5,
        "start_time": "2022-05-26T08:59:36.557Z"
      },
      {
        "duration": 14,
        "start_time": "2022-05-26T08:59:36.563Z"
      },
      {
        "duration": 279,
        "start_time": "2022-05-26T08:59:36.578Z"
      },
      {
        "duration": 418,
        "start_time": "2022-05-26T08:59:36.859Z"
      },
      {
        "duration": 11,
        "start_time": "2022-05-26T08:59:37.279Z"
      },
      {
        "duration": 5,
        "start_time": "2022-05-26T08:59:37.301Z"
      },
      {
        "duration": 25,
        "start_time": "2022-05-26T08:59:37.308Z"
      },
      {
        "duration": 19,
        "start_time": "2022-05-26T08:59:37.335Z"
      },
      {
        "duration": 5,
        "start_time": "2022-05-26T08:59:37.356Z"
      },
      {
        "duration": 5,
        "start_time": "2022-05-26T08:59:37.363Z"
      },
      {
        "duration": 4,
        "start_time": "2022-05-26T08:59:37.369Z"
      },
      {
        "duration": 5,
        "start_time": "2022-05-26T08:59:37.403Z"
      },
      {
        "duration": 12,
        "start_time": "2022-05-26T08:59:37.410Z"
      },
      {
        "duration": 8,
        "start_time": "2022-05-26T08:59:37.424Z"
      },
      {
        "duration": 9,
        "start_time": "2022-05-26T08:59:37.433Z"
      },
      {
        "duration": 5,
        "start_time": "2022-05-26T08:59:37.443Z"
      },
      {
        "duration": 6,
        "start_time": "2022-05-26T08:59:37.449Z"
      },
      {
        "duration": 4,
        "start_time": "2022-05-26T08:59:37.457Z"
      },
      {
        "duration": 6840,
        "start_time": "2022-05-26T08:59:37.463Z"
      },
      {
        "duration": 1108,
        "start_time": "2022-05-26T08:59:44.305Z"
      },
      {
        "duration": 127,
        "start_time": "2022-05-26T08:59:45.415Z"
      },
      {
        "duration": 5,
        "start_time": "2022-05-26T08:59:45.544Z"
      },
      {
        "duration": 10,
        "start_time": "2022-05-26T08:59:45.551Z"
      },
      {
        "duration": 7,
        "start_time": "2022-05-26T08:59:45.562Z"
      },
      {
        "duration": 27451,
        "start_time": "2022-05-26T08:59:45.571Z"
      },
      {
        "duration": 5,
        "start_time": "2022-05-26T09:00:13.024Z"
      },
      {
        "duration": 8,
        "start_time": "2022-05-26T09:00:13.031Z"
      },
      {
        "duration": 371,
        "start_time": "2022-05-26T09:00:13.041Z"
      },
      {
        "duration": 94,
        "start_time": "2022-05-26T09:00:13.509Z"
      },
      {
        "duration": 12,
        "start_time": "2022-05-26T09:00:13.604Z"
      },
      {
        "duration": 21,
        "start_time": "2022-05-26T09:00:13.617Z"
      },
      {
        "duration": 390,
        "start_time": "2022-05-26T09:00:14.057Z"
      },
      {
        "duration": 14,
        "start_time": "2022-05-26T09:00:14.449Z"
      },
      {
        "duration": 128,
        "start_time": "2022-05-26T09:54:02.758Z"
      },
      {
        "duration": 1420,
        "start_time": "2022-05-26T09:54:14.342Z"
      },
      {
        "duration": 49,
        "start_time": "2022-05-26T09:54:15.764Z"
      },
      {
        "duration": 18,
        "start_time": "2022-05-26T09:54:15.815Z"
      },
      {
        "duration": 21,
        "start_time": "2022-05-26T09:54:15.835Z"
      },
      {
        "duration": 9,
        "start_time": "2022-05-26T09:54:15.857Z"
      },
      {
        "duration": 29,
        "start_time": "2022-05-26T09:54:15.867Z"
      },
      {
        "duration": 13,
        "start_time": "2022-05-26T09:54:15.898Z"
      },
      {
        "duration": 20,
        "start_time": "2022-05-26T09:54:15.913Z"
      },
      {
        "duration": 8,
        "start_time": "2022-05-26T09:54:15.934Z"
      },
      {
        "duration": 27,
        "start_time": "2022-05-26T09:54:15.944Z"
      },
      {
        "duration": 31,
        "start_time": "2022-05-26T09:54:15.973Z"
      },
      {
        "duration": 7,
        "start_time": "2022-05-26T09:54:16.005Z"
      },
      {
        "duration": 26,
        "start_time": "2022-05-26T09:54:16.014Z"
      },
      {
        "duration": 3,
        "start_time": "2022-05-26T09:54:16.041Z"
      },
      {
        "duration": 5,
        "start_time": "2022-05-26T09:54:16.046Z"
      },
      {
        "duration": 21,
        "start_time": "2022-05-26T09:54:16.053Z"
      },
      {
        "duration": 17,
        "start_time": "2022-05-26T09:54:16.102Z"
      },
      {
        "duration": 37,
        "start_time": "2022-05-26T09:54:16.120Z"
      },
      {
        "duration": 8,
        "start_time": "2022-05-26T09:54:16.159Z"
      },
      {
        "duration": 6,
        "start_time": "2022-05-26T09:54:16.169Z"
      },
      {
        "duration": 45,
        "start_time": "2022-05-26T09:54:16.176Z"
      },
      {
        "duration": 10,
        "start_time": "2022-05-26T09:54:16.223Z"
      },
      {
        "duration": 10,
        "start_time": "2022-05-26T09:54:16.234Z"
      },
      {
        "duration": 23,
        "start_time": "2022-05-26T09:54:16.245Z"
      },
      {
        "duration": 9,
        "start_time": "2022-05-26T09:54:16.269Z"
      },
      {
        "duration": 288,
        "start_time": "2022-05-26T09:54:16.302Z"
      },
      {
        "duration": 16,
        "start_time": "2022-05-26T09:54:16.592Z"
      },
      {
        "duration": 274,
        "start_time": "2022-05-26T09:54:16.612Z"
      },
      {
        "duration": 21,
        "start_time": "2022-05-26T09:54:16.887Z"
      },
      {
        "duration": 29,
        "start_time": "2022-05-26T09:54:16.910Z"
      },
      {
        "duration": 18,
        "start_time": "2022-05-26T09:54:16.940Z"
      },
      {
        "duration": 4,
        "start_time": "2022-05-26T09:54:16.960Z"
      },
      {
        "duration": 47,
        "start_time": "2022-05-26T09:54:16.966Z"
      },
      {
        "duration": 3,
        "start_time": "2022-05-26T09:54:17.014Z"
      },
      {
        "duration": 15,
        "start_time": "2022-05-26T09:54:17.018Z"
      },
      {
        "duration": 13,
        "start_time": "2022-05-26T09:54:17.034Z"
      },
      {
        "duration": 17,
        "start_time": "2022-05-26T09:54:17.048Z"
      },
      {
        "duration": 12,
        "start_time": "2022-05-26T09:54:17.066Z"
      },
      {
        "duration": 13,
        "start_time": "2022-05-26T09:54:17.080Z"
      },
      {
        "duration": 18,
        "start_time": "2022-05-26T09:54:17.094Z"
      },
      {
        "duration": 10,
        "start_time": "2022-05-26T09:54:17.114Z"
      },
      {
        "duration": 25,
        "start_time": "2022-05-26T09:54:17.125Z"
      },
      {
        "duration": 7,
        "start_time": "2022-05-26T09:54:17.152Z"
      },
      {
        "duration": 11,
        "start_time": "2022-05-26T09:54:17.160Z"
      },
      {
        "duration": 250,
        "start_time": "2022-05-26T09:54:17.173Z"
      },
      {
        "duration": 5,
        "start_time": "2022-05-26T09:54:17.425Z"
      },
      {
        "duration": 9,
        "start_time": "2022-05-26T09:54:17.432Z"
      },
      {
        "duration": 289,
        "start_time": "2022-05-26T09:54:17.443Z"
      },
      {
        "duration": 415,
        "start_time": "2022-05-26T09:54:17.734Z"
      },
      {
        "duration": 12,
        "start_time": "2022-05-26T09:54:18.151Z"
      },
      {
        "duration": 8,
        "start_time": "2022-05-26T09:54:18.165Z"
      },
      {
        "duration": 39,
        "start_time": "2022-05-26T09:54:18.174Z"
      },
      {
        "duration": 17,
        "start_time": "2022-05-26T09:54:18.215Z"
      },
      {
        "duration": 6,
        "start_time": "2022-05-26T09:54:18.234Z"
      },
      {
        "duration": 5,
        "start_time": "2022-05-26T09:54:18.241Z"
      },
      {
        "duration": 4,
        "start_time": "2022-05-26T09:54:18.247Z"
      },
      {
        "duration": 6,
        "start_time": "2022-05-26T09:54:18.252Z"
      },
      {
        "duration": 43,
        "start_time": "2022-05-26T09:54:18.259Z"
      },
      {
        "duration": 7,
        "start_time": "2022-05-26T09:54:18.304Z"
      },
      {
        "duration": 6,
        "start_time": "2022-05-26T09:54:18.313Z"
      },
      {
        "duration": 5,
        "start_time": "2022-05-26T09:54:18.321Z"
      },
      {
        "duration": 6,
        "start_time": "2022-05-26T09:54:18.327Z"
      },
      {
        "duration": 4,
        "start_time": "2022-05-26T09:54:18.335Z"
      },
      {
        "duration": 8183,
        "start_time": "2022-05-26T09:54:18.341Z"
      },
      {
        "duration": 1104,
        "start_time": "2022-05-26T09:54:26.526Z"
      },
      {
        "duration": 122,
        "start_time": "2022-05-26T09:54:27.632Z"
      },
      {
        "duration": 5,
        "start_time": "2022-05-26T09:54:27.756Z"
      },
      {
        "duration": 8,
        "start_time": "2022-05-26T09:54:27.762Z"
      },
      {
        "duration": 7,
        "start_time": "2022-05-26T09:54:27.772Z"
      },
      {
        "duration": 1459,
        "start_time": "2022-05-27T08:13:50.306Z"
      },
      {
        "duration": 114,
        "start_time": "2022-05-27T08:13:51.768Z"
      },
      {
        "duration": 14,
        "start_time": "2022-05-27T08:13:51.884Z"
      },
      {
        "duration": 90,
        "start_time": "2022-05-27T08:13:51.900Z"
      },
      {
        "duration": 8,
        "start_time": "2022-05-27T08:13:51.991Z"
      },
      {
        "duration": 49,
        "start_time": "2022-05-27T08:13:52.001Z"
      },
      {
        "duration": 9,
        "start_time": "2022-05-27T08:13:52.052Z"
      },
      {
        "duration": 50,
        "start_time": "2022-05-27T08:13:52.063Z"
      },
      {
        "duration": 6,
        "start_time": "2022-05-27T08:13:52.114Z"
      },
      {
        "duration": 24,
        "start_time": "2022-05-27T08:13:52.122Z"
      },
      {
        "duration": 15,
        "start_time": "2022-05-27T08:13:52.147Z"
      },
      {
        "duration": 6,
        "start_time": "2022-05-27T08:13:52.164Z"
      },
      {
        "duration": 22,
        "start_time": "2022-05-27T08:13:52.171Z"
      },
      {
        "duration": 4,
        "start_time": "2022-05-27T08:13:52.194Z"
      },
      {
        "duration": 7,
        "start_time": "2022-05-27T08:13:52.199Z"
      },
      {
        "duration": 17,
        "start_time": "2022-05-27T08:13:52.226Z"
      },
      {
        "duration": 12,
        "start_time": "2022-05-27T08:13:52.245Z"
      },
      {
        "duration": 26,
        "start_time": "2022-05-27T08:13:52.258Z"
      },
      {
        "duration": 9,
        "start_time": "2022-05-27T08:13:52.286Z"
      },
      {
        "duration": 5,
        "start_time": "2022-05-27T08:13:52.327Z"
      },
      {
        "duration": 21,
        "start_time": "2022-05-27T08:13:52.333Z"
      },
      {
        "duration": 10,
        "start_time": "2022-05-27T08:13:52.355Z"
      },
      {
        "duration": 7,
        "start_time": "2022-05-27T08:13:52.366Z"
      },
      {
        "duration": 14,
        "start_time": "2022-05-27T08:13:52.375Z"
      },
      {
        "duration": 37,
        "start_time": "2022-05-27T08:13:52.390Z"
      },
      {
        "duration": 273,
        "start_time": "2022-05-27T08:13:52.428Z"
      },
      {
        "duration": 8,
        "start_time": "2022-05-27T08:13:52.703Z"
      },
      {
        "duration": 250,
        "start_time": "2022-05-27T08:13:52.715Z"
      },
      {
        "duration": 11,
        "start_time": "2022-05-27T08:13:52.966Z"
      },
      {
        "duration": 9,
        "start_time": "2022-05-27T08:13:52.978Z"
      },
      {
        "duration": 11,
        "start_time": "2022-05-27T08:13:52.988Z"
      },
      {
        "duration": 27,
        "start_time": "2022-05-27T08:13:53.000Z"
      },
      {
        "duration": 44,
        "start_time": "2022-05-27T08:13:53.029Z"
      },
      {
        "duration": 2,
        "start_time": "2022-05-27T08:13:53.075Z"
      },
      {
        "duration": 9,
        "start_time": "2022-05-27T08:13:53.079Z"
      },
      {
        "duration": 10,
        "start_time": "2022-05-27T08:13:53.090Z"
      },
      {
        "duration": 6,
        "start_time": "2022-05-27T08:13:53.101Z"
      },
      {
        "duration": 23,
        "start_time": "2022-05-27T08:13:53.108Z"
      },
      {
        "duration": 9,
        "start_time": "2022-05-27T08:13:53.132Z"
      },
      {
        "duration": 9,
        "start_time": "2022-05-27T08:13:53.142Z"
      },
      {
        "duration": 7,
        "start_time": "2022-05-27T08:13:53.152Z"
      },
      {
        "duration": 6,
        "start_time": "2022-05-27T08:13:53.160Z"
      },
      {
        "duration": 5,
        "start_time": "2022-05-27T08:13:53.167Z"
      },
      {
        "duration": 7,
        "start_time": "2022-05-27T08:13:53.174Z"
      },
      {
        "duration": 251,
        "start_time": "2022-05-27T08:13:53.183Z"
      },
      {
        "duration": 5,
        "start_time": "2022-05-27T08:13:53.435Z"
      },
      {
        "duration": 10,
        "start_time": "2022-05-27T08:13:53.441Z"
      },
      {
        "duration": 239,
        "start_time": "2022-05-27T08:13:53.453Z"
      },
      {
        "duration": 417,
        "start_time": "2022-05-27T08:13:53.694Z"
      },
      {
        "duration": 16,
        "start_time": "2022-05-27T08:13:54.113Z"
      },
      {
        "duration": 4,
        "start_time": "2022-05-27T08:13:54.130Z"
      },
      {
        "duration": 23,
        "start_time": "2022-05-27T08:13:54.135Z"
      },
      {
        "duration": 14,
        "start_time": "2022-05-27T08:13:54.160Z"
      },
      {
        "duration": 4,
        "start_time": "2022-05-27T08:13:54.176Z"
      },
      {
        "duration": 15,
        "start_time": "2022-05-27T08:13:54.181Z"
      },
      {
        "duration": 10,
        "start_time": "2022-05-27T08:13:54.197Z"
      },
      {
        "duration": 6,
        "start_time": "2022-05-27T08:13:54.209Z"
      },
      {
        "duration": 22,
        "start_time": "2022-05-27T08:13:54.227Z"
      },
      {
        "duration": 81,
        "start_time": "2022-05-27T08:13:54.251Z"
      },
      {
        "duration": 4,
        "start_time": "2022-05-27T08:13:54.334Z"
      },
      {
        "duration": 5,
        "start_time": "2022-05-27T08:13:54.340Z"
      },
      {
        "duration": 6,
        "start_time": "2022-05-27T08:13:54.346Z"
      },
      {
        "duration": 9,
        "start_time": "2022-05-27T08:13:54.353Z"
      },
      {
        "duration": 5821,
        "start_time": "2022-05-27T08:13:54.364Z"
      },
      {
        "duration": 1035,
        "start_time": "2022-05-27T08:14:00.187Z"
      },
      {
        "duration": 116,
        "start_time": "2022-05-27T08:14:01.223Z"
      },
      {
        "duration": 4,
        "start_time": "2022-05-27T08:14:01.341Z"
      },
      {
        "duration": 26,
        "start_time": "2022-05-27T08:14:01.346Z"
      },
      {
        "duration": 97,
        "start_time": "2022-05-27T08:14:01.373Z"
      },
      {
        "duration": 23409,
        "start_time": "2022-05-27T08:14:01.474Z"
      },
      {
        "duration": 5,
        "start_time": "2022-05-27T08:14:24.885Z"
      },
      {
        "duration": 8,
        "start_time": "2022-05-27T08:14:24.891Z"
      },
      {
        "duration": 335,
        "start_time": "2022-05-27T08:14:24.901Z"
      },
      {
        "duration": 8,
        "start_time": "2022-05-27T08:14:25.328Z"
      },
      {
        "duration": 3,
        "start_time": "2022-05-27T08:14:25.428Z"
      },
      {
        "duration": 14,
        "start_time": "2022-05-27T08:14:25.432Z"
      },
      {
        "duration": 371,
        "start_time": "2022-05-27T08:14:25.447Z"
      },
      {
        "duration": 12,
        "start_time": "2022-05-27T08:14:25.826Z"
      },
      {
        "duration": 126,
        "start_time": "2022-05-27T08:14:25.839Z"
      },
      {
        "duration": 0,
        "start_time": "2022-05-27T08:14:25.967Z"
      },
      {
        "duration": 0,
        "start_time": "2022-05-27T08:14:25.968Z"
      },
      {
        "duration": 9,
        "start_time": "2022-05-27T08:36:42.271Z"
      },
      {
        "duration": 789,
        "start_time": "2022-05-27T08:36:59.954Z"
      },
      {
        "duration": 18,
        "start_time": "2022-05-27T08:37:33.928Z"
      },
      {
        "duration": 1284,
        "start_time": "2022-05-27T08:39:56.804Z"
      },
      {
        "duration": 48,
        "start_time": "2022-05-27T08:39:58.090Z"
      },
      {
        "duration": 12,
        "start_time": "2022-05-27T08:39:58.140Z"
      },
      {
        "duration": 21,
        "start_time": "2022-05-27T08:39:58.154Z"
      },
      {
        "duration": 8,
        "start_time": "2022-05-27T08:39:58.176Z"
      },
      {
        "duration": 28,
        "start_time": "2022-05-27T08:39:58.185Z"
      },
      {
        "duration": 9,
        "start_time": "2022-05-27T08:39:58.214Z"
      },
      {
        "duration": 20,
        "start_time": "2022-05-27T08:39:58.226Z"
      },
      {
        "duration": 6,
        "start_time": "2022-05-27T08:39:58.247Z"
      },
      {
        "duration": 25,
        "start_time": "2022-05-27T08:39:58.255Z"
      },
      {
        "duration": 15,
        "start_time": "2022-05-27T08:39:58.281Z"
      },
      {
        "duration": 5,
        "start_time": "2022-05-27T08:39:58.297Z"
      },
      {
        "duration": 6,
        "start_time": "2022-05-27T08:39:58.303Z"
      },
      {
        "duration": 30,
        "start_time": "2022-05-27T08:39:58.310Z"
      },
      {
        "duration": 2,
        "start_time": "2022-05-27T08:39:58.342Z"
      },
      {
        "duration": 6,
        "start_time": "2022-05-27T08:39:58.345Z"
      },
      {
        "duration": 19,
        "start_time": "2022-05-27T08:39:58.352Z"
      },
      {
        "duration": 10,
        "start_time": "2022-05-27T08:39:58.372Z"
      },
      {
        "duration": 44,
        "start_time": "2022-05-27T08:39:58.384Z"
      },
      {
        "duration": 9,
        "start_time": "2022-05-27T08:39:58.430Z"
      },
      {
        "duration": 6,
        "start_time": "2022-05-27T08:39:58.441Z"
      },
      {
        "duration": 24,
        "start_time": "2022-05-27T08:39:58.449Z"
      },
      {
        "duration": 9,
        "start_time": "2022-05-27T08:39:58.475Z"
      },
      {
        "duration": 5,
        "start_time": "2022-05-27T08:39:58.486Z"
      },
      {
        "duration": 43,
        "start_time": "2022-05-27T08:39:58.493Z"
      },
      {
        "duration": 8,
        "start_time": "2022-05-27T08:39:58.538Z"
      },
      {
        "duration": 261,
        "start_time": "2022-05-27T08:39:58.547Z"
      },
      {
        "duration": 15,
        "start_time": "2022-05-27T08:39:58.812Z"
      },
      {
        "duration": 238,
        "start_time": "2022-05-27T08:39:58.828Z"
      },
      {
        "duration": 11,
        "start_time": "2022-05-27T08:39:59.067Z"
      },
      {
        "duration": 9,
        "start_time": "2022-05-27T08:39:59.080Z"
      },
      {
        "duration": 11,
        "start_time": "2022-05-27T08:39:59.091Z"
      },
      {
        "duration": 23,
        "start_time": "2022-05-27T08:39:59.104Z"
      },
      {
        "duration": 43,
        "start_time": "2022-05-27T08:39:59.128Z"
      },
      {
        "duration": 2,
        "start_time": "2022-05-27T08:39:59.173Z"
      },
      {
        "duration": 9,
        "start_time": "2022-05-27T08:39:59.177Z"
      },
      {
        "duration": 7,
        "start_time": "2022-05-27T08:39:59.187Z"
      },
      {
        "duration": 5,
        "start_time": "2022-05-27T08:39:59.196Z"
      },
      {
        "duration": 6,
        "start_time": "2022-05-27T08:39:59.203Z"
      },
      {
        "duration": 4,
        "start_time": "2022-05-27T08:39:59.226Z"
      },
      {
        "duration": 10,
        "start_time": "2022-05-27T08:39:59.232Z"
      },
      {
        "duration": 11,
        "start_time": "2022-05-27T08:39:59.244Z"
      },
      {
        "duration": 7,
        "start_time": "2022-05-27T08:39:59.257Z"
      },
      {
        "duration": 7,
        "start_time": "2022-05-27T08:39:59.265Z"
      },
      {
        "duration": 12,
        "start_time": "2022-05-27T08:39:59.273Z"
      },
      {
        "duration": 253,
        "start_time": "2022-05-27T08:39:59.286Z"
      },
      {
        "duration": 5,
        "start_time": "2022-05-27T08:39:59.541Z"
      },
      {
        "duration": 11,
        "start_time": "2022-05-27T08:39:59.548Z"
      },
      {
        "duration": 231,
        "start_time": "2022-05-27T08:39:59.561Z"
      },
      {
        "duration": 377,
        "start_time": "2022-05-27T08:39:59.794Z"
      },
      {
        "duration": 10,
        "start_time": "2022-05-27T08:40:00.173Z"
      },
      {
        "duration": 4,
        "start_time": "2022-05-27T08:40:00.184Z"
      },
      {
        "duration": 37,
        "start_time": "2022-05-27T08:40:00.189Z"
      },
      {
        "duration": 15,
        "start_time": "2022-05-27T08:40:00.228Z"
      },
      {
        "duration": 4,
        "start_time": "2022-05-27T08:40:00.245Z"
      },
      {
        "duration": 10,
        "start_time": "2022-05-27T08:40:00.250Z"
      },
      {
        "duration": 11,
        "start_time": "2022-05-27T08:40:00.261Z"
      },
      {
        "duration": 13,
        "start_time": "2022-05-27T08:40:00.274Z"
      },
      {
        "duration": 28,
        "start_time": "2022-05-27T08:40:00.288Z"
      },
      {
        "duration": 13,
        "start_time": "2022-05-27T08:40:00.317Z"
      },
      {
        "duration": 22,
        "start_time": "2022-05-27T08:40:00.332Z"
      },
      {
        "duration": 21,
        "start_time": "2022-05-27T08:40:00.356Z"
      },
      {
        "duration": 16,
        "start_time": "2022-05-27T08:40:00.379Z"
      },
      {
        "duration": 19,
        "start_time": "2022-05-27T08:40:00.396Z"
      },
      {
        "duration": 5891,
        "start_time": "2022-05-27T08:40:00.416Z"
      },
      {
        "duration": 1034,
        "start_time": "2022-05-27T08:40:06.308Z"
      },
      {
        "duration": 119,
        "start_time": "2022-05-27T08:40:07.343Z"
      },
      {
        "duration": 4,
        "start_time": "2022-05-27T08:40:07.463Z"
      },
      {
        "duration": 22,
        "start_time": "2022-05-27T08:40:07.468Z"
      },
      {
        "duration": 28,
        "start_time": "2022-05-27T08:40:07.492Z"
      },
      {
        "duration": 23719,
        "start_time": "2022-05-27T08:40:07.521Z"
      },
      {
        "duration": 5,
        "start_time": "2022-05-27T08:40:31.241Z"
      },
      {
        "duration": 21,
        "start_time": "2022-05-27T08:40:31.248Z"
      },
      {
        "duration": 366,
        "start_time": "2022-05-27T08:40:31.270Z"
      },
      {
        "duration": 8,
        "start_time": "2022-05-27T08:40:31.728Z"
      },
      {
        "duration": 20,
        "start_time": "2022-05-27T08:40:31.827Z"
      },
      {
        "duration": 29,
        "start_time": "2022-05-27T08:40:31.849Z"
      },
      {
        "duration": 388,
        "start_time": "2022-05-27T08:40:31.880Z"
      },
      {
        "duration": 12,
        "start_time": "2022-05-27T08:40:32.270Z"
      },
      {
        "duration": 27,
        "start_time": "2022-05-27T08:40:32.284Z"
      },
      {
        "duration": 54,
        "start_time": "2022-05-27T08:40:32.312Z"
      },
      {
        "duration": 18,
        "start_time": "2022-05-27T08:40:48.134Z"
      },
      {
        "duration": 7,
        "start_time": "2022-05-27T08:40:48.907Z"
      },
      {
        "duration": 3,
        "start_time": "2022-05-27T08:40:51.784Z"
      },
      {
        "duration": 13,
        "start_time": "2022-05-27T08:47:10.985Z"
      },
      {
        "duration": 121,
        "start_time": "2022-05-27T08:48:51.586Z"
      },
      {
        "duration": 17,
        "start_time": "2022-05-27T09:00:55.924Z"
      },
      {
        "duration": 7,
        "start_time": "2022-05-27T09:03:43.687Z"
      },
      {
        "duration": 8,
        "start_time": "2022-05-27T09:03:51.030Z"
      },
      {
        "duration": 16,
        "start_time": "2022-05-27T09:04:23.587Z"
      },
      {
        "duration": 8,
        "start_time": "2022-05-27T09:04:55.067Z"
      },
      {
        "duration": 8,
        "start_time": "2022-05-27T09:05:11.936Z"
      },
      {
        "duration": 9,
        "start_time": "2022-05-27T09:05:32.873Z"
      },
      {
        "duration": 13,
        "start_time": "2022-05-27T09:06:46.643Z"
      },
      {
        "duration": 14,
        "start_time": "2022-05-27T09:06:59.628Z"
      },
      {
        "duration": 7,
        "start_time": "2022-05-27T09:07:20.562Z"
      },
      {
        "duration": 17,
        "start_time": "2022-05-27T09:07:49.598Z"
      },
      {
        "duration": 7,
        "start_time": "2022-05-27T09:08:05.565Z"
      },
      {
        "duration": 9,
        "start_time": "2022-05-27T09:10:40.561Z"
      },
      {
        "duration": 13,
        "start_time": "2022-05-27T09:12:11.961Z"
      },
      {
        "duration": 10,
        "start_time": "2022-05-27T09:19:40.062Z"
      },
      {
        "duration": 9,
        "start_time": "2022-05-27T09:19:47.972Z"
      },
      {
        "duration": 10,
        "start_time": "2022-05-27T09:19:53.500Z"
      },
      {
        "duration": 9,
        "start_time": "2022-05-27T09:21:38.819Z"
      },
      {
        "duration": 8,
        "start_time": "2022-05-27T09:21:58.302Z"
      },
      {
        "duration": 15,
        "start_time": "2022-05-27T09:22:15.598Z"
      },
      {
        "duration": 9,
        "start_time": "2022-05-27T09:23:04.654Z"
      },
      {
        "duration": 10,
        "start_time": "2022-05-27T09:23:31.309Z"
      },
      {
        "duration": 5,
        "start_time": "2022-05-27T09:23:42.002Z"
      },
      {
        "duration": 6,
        "start_time": "2022-05-27T09:23:42.403Z"
      },
      {
        "duration": 10,
        "start_time": "2022-05-27T09:24:01.987Z"
      },
      {
        "duration": 55,
        "start_time": "2022-05-27T09:24:55.038Z"
      },
      {
        "duration": 9,
        "start_time": "2022-05-27T09:25:02.215Z"
      },
      {
        "duration": 9,
        "start_time": "2022-05-27T09:25:10.689Z"
      },
      {
        "duration": 11,
        "start_time": "2022-05-27T09:25:16.266Z"
      },
      {
        "duration": 10,
        "start_time": "2022-05-27T09:27:18.777Z"
      },
      {
        "duration": 7,
        "start_time": "2022-05-27T09:27:34.693Z"
      },
      {
        "duration": 6,
        "start_time": "2022-05-27T09:27:51.012Z"
      },
      {
        "duration": 8,
        "start_time": "2022-05-27T09:27:51.561Z"
      },
      {
        "duration": 5,
        "start_time": "2022-05-27T10:08:28.253Z"
      },
      {
        "duration": 8,
        "start_time": "2022-05-27T10:08:35.956Z"
      },
      {
        "duration": 9,
        "start_time": "2022-05-27T10:09:28.764Z"
      },
      {
        "duration": 5,
        "start_time": "2022-05-27T10:10:01.699Z"
      },
      {
        "duration": 15,
        "start_time": "2022-05-27T10:10:11.680Z"
      },
      {
        "duration": 9,
        "start_time": "2022-05-27T10:10:46.061Z"
      },
      {
        "duration": 8,
        "start_time": "2022-05-27T10:10:58.265Z"
      },
      {
        "duration": 10,
        "start_time": "2022-05-27T10:11:12.369Z"
      },
      {
        "duration": 6,
        "start_time": "2022-05-27T10:12:57.282Z"
      },
      {
        "duration": 6,
        "start_time": "2022-05-27T10:13:23.466Z"
      },
      {
        "duration": 6,
        "start_time": "2022-05-27T10:13:23.930Z"
      },
      {
        "duration": 8,
        "start_time": "2022-05-27T10:13:37.602Z"
      },
      {
        "duration": 9,
        "start_time": "2022-05-27T10:14:23.612Z"
      },
      {
        "duration": 15,
        "start_time": "2022-05-27T10:14:39.467Z"
      },
      {
        "duration": 10,
        "start_time": "2022-05-27T10:17:50.503Z"
      },
      {
        "duration": 40,
        "start_time": "2022-05-27T10:18:25.376Z"
      },
      {
        "duration": 11,
        "start_time": "2022-05-27T10:24:25.635Z"
      },
      {
        "duration": 11,
        "start_time": "2022-05-27T10:24:48.039Z"
      },
      {
        "duration": 15,
        "start_time": "2022-05-27T10:24:53.463Z"
      },
      {
        "duration": 9,
        "start_time": "2022-05-27T10:25:09.382Z"
      },
      {
        "duration": 10,
        "start_time": "2022-05-27T10:25:29.054Z"
      },
      {
        "duration": 9,
        "start_time": "2022-05-27T10:26:49.705Z"
      },
      {
        "duration": 10,
        "start_time": "2022-05-27T10:26:59.157Z"
      },
      {
        "duration": 9,
        "start_time": "2022-05-27T10:27:24.537Z"
      },
      {
        "duration": 10,
        "start_time": "2022-05-27T10:27:31.473Z"
      },
      {
        "duration": 9,
        "start_time": "2022-05-27T10:27:36.158Z"
      },
      {
        "duration": 10,
        "start_time": "2022-05-27T10:27:42.690Z"
      },
      {
        "duration": 10,
        "start_time": "2022-05-27T10:28:06.938Z"
      },
      {
        "duration": 9,
        "start_time": "2022-05-27T10:28:25.016Z"
      },
      {
        "duration": 16,
        "start_time": "2022-05-27T10:29:03.420Z"
      },
      {
        "duration": 4,
        "start_time": "2022-05-27T10:29:53.386Z"
      },
      {
        "duration": 7,
        "start_time": "2022-05-27T10:30:09.108Z"
      },
      {
        "duration": 9,
        "start_time": "2022-05-27T10:30:33.525Z"
      },
      {
        "duration": 7,
        "start_time": "2022-05-27T10:30:45.597Z"
      },
      {
        "duration": 7,
        "start_time": "2022-05-27T10:33:40.918Z"
      },
      {
        "duration": 6,
        "start_time": "2022-05-27T10:33:41.432Z"
      },
      {
        "duration": 9,
        "start_time": "2022-05-27T10:36:24.291Z"
      },
      {
        "duration": 9,
        "start_time": "2022-05-27T10:37:21.306Z"
      },
      {
        "duration": 8,
        "start_time": "2022-05-27T10:37:43.757Z"
      },
      {
        "duration": 9,
        "start_time": "2022-05-27T10:38:00.904Z"
      },
      {
        "duration": 9,
        "start_time": "2022-05-27T10:38:10.774Z"
      },
      {
        "duration": 8,
        "start_time": "2022-05-27T10:38:21.838Z"
      },
      {
        "duration": 1259,
        "start_time": "2022-05-27T10:38:40.038Z"
      },
      {
        "duration": 49,
        "start_time": "2022-05-27T10:38:41.299Z"
      },
      {
        "duration": 15,
        "start_time": "2022-05-27T10:38:41.350Z"
      },
      {
        "duration": 22,
        "start_time": "2022-05-27T10:38:41.367Z"
      },
      {
        "duration": 7,
        "start_time": "2022-05-27T10:38:41.391Z"
      },
      {
        "duration": 24,
        "start_time": "2022-05-27T10:38:41.400Z"
      },
      {
        "duration": 13,
        "start_time": "2022-05-27T10:38:41.425Z"
      },
      {
        "duration": 35,
        "start_time": "2022-05-27T10:38:41.440Z"
      },
      {
        "duration": 8,
        "start_time": "2022-05-27T10:38:41.477Z"
      },
      {
        "duration": 36,
        "start_time": "2022-05-27T10:38:41.487Z"
      },
      {
        "duration": 20,
        "start_time": "2022-05-27T10:38:41.525Z"
      },
      {
        "duration": 2,
        "start_time": "2022-05-27T10:38:41.547Z"
      },
      {
        "duration": 11,
        "start_time": "2022-05-27T10:38:41.551Z"
      },
      {
        "duration": 35,
        "start_time": "2022-05-27T10:38:41.564Z"
      },
      {
        "duration": 3,
        "start_time": "2022-05-27T10:38:41.600Z"
      },
      {
        "duration": 8,
        "start_time": "2022-05-27T10:38:41.604Z"
      },
      {
        "duration": 16,
        "start_time": "2022-05-27T10:38:41.627Z"
      },
      {
        "duration": 12,
        "start_time": "2022-05-27T10:38:41.645Z"
      },
      {
        "duration": 31,
        "start_time": "2022-05-27T10:38:41.658Z"
      },
      {
        "duration": 8,
        "start_time": "2022-05-27T10:38:41.691Z"
      },
      {
        "duration": 25,
        "start_time": "2022-05-27T10:38:41.701Z"
      },
      {
        "duration": 21,
        "start_time": "2022-05-27T10:38:41.728Z"
      },
      {
        "duration": 9,
        "start_time": "2022-05-27T10:38:41.751Z"
      },
      {
        "duration": 5,
        "start_time": "2022-05-27T10:38:41.761Z"
      },
      {
        "duration": 20,
        "start_time": "2022-05-27T10:38:41.767Z"
      },
      {
        "duration": 8,
        "start_time": "2022-05-27T10:38:41.788Z"
      },
      {
        "duration": 272,
        "start_time": "2022-05-27T10:38:41.797Z"
      },
      {
        "duration": 8,
        "start_time": "2022-05-27T10:38:42.073Z"
      },
      {
        "duration": 248,
        "start_time": "2022-05-27T10:38:42.083Z"
      },
      {
        "duration": 9,
        "start_time": "2022-05-27T10:38:42.333Z"
      },
      {
        "duration": 9,
        "start_time": "2022-05-27T10:38:42.343Z"
      },
      {
        "duration": 10,
        "start_time": "2022-05-27T10:38:42.354Z"
      },
      {
        "duration": 3,
        "start_time": "2022-05-27T10:38:42.366Z"
      },
      {
        "duration": 63,
        "start_time": "2022-05-27T10:38:42.370Z"
      },
      {
        "duration": 3,
        "start_time": "2022-05-27T10:38:42.435Z"
      },
      {
        "duration": 7,
        "start_time": "2022-05-27T10:38:42.440Z"
      },
      {
        "duration": 11,
        "start_time": "2022-05-27T10:38:42.448Z"
      },
      {
        "duration": 5,
        "start_time": "2022-05-27T10:38:42.460Z"
      },
      {
        "duration": 6,
        "start_time": "2022-05-27T10:38:42.466Z"
      },
      {
        "duration": 5,
        "start_time": "2022-05-27T10:38:42.473Z"
      },
      {
        "duration": 7,
        "start_time": "2022-05-27T10:38:42.479Z"
      },
      {
        "duration": 6,
        "start_time": "2022-05-27T10:38:42.487Z"
      },
      {
        "duration": 33,
        "start_time": "2022-05-27T10:38:42.494Z"
      },
      {
        "duration": 4,
        "start_time": "2022-05-27T10:38:42.529Z"
      },
      {
        "duration": 8,
        "start_time": "2022-05-27T10:38:42.535Z"
      },
      {
        "duration": 241,
        "start_time": "2022-05-27T10:38:42.544Z"
      },
      {
        "duration": 5,
        "start_time": "2022-05-27T10:38:42.786Z"
      },
      {
        "duration": 12,
        "start_time": "2022-05-27T10:38:42.792Z"
      },
      {
        "duration": 230,
        "start_time": "2022-05-27T10:38:42.806Z"
      },
      {
        "duration": 344,
        "start_time": "2022-05-27T10:38:43.038Z"
      },
      {
        "duration": 11,
        "start_time": "2022-05-27T10:38:43.384Z"
      },
      {
        "duration": 4,
        "start_time": "2022-05-27T10:38:43.397Z"
      },
      {
        "duration": 42,
        "start_time": "2022-05-27T10:38:43.403Z"
      },
      {
        "duration": 15,
        "start_time": "2022-05-27T10:38:43.447Z"
      },
      {
        "duration": 5,
        "start_time": "2022-05-27T10:38:43.464Z"
      },
      {
        "duration": 25,
        "start_time": "2022-05-27T10:38:43.470Z"
      },
      {
        "duration": 13,
        "start_time": "2022-05-27T10:38:43.496Z"
      },
      {
        "duration": 7,
        "start_time": "2022-05-27T10:38:43.510Z"
      },
      {
        "duration": 13,
        "start_time": "2022-05-27T10:38:43.519Z"
      },
      {
        "duration": 5,
        "start_time": "2022-05-27T10:38:43.534Z"
      },
      {
        "duration": 7,
        "start_time": "2022-05-27T10:38:43.540Z"
      },
      {
        "duration": 8,
        "start_time": "2022-05-27T10:38:43.548Z"
      },
      {
        "duration": 6,
        "start_time": "2022-05-27T10:38:43.558Z"
      },
      {
        "duration": 6,
        "start_time": "2022-05-27T10:38:43.565Z"
      },
      {
        "duration": 5744,
        "start_time": "2022-05-27T10:38:43.573Z"
      },
      {
        "duration": 994,
        "start_time": "2022-05-27T10:38:49.319Z"
      },
      {
        "duration": 110,
        "start_time": "2022-05-27T10:38:50.314Z"
      },
      {
        "duration": 5,
        "start_time": "2022-05-27T10:38:50.425Z"
      },
      {
        "duration": 7,
        "start_time": "2022-05-27T10:38:50.431Z"
      },
      {
        "duration": 7,
        "start_time": "2022-05-27T10:38:50.439Z"
      },
      {
        "duration": 23431,
        "start_time": "2022-05-27T10:38:50.448Z"
      },
      {
        "duration": 5,
        "start_time": "2022-05-27T10:39:13.881Z"
      },
      {
        "duration": 14,
        "start_time": "2022-05-27T10:39:13.887Z"
      },
      {
        "duration": 333,
        "start_time": "2022-05-27T10:39:13.903Z"
      },
      {
        "duration": 6,
        "start_time": "2022-05-27T10:39:14.328Z"
      },
      {
        "duration": 99,
        "start_time": "2022-05-27T10:39:14.336Z"
      },
      {
        "duration": 20,
        "start_time": "2022-05-27T10:39:14.437Z"
      },
      {
        "duration": 367,
        "start_time": "2022-05-27T10:39:14.459Z"
      },
      {
        "duration": 13,
        "start_time": "2022-05-27T10:39:14.828Z"
      },
      {
        "duration": 16,
        "start_time": "2022-05-27T10:39:14.842Z"
      },
      {
        "duration": 20,
        "start_time": "2022-05-27T10:39:14.860Z"
      },
      {
        "duration": 11,
        "start_time": "2022-05-27T10:39:14.885Z"
      },
      {
        "duration": 24,
        "start_time": "2022-05-27T10:39:14.898Z"
      },
      {
        "duration": 7,
        "start_time": "2022-05-27T10:39:23.135Z"
      },
      {
        "duration": 109,
        "start_time": "2022-05-27T10:39:40.072Z"
      },
      {
        "duration": 7,
        "start_time": "2022-05-27T10:40:00.936Z"
      },
      {
        "duration": 5,
        "start_time": "2022-05-27T10:40:24.041Z"
      },
      {
        "duration": 9,
        "start_time": "2022-05-27T10:40:35.495Z"
      },
      {
        "duration": 7,
        "start_time": "2022-05-27T10:40:49.504Z"
      },
      {
        "duration": 8,
        "start_time": "2022-05-27T10:41:45.764Z"
      },
      {
        "duration": 6,
        "start_time": "2022-05-27T10:41:50.455Z"
      },
      {
        "duration": 5,
        "start_time": "2022-05-27T10:41:50.962Z"
      },
      {
        "duration": 13,
        "start_time": "2022-05-27T10:41:51.514Z"
      },
      {
        "duration": 76,
        "start_time": "2022-05-27T10:44:16.582Z"
      },
      {
        "duration": 24,
        "start_time": "2022-05-27T10:44:37.790Z"
      },
      {
        "duration": 8,
        "start_time": "2022-05-27T10:44:46.518Z"
      },
      {
        "duration": 12,
        "start_time": "2022-05-27T10:46:22.064Z"
      },
      {
        "duration": 50,
        "start_time": "2022-05-27T10:46:59.191Z"
      },
      {
        "duration": 9,
        "start_time": "2022-05-27T10:47:07.362Z"
      },
      {
        "duration": 13,
        "start_time": "2022-05-27T10:47:20.710Z"
      },
      {
        "duration": 10,
        "start_time": "2022-05-27T10:47:26.838Z"
      },
      {
        "duration": 14,
        "start_time": "2022-05-27T10:50:03.238Z"
      },
      {
        "duration": 90,
        "start_time": "2022-05-27T10:50:37.989Z"
      },
      {
        "duration": 7,
        "start_time": "2022-05-27T10:50:54.326Z"
      },
      {
        "duration": 6,
        "start_time": "2022-05-27T10:50:55.109Z"
      },
      {
        "duration": 23,
        "start_time": "2022-05-27T10:50:55.640Z"
      },
      {
        "duration": 8,
        "start_time": "2022-05-27T10:51:01.582Z"
      },
      {
        "duration": 7,
        "start_time": "2022-05-27T10:51:01.957Z"
      },
      {
        "duration": 6,
        "start_time": "2022-05-27T10:51:02.371Z"
      },
      {
        "duration": 18,
        "start_time": "2022-05-27T10:51:02.820Z"
      }
    ],
    "kernelspec": {
      "display_name": "Python 3 (ipykernel)",
      "language": "python",
      "name": "python3"
    },
    "language_info": {
      "codemirror_mode": {
        "name": "ipython",
        "version": 3
      },
      "file_extension": ".py",
      "mimetype": "text/x-python",
      "name": "python",
      "nbconvert_exporter": "python",
      "pygments_lexer": "ipython3",
      "version": "3.9.7"
    },
    "toc": {
      "base_numbering": 1,
      "nav_menu": {},
      "number_sections": true,
      "sideBar": true,
      "skip_h1_title": true,
      "title_cell": "Table of Contents",
      "title_sidebar": "Contents",
      "toc_cell": false,
      "toc_position": {},
      "toc_section_display": true,
      "toc_window_display": false
    },
    "colab": {
      "provenance": [],
      "toc_visible": true
    }
  },
  "nbformat": 4,
  "nbformat_minor": 0
}